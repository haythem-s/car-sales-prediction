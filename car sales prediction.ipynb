{
 "cells": [
  {
   "cell_type": "code",
   "execution_count": 143,
   "id": "732cfba0",
   "metadata": {},
   "outputs": [],
   "source": [
    "import pandas as pd\n",
    "import plotly.express as px\n",
    "import numpy as np\n",
    "import seaborn as sns\n",
    "import matplotlib.pyplot as plt\n",
    "from pandas.plotting import scatter_matrix\n",
    "from sklearn.ensemble import RandomForestRegressor\n",
    "from sklearn.linear_model import LinearRegression\n",
    "from sklearn.model_selection import train_test_split\n",
    "from sklearn.metrics import *\n",
    "from sklearn.model_selection import GridSearchCV\n",
    "from sklearn.model_selection import cross_val_score\n",
    "import xgboost as xgb\n",
    "from sklearn.linear_model import Lasso\n",
    "from sklearn.preprocessing import PolynomialFeatures\n",
    "from sklearn.preprocessing import MinMaxScaler"
   ]
  },
  {
   "cell_type": "code",
   "execution_count": 76,
   "id": "76b4e3fb",
   "metadata": {},
   "outputs": [],
   "source": [
    "pd.set_option('display.max_columns', None)"
   ]
  },
  {
   "cell_type": "code",
   "execution_count": 77,
   "id": "89c20fdf",
   "metadata": {},
   "outputs": [],
   "source": [
    "df1 = pd.read_csv('predictors.csv')\n",
    "df2 = pd.read_csv('response.csv')"
   ]
  },
  {
   "cell_type": "code",
   "execution_count": 78,
   "id": "6d7b4af0",
   "metadata": {},
   "outputs": [
    {
     "data": {
      "text/html": [
       "<div>\n",
       "<style scoped>\n",
       "    .dataframe tbody tr th:only-of-type {\n",
       "        vertical-align: middle;\n",
       "    }\n",
       "\n",
       "    .dataframe tbody tr th {\n",
       "        vertical-align: top;\n",
       "    }\n",
       "\n",
       "    .dataframe thead th {\n",
       "        text-align: right;\n",
       "    }\n",
       "</style>\n",
       "<table border=\"1\" class=\"dataframe\">\n",
       "  <thead>\n",
       "    <tr style=\"text-align: right;\">\n",
       "      <th></th>\n",
       "      <th>store_id</th>\n",
       "      <th>date</th>\n",
       "      <th>state</th>\n",
       "      <th>local_population</th>\n",
       "      <th>local_stores</th>\n",
       "    </tr>\n",
       "  </thead>\n",
       "  <tbody>\n",
       "    <tr>\n",
       "      <th>0</th>\n",
       "      <td>131</td>\n",
       "      <td>2021-11-19</td>\n",
       "      <td>New York</td>\n",
       "      <td>7438</td>\n",
       "      <td>2</td>\n",
       "    </tr>\n",
       "    <tr>\n",
       "      <th>1</th>\n",
       "      <td>203</td>\n",
       "      <td>2021-04-09</td>\n",
       "      <td>New York</td>\n",
       "      <td>59715</td>\n",
       "      <td>1</td>\n",
       "    </tr>\n",
       "    <tr>\n",
       "      <th>2</th>\n",
       "      <td>50</td>\n",
       "      <td>2021-08-19</td>\n",
       "      <td>New York</td>\n",
       "      <td>29231</td>\n",
       "      <td>2</td>\n",
       "    </tr>\n",
       "    <tr>\n",
       "      <th>3</th>\n",
       "      <td>585</td>\n",
       "      <td>2021-01-18</td>\n",
       "      <td>Pennsylvania</td>\n",
       "      <td>4884</td>\n",
       "      <td>2</td>\n",
       "    </tr>\n",
       "    <tr>\n",
       "      <th>4</th>\n",
       "      <td>138</td>\n",
       "      <td>2021-03-25</td>\n",
       "      <td>New York</td>\n",
       "      <td>12350</td>\n",
       "      <td>1</td>\n",
       "    </tr>\n",
       "  </tbody>\n",
       "</table>\n",
       "</div>"
      ],
      "text/plain": [
       "   store_id        date         state  local_population  local_stores\n",
       "0       131  2021-11-19      New York              7438             2\n",
       "1       203  2021-04-09      New York             59715             1\n",
       "2        50  2021-08-19      New York             29231             2\n",
       "3       585  2021-01-18  Pennsylvania              4884             2\n",
       "4       138  2021-03-25      New York             12350             1"
      ]
     },
     "execution_count": 78,
     "metadata": {},
     "output_type": "execute_result"
    }
   ],
   "source": [
    "df1.head()"
   ]
  },
  {
   "cell_type": "code",
   "execution_count": 79,
   "id": "185c750d",
   "metadata": {},
   "outputs": [
    {
     "data": {
      "text/html": [
       "<div>\n",
       "<style scoped>\n",
       "    .dataframe tbody tr th:only-of-type {\n",
       "        vertical-align: middle;\n",
       "    }\n",
       "\n",
       "    .dataframe tbody tr th {\n",
       "        vertical-align: top;\n",
       "    }\n",
       "\n",
       "    .dataframe thead th {\n",
       "        text-align: right;\n",
       "    }\n",
       "</style>\n",
       "<table border=\"1\" class=\"dataframe\">\n",
       "  <thead>\n",
       "    <tr style=\"text-align: right;\">\n",
       "      <th></th>\n",
       "      <th>store_id</th>\n",
       "      <th>units_sold</th>\n",
       "    </tr>\n",
       "  </thead>\n",
       "  <tbody>\n",
       "    <tr>\n",
       "      <th>0</th>\n",
       "      <td>981</td>\n",
       "      <td>4.0</td>\n",
       "    </tr>\n",
       "    <tr>\n",
       "      <th>1</th>\n",
       "      <td>664</td>\n",
       "      <td>17.0</td>\n",
       "    </tr>\n",
       "    <tr>\n",
       "      <th>2</th>\n",
       "      <td>84</td>\n",
       "      <td>21.0</td>\n",
       "    </tr>\n",
       "    <tr>\n",
       "      <th>3</th>\n",
       "      <td>659</td>\n",
       "      <td>18.0</td>\n",
       "    </tr>\n",
       "    <tr>\n",
       "      <th>4</th>\n",
       "      <td>288</td>\n",
       "      <td>3.0</td>\n",
       "    </tr>\n",
       "  </tbody>\n",
       "</table>\n",
       "</div>"
      ],
      "text/plain": [
       "   store_id  units_sold\n",
       "0       981         4.0\n",
       "1       664        17.0\n",
       "2        84        21.0\n",
       "3       659        18.0\n",
       "4       288         3.0"
      ]
     },
     "execution_count": 79,
     "metadata": {},
     "output_type": "execute_result"
    }
   ],
   "source": [
    "df2.head()"
   ]
  },
  {
   "cell_type": "code",
   "execution_count": 80,
   "id": "6f55cf2c",
   "metadata": {},
   "outputs": [
    {
     "name": "stdout",
     "output_type": "stream",
     "text": [
      "<class 'pandas.core.frame.DataFrame'>\n",
      "RangeIndex: 1000 entries, 0 to 999\n",
      "Data columns (total 5 columns):\n",
      " #   Column            Non-Null Count  Dtype \n",
      "---  ------            --------------  ----- \n",
      " 0   store_id          1000 non-null   int64 \n",
      " 1   date              1000 non-null   object\n",
      " 2   state             1000 non-null   object\n",
      " 3   local_population  1000 non-null   int64 \n",
      " 4   local_stores      1000 non-null   int64 \n",
      "dtypes: int64(3), object(2)\n",
      "memory usage: 39.2+ KB\n"
     ]
    }
   ],
   "source": [
    "df1.info()"
   ]
  },
  {
   "cell_type": "code",
   "execution_count": 81,
   "id": "c1051fc3",
   "metadata": {},
   "outputs": [
    {
     "name": "stdout",
     "output_type": "stream",
     "text": [
      "<class 'pandas.core.frame.DataFrame'>\n",
      "RangeIndex: 1000 entries, 0 to 999\n",
      "Data columns (total 2 columns):\n",
      " #   Column      Non-Null Count  Dtype  \n",
      "---  ------      --------------  -----  \n",
      " 0   store_id    1000 non-null   int64  \n",
      " 1   units_sold  999 non-null    float64\n",
      "dtypes: float64(1), int64(1)\n",
      "memory usage: 15.8 KB\n"
     ]
    }
   ],
   "source": [
    "df2.info()"
   ]
  },
  {
   "cell_type": "code",
   "execution_count": 82,
   "id": "ff0d4cd2",
   "metadata": {},
   "outputs": [],
   "source": [
    "df = pd.merge(df1, df2, on='store_id', how='inner')"
   ]
  },
  {
   "cell_type": "code",
   "execution_count": 83,
   "id": "ee345bb0",
   "metadata": {},
   "outputs": [
    {
     "data": {
      "text/html": [
       "<div>\n",
       "<style scoped>\n",
       "    .dataframe tbody tr th:only-of-type {\n",
       "        vertical-align: middle;\n",
       "    }\n",
       "\n",
       "    .dataframe tbody tr th {\n",
       "        vertical-align: top;\n",
       "    }\n",
       "\n",
       "    .dataframe thead th {\n",
       "        text-align: right;\n",
       "    }\n",
       "</style>\n",
       "<table border=\"1\" class=\"dataframe\">\n",
       "  <thead>\n",
       "    <tr style=\"text-align: right;\">\n",
       "      <th></th>\n",
       "      <th>store_id</th>\n",
       "      <th>date</th>\n",
       "      <th>state</th>\n",
       "      <th>local_population</th>\n",
       "      <th>local_stores</th>\n",
       "      <th>units_sold</th>\n",
       "    </tr>\n",
       "  </thead>\n",
       "  <tbody>\n",
       "    <tr>\n",
       "      <th>0</th>\n",
       "      <td>131</td>\n",
       "      <td>2021-11-19</td>\n",
       "      <td>New York</td>\n",
       "      <td>7438</td>\n",
       "      <td>2</td>\n",
       "      <td>1.0</td>\n",
       "    </tr>\n",
       "    <tr>\n",
       "      <th>1</th>\n",
       "      <td>203</td>\n",
       "      <td>2021-04-09</td>\n",
       "      <td>New York</td>\n",
       "      <td>59715</td>\n",
       "      <td>1</td>\n",
       "      <td>14.0</td>\n",
       "    </tr>\n",
       "    <tr>\n",
       "      <th>2</th>\n",
       "      <td>50</td>\n",
       "      <td>2021-08-19</td>\n",
       "      <td>New York</td>\n",
       "      <td>29231</td>\n",
       "      <td>2</td>\n",
       "      <td>9.0</td>\n",
       "    </tr>\n",
       "    <tr>\n",
       "      <th>3</th>\n",
       "      <td>585</td>\n",
       "      <td>2021-01-18</td>\n",
       "      <td>Pennsylvania</td>\n",
       "      <td>4884</td>\n",
       "      <td>2</td>\n",
       "      <td>0.0</td>\n",
       "    </tr>\n",
       "    <tr>\n",
       "      <th>4</th>\n",
       "      <td>138</td>\n",
       "      <td>2021-03-25</td>\n",
       "      <td>New York</td>\n",
       "      <td>12350</td>\n",
       "      <td>1</td>\n",
       "      <td>2.0</td>\n",
       "    </tr>\n",
       "  </tbody>\n",
       "</table>\n",
       "</div>"
      ],
      "text/plain": [
       "   store_id        date         state  local_population  local_stores  \\\n",
       "0       131  2021-11-19      New York              7438             2   \n",
       "1       203  2021-04-09      New York             59715             1   \n",
       "2        50  2021-08-19      New York             29231             2   \n",
       "3       585  2021-01-18  Pennsylvania              4884             2   \n",
       "4       138  2021-03-25      New York             12350             1   \n",
       "\n",
       "   units_sold  \n",
       "0         1.0  \n",
       "1        14.0  \n",
       "2         9.0  \n",
       "3         0.0  \n",
       "4         2.0  "
      ]
     },
     "execution_count": 83,
     "metadata": {},
     "output_type": "execute_result"
    }
   ],
   "source": [
    "df.head()"
   ]
  },
  {
   "cell_type": "code",
   "execution_count": 84,
   "id": "5876b815",
   "metadata": {},
   "outputs": [
    {
     "name": "stdout",
     "output_type": "stream",
     "text": [
      "<class 'pandas.core.frame.DataFrame'>\n",
      "Int64Index: 1000 entries, 0 to 999\n",
      "Data columns (total 6 columns):\n",
      " #   Column            Non-Null Count  Dtype  \n",
      "---  ------            --------------  -----  \n",
      " 0   store_id          1000 non-null   int64  \n",
      " 1   date              1000 non-null   object \n",
      " 2   state             1000 non-null   object \n",
      " 3   local_population  1000 non-null   int64  \n",
      " 4   local_stores      1000 non-null   int64  \n",
      " 5   units_sold        999 non-null    float64\n",
      "dtypes: float64(1), int64(3), object(2)\n",
      "memory usage: 54.7+ KB\n"
     ]
    }
   ],
   "source": [
    "df.info()"
   ]
  },
  {
   "cell_type": "code",
   "execution_count": 85,
   "id": "289179c8",
   "metadata": {},
   "outputs": [
    {
     "data": {
      "text/plain": [
       "store_id            0\n",
       "date                0\n",
       "state               0\n",
       "local_population    0\n",
       "local_stores        0\n",
       "units_sold          1\n",
       "dtype: int64"
      ]
     },
     "execution_count": 85,
     "metadata": {},
     "output_type": "execute_result"
    }
   ],
   "source": [
    "df.isnull().sum()"
   ]
  },
  {
   "cell_type": "code",
   "execution_count": 86,
   "id": "a70ee03a",
   "metadata": {},
   "outputs": [
    {
     "data": {
      "text/html": [
       "<div>\n",
       "<style scoped>\n",
       "    .dataframe tbody tr th:only-of-type {\n",
       "        vertical-align: middle;\n",
       "    }\n",
       "\n",
       "    .dataframe tbody tr th {\n",
       "        vertical-align: top;\n",
       "    }\n",
       "\n",
       "    .dataframe thead th {\n",
       "        text-align: right;\n",
       "    }\n",
       "</style>\n",
       "<table border=\"1\" class=\"dataframe\">\n",
       "  <thead>\n",
       "    <tr style=\"text-align: right;\">\n",
       "      <th></th>\n",
       "      <th>store_id</th>\n",
       "      <th>date</th>\n",
       "      <th>state</th>\n",
       "      <th>local_population</th>\n",
       "      <th>local_stores</th>\n",
       "      <th>units_sold</th>\n",
       "    </tr>\n",
       "  </thead>\n",
       "  <tbody>\n",
       "    <tr>\n",
       "      <th>553</th>\n",
       "      <td>644</td>\n",
       "      <td>2021-07-12</td>\n",
       "      <td>Pennsylvania</td>\n",
       "      <td>19502</td>\n",
       "      <td>2</td>\n",
       "      <td>NaN</td>\n",
       "    </tr>\n",
       "  </tbody>\n",
       "</table>\n",
       "</div>"
      ],
      "text/plain": [
       "     store_id        date         state  local_population  local_stores  \\\n",
       "553       644  2021-07-12  Pennsylvania             19502             2   \n",
       "\n",
       "     units_sold  \n",
       "553         NaN  "
      ]
     },
     "execution_count": 86,
     "metadata": {},
     "output_type": "execute_result"
    }
   ],
   "source": [
    "df[df['units_sold'].isna()]"
   ]
  },
  {
   "cell_type": "code",
   "execution_count": 87,
   "id": "18d7b3c1",
   "metadata": {},
   "outputs": [
    {
     "data": {
      "text/html": [
       "<div>\n",
       "<style scoped>\n",
       "    .dataframe tbody tr th:only-of-type {\n",
       "        vertical-align: middle;\n",
       "    }\n",
       "\n",
       "    .dataframe tbody tr th {\n",
       "        vertical-align: top;\n",
       "    }\n",
       "\n",
       "    .dataframe thead th {\n",
       "        text-align: right;\n",
       "    }\n",
       "</style>\n",
       "<table border=\"1\" class=\"dataframe\">\n",
       "  <thead>\n",
       "    <tr style=\"text-align: right;\">\n",
       "      <th></th>\n",
       "      <th>store_id</th>\n",
       "      <th>date</th>\n",
       "      <th>state</th>\n",
       "      <th>local_population</th>\n",
       "      <th>local_stores</th>\n",
       "      <th>units_sold</th>\n",
       "    </tr>\n",
       "  </thead>\n",
       "  <tbody>\n",
       "    <tr>\n",
       "      <th>552</th>\n",
       "      <td>644</td>\n",
       "      <td>2021-07-12</td>\n",
       "      <td>Pennsylvania</td>\n",
       "      <td>19502</td>\n",
       "      <td>2</td>\n",
       "      <td>2.0</td>\n",
       "    </tr>\n",
       "    <tr>\n",
       "      <th>553</th>\n",
       "      <td>644</td>\n",
       "      <td>2021-07-12</td>\n",
       "      <td>Pennsylvania</td>\n",
       "      <td>19502</td>\n",
       "      <td>2</td>\n",
       "      <td>NaN</td>\n",
       "    </tr>\n",
       "  </tbody>\n",
       "</table>\n",
       "</div>"
      ],
      "text/plain": [
       "     store_id        date         state  local_population  local_stores  \\\n",
       "552       644  2021-07-12  Pennsylvania             19502             2   \n",
       "553       644  2021-07-12  Pennsylvania             19502             2   \n",
       "\n",
       "     units_sold  \n",
       "552         2.0  \n",
       "553         NaN  "
      ]
     },
     "execution_count": 87,
     "metadata": {},
     "output_type": "execute_result"
    }
   ],
   "source": [
    "duplicate_rows = df[df.duplicated(subset=['store_id'], keep=False)]\n",
    "duplicate_rows"
   ]
  },
  {
   "cell_type": "code",
   "execution_count": 88,
   "id": "bcdf142e",
   "metadata": {},
   "outputs": [],
   "source": [
    "df = df.dropna()"
   ]
  },
  {
   "cell_type": "code",
   "execution_count": 89,
   "id": "5046da84",
   "metadata": {},
   "outputs": [
    {
     "name": "stdout",
     "output_type": "stream",
     "text": [
      "<class 'pandas.core.frame.DataFrame'>\n",
      "Int64Index: 999 entries, 0 to 999\n",
      "Data columns (total 6 columns):\n",
      " #   Column            Non-Null Count  Dtype  \n",
      "---  ------            --------------  -----  \n",
      " 0   store_id          999 non-null    int64  \n",
      " 1   date              999 non-null    object \n",
      " 2   state             999 non-null    object \n",
      " 3   local_population  999 non-null    int64  \n",
      " 4   local_stores      999 non-null    int64  \n",
      " 5   units_sold        999 non-null    float64\n",
      "dtypes: float64(1), int64(3), object(2)\n",
      "memory usage: 54.6+ KB\n"
     ]
    }
   ],
   "source": [
    "df.info()"
   ]
  },
  {
   "cell_type": "code",
   "execution_count": 90,
   "id": "7d32ea9f",
   "metadata": {},
   "outputs": [
    {
     "data": {
      "text/html": [
       "<div>\n",
       "<style scoped>\n",
       "    .dataframe tbody tr th:only-of-type {\n",
       "        vertical-align: middle;\n",
       "    }\n",
       "\n",
       "    .dataframe tbody tr th {\n",
       "        vertical-align: top;\n",
       "    }\n",
       "\n",
       "    .dataframe thead th {\n",
       "        text-align: right;\n",
       "    }\n",
       "</style>\n",
       "<table border=\"1\" class=\"dataframe\">\n",
       "  <thead>\n",
       "    <tr style=\"text-align: right;\">\n",
       "      <th></th>\n",
       "      <th>store_id</th>\n",
       "      <th>local_population</th>\n",
       "      <th>local_stores</th>\n",
       "      <th>units_sold</th>\n",
       "    </tr>\n",
       "  </thead>\n",
       "  <tbody>\n",
       "    <tr>\n",
       "      <th>count</th>\n",
       "      <td>999.000000</td>\n",
       "      <td>999.000000</td>\n",
       "      <td>999.000000</td>\n",
       "      <td>999.000000</td>\n",
       "    </tr>\n",
       "    <tr>\n",
       "      <th>mean</th>\n",
       "      <td>499.234234</td>\n",
       "      <td>34792.015015</td>\n",
       "      <td>1.608609</td>\n",
       "      <td>6.403403</td>\n",
       "    </tr>\n",
       "    <tr>\n",
       "      <th>std</th>\n",
       "      <td>288.841736</td>\n",
       "      <td>46006.693577</td>\n",
       "      <td>0.780503</td>\n",
       "      <td>11.419950</td>\n",
       "    </tr>\n",
       "    <tr>\n",
       "      <th>min</th>\n",
       "      <td>0.000000</td>\n",
       "      <td>870.000000</td>\n",
       "      <td>1.000000</td>\n",
       "      <td>0.000000</td>\n",
       "    </tr>\n",
       "    <tr>\n",
       "      <th>25%</th>\n",
       "      <td>249.500000</td>\n",
       "      <td>11093.500000</td>\n",
       "      <td>1.000000</td>\n",
       "      <td>1.000000</td>\n",
       "    </tr>\n",
       "    <tr>\n",
       "      <th>50%</th>\n",
       "      <td>499.000000</td>\n",
       "      <td>21099.000000</td>\n",
       "      <td>1.000000</td>\n",
       "      <td>3.000000</td>\n",
       "    </tr>\n",
       "    <tr>\n",
       "      <th>75%</th>\n",
       "      <td>748.500000</td>\n",
       "      <td>43020.000000</td>\n",
       "      <td>2.000000</td>\n",
       "      <td>7.000000</td>\n",
       "    </tr>\n",
       "    <tr>\n",
       "      <th>max</th>\n",
       "      <td>999.000000</td>\n",
       "      <td>783541.000000</td>\n",
       "      <td>8.000000</td>\n",
       "      <td>190.000000</td>\n",
       "    </tr>\n",
       "  </tbody>\n",
       "</table>\n",
       "</div>"
      ],
      "text/plain": [
       "         store_id  local_population  local_stores  units_sold\n",
       "count  999.000000        999.000000    999.000000  999.000000\n",
       "mean   499.234234      34792.015015      1.608609    6.403403\n",
       "std    288.841736      46006.693577      0.780503   11.419950\n",
       "min      0.000000        870.000000      1.000000    0.000000\n",
       "25%    249.500000      11093.500000      1.000000    1.000000\n",
       "50%    499.000000      21099.000000      1.000000    3.000000\n",
       "75%    748.500000      43020.000000      2.000000    7.000000\n",
       "max    999.000000     783541.000000      8.000000  190.000000"
      ]
     },
     "execution_count": 90,
     "metadata": {},
     "output_type": "execute_result"
    }
   ],
   "source": [
    "df.describe()"
   ]
  },
  {
   "cell_type": "code",
   "execution_count": 91,
   "id": "47930f86",
   "metadata": {},
   "outputs": [],
   "source": [
    "df['date'] = pd.to_datetime(df['date'])"
   ]
  },
  {
   "cell_type": "code",
   "execution_count": 95,
   "id": "b6aa40d9",
   "metadata": {
    "scrolled": true
   },
   "outputs": [
    {
     "data": {
      "application/vnd.plotly.v1+json": {
       "config": {
        "plotlyServerURL": "https://plot.ly"
       },
       "data": [
        {
         "alignmentgroup": "True",
         "hovertemplate": "store_id=%{y}<extra></extra>",
         "legendgroup": "",
         "marker": {
          "color": "#636efa"
         },
         "name": "",
         "notched": false,
         "offsetgroup": "",
         "orientation": "v",
         "showlegend": false,
         "type": "box",
         "x0": " ",
         "xaxis": "x",
         "y": [
          131,
          203,
          50,
          585,
          138,
          632,
          328,
          461,
          924,
          479,
          195,
          221,
          209,
          378,
          156,
          327,
          761,
          320,
          274,
          417,
          372,
          299,
          229,
          896,
          594,
          983,
          736,
          85,
          882,
          7,
          722,
          43,
          566,
          317,
          874,
          743,
          353,
          145,
          346,
          590,
          771,
          336,
          633,
          310,
          693,
          691,
          338,
          901,
          318,
          352,
          161,
          542,
          786,
          917,
          387,
          196,
          648,
          167,
          597,
          392,
          803,
          536,
          172,
          830,
          182,
          702,
          784,
          613,
          965,
          171,
          345,
          822,
          877,
          147,
          548,
          642,
          971,
          934,
          184,
          607,
          437,
          266,
          808,
          447,
          713,
          114,
          656,
          985,
          426,
          5,
          640,
          986,
          932,
          41,
          134,
          938,
          814,
          994,
          805,
          558,
          875,
          933,
          861,
          868,
          792,
          928,
          246,
          764,
          939,
          48,
          828,
          616,
          316,
          446,
          313,
          416,
          571,
          921,
          103,
          541,
          891,
          660,
          35,
          869,
          916,
          102,
          791,
          52,
          200,
          4,
          953,
          453,
          714,
          476,
          470,
          599,
          646,
          235,
          793,
          972,
          298,
          856,
          261,
          57,
          164,
          758,
          696,
          55,
          966,
          28,
          923,
          188,
          669,
          688,
          375,
          798,
          308,
          54,
          117,
          692,
          204,
          898,
          303,
          260,
          31,
          485,
          859,
          36,
          162,
          482,
          807,
          845,
          835,
          922,
          744,
          384,
          749,
          100,
          689,
          226,
          456,
          397,
          674,
          267,
          373,
          677,
          931,
          185,
          335,
          811,
          388,
          78,
          769,
          751,
          344,
          79,
          177,
          657,
          210,
          381,
          512,
          685,
          997,
          927,
          376,
          788,
          91,
          170,
          584,
          90,
          75,
          747,
          969,
          368,
          893,
          529,
          870,
          97,
          897,
          272,
          881,
          936,
          270,
          708,
          483,
          610,
          431,
          754,
          729,
          279,
          13,
          943,
          395,
          810,
          74,
          239,
          275,
          505,
          236,
          59,
          920,
          500,
          967,
          151,
          249,
          653,
          11,
          252,
          521,
          227,
          894,
          941,
          285,
          462,
          370,
          95,
          621,
          415,
          716,
          291,
          273,
          935,
          801,
          444,
          280,
          269,
          343,
          802,
          406,
          363,
          107,
          522,
          799,
          739,
          348,
          396,
          709,
          294,
          995,
          968,
          671,
          351,
          958,
          367,
          421,
          752,
          237,
          809,
          778,
          903,
          914,
          887,
          946,
          723,
          240,
          556,
          598,
          458,
          586,
          178,
          498,
          243,
          314,
          202,
          300,
          682,
          230,
          306,
          166,
          620,
          724,
          263,
          326,
          232,
          150,
          469,
          132,
          9,
          254,
          952,
          379,
          581,
          82,
          64,
          767,
          369,
          528,
          449,
          119,
          773,
          777,
          664,
          518,
          110,
          704,
          960,
          979,
          711,
          121,
          712,
          543,
          478,
          623,
          492,
          678,
          858,
          399,
          40,
          710,
          217,
          307,
          523,
          820,
          157,
          250,
          124,
          974,
          329,
          349,
          785,
          463,
          169,
          374,
          918,
          524,
          34,
          854,
          309,
          760,
          163,
          159,
          287,
          183,
          605,
          457,
          567,
          21,
          735,
          776,
          283,
          871,
          970,
          721,
          561,
          160,
          425,
          120,
          389,
          127,
          491,
          753,
          80,
          774,
          517,
          804,
          838,
          148,
          192,
          22,
          181,
          429,
          175,
          733,
          122,
          857,
          950,
          982,
          849,
          863,
          212,
          66,
          580,
          284,
          190,
          84,
          242,
          652,
          547,
          155,
          331,
          883,
          356,
          840,
          902,
          101,
          228,
          282,
          670,
          797,
          987,
          959,
          545,
          94,
          430,
          864,
          278,
          757,
          565,
          245,
          332,
          534,
          568,
          448,
          948,
          289,
          578,
          142,
          511,
          499,
          937,
          684,
          292,
          452,
          45,
          527,
          787,
          698,
          813,
          839,
          560,
          831,
          930,
          26,
          362,
          268,
          63,
          993,
          553,
          973,
          33,
          546,
          850,
          617,
          118,
          15,
          538,
          42,
          654,
          730,
          427,
          174,
          719,
          643,
          591,
          455,
          734,
          93,
          909,
          311,
          487,
          554,
          770,
          531,
          153,
          116,
          667,
          408,
          468,
          989,
          443,
          694,
          848,
          18,
          23,
          276,
          30,
          725,
          0,
          72,
          783,
          756,
          641,
          435,
          525,
          913,
          115,
          508,
          32,
          700,
          676,
          38,
          24,
          668,
          199,
          205,
          626,
          532,
          925,
          258,
          905,
          264,
          614,
          991,
          295,
          659,
          675,
          105,
          71,
          234,
          347,
          683,
          402,
          834,
          520,
          509,
          603,
          49,
          386,
          302,
          179,
          201,
          738,
          644,
          231,
          450,
          908,
          795,
          800,
          818,
          600,
          297,
          690,
          587,
          125,
          732,
          551,
          876,
          20,
          825,
          748,
          277,
          577,
          256,
          398,
          984,
          211,
          650,
          89,
          404,
          191,
          624,
          666,
          844,
          474,
          949,
          728,
          27,
          223,
          216,
          248,
          189,
          892,
          391,
          70,
          872,
          533,
          977,
          687,
          706,
          219,
          233,
          414,
          288,
          832,
          701,
          366,
          514,
          947,
          619,
          827,
          564,
          637,
          606,
          333,
          699,
          104,
          128,
          853,
          563,
          978,
          241,
          672,
          6,
          655,
          403,
          821,
          549,
          662,
          663,
          61,
          526,
          445,
          62,
          37,
          833,
          625,
          705,
          165,
          618,
          727,
          888,
          550,
          779,
          400,
          879,
          602,
          12,
          926,
          697,
          439,
          286,
          144,
          715,
          593,
          413,
          775,
          726,
          477,
          703,
          794,
          25,
          589,
          81,
          361,
          133,
          1,
          741,
          19,
          29,
          334,
          501,
          963,
          583,
          350,
          83,
          495,
          330,
          53,
          999,
          173,
          436,
          488,
          570,
          852,
          915,
          890,
          466,
          940,
          851,
          423,
          980,
          149,
          516,
          218,
          961,
          494,
          639,
          464,
          143,
          126,
          152,
          238,
          592,
          629,
          535,
          880,
          247,
          573,
          108,
          383,
          337,
          975,
          604,
          44,
          601,
          405,
          796,
          506,
          324,
          889,
          168,
          137,
          422,
          220,
          679,
          225,
          454,
          519,
          847,
          627,
          579,
          355,
          772,
          136,
          746,
          855,
          900,
          912,
          955,
          816,
          906,
          293,
          944,
          910,
          731,
          740,
          10,
          962,
          540,
          251,
          207,
          393,
          636,
          69,
          673,
          194,
          649,
          572,
          829,
          112,
          325,
          612,
          312,
          432,
          502,
          341,
          718,
          611,
          886,
          507,
          622,
          441,
          281,
          407,
          187,
          442,
          634,
          789,
          459,
          92,
          410,
          651,
          707,
          574,
          981,
          503,
          686,
          475,
          904,
          557,
          658,
          130,
          911,
          562,
          609,
          197,
          215,
          750,
          841,
          992,
          895,
          481,
          575,
          471,
          440,
          907,
          681,
          759,
          257,
          763,
          428,
          781,
          956,
          497,
          635,
          490,
          665,
          460,
          76,
          552,
          878,
          884,
          65,
          919,
          206,
          8,
          77,
          866,
          58,
          762,
          472,
          424,
          377,
          480,
          496,
          631,
          964,
          319,
          364,
          412,
          141,
          88,
          647,
          819,
          812,
          323,
          766,
          321,
          60,
          486,
          836,
          385,
          419,
          768,
          433,
          301,
          976,
          296,
          315,
          929,
          46,
          86,
          109,
          360,
          645,
          16,
          493,
          815,
          193,
          954,
          628,
          867,
          842,
          401,
          806,
          539,
          438,
          140,
          198,
          467,
          14,
          87,
          265,
          262,
          222,
          755,
          259,
          3,
          354,
          489,
          615,
          473,
          661,
          139,
          67,
          515,
          342,
          56,
          304,
          745,
          885,
          51,
          513,
          465,
          530,
          780,
          305,
          824,
          434,
          537,
          695,
          357,
          186,
          555,
          129,
          359,
          244,
          255,
          782,
          390,
          720,
          154,
          371,
          998,
          582,
          951,
          158,
          945,
          271,
          484,
          146,
          717,
          790,
          394,
          826,
          418,
          843,
          576,
          837,
          990,
          899,
          680,
          588,
          290,
          411,
          862,
          630,
          213,
          865,
          358,
          180,
          860,
          380,
          99,
          873,
          135,
          176,
          957,
          504,
          559,
          596,
          996,
          39,
          340,
          2,
          451,
          823,
          817,
          68,
          208,
          608,
          420,
          253,
          846,
          339,
          409,
          111,
          224,
          942,
          544,
          73,
          47,
          638,
          113,
          96,
          737,
          214,
          569,
          123,
          106,
          595,
          17,
          742,
          98,
          988,
          322,
          382,
          365,
          510
         ],
         "y0": " ",
         "yaxis": "y"
        }
       ],
       "layout": {
        "boxmode": "group",
        "legend": {
         "tracegroupgap": 0
        },
        "margin": {
         "t": 60
        },
        "template": {
         "data": {
          "bar": [
           {
            "error_x": {
             "color": "#2a3f5f"
            },
            "error_y": {
             "color": "#2a3f5f"
            },
            "marker": {
             "line": {
              "color": "#E5ECF6",
              "width": 0.5
             },
             "pattern": {
              "fillmode": "overlay",
              "size": 10,
              "solidity": 0.2
             }
            },
            "type": "bar"
           }
          ],
          "barpolar": [
           {
            "marker": {
             "line": {
              "color": "#E5ECF6",
              "width": 0.5
             },
             "pattern": {
              "fillmode": "overlay",
              "size": 10,
              "solidity": 0.2
             }
            },
            "type": "barpolar"
           }
          ],
          "carpet": [
           {
            "aaxis": {
             "endlinecolor": "#2a3f5f",
             "gridcolor": "white",
             "linecolor": "white",
             "minorgridcolor": "white",
             "startlinecolor": "#2a3f5f"
            },
            "baxis": {
             "endlinecolor": "#2a3f5f",
             "gridcolor": "white",
             "linecolor": "white",
             "minorgridcolor": "white",
             "startlinecolor": "#2a3f5f"
            },
            "type": "carpet"
           }
          ],
          "choropleth": [
           {
            "colorbar": {
             "outlinewidth": 0,
             "ticks": ""
            },
            "type": "choropleth"
           }
          ],
          "contour": [
           {
            "colorbar": {
             "outlinewidth": 0,
             "ticks": ""
            },
            "colorscale": [
             [
              0,
              "#0d0887"
             ],
             [
              0.1111111111111111,
              "#46039f"
             ],
             [
              0.2222222222222222,
              "#7201a8"
             ],
             [
              0.3333333333333333,
              "#9c179e"
             ],
             [
              0.4444444444444444,
              "#bd3786"
             ],
             [
              0.5555555555555556,
              "#d8576b"
             ],
             [
              0.6666666666666666,
              "#ed7953"
             ],
             [
              0.7777777777777778,
              "#fb9f3a"
             ],
             [
              0.8888888888888888,
              "#fdca26"
             ],
             [
              1,
              "#f0f921"
             ]
            ],
            "type": "contour"
           }
          ],
          "contourcarpet": [
           {
            "colorbar": {
             "outlinewidth": 0,
             "ticks": ""
            },
            "type": "contourcarpet"
           }
          ],
          "heatmap": [
           {
            "colorbar": {
             "outlinewidth": 0,
             "ticks": ""
            },
            "colorscale": [
             [
              0,
              "#0d0887"
             ],
             [
              0.1111111111111111,
              "#46039f"
             ],
             [
              0.2222222222222222,
              "#7201a8"
             ],
             [
              0.3333333333333333,
              "#9c179e"
             ],
             [
              0.4444444444444444,
              "#bd3786"
             ],
             [
              0.5555555555555556,
              "#d8576b"
             ],
             [
              0.6666666666666666,
              "#ed7953"
             ],
             [
              0.7777777777777778,
              "#fb9f3a"
             ],
             [
              0.8888888888888888,
              "#fdca26"
             ],
             [
              1,
              "#f0f921"
             ]
            ],
            "type": "heatmap"
           }
          ],
          "heatmapgl": [
           {
            "colorbar": {
             "outlinewidth": 0,
             "ticks": ""
            },
            "colorscale": [
             [
              0,
              "#0d0887"
             ],
             [
              0.1111111111111111,
              "#46039f"
             ],
             [
              0.2222222222222222,
              "#7201a8"
             ],
             [
              0.3333333333333333,
              "#9c179e"
             ],
             [
              0.4444444444444444,
              "#bd3786"
             ],
             [
              0.5555555555555556,
              "#d8576b"
             ],
             [
              0.6666666666666666,
              "#ed7953"
             ],
             [
              0.7777777777777778,
              "#fb9f3a"
             ],
             [
              0.8888888888888888,
              "#fdca26"
             ],
             [
              1,
              "#f0f921"
             ]
            ],
            "type": "heatmapgl"
           }
          ],
          "histogram": [
           {
            "marker": {
             "pattern": {
              "fillmode": "overlay",
              "size": 10,
              "solidity": 0.2
             }
            },
            "type": "histogram"
           }
          ],
          "histogram2d": [
           {
            "colorbar": {
             "outlinewidth": 0,
             "ticks": ""
            },
            "colorscale": [
             [
              0,
              "#0d0887"
             ],
             [
              0.1111111111111111,
              "#46039f"
             ],
             [
              0.2222222222222222,
              "#7201a8"
             ],
             [
              0.3333333333333333,
              "#9c179e"
             ],
             [
              0.4444444444444444,
              "#bd3786"
             ],
             [
              0.5555555555555556,
              "#d8576b"
             ],
             [
              0.6666666666666666,
              "#ed7953"
             ],
             [
              0.7777777777777778,
              "#fb9f3a"
             ],
             [
              0.8888888888888888,
              "#fdca26"
             ],
             [
              1,
              "#f0f921"
             ]
            ],
            "type": "histogram2d"
           }
          ],
          "histogram2dcontour": [
           {
            "colorbar": {
             "outlinewidth": 0,
             "ticks": ""
            },
            "colorscale": [
             [
              0,
              "#0d0887"
             ],
             [
              0.1111111111111111,
              "#46039f"
             ],
             [
              0.2222222222222222,
              "#7201a8"
             ],
             [
              0.3333333333333333,
              "#9c179e"
             ],
             [
              0.4444444444444444,
              "#bd3786"
             ],
             [
              0.5555555555555556,
              "#d8576b"
             ],
             [
              0.6666666666666666,
              "#ed7953"
             ],
             [
              0.7777777777777778,
              "#fb9f3a"
             ],
             [
              0.8888888888888888,
              "#fdca26"
             ],
             [
              1,
              "#f0f921"
             ]
            ],
            "type": "histogram2dcontour"
           }
          ],
          "mesh3d": [
           {
            "colorbar": {
             "outlinewidth": 0,
             "ticks": ""
            },
            "type": "mesh3d"
           }
          ],
          "parcoords": [
           {
            "line": {
             "colorbar": {
              "outlinewidth": 0,
              "ticks": ""
             }
            },
            "type": "parcoords"
           }
          ],
          "pie": [
           {
            "automargin": true,
            "type": "pie"
           }
          ],
          "scatter": [
           {
            "fillpattern": {
             "fillmode": "overlay",
             "size": 10,
             "solidity": 0.2
            },
            "type": "scatter"
           }
          ],
          "scatter3d": [
           {
            "line": {
             "colorbar": {
              "outlinewidth": 0,
              "ticks": ""
             }
            },
            "marker": {
             "colorbar": {
              "outlinewidth": 0,
              "ticks": ""
             }
            },
            "type": "scatter3d"
           }
          ],
          "scattercarpet": [
           {
            "marker": {
             "colorbar": {
              "outlinewidth": 0,
              "ticks": ""
             }
            },
            "type": "scattercarpet"
           }
          ],
          "scattergeo": [
           {
            "marker": {
             "colorbar": {
              "outlinewidth": 0,
              "ticks": ""
             }
            },
            "type": "scattergeo"
           }
          ],
          "scattergl": [
           {
            "marker": {
             "colorbar": {
              "outlinewidth": 0,
              "ticks": ""
             }
            },
            "type": "scattergl"
           }
          ],
          "scattermapbox": [
           {
            "marker": {
             "colorbar": {
              "outlinewidth": 0,
              "ticks": ""
             }
            },
            "type": "scattermapbox"
           }
          ],
          "scatterpolar": [
           {
            "marker": {
             "colorbar": {
              "outlinewidth": 0,
              "ticks": ""
             }
            },
            "type": "scatterpolar"
           }
          ],
          "scatterpolargl": [
           {
            "marker": {
             "colorbar": {
              "outlinewidth": 0,
              "ticks": ""
             }
            },
            "type": "scatterpolargl"
           }
          ],
          "scatterternary": [
           {
            "marker": {
             "colorbar": {
              "outlinewidth": 0,
              "ticks": ""
             }
            },
            "type": "scatterternary"
           }
          ],
          "surface": [
           {
            "colorbar": {
             "outlinewidth": 0,
             "ticks": ""
            },
            "colorscale": [
             [
              0,
              "#0d0887"
             ],
             [
              0.1111111111111111,
              "#46039f"
             ],
             [
              0.2222222222222222,
              "#7201a8"
             ],
             [
              0.3333333333333333,
              "#9c179e"
             ],
             [
              0.4444444444444444,
              "#bd3786"
             ],
             [
              0.5555555555555556,
              "#d8576b"
             ],
             [
              0.6666666666666666,
              "#ed7953"
             ],
             [
              0.7777777777777778,
              "#fb9f3a"
             ],
             [
              0.8888888888888888,
              "#fdca26"
             ],
             [
              1,
              "#f0f921"
             ]
            ],
            "type": "surface"
           }
          ],
          "table": [
           {
            "cells": {
             "fill": {
              "color": "#EBF0F8"
             },
             "line": {
              "color": "white"
             }
            },
            "header": {
             "fill": {
              "color": "#C8D4E3"
             },
             "line": {
              "color": "white"
             }
            },
            "type": "table"
           }
          ]
         },
         "layout": {
          "annotationdefaults": {
           "arrowcolor": "#2a3f5f",
           "arrowhead": 0,
           "arrowwidth": 1
          },
          "autotypenumbers": "strict",
          "coloraxis": {
           "colorbar": {
            "outlinewidth": 0,
            "ticks": ""
           }
          },
          "colorscale": {
           "diverging": [
            [
             0,
             "#8e0152"
            ],
            [
             0.1,
             "#c51b7d"
            ],
            [
             0.2,
             "#de77ae"
            ],
            [
             0.3,
             "#f1b6da"
            ],
            [
             0.4,
             "#fde0ef"
            ],
            [
             0.5,
             "#f7f7f7"
            ],
            [
             0.6,
             "#e6f5d0"
            ],
            [
             0.7,
             "#b8e186"
            ],
            [
             0.8,
             "#7fbc41"
            ],
            [
             0.9,
             "#4d9221"
            ],
            [
             1,
             "#276419"
            ]
           ],
           "sequential": [
            [
             0,
             "#0d0887"
            ],
            [
             0.1111111111111111,
             "#46039f"
            ],
            [
             0.2222222222222222,
             "#7201a8"
            ],
            [
             0.3333333333333333,
             "#9c179e"
            ],
            [
             0.4444444444444444,
             "#bd3786"
            ],
            [
             0.5555555555555556,
             "#d8576b"
            ],
            [
             0.6666666666666666,
             "#ed7953"
            ],
            [
             0.7777777777777778,
             "#fb9f3a"
            ],
            [
             0.8888888888888888,
             "#fdca26"
            ],
            [
             1,
             "#f0f921"
            ]
           ],
           "sequentialminus": [
            [
             0,
             "#0d0887"
            ],
            [
             0.1111111111111111,
             "#46039f"
            ],
            [
             0.2222222222222222,
             "#7201a8"
            ],
            [
             0.3333333333333333,
             "#9c179e"
            ],
            [
             0.4444444444444444,
             "#bd3786"
            ],
            [
             0.5555555555555556,
             "#d8576b"
            ],
            [
             0.6666666666666666,
             "#ed7953"
            ],
            [
             0.7777777777777778,
             "#fb9f3a"
            ],
            [
             0.8888888888888888,
             "#fdca26"
            ],
            [
             1,
             "#f0f921"
            ]
           ]
          },
          "colorway": [
           "#636efa",
           "#EF553B",
           "#00cc96",
           "#ab63fa",
           "#FFA15A",
           "#19d3f3",
           "#FF6692",
           "#B6E880",
           "#FF97FF",
           "#FECB52"
          ],
          "font": {
           "color": "#2a3f5f"
          },
          "geo": {
           "bgcolor": "white",
           "lakecolor": "white",
           "landcolor": "#E5ECF6",
           "showlakes": true,
           "showland": true,
           "subunitcolor": "white"
          },
          "hoverlabel": {
           "align": "left"
          },
          "hovermode": "closest",
          "mapbox": {
           "style": "light"
          },
          "paper_bgcolor": "white",
          "plot_bgcolor": "#E5ECF6",
          "polar": {
           "angularaxis": {
            "gridcolor": "white",
            "linecolor": "white",
            "ticks": ""
           },
           "bgcolor": "#E5ECF6",
           "radialaxis": {
            "gridcolor": "white",
            "linecolor": "white",
            "ticks": ""
           }
          },
          "scene": {
           "xaxis": {
            "backgroundcolor": "#E5ECF6",
            "gridcolor": "white",
            "gridwidth": 2,
            "linecolor": "white",
            "showbackground": true,
            "ticks": "",
            "zerolinecolor": "white"
           },
           "yaxis": {
            "backgroundcolor": "#E5ECF6",
            "gridcolor": "white",
            "gridwidth": 2,
            "linecolor": "white",
            "showbackground": true,
            "ticks": "",
            "zerolinecolor": "white"
           },
           "zaxis": {
            "backgroundcolor": "#E5ECF6",
            "gridcolor": "white",
            "gridwidth": 2,
            "linecolor": "white",
            "showbackground": true,
            "ticks": "",
            "zerolinecolor": "white"
           }
          },
          "shapedefaults": {
           "line": {
            "color": "#2a3f5f"
           }
          },
          "ternary": {
           "aaxis": {
            "gridcolor": "white",
            "linecolor": "white",
            "ticks": ""
           },
           "baxis": {
            "gridcolor": "white",
            "linecolor": "white",
            "ticks": ""
           },
           "bgcolor": "#E5ECF6",
           "caxis": {
            "gridcolor": "white",
            "linecolor": "white",
            "ticks": ""
           }
          },
          "title": {
           "x": 0.05
          },
          "xaxis": {
           "automargin": true,
           "gridcolor": "white",
           "linecolor": "white",
           "ticks": "",
           "title": {
            "standoff": 15
           },
           "zerolinecolor": "white",
           "zerolinewidth": 2
          },
          "yaxis": {
           "automargin": true,
           "gridcolor": "white",
           "linecolor": "white",
           "ticks": "",
           "title": {
            "standoff": 15
           },
           "zerolinecolor": "white",
           "zerolinewidth": 2
          }
         }
        },
        "title": {
         "text": "Box Plot of store_id"
        },
        "xaxis": {
         "anchor": "y",
         "domain": [
          0,
          1
         ]
        },
        "yaxis": {
         "anchor": "x",
         "domain": [
          0,
          1
         ],
         "title": {
          "text": "Feature Values"
         }
        }
       }
      },
      "text/html": [
       "<div>                            <div id=\"396fb075-c268-43fd-912e-03fe94381f1b\" class=\"plotly-graph-div\" style=\"height:525px; width:100%;\"></div>            <script type=\"text/javascript\">                require([\"plotly\"], function(Plotly) {                    window.PLOTLYENV=window.PLOTLYENV || {};                                    if (document.getElementById(\"396fb075-c268-43fd-912e-03fe94381f1b\")) {                    Plotly.newPlot(                        \"396fb075-c268-43fd-912e-03fe94381f1b\",                        [{\"alignmentgroup\":\"True\",\"hovertemplate\":\"store_id=%{y}<extra></extra>\",\"legendgroup\":\"\",\"marker\":{\"color\":\"#636efa\"},\"name\":\"\",\"notched\":false,\"offsetgroup\":\"\",\"orientation\":\"v\",\"showlegend\":false,\"x0\":\" \",\"xaxis\":\"x\",\"y\":[131,203,50,585,138,632,328,461,924,479,195,221,209,378,156,327,761,320,274,417,372,299,229,896,594,983,736,85,882,7,722,43,566,317,874,743,353,145,346,590,771,336,633,310,693,691,338,901,318,352,161,542,786,917,387,196,648,167,597,392,803,536,172,830,182,702,784,613,965,171,345,822,877,147,548,642,971,934,184,607,437,266,808,447,713,114,656,985,426,5,640,986,932,41,134,938,814,994,805,558,875,933,861,868,792,928,246,764,939,48,828,616,316,446,313,416,571,921,103,541,891,660,35,869,916,102,791,52,200,4,953,453,714,476,470,599,646,235,793,972,298,856,261,57,164,758,696,55,966,28,923,188,669,688,375,798,308,54,117,692,204,898,303,260,31,485,859,36,162,482,807,845,835,922,744,384,749,100,689,226,456,397,674,267,373,677,931,185,335,811,388,78,769,751,344,79,177,657,210,381,512,685,997,927,376,788,91,170,584,90,75,747,969,368,893,529,870,97,897,272,881,936,270,708,483,610,431,754,729,279,13,943,395,810,74,239,275,505,236,59,920,500,967,151,249,653,11,252,521,227,894,941,285,462,370,95,621,415,716,291,273,935,801,444,280,269,343,802,406,363,107,522,799,739,348,396,709,294,995,968,671,351,958,367,421,752,237,809,778,903,914,887,946,723,240,556,598,458,586,178,498,243,314,202,300,682,230,306,166,620,724,263,326,232,150,469,132,9,254,952,379,581,82,64,767,369,528,449,119,773,777,664,518,110,704,960,979,711,121,712,543,478,623,492,678,858,399,40,710,217,307,523,820,157,250,124,974,329,349,785,463,169,374,918,524,34,854,309,760,163,159,287,183,605,457,567,21,735,776,283,871,970,721,561,160,425,120,389,127,491,753,80,774,517,804,838,148,192,22,181,429,175,733,122,857,950,982,849,863,212,66,580,284,190,84,242,652,547,155,331,883,356,840,902,101,228,282,670,797,987,959,545,94,430,864,278,757,565,245,332,534,568,448,948,289,578,142,511,499,937,684,292,452,45,527,787,698,813,839,560,831,930,26,362,268,63,993,553,973,33,546,850,617,118,15,538,42,654,730,427,174,719,643,591,455,734,93,909,311,487,554,770,531,153,116,667,408,468,989,443,694,848,18,23,276,30,725,0,72,783,756,641,435,525,913,115,508,32,700,676,38,24,668,199,205,626,532,925,258,905,264,614,991,295,659,675,105,71,234,347,683,402,834,520,509,603,49,386,302,179,201,738,644,231,450,908,795,800,818,600,297,690,587,125,732,551,876,20,825,748,277,577,256,398,984,211,650,89,404,191,624,666,844,474,949,728,27,223,216,248,189,892,391,70,872,533,977,687,706,219,233,414,288,832,701,366,514,947,619,827,564,637,606,333,699,104,128,853,563,978,241,672,6,655,403,821,549,662,663,61,526,445,62,37,833,625,705,165,618,727,888,550,779,400,879,602,12,926,697,439,286,144,715,593,413,775,726,477,703,794,25,589,81,361,133,1,741,19,29,334,501,963,583,350,83,495,330,53,999,173,436,488,570,852,915,890,466,940,851,423,980,149,516,218,961,494,639,464,143,126,152,238,592,629,535,880,247,573,108,383,337,975,604,44,601,405,796,506,324,889,168,137,422,220,679,225,454,519,847,627,579,355,772,136,746,855,900,912,955,816,906,293,944,910,731,740,10,962,540,251,207,393,636,69,673,194,649,572,829,112,325,612,312,432,502,341,718,611,886,507,622,441,281,407,187,442,634,789,459,92,410,651,707,574,981,503,686,475,904,557,658,130,911,562,609,197,215,750,841,992,895,481,575,471,440,907,681,759,257,763,428,781,956,497,635,490,665,460,76,552,878,884,65,919,206,8,77,866,58,762,472,424,377,480,496,631,964,319,364,412,141,88,647,819,812,323,766,321,60,486,836,385,419,768,433,301,976,296,315,929,46,86,109,360,645,16,493,815,193,954,628,867,842,401,806,539,438,140,198,467,14,87,265,262,222,755,259,3,354,489,615,473,661,139,67,515,342,56,304,745,885,51,513,465,530,780,305,824,434,537,695,357,186,555,129,359,244,255,782,390,720,154,371,998,582,951,158,945,271,484,146,717,790,394,826,418,843,576,837,990,899,680,588,290,411,862,630,213,865,358,180,860,380,99,873,135,176,957,504,559,596,996,39,340,2,451,823,817,68,208,608,420,253,846,339,409,111,224,942,544,73,47,638,113,96,737,214,569,123,106,595,17,742,98,988,322,382,365,510],\"y0\":\" \",\"yaxis\":\"y\",\"type\":\"box\"}],                        {\"template\":{\"data\":{\"histogram2dcontour\":[{\"type\":\"histogram2dcontour\",\"colorbar\":{\"outlinewidth\":0,\"ticks\":\"\"},\"colorscale\":[[0.0,\"#0d0887\"],[0.1111111111111111,\"#46039f\"],[0.2222222222222222,\"#7201a8\"],[0.3333333333333333,\"#9c179e\"],[0.4444444444444444,\"#bd3786\"],[0.5555555555555556,\"#d8576b\"],[0.6666666666666666,\"#ed7953\"],[0.7777777777777778,\"#fb9f3a\"],[0.8888888888888888,\"#fdca26\"],[1.0,\"#f0f921\"]]}],\"choropleth\":[{\"type\":\"choropleth\",\"colorbar\":{\"outlinewidth\":0,\"ticks\":\"\"}}],\"histogram2d\":[{\"type\":\"histogram2d\",\"colorbar\":{\"outlinewidth\":0,\"ticks\":\"\"},\"colorscale\":[[0.0,\"#0d0887\"],[0.1111111111111111,\"#46039f\"],[0.2222222222222222,\"#7201a8\"],[0.3333333333333333,\"#9c179e\"],[0.4444444444444444,\"#bd3786\"],[0.5555555555555556,\"#d8576b\"],[0.6666666666666666,\"#ed7953\"],[0.7777777777777778,\"#fb9f3a\"],[0.8888888888888888,\"#fdca26\"],[1.0,\"#f0f921\"]]}],\"heatmap\":[{\"type\":\"heatmap\",\"colorbar\":{\"outlinewidth\":0,\"ticks\":\"\"},\"colorscale\":[[0.0,\"#0d0887\"],[0.1111111111111111,\"#46039f\"],[0.2222222222222222,\"#7201a8\"],[0.3333333333333333,\"#9c179e\"],[0.4444444444444444,\"#bd3786\"],[0.5555555555555556,\"#d8576b\"],[0.6666666666666666,\"#ed7953\"],[0.7777777777777778,\"#fb9f3a\"],[0.8888888888888888,\"#fdca26\"],[1.0,\"#f0f921\"]]}],\"heatmapgl\":[{\"type\":\"heatmapgl\",\"colorbar\":{\"outlinewidth\":0,\"ticks\":\"\"},\"colorscale\":[[0.0,\"#0d0887\"],[0.1111111111111111,\"#46039f\"],[0.2222222222222222,\"#7201a8\"],[0.3333333333333333,\"#9c179e\"],[0.4444444444444444,\"#bd3786\"],[0.5555555555555556,\"#d8576b\"],[0.6666666666666666,\"#ed7953\"],[0.7777777777777778,\"#fb9f3a\"],[0.8888888888888888,\"#fdca26\"],[1.0,\"#f0f921\"]]}],\"contourcarpet\":[{\"type\":\"contourcarpet\",\"colorbar\":{\"outlinewidth\":0,\"ticks\":\"\"}}],\"contour\":[{\"type\":\"contour\",\"colorbar\":{\"outlinewidth\":0,\"ticks\":\"\"},\"colorscale\":[[0.0,\"#0d0887\"],[0.1111111111111111,\"#46039f\"],[0.2222222222222222,\"#7201a8\"],[0.3333333333333333,\"#9c179e\"],[0.4444444444444444,\"#bd3786\"],[0.5555555555555556,\"#d8576b\"],[0.6666666666666666,\"#ed7953\"],[0.7777777777777778,\"#fb9f3a\"],[0.8888888888888888,\"#fdca26\"],[1.0,\"#f0f921\"]]}],\"surface\":[{\"type\":\"surface\",\"colorbar\":{\"outlinewidth\":0,\"ticks\":\"\"},\"colorscale\":[[0.0,\"#0d0887\"],[0.1111111111111111,\"#46039f\"],[0.2222222222222222,\"#7201a8\"],[0.3333333333333333,\"#9c179e\"],[0.4444444444444444,\"#bd3786\"],[0.5555555555555556,\"#d8576b\"],[0.6666666666666666,\"#ed7953\"],[0.7777777777777778,\"#fb9f3a\"],[0.8888888888888888,\"#fdca26\"],[1.0,\"#f0f921\"]]}],\"mesh3d\":[{\"type\":\"mesh3d\",\"colorbar\":{\"outlinewidth\":0,\"ticks\":\"\"}}],\"scatter\":[{\"fillpattern\":{\"fillmode\":\"overlay\",\"size\":10,\"solidity\":0.2},\"type\":\"scatter\"}],\"parcoords\":[{\"type\":\"parcoords\",\"line\":{\"colorbar\":{\"outlinewidth\":0,\"ticks\":\"\"}}}],\"scatterpolargl\":[{\"type\":\"scatterpolargl\",\"marker\":{\"colorbar\":{\"outlinewidth\":0,\"ticks\":\"\"}}}],\"bar\":[{\"error_x\":{\"color\":\"#2a3f5f\"},\"error_y\":{\"color\":\"#2a3f5f\"},\"marker\":{\"line\":{\"color\":\"#E5ECF6\",\"width\":0.5},\"pattern\":{\"fillmode\":\"overlay\",\"size\":10,\"solidity\":0.2}},\"type\":\"bar\"}],\"scattergeo\":[{\"type\":\"scattergeo\",\"marker\":{\"colorbar\":{\"outlinewidth\":0,\"ticks\":\"\"}}}],\"scatterpolar\":[{\"type\":\"scatterpolar\",\"marker\":{\"colorbar\":{\"outlinewidth\":0,\"ticks\":\"\"}}}],\"histogram\":[{\"marker\":{\"pattern\":{\"fillmode\":\"overlay\",\"size\":10,\"solidity\":0.2}},\"type\":\"histogram\"}],\"scattergl\":[{\"type\":\"scattergl\",\"marker\":{\"colorbar\":{\"outlinewidth\":0,\"ticks\":\"\"}}}],\"scatter3d\":[{\"type\":\"scatter3d\",\"line\":{\"colorbar\":{\"outlinewidth\":0,\"ticks\":\"\"}},\"marker\":{\"colorbar\":{\"outlinewidth\":0,\"ticks\":\"\"}}}],\"scattermapbox\":[{\"type\":\"scattermapbox\",\"marker\":{\"colorbar\":{\"outlinewidth\":0,\"ticks\":\"\"}}}],\"scatterternary\":[{\"type\":\"scatterternary\",\"marker\":{\"colorbar\":{\"outlinewidth\":0,\"ticks\":\"\"}}}],\"scattercarpet\":[{\"type\":\"scattercarpet\",\"marker\":{\"colorbar\":{\"outlinewidth\":0,\"ticks\":\"\"}}}],\"carpet\":[{\"aaxis\":{\"endlinecolor\":\"#2a3f5f\",\"gridcolor\":\"white\",\"linecolor\":\"white\",\"minorgridcolor\":\"white\",\"startlinecolor\":\"#2a3f5f\"},\"baxis\":{\"endlinecolor\":\"#2a3f5f\",\"gridcolor\":\"white\",\"linecolor\":\"white\",\"minorgridcolor\":\"white\",\"startlinecolor\":\"#2a3f5f\"},\"type\":\"carpet\"}],\"table\":[{\"cells\":{\"fill\":{\"color\":\"#EBF0F8\"},\"line\":{\"color\":\"white\"}},\"header\":{\"fill\":{\"color\":\"#C8D4E3\"},\"line\":{\"color\":\"white\"}},\"type\":\"table\"}],\"barpolar\":[{\"marker\":{\"line\":{\"color\":\"#E5ECF6\",\"width\":0.5},\"pattern\":{\"fillmode\":\"overlay\",\"size\":10,\"solidity\":0.2}},\"type\":\"barpolar\"}],\"pie\":[{\"automargin\":true,\"type\":\"pie\"}]},\"layout\":{\"autotypenumbers\":\"strict\",\"colorway\":[\"#636efa\",\"#EF553B\",\"#00cc96\",\"#ab63fa\",\"#FFA15A\",\"#19d3f3\",\"#FF6692\",\"#B6E880\",\"#FF97FF\",\"#FECB52\"],\"font\":{\"color\":\"#2a3f5f\"},\"hovermode\":\"closest\",\"hoverlabel\":{\"align\":\"left\"},\"paper_bgcolor\":\"white\",\"plot_bgcolor\":\"#E5ECF6\",\"polar\":{\"bgcolor\":\"#E5ECF6\",\"angularaxis\":{\"gridcolor\":\"white\",\"linecolor\":\"white\",\"ticks\":\"\"},\"radialaxis\":{\"gridcolor\":\"white\",\"linecolor\":\"white\",\"ticks\":\"\"}},\"ternary\":{\"bgcolor\":\"#E5ECF6\",\"aaxis\":{\"gridcolor\":\"white\",\"linecolor\":\"white\",\"ticks\":\"\"},\"baxis\":{\"gridcolor\":\"white\",\"linecolor\":\"white\",\"ticks\":\"\"},\"caxis\":{\"gridcolor\":\"white\",\"linecolor\":\"white\",\"ticks\":\"\"}},\"coloraxis\":{\"colorbar\":{\"outlinewidth\":0,\"ticks\":\"\"}},\"colorscale\":{\"sequential\":[[0.0,\"#0d0887\"],[0.1111111111111111,\"#46039f\"],[0.2222222222222222,\"#7201a8\"],[0.3333333333333333,\"#9c179e\"],[0.4444444444444444,\"#bd3786\"],[0.5555555555555556,\"#d8576b\"],[0.6666666666666666,\"#ed7953\"],[0.7777777777777778,\"#fb9f3a\"],[0.8888888888888888,\"#fdca26\"],[1.0,\"#f0f921\"]],\"sequentialminus\":[[0.0,\"#0d0887\"],[0.1111111111111111,\"#46039f\"],[0.2222222222222222,\"#7201a8\"],[0.3333333333333333,\"#9c179e\"],[0.4444444444444444,\"#bd3786\"],[0.5555555555555556,\"#d8576b\"],[0.6666666666666666,\"#ed7953\"],[0.7777777777777778,\"#fb9f3a\"],[0.8888888888888888,\"#fdca26\"],[1.0,\"#f0f921\"]],\"diverging\":[[0,\"#8e0152\"],[0.1,\"#c51b7d\"],[0.2,\"#de77ae\"],[0.3,\"#f1b6da\"],[0.4,\"#fde0ef\"],[0.5,\"#f7f7f7\"],[0.6,\"#e6f5d0\"],[0.7,\"#b8e186\"],[0.8,\"#7fbc41\"],[0.9,\"#4d9221\"],[1,\"#276419\"]]},\"xaxis\":{\"gridcolor\":\"white\",\"linecolor\":\"white\",\"ticks\":\"\",\"title\":{\"standoff\":15},\"zerolinecolor\":\"white\",\"automargin\":true,\"zerolinewidth\":2},\"yaxis\":{\"gridcolor\":\"white\",\"linecolor\":\"white\",\"ticks\":\"\",\"title\":{\"standoff\":15},\"zerolinecolor\":\"white\",\"automargin\":true,\"zerolinewidth\":2},\"scene\":{\"xaxis\":{\"backgroundcolor\":\"#E5ECF6\",\"gridcolor\":\"white\",\"linecolor\":\"white\",\"showbackground\":true,\"ticks\":\"\",\"zerolinecolor\":\"white\",\"gridwidth\":2},\"yaxis\":{\"backgroundcolor\":\"#E5ECF6\",\"gridcolor\":\"white\",\"linecolor\":\"white\",\"showbackground\":true,\"ticks\":\"\",\"zerolinecolor\":\"white\",\"gridwidth\":2},\"zaxis\":{\"backgroundcolor\":\"#E5ECF6\",\"gridcolor\":\"white\",\"linecolor\":\"white\",\"showbackground\":true,\"ticks\":\"\",\"zerolinecolor\":\"white\",\"gridwidth\":2}},\"shapedefaults\":{\"line\":{\"color\":\"#2a3f5f\"}},\"annotationdefaults\":{\"arrowcolor\":\"#2a3f5f\",\"arrowhead\":0,\"arrowwidth\":1},\"geo\":{\"bgcolor\":\"white\",\"landcolor\":\"#E5ECF6\",\"subunitcolor\":\"white\",\"showland\":true,\"showlakes\":true,\"lakecolor\":\"white\"},\"title\":{\"x\":0.05},\"mapbox\":{\"style\":\"light\"}}},\"xaxis\":{\"anchor\":\"y\",\"domain\":[0.0,1.0]},\"yaxis\":{\"anchor\":\"x\",\"domain\":[0.0,1.0],\"title\":{\"text\":\"Feature Values\"}},\"legend\":{\"tracegroupgap\":0},\"margin\":{\"t\":60},\"boxmode\":\"group\",\"title\":{\"text\":\"Box Plot of store_id\"}},                        {\"responsive\": true}                    ).then(function(){\n",
       "                            \n",
       "var gd = document.getElementById('396fb075-c268-43fd-912e-03fe94381f1b');\n",
       "var x = new MutationObserver(function (mutations, observer) {{\n",
       "        var display = window.getComputedStyle(gd).display;\n",
       "        if (!display || display === 'none') {{\n",
       "            console.log([gd, 'removed!']);\n",
       "            Plotly.purge(gd);\n",
       "            observer.disconnect();\n",
       "        }}\n",
       "}});\n",
       "\n",
       "// Listen for the removal of the full notebook cells\n",
       "var notebookContainer = gd.closest('#notebook-container');\n",
       "if (notebookContainer) {{\n",
       "    x.observe(notebookContainer, {childList: true});\n",
       "}}\n",
       "\n",
       "// Listen for the clearing of the current output cell\n",
       "var outputEl = gd.closest('.output');\n",
       "if (outputEl) {{\n",
       "    x.observe(outputEl, {childList: true});\n",
       "}}\n",
       "\n",
       "                        })                };                });            </script>        </div>"
      ]
     },
     "metadata": {},
     "output_type": "display_data"
    },
    {
     "data": {
      "application/vnd.plotly.v1+json": {
       "config": {
        "plotlyServerURL": "https://plot.ly"
       },
       "data": [
        {
         "alignmentgroup": "True",
         "hovertemplate": "date=%{y}<extra></extra>",
         "legendgroup": "",
         "marker": {
          "color": "#636efa"
         },
         "name": "",
         "notched": false,
         "offsetgroup": "",
         "orientation": "v",
         "showlegend": false,
         "type": "box",
         "x0": " ",
         "xaxis": "x",
         "y": [
          "2021-11-19T00:00:00",
          "2021-04-09T00:00:00",
          "2021-08-19T00:00:00",
          "2021-01-18T00:00:00",
          "2021-03-25T00:00:00",
          "2021-04-17T00:00:00",
          "2021-05-04T00:00:00",
          "2021-02-27T00:00:00",
          "2021-08-03T00:00:00",
          "2021-08-14T00:00:00",
          "2021-04-07T00:00:00",
          "2021-04-24T00:00:00",
          "2021-05-07T00:00:00",
          "2021-02-17T00:00:00",
          "2021-03-15T00:00:00",
          "2021-02-02T00:00:00",
          "2021-08-13T00:00:00",
          "2021-04-22T00:00:00",
          "2021-12-06T00:00:00",
          "2021-12-01T00:00:00",
          "2021-09-11T00:00:00",
          "2021-04-07T00:00:00",
          "2021-07-28T00:00:00",
          "2021-03-10T00:00:00",
          "2021-11-02T00:00:00",
          "2021-11-08T00:00:00",
          "2021-01-03T00:00:00",
          "2021-12-07T00:00:00",
          "2021-02-09T00:00:00",
          "2021-11-19T00:00:00",
          "2021-03-26T00:00:00",
          "2021-02-17T00:00:00",
          "2021-06-26T00:00:00",
          "2021-05-16T00:00:00",
          "2021-12-28T00:00:00",
          "2021-04-10T00:00:00",
          "2021-12-15T00:00:00",
          "2021-06-30T00:00:00",
          "2021-12-25T00:00:00",
          "2021-12-20T00:00:00",
          "2021-08-02T00:00:00",
          "2021-04-29T00:00:00",
          "2021-12-17T00:00:00",
          "2021-10-18T00:00:00",
          "2021-03-18T00:00:00",
          "2021-06-18T00:00:00",
          "2021-04-17T00:00:00",
          "2021-11-22T00:00:00",
          "2021-03-06T00:00:00",
          "2021-11-28T00:00:00",
          "2021-11-11T00:00:00",
          "2021-10-06T00:00:00",
          "2021-07-25T00:00:00",
          "2021-05-27T00:00:00",
          "2021-09-29T00:00:00",
          "2021-09-11T00:00:00",
          "2021-06-08T00:00:00",
          "2021-06-30T00:00:00",
          "2021-03-12T00:00:00",
          "2021-06-04T00:00:00",
          "2021-07-28T00:00:00",
          "2021-09-28T00:00:00",
          "2021-09-13T00:00:00",
          "2021-09-02T00:00:00",
          "2021-12-26T00:00:00",
          "2021-05-10T00:00:00",
          "2021-02-13T00:00:00",
          "2021-07-06T00:00:00",
          "2021-12-24T00:00:00",
          "2021-07-03T00:00:00",
          "2021-01-26T00:00:00",
          "2021-11-09T00:00:00",
          "2021-11-02T00:00:00",
          "2021-09-26T00:00:00",
          "2021-01-19T00:00:00",
          "2021-01-02T00:00:00",
          "2021-02-21T00:00:00",
          "2021-08-22T00:00:00",
          "2021-11-01T00:00:00",
          "2021-02-26T00:00:00",
          "2021-12-09T00:00:00",
          "2021-01-04T00:00:00",
          "2021-03-09T00:00:00",
          "2021-05-20T00:00:00",
          "2021-05-30T00:00:00",
          "2021-04-14T00:00:00",
          "2021-12-21T00:00:00",
          "2021-01-04T00:00:00",
          "2021-09-17T00:00:00",
          "2021-09-01T00:00:00",
          "2021-08-11T00:00:00",
          "2021-09-20T00:00:00",
          "2021-09-23T00:00:00",
          "2021-03-29T00:00:00",
          "2021-01-15T00:00:00",
          "2021-07-18T00:00:00",
          "2021-05-21T00:00:00",
          "2021-01-28T00:00:00",
          "2021-10-22T00:00:00",
          "2021-11-27T00:00:00",
          "2021-12-22T00:00:00",
          "2021-04-27T00:00:00",
          "2021-04-10T00:00:00",
          "2021-07-13T00:00:00",
          "2021-10-31T00:00:00",
          "2021-01-17T00:00:00",
          "2021-05-14T00:00:00",
          "2021-12-27T00:00:00",
          "2021-04-20T00:00:00",
          "2021-03-28T00:00:00",
          "2021-02-16T00:00:00",
          "2021-09-29T00:00:00",
          "2021-11-12T00:00:00",
          "2021-10-24T00:00:00",
          "2021-10-29T00:00:00",
          "2021-09-14T00:00:00",
          "2021-11-21T00:00:00",
          "2021-12-16T00:00:00",
          "2021-03-02T00:00:00",
          "2021-11-18T00:00:00",
          "2021-09-12T00:00:00",
          "2021-11-20T00:00:00",
          "2021-10-28T00:00:00",
          "2021-11-04T00:00:00",
          "2021-05-16T00:00:00",
          "2021-03-30T00:00:00",
          "2021-05-22T00:00:00",
          "2021-12-31T00:00:00",
          "2021-11-16T00:00:00",
          "2021-12-07T00:00:00",
          "2021-04-30T00:00:00",
          "2021-09-08T00:00:00",
          "2021-02-28T00:00:00",
          "2021-03-19T00:00:00",
          "2021-01-09T00:00:00",
          "2021-07-26T00:00:00",
          "2021-03-07T00:00:00",
          "2021-08-11T00:00:00",
          "2021-07-18T00:00:00",
          "2021-02-10T00:00:00",
          "2021-03-18T00:00:00",
          "2021-06-03T00:00:00",
          "2021-05-04T00:00:00",
          "2021-05-16T00:00:00",
          "2021-09-27T00:00:00",
          "2021-09-09T00:00:00",
          "2021-09-15T00:00:00",
          "2021-09-05T00:00:00",
          "2021-06-19T00:00:00",
          "2021-07-26T00:00:00",
          "2021-03-05T00:00:00",
          "2021-01-04T00:00:00",
          "2021-01-18T00:00:00",
          "2021-03-30T00:00:00",
          "2021-08-27T00:00:00",
          "2021-08-04T00:00:00",
          "2021-07-17T00:00:00",
          "2021-04-08T00:00:00",
          "2021-02-20T00:00:00",
          "2021-12-24T00:00:00",
          "2021-05-11T00:00:00",
          "2021-05-27T00:00:00",
          "2021-10-30T00:00:00",
          "2021-02-15T00:00:00",
          "2021-01-19T00:00:00",
          "2021-06-24T00:00:00",
          "2021-03-15T00:00:00",
          "2021-03-04T00:00:00",
          "2021-07-15T00:00:00",
          "2021-05-20T00:00:00",
          "2021-04-03T00:00:00",
          "2021-02-15T00:00:00",
          "2021-05-03T00:00:00",
          "2021-07-07T00:00:00",
          "2021-10-09T00:00:00",
          "2021-10-11T00:00:00",
          "2021-04-21T00:00:00",
          "2021-09-17T00:00:00",
          "2021-04-10T00:00:00",
          "2021-07-26T00:00:00",
          "2021-12-08T00:00:00",
          "2021-11-09T00:00:00",
          "2021-12-10T00:00:00",
          "2021-04-11T00:00:00",
          "2021-11-22T00:00:00",
          "2021-04-23T00:00:00",
          "2021-11-09T00:00:00",
          "2021-03-02T00:00:00",
          "2021-05-18T00:00:00",
          "2021-07-14T00:00:00",
          "2021-06-11T00:00:00",
          "2021-03-11T00:00:00",
          "2021-05-05T00:00:00",
          "2021-07-27T00:00:00",
          "2021-09-09T00:00:00",
          "2021-01-29T00:00:00",
          "2021-11-19T00:00:00",
          "2021-01-11T00:00:00",
          "2021-08-17T00:00:00",
          "2021-09-17T00:00:00",
          "2021-09-17T00:00:00",
          "2021-10-07T00:00:00",
          "2021-08-08T00:00:00",
          "2021-07-03T00:00:00",
          "2021-10-18T00:00:00",
          "2021-10-21T00:00:00",
          "2021-11-02T00:00:00",
          "2021-12-10T00:00:00",
          "2021-12-08T00:00:00",
          "2021-06-03T00:00:00",
          "2021-07-06T00:00:00",
          "2021-07-14T00:00:00",
          "2021-10-29T00:00:00",
          "2021-01-11T00:00:00",
          "2021-05-17T00:00:00",
          "2021-09-03T00:00:00",
          "2021-10-09T00:00:00",
          "2021-12-22T00:00:00",
          "2021-03-09T00:00:00",
          "2021-04-26T00:00:00",
          "2021-11-18T00:00:00",
          "2021-01-08T00:00:00",
          "2021-12-22T00:00:00",
          "2021-08-14T00:00:00",
          "2021-06-17T00:00:00",
          "2021-08-09T00:00:00",
          "2021-05-18T00:00:00",
          "2021-06-18T00:00:00",
          "2021-11-21T00:00:00",
          "2021-08-04T00:00:00",
          "2021-08-21T00:00:00",
          "2021-03-31T00:00:00",
          "2021-11-03T00:00:00",
          "2021-02-14T00:00:00",
          "2021-04-03T00:00:00",
          "2021-12-06T00:00:00",
          "2021-12-04T00:00:00",
          "2021-04-19T00:00:00",
          "2021-03-03T00:00:00",
          "2021-12-27T00:00:00",
          "2021-09-05T00:00:00",
          "2021-09-05T00:00:00",
          "2021-01-15T00:00:00",
          "2021-01-24T00:00:00",
          "2021-11-15T00:00:00",
          "2021-04-28T00:00:00",
          "2021-03-22T00:00:00",
          "2021-08-29T00:00:00",
          "2021-08-27T00:00:00",
          "2021-06-02T00:00:00",
          "2021-05-07T00:00:00",
          "2021-05-24T00:00:00",
          "2021-05-08T00:00:00",
          "2021-03-26T00:00:00",
          "2021-08-24T00:00:00",
          "2021-08-28T00:00:00",
          "2021-08-07T00:00:00",
          "2021-01-05T00:00:00",
          "2021-05-30T00:00:00",
          "2021-02-02T00:00:00",
          "2021-12-21T00:00:00",
          "2021-04-17T00:00:00",
          "2021-04-14T00:00:00",
          "2021-12-13T00:00:00",
          "2021-12-26T00:00:00",
          "2021-02-28T00:00:00",
          "2021-09-15T00:00:00",
          "2021-06-23T00:00:00",
          "2021-10-06T00:00:00",
          "2021-02-23T00:00:00",
          "2021-11-27T00:00:00",
          "2021-10-19T00:00:00",
          "2021-03-25T00:00:00",
          "2021-12-17T00:00:00",
          "2021-03-13T00:00:00",
          "2021-02-09T00:00:00",
          "2021-12-10T00:00:00",
          "2021-12-06T00:00:00",
          "2021-12-01T00:00:00",
          "2021-01-30T00:00:00",
          "2021-01-20T00:00:00",
          "2021-10-21T00:00:00",
          "2021-01-02T00:00:00",
          "2021-05-14T00:00:00",
          "2021-12-28T00:00:00",
          "2021-03-23T00:00:00",
          "2021-06-13T00:00:00",
          "2021-03-19T00:00:00",
          "2021-01-26T00:00:00",
          "2021-04-08T00:00:00",
          "2021-04-28T00:00:00",
          "2021-03-23T00:00:00",
          "2021-05-25T00:00:00",
          "2021-10-14T00:00:00",
          "2021-06-08T00:00:00",
          "2021-01-13T00:00:00",
          "2021-04-01T00:00:00",
          "2021-04-03T00:00:00",
          "2021-02-08T00:00:00",
          "2021-12-21T00:00:00",
          "2021-01-08T00:00:00",
          "2021-04-17T00:00:00",
          "2021-06-15T00:00:00",
          "2021-01-15T00:00:00",
          "2021-04-24T00:00:00",
          "2021-05-09T00:00:00",
          "2021-05-11T00:00:00",
          "2021-02-07T00:00:00",
          "2021-03-04T00:00:00",
          "2021-01-15T00:00:00",
          "2021-03-03T00:00:00",
          "2021-12-28T00:00:00",
          "2021-03-23T00:00:00",
          "2021-02-07T00:00:00",
          "2021-08-11T00:00:00",
          "2021-01-07T00:00:00",
          "2021-12-23T00:00:00",
          "2021-03-13T00:00:00",
          "2021-11-30T00:00:00",
          "2021-08-30T00:00:00",
          "2021-12-01T00:00:00",
          "2021-08-13T00:00:00",
          "2021-02-21T00:00:00",
          "2021-12-20T00:00:00",
          "2021-09-17T00:00:00",
          "2021-05-09T00:00:00",
          "2021-04-15T00:00:00",
          "2021-05-07T00:00:00",
          "2021-05-07T00:00:00",
          "2021-11-30T00:00:00",
          "2021-04-05T00:00:00",
          "2021-06-15T00:00:00",
          "2021-04-24T00:00:00",
          "2021-02-22T00:00:00",
          "2021-12-06T00:00:00",
          "2021-09-16T00:00:00",
          "2021-08-13T00:00:00",
          "2021-01-15T00:00:00",
          "2021-01-03T00:00:00",
          "2021-12-14T00:00:00",
          "2021-08-27T00:00:00",
          "2021-06-10T00:00:00",
          "2021-10-16T00:00:00",
          "2021-09-17T00:00:00",
          "2021-08-12T00:00:00",
          "2021-08-22T00:00:00",
          "2021-08-08T00:00:00",
          "2021-09-05T00:00:00",
          "2021-12-02T00:00:00",
          "2021-04-17T00:00:00",
          "2021-08-08T00:00:00",
          "2021-12-01T00:00:00",
          "2021-04-22T00:00:00",
          "2021-01-22T00:00:00",
          "2021-06-08T00:00:00",
          "2021-07-07T00:00:00",
          "2021-12-07T00:00:00",
          "2021-10-15T00:00:00",
          "2021-03-12T00:00:00",
          "2021-08-13T00:00:00",
          "2021-03-19T00:00:00",
          "2021-07-09T00:00:00",
          "2021-09-06T00:00:00",
          "2021-08-05T00:00:00",
          "2021-08-12T00:00:00",
          "2021-01-28T00:00:00",
          "2021-11-18T00:00:00",
          "2021-01-17T00:00:00",
          "2021-05-16T00:00:00",
          "2021-10-21T00:00:00",
          "2021-09-13T00:00:00",
          "2021-07-11T00:00:00",
          "2021-08-17T00:00:00",
          "2021-03-31T00:00:00",
          "2021-10-14T00:00:00",
          "2021-07-31T00:00:00",
          "2021-11-22T00:00:00",
          "2021-04-24T00:00:00",
          "2021-07-04T00:00:00",
          "2021-09-14T00:00:00",
          "2021-03-31T00:00:00",
          "2021-10-12T00:00:00",
          "2021-03-07T00:00:00",
          "2021-10-05T00:00:00",
          "2021-01-29T00:00:00",
          "2021-01-09T00:00:00",
          "2021-10-24T00:00:00",
          "2021-01-21T00:00:00",
          "2021-09-06T00:00:00",
          "2021-04-06T00:00:00",
          "2021-04-21T00:00:00",
          "2021-08-24T00:00:00",
          "2021-02-09T00:00:00",
          "2021-10-09T00:00:00",
          "2021-06-25T00:00:00",
          "2021-05-06T00:00:00",
          "2021-07-24T00:00:00",
          "2021-08-12T00:00:00",
          "2021-02-02T00:00:00",
          "2021-12-19T00:00:00",
          "2021-10-25T00:00:00",
          "2021-08-22T00:00:00",
          "2021-03-18T00:00:00",
          "2021-10-26T00:00:00",
          "2021-01-04T00:00:00",
          "2021-12-24T00:00:00",
          "2021-07-11T00:00:00",
          "2021-07-17T00:00:00",
          "2021-08-07T00:00:00",
          "2021-08-20T00:00:00",
          "2021-06-07T00:00:00",
          "2021-07-21T00:00:00",
          "2021-06-29T00:00:00",
          "2021-10-06T00:00:00",
          "2021-10-30T00:00:00",
          "2021-09-01T00:00:00",
          "2021-02-19T00:00:00",
          "2021-01-09T00:00:00",
          "2021-08-22T00:00:00",
          "2021-12-14T00:00:00",
          "2021-08-23T00:00:00",
          "2021-04-25T00:00:00",
          "2021-03-13T00:00:00",
          "2021-04-16T00:00:00",
          "2021-03-13T00:00:00",
          "2021-03-23T00:00:00",
          "2021-05-29T00:00:00",
          "2021-05-21T00:00:00",
          "2021-10-10T00:00:00",
          "2021-08-27T00:00:00",
          "2021-03-03T00:00:00",
          "2021-10-23T00:00:00",
          "2021-11-05T00:00:00",
          "2021-07-27T00:00:00",
          "2021-10-23T00:00:00",
          "2021-05-07T00:00:00",
          "2021-09-22T00:00:00",
          "2021-07-28T00:00:00",
          "2021-09-16T00:00:00",
          "2021-11-08T00:00:00",
          "2021-06-30T00:00:00",
          "2021-09-17T00:00:00",
          "2021-10-23T00:00:00",
          "2021-06-29T00:00:00",
          "2021-11-08T00:00:00",
          "2021-11-17T00:00:00",
          "2021-07-25T00:00:00",
          "2021-07-19T00:00:00",
          "2021-11-23T00:00:00",
          "2021-01-30T00:00:00",
          "2021-01-25T00:00:00",
          "2021-02-08T00:00:00",
          "2021-07-27T00:00:00",
          "2021-11-27T00:00:00",
          "2021-06-02T00:00:00",
          "2021-02-02T00:00:00",
          "2021-11-06T00:00:00",
          "2021-04-26T00:00:00",
          "2021-04-22T00:00:00",
          "2021-06-29T00:00:00",
          "2021-07-21T00:00:00",
          "2021-04-24T00:00:00",
          "2021-03-14T00:00:00",
          "2021-01-01T00:00:00",
          "2021-08-14T00:00:00",
          "2021-01-31T00:00:00",
          "2021-10-04T00:00:00",
          "2021-01-24T00:00:00",
          "2021-01-19T00:00:00",
          "2021-03-02T00:00:00",
          "2021-04-22T00:00:00",
          "2021-05-04T00:00:00",
          "2021-01-20T00:00:00",
          "2021-04-27T00:00:00",
          "2021-06-03T00:00:00",
          "2021-05-07T00:00:00",
          "2021-01-07T00:00:00",
          "2021-11-08T00:00:00",
          "2021-03-13T00:00:00",
          "2021-04-04T00:00:00",
          "2021-01-11T00:00:00",
          "2021-09-06T00:00:00",
          "2021-03-13T00:00:00",
          "2021-06-24T00:00:00",
          "2021-07-11T00:00:00",
          "2021-02-12T00:00:00",
          "2021-08-23T00:00:00",
          "2021-01-16T00:00:00",
          "2021-04-29T00:00:00",
          "2021-09-17T00:00:00",
          "2021-12-07T00:00:00",
          "2021-02-19T00:00:00",
          "2021-02-03T00:00:00",
          "2021-09-11T00:00:00",
          "2021-08-20T00:00:00",
          "2021-10-18T00:00:00",
          "2021-03-05T00:00:00",
          "2021-09-26T00:00:00",
          "2021-12-29T00:00:00",
          "2021-01-27T00:00:00",
          "2021-10-25T00:00:00",
          "2021-09-11T00:00:00",
          "2021-05-24T00:00:00",
          "2021-08-23T00:00:00",
          "2021-06-30T00:00:00",
          "2021-02-15T00:00:00",
          "2021-10-20T00:00:00",
          "2021-12-26T00:00:00",
          "2021-08-20T00:00:00",
          "2021-07-21T00:00:00",
          "2021-05-23T00:00:00",
          "2021-10-17T00:00:00",
          "2021-08-02T00:00:00",
          "2021-08-02T00:00:00",
          "2021-01-09T00:00:00",
          "2021-06-03T00:00:00",
          "2021-11-29T00:00:00",
          "2021-09-03T00:00:00",
          "2021-09-14T00:00:00",
          "2021-10-06T00:00:00",
          "2021-10-16T00:00:00",
          "2021-04-05T00:00:00",
          "2021-10-04T00:00:00",
          "2021-08-03T00:00:00",
          "2021-07-27T00:00:00",
          "2021-03-02T00:00:00",
          "2021-10-10T00:00:00",
          "2021-08-17T00:00:00",
          "2021-04-12T00:00:00",
          "2021-06-29T00:00:00",
          "2021-05-22T00:00:00",
          "2021-12-23T00:00:00",
          "2021-09-20T00:00:00",
          "2021-11-28T00:00:00",
          "2021-06-05T00:00:00",
          "2021-08-31T00:00:00",
          "2021-03-26T00:00:00",
          "2021-07-10T00:00:00",
          "2021-10-12T00:00:00",
          "2021-03-08T00:00:00",
          "2021-08-01T00:00:00",
          "2021-12-27T00:00:00",
          "2021-04-04T00:00:00",
          "2021-02-17T00:00:00",
          "2021-12-25T00:00:00",
          "2021-10-24T00:00:00",
          "2021-05-03T00:00:00",
          "2021-05-17T00:00:00",
          "2021-06-25T00:00:00",
          "2021-08-03T00:00:00",
          "2021-07-01T00:00:00",
          "2021-01-23T00:00:00",
          "2021-07-12T00:00:00",
          "2021-05-29T00:00:00",
          "2021-12-31T00:00:00",
          "2021-06-03T00:00:00",
          "2021-02-02T00:00:00",
          "2021-07-07T00:00:00",
          "2021-03-22T00:00:00",
          "2021-03-11T00:00:00",
          "2021-01-07T00:00:00",
          "2021-05-08T00:00:00",
          "2021-01-07T00:00:00",
          "2021-05-01T00:00:00",
          "2021-08-17T00:00:00",
          "2021-06-10T00:00:00",
          "2021-04-24T00:00:00",
          "2021-05-18T00:00:00",
          "2021-07-28T00:00:00",
          "2021-12-26T00:00:00",
          "2021-10-11T00:00:00",
          "2021-06-24T00:00:00",
          "2021-10-29T00:00:00",
          "2021-01-22T00:00:00",
          "2021-01-21T00:00:00",
          "2021-09-11T00:00:00",
          "2021-07-03T00:00:00",
          "2021-10-15T00:00:00",
          "2021-06-09T00:00:00",
          "2021-06-13T00:00:00",
          "2021-11-22T00:00:00",
          "2021-11-06T00:00:00",
          "2021-10-04T00:00:00",
          "2021-02-04T00:00:00",
          "2021-07-25T00:00:00",
          "2021-01-23T00:00:00",
          "2021-09-11T00:00:00",
          "2021-06-19T00:00:00",
          "2021-09-11T00:00:00",
          "2021-01-24T00:00:00",
          "2021-12-16T00:00:00",
          "2021-11-26T00:00:00",
          "2021-11-21T00:00:00",
          "2021-05-05T00:00:00",
          "2021-09-08T00:00:00",
          "2021-06-07T00:00:00",
          "2021-07-18T00:00:00",
          "2021-07-19T00:00:00",
          "2021-11-04T00:00:00",
          "2021-08-06T00:00:00",
          "2021-12-04T00:00:00",
          "2021-12-22T00:00:00",
          "2021-02-10T00:00:00",
          "2021-07-01T00:00:00",
          "2021-11-12T00:00:00",
          "2021-11-29T00:00:00",
          "2021-12-17T00:00:00",
          "2021-05-07T00:00:00",
          "2021-08-02T00:00:00",
          "2021-07-11T00:00:00",
          "2021-02-08T00:00:00",
          "2021-08-27T00:00:00",
          "2021-05-02T00:00:00",
          "2021-08-27T00:00:00",
          "2021-09-14T00:00:00",
          "2021-08-22T00:00:00",
          "2021-01-20T00:00:00",
          "2021-04-21T00:00:00",
          "2021-06-02T00:00:00",
          "2021-05-14T00:00:00",
          "2021-04-26T00:00:00",
          "2021-04-04T00:00:00",
          "2021-04-30T00:00:00",
          "2021-08-20T00:00:00",
          "2021-09-16T00:00:00",
          "2021-06-13T00:00:00",
          "2021-11-22T00:00:00",
          "2021-06-15T00:00:00",
          "2021-03-06T00:00:00",
          "2021-03-24T00:00:00",
          "2021-10-21T00:00:00",
          "2021-10-11T00:00:00",
          "2021-02-16T00:00:00",
          "2021-09-12T00:00:00",
          "2021-01-10T00:00:00",
          "2021-12-10T00:00:00",
          "2021-05-13T00:00:00",
          "2021-12-08T00:00:00",
          "2021-02-03T00:00:00",
          "2021-05-31T00:00:00",
          "2021-08-21T00:00:00",
          "2021-12-07T00:00:00",
          "2021-09-16T00:00:00",
          "2021-09-21T00:00:00",
          "2021-06-23T00:00:00",
          "2021-08-30T00:00:00",
          "2021-06-16T00:00:00",
          "2021-11-03T00:00:00",
          "2021-08-19T00:00:00",
          "2021-10-05T00:00:00",
          "2021-10-28T00:00:00",
          "2021-07-22T00:00:00",
          "2021-05-31T00:00:00",
          "2021-12-02T00:00:00",
          "2021-09-01T00:00:00",
          "2021-05-04T00:00:00",
          "2021-06-28T00:00:00",
          "2021-01-28T00:00:00",
          "2021-12-21T00:00:00",
          "2021-12-28T00:00:00",
          "2021-10-12T00:00:00",
          "2021-09-05T00:00:00",
          "2021-12-24T00:00:00",
          "2021-07-17T00:00:00",
          "2021-08-29T00:00:00",
          "2021-11-30T00:00:00",
          "2021-08-09T00:00:00",
          "2021-04-20T00:00:00",
          "2021-01-04T00:00:00",
          "2021-05-10T00:00:00",
          "2021-03-05T00:00:00",
          "2021-10-12T00:00:00",
          "2021-12-11T00:00:00",
          "2021-04-05T00:00:00",
          "2021-08-26T00:00:00",
          "2021-01-15T00:00:00",
          "2021-06-15T00:00:00",
          "2021-12-19T00:00:00",
          "2021-08-30T00:00:00",
          "2021-06-26T00:00:00",
          "2021-07-19T00:00:00",
          "2021-02-09T00:00:00",
          "2021-04-12T00:00:00",
          "2021-12-30T00:00:00",
          "2021-10-17T00:00:00",
          "2021-05-14T00:00:00",
          "2021-12-25T00:00:00",
          "2021-08-29T00:00:00",
          "2021-12-09T00:00:00",
          "2021-04-24T00:00:00",
          "2021-05-29T00:00:00",
          "2021-12-21T00:00:00",
          "2021-08-27T00:00:00",
          "2021-01-02T00:00:00",
          "2021-12-19T00:00:00",
          "2021-10-09T00:00:00",
          "2021-10-27T00:00:00",
          "2021-01-18T00:00:00",
          "2021-12-20T00:00:00",
          "2021-01-30T00:00:00",
          "2021-04-18T00:00:00",
          "2021-01-23T00:00:00",
          "2021-02-17T00:00:00",
          "2021-07-31T00:00:00",
          "2021-05-07T00:00:00",
          "2021-01-23T00:00:00",
          "2021-02-09T00:00:00",
          "2021-03-05T00:00:00",
          "2021-03-13T00:00:00",
          "2021-03-19T00:00:00",
          "2021-01-02T00:00:00",
          "2021-01-04T00:00:00",
          "2021-08-04T00:00:00",
          "2021-08-31T00:00:00",
          "2021-12-22T00:00:00",
          "2021-09-22T00:00:00",
          "2021-01-16T00:00:00",
          "2021-12-18T00:00:00",
          "2021-06-09T00:00:00",
          "2021-01-27T00:00:00",
          "2021-01-15T00:00:00",
          "2021-11-20T00:00:00",
          "2021-08-16T00:00:00",
          "2021-10-08T00:00:00",
          "2021-01-15T00:00:00",
          "2021-09-09T00:00:00",
          "2021-01-12T00:00:00",
          "2021-03-12T00:00:00",
          "2021-08-16T00:00:00",
          "2021-03-11T00:00:00",
          "2021-04-22T00:00:00",
          "2021-06-18T00:00:00",
          "2021-03-01T00:00:00",
          "2021-10-14T00:00:00",
          "2021-03-01T00:00:00",
          "2021-03-16T00:00:00",
          "2021-09-27T00:00:00",
          "2021-12-24T00:00:00",
          "2021-12-04T00:00:00",
          "2021-09-27T00:00:00",
          "2021-07-19T00:00:00",
          "2021-08-25T00:00:00",
          "2021-01-25T00:00:00",
          "2021-12-31T00:00:00",
          "2021-04-18T00:00:00",
          "2021-06-05T00:00:00",
          "2021-03-29T00:00:00",
          "2021-01-18T00:00:00",
          "2021-02-26T00:00:00",
          "2021-12-20T00:00:00",
          "2021-06-19T00:00:00",
          "2021-11-19T00:00:00",
          "2021-05-20T00:00:00",
          "2021-11-21T00:00:00",
          "2021-03-24T00:00:00",
          "2021-03-17T00:00:00",
          "2021-12-13T00:00:00",
          "2021-09-30T00:00:00",
          "2021-06-20T00:00:00",
          "2021-04-02T00:00:00",
          "2021-02-09T00:00:00",
          "2021-10-05T00:00:00",
          "2021-07-11T00:00:00",
          "2021-12-27T00:00:00",
          "2021-05-14T00:00:00",
          "2021-01-17T00:00:00",
          "2021-11-28T00:00:00",
          "2021-07-17T00:00:00",
          "2021-03-21T00:00:00",
          "2021-07-15T00:00:00",
          "2021-02-02T00:00:00",
          "2021-09-06T00:00:00",
          "2021-01-01T00:00:00",
          "2021-03-20T00:00:00",
          "2021-05-08T00:00:00",
          "2021-05-25T00:00:00",
          "2021-05-27T00:00:00",
          "2021-02-23T00:00:00",
          "2021-12-05T00:00:00",
          "2021-03-25T00:00:00",
          "2021-09-14T00:00:00",
          "2021-08-03T00:00:00",
          "2021-05-24T00:00:00",
          "2021-06-01T00:00:00",
          "2021-07-31T00:00:00",
          "2021-07-11T00:00:00",
          "2021-07-05T00:00:00",
          "2021-06-01T00:00:00",
          "2021-04-11T00:00:00",
          "2021-06-18T00:00:00",
          "2021-06-10T00:00:00",
          "2021-08-12T00:00:00",
          "2021-07-03T00:00:00",
          "2021-12-17T00:00:00",
          "2021-09-28T00:00:00",
          "2021-11-17T00:00:00",
          "2021-06-12T00:00:00",
          "2021-02-06T00:00:00",
          "2021-08-28T00:00:00",
          "2021-01-30T00:00:00",
          "2021-08-06T00:00:00",
          "2021-01-11T00:00:00",
          "2021-10-15T00:00:00",
          "2021-09-15T00:00:00",
          "2021-05-04T00:00:00",
          "2021-06-23T00:00:00",
          "2021-01-22T00:00:00",
          "2021-11-25T00:00:00",
          "2021-04-28T00:00:00",
          "2021-02-24T00:00:00",
          "2021-10-13T00:00:00",
          "2021-06-30T00:00:00",
          "2021-12-11T00:00:00",
          "2021-10-04T00:00:00",
          "2021-12-04T00:00:00",
          "2021-10-03T00:00:00",
          "2021-08-20T00:00:00",
          "2021-06-16T00:00:00",
          "2021-10-18T00:00:00",
          "2021-01-29T00:00:00",
          "2021-02-25T00:00:00",
          "2021-06-25T00:00:00",
          "2021-03-08T00:00:00",
          "2021-10-15T00:00:00",
          "2021-11-10T00:00:00",
          "2021-11-30T00:00:00",
          "2021-08-06T00:00:00",
          "2021-11-21T00:00:00",
          "2021-01-28T00:00:00",
          "2021-11-24T00:00:00",
          "2021-04-19T00:00:00",
          "2021-08-28T00:00:00",
          "2021-08-16T00:00:00",
          "2021-11-12T00:00:00",
          "2021-09-26T00:00:00",
          "2021-10-01T00:00:00",
          "2021-02-19T00:00:00",
          "2021-10-26T00:00:00",
          "2021-08-13T00:00:00",
          "2021-12-07T00:00:00",
          "2021-10-29T00:00:00",
          "2021-01-24T00:00:00",
          "2021-01-05T00:00:00",
          "2021-10-26T00:00:00",
          "2021-11-05T00:00:00",
          "2021-04-13T00:00:00",
          "2021-08-16T00:00:00",
          "2021-06-03T00:00:00",
          "2021-09-04T00:00:00",
          "2021-09-26T00:00:00",
          "2021-08-20T00:00:00",
          "2021-10-04T00:00:00",
          "2021-12-12T00:00:00",
          "2021-12-20T00:00:00",
          "2021-02-09T00:00:00",
          "2021-07-25T00:00:00",
          "2021-10-26T00:00:00",
          "2021-02-28T00:00:00",
          "2021-02-18T00:00:00",
          "2021-06-24T00:00:00",
          "2021-08-30T00:00:00",
          "2021-05-27T00:00:00",
          "2021-10-19T00:00:00",
          "2021-12-16T00:00:00",
          "2021-12-30T00:00:00",
          "2021-02-02T00:00:00",
          "2021-04-18T00:00:00",
          "2021-12-09T00:00:00",
          "2021-11-14T00:00:00",
          "2021-08-08T00:00:00",
          "2021-08-08T00:00:00",
          "2021-10-02T00:00:00",
          "2021-04-11T00:00:00",
          "2021-01-31T00:00:00",
          "2021-02-19T00:00:00",
          "2021-06-19T00:00:00",
          "2021-12-25T00:00:00",
          "2021-01-17T00:00:00",
          "2021-08-08T00:00:00",
          "2021-07-15T00:00:00",
          "2021-09-19T00:00:00",
          "2021-11-12T00:00:00",
          "2021-10-02T00:00:00",
          "2021-07-05T00:00:00",
          "2021-08-03T00:00:00",
          "2021-02-09T00:00:00",
          "2021-10-28T00:00:00",
          "2021-02-11T00:00:00",
          "2021-11-22T00:00:00",
          "2021-06-01T00:00:00",
          "2021-05-30T00:00:00",
          "2021-02-22T00:00:00",
          "2021-08-01T00:00:00",
          "2021-11-30T00:00:00",
          "2021-06-01T00:00:00",
          "2021-05-25T00:00:00",
          "2021-05-03T00:00:00",
          "2021-04-25T00:00:00",
          "2021-07-28T00:00:00",
          "2021-02-25T00:00:00",
          "2021-10-11T00:00:00",
          "2021-07-13T00:00:00",
          "2021-02-03T00:00:00",
          "2021-03-06T00:00:00",
          "2021-04-21T00:00:00",
          "2021-05-11T00:00:00",
          "2021-11-08T00:00:00",
          "2021-01-22T00:00:00",
          "2021-04-10T00:00:00",
          "2021-08-19T00:00:00",
          "2021-04-28T00:00:00",
          "2021-09-25T00:00:00",
          "2021-10-20T00:00:00",
          "2021-08-28T00:00:00",
          "2021-02-10T00:00:00",
          "2021-02-27T00:00:00",
          "2021-03-04T00:00:00",
          "2021-11-23T00:00:00",
          "2021-04-01T00:00:00",
          "2021-12-11T00:00:00",
          "2021-01-17T00:00:00",
          "2021-10-09T00:00:00",
          "2021-06-26T00:00:00",
          "2021-04-03T00:00:00",
          "2021-11-12T00:00:00",
          "2021-01-27T00:00:00",
          "2021-03-22T00:00:00",
          "2021-02-07T00:00:00",
          "2021-12-02T00:00:00",
          "2021-10-15T00:00:00",
          "2021-09-14T00:00:00",
          "2021-01-09T00:00:00",
          "2021-11-02T00:00:00",
          "2021-08-24T00:00:00",
          "2021-08-20T00:00:00",
          "2021-08-31T00:00:00",
          "2021-12-31T00:00:00",
          "2021-05-14T00:00:00",
          "2021-06-14T00:00:00",
          "2021-05-06T00:00:00",
          "2021-10-22T00:00:00",
          "2021-05-12T00:00:00",
          "2021-07-21T00:00:00",
          "2021-04-23T00:00:00",
          "2021-12-21T00:00:00",
          "2021-01-08T00:00:00",
          "2021-01-23T00:00:00",
          "2021-04-23T00:00:00",
          "2021-09-01T00:00:00",
          "2021-11-23T00:00:00",
          "2021-07-10T00:00:00",
          "2021-03-07T00:00:00",
          "2021-10-21T00:00:00",
          "2021-05-28T00:00:00",
          "2021-06-07T00:00:00",
          "2021-06-25T00:00:00",
          "2021-08-05T00:00:00",
          "2021-01-10T00:00:00",
          "2021-07-07T00:00:00",
          "2021-03-22T00:00:00",
          "2021-12-29T00:00:00",
          "2021-11-10T00:00:00",
          "2021-03-29T00:00:00",
          "2021-04-20T00:00:00",
          "2021-09-25T00:00:00",
          "2021-09-02T00:00:00",
          "2021-12-29T00:00:00",
          "2021-05-25T00:00:00",
          "2021-10-12T00:00:00",
          "2021-02-26T00:00:00",
          "2021-10-19T00:00:00",
          "2021-07-15T00:00:00",
          "2021-01-07T00:00:00",
          "2021-05-27T00:00:00",
          "2021-01-28T00:00:00",
          "2021-04-15T00:00:00",
          "2021-08-02T00:00:00",
          "2021-01-05T00:00:00",
          "2021-04-19T00:00:00",
          "2021-06-26T00:00:00",
          "2021-09-09T00:00:00",
          "2021-10-27T00:00:00",
          "2021-05-20T00:00:00",
          "2021-01-18T00:00:00",
          "2021-04-27T00:00:00",
          "2021-10-28T00:00:00",
          "2021-02-20T00:00:00",
          "2021-01-05T00:00:00",
          "2021-07-13T00:00:00",
          "2021-10-28T00:00:00",
          "2021-02-28T00:00:00",
          "2021-07-20T00:00:00",
          "2021-12-04T00:00:00",
          "2021-07-03T00:00:00",
          "2021-10-18T00:00:00",
          "2021-06-02T00:00:00",
          "2021-09-29T00:00:00",
          "2021-11-10T00:00:00",
          "2021-10-24T00:00:00"
         ],
         "y0": " ",
         "yaxis": "y"
        }
       ],
       "layout": {
        "boxmode": "group",
        "legend": {
         "tracegroupgap": 0
        },
        "margin": {
         "t": 60
        },
        "template": {
         "data": {
          "bar": [
           {
            "error_x": {
             "color": "#2a3f5f"
            },
            "error_y": {
             "color": "#2a3f5f"
            },
            "marker": {
             "line": {
              "color": "#E5ECF6",
              "width": 0.5
             },
             "pattern": {
              "fillmode": "overlay",
              "size": 10,
              "solidity": 0.2
             }
            },
            "type": "bar"
           }
          ],
          "barpolar": [
           {
            "marker": {
             "line": {
              "color": "#E5ECF6",
              "width": 0.5
             },
             "pattern": {
              "fillmode": "overlay",
              "size": 10,
              "solidity": 0.2
             }
            },
            "type": "barpolar"
           }
          ],
          "carpet": [
           {
            "aaxis": {
             "endlinecolor": "#2a3f5f",
             "gridcolor": "white",
             "linecolor": "white",
             "minorgridcolor": "white",
             "startlinecolor": "#2a3f5f"
            },
            "baxis": {
             "endlinecolor": "#2a3f5f",
             "gridcolor": "white",
             "linecolor": "white",
             "minorgridcolor": "white",
             "startlinecolor": "#2a3f5f"
            },
            "type": "carpet"
           }
          ],
          "choropleth": [
           {
            "colorbar": {
             "outlinewidth": 0,
             "ticks": ""
            },
            "type": "choropleth"
           }
          ],
          "contour": [
           {
            "colorbar": {
             "outlinewidth": 0,
             "ticks": ""
            },
            "colorscale": [
             [
              0,
              "#0d0887"
             ],
             [
              0.1111111111111111,
              "#46039f"
             ],
             [
              0.2222222222222222,
              "#7201a8"
             ],
             [
              0.3333333333333333,
              "#9c179e"
             ],
             [
              0.4444444444444444,
              "#bd3786"
             ],
             [
              0.5555555555555556,
              "#d8576b"
             ],
             [
              0.6666666666666666,
              "#ed7953"
             ],
             [
              0.7777777777777778,
              "#fb9f3a"
             ],
             [
              0.8888888888888888,
              "#fdca26"
             ],
             [
              1,
              "#f0f921"
             ]
            ],
            "type": "contour"
           }
          ],
          "contourcarpet": [
           {
            "colorbar": {
             "outlinewidth": 0,
             "ticks": ""
            },
            "type": "contourcarpet"
           }
          ],
          "heatmap": [
           {
            "colorbar": {
             "outlinewidth": 0,
             "ticks": ""
            },
            "colorscale": [
             [
              0,
              "#0d0887"
             ],
             [
              0.1111111111111111,
              "#46039f"
             ],
             [
              0.2222222222222222,
              "#7201a8"
             ],
             [
              0.3333333333333333,
              "#9c179e"
             ],
             [
              0.4444444444444444,
              "#bd3786"
             ],
             [
              0.5555555555555556,
              "#d8576b"
             ],
             [
              0.6666666666666666,
              "#ed7953"
             ],
             [
              0.7777777777777778,
              "#fb9f3a"
             ],
             [
              0.8888888888888888,
              "#fdca26"
             ],
             [
              1,
              "#f0f921"
             ]
            ],
            "type": "heatmap"
           }
          ],
          "heatmapgl": [
           {
            "colorbar": {
             "outlinewidth": 0,
             "ticks": ""
            },
            "colorscale": [
             [
              0,
              "#0d0887"
             ],
             [
              0.1111111111111111,
              "#46039f"
             ],
             [
              0.2222222222222222,
              "#7201a8"
             ],
             [
              0.3333333333333333,
              "#9c179e"
             ],
             [
              0.4444444444444444,
              "#bd3786"
             ],
             [
              0.5555555555555556,
              "#d8576b"
             ],
             [
              0.6666666666666666,
              "#ed7953"
             ],
             [
              0.7777777777777778,
              "#fb9f3a"
             ],
             [
              0.8888888888888888,
              "#fdca26"
             ],
             [
              1,
              "#f0f921"
             ]
            ],
            "type": "heatmapgl"
           }
          ],
          "histogram": [
           {
            "marker": {
             "pattern": {
              "fillmode": "overlay",
              "size": 10,
              "solidity": 0.2
             }
            },
            "type": "histogram"
           }
          ],
          "histogram2d": [
           {
            "colorbar": {
             "outlinewidth": 0,
             "ticks": ""
            },
            "colorscale": [
             [
              0,
              "#0d0887"
             ],
             [
              0.1111111111111111,
              "#46039f"
             ],
             [
              0.2222222222222222,
              "#7201a8"
             ],
             [
              0.3333333333333333,
              "#9c179e"
             ],
             [
              0.4444444444444444,
              "#bd3786"
             ],
             [
              0.5555555555555556,
              "#d8576b"
             ],
             [
              0.6666666666666666,
              "#ed7953"
             ],
             [
              0.7777777777777778,
              "#fb9f3a"
             ],
             [
              0.8888888888888888,
              "#fdca26"
             ],
             [
              1,
              "#f0f921"
             ]
            ],
            "type": "histogram2d"
           }
          ],
          "histogram2dcontour": [
           {
            "colorbar": {
             "outlinewidth": 0,
             "ticks": ""
            },
            "colorscale": [
             [
              0,
              "#0d0887"
             ],
             [
              0.1111111111111111,
              "#46039f"
             ],
             [
              0.2222222222222222,
              "#7201a8"
             ],
             [
              0.3333333333333333,
              "#9c179e"
             ],
             [
              0.4444444444444444,
              "#bd3786"
             ],
             [
              0.5555555555555556,
              "#d8576b"
             ],
             [
              0.6666666666666666,
              "#ed7953"
             ],
             [
              0.7777777777777778,
              "#fb9f3a"
             ],
             [
              0.8888888888888888,
              "#fdca26"
             ],
             [
              1,
              "#f0f921"
             ]
            ],
            "type": "histogram2dcontour"
           }
          ],
          "mesh3d": [
           {
            "colorbar": {
             "outlinewidth": 0,
             "ticks": ""
            },
            "type": "mesh3d"
           }
          ],
          "parcoords": [
           {
            "line": {
             "colorbar": {
              "outlinewidth": 0,
              "ticks": ""
             }
            },
            "type": "parcoords"
           }
          ],
          "pie": [
           {
            "automargin": true,
            "type": "pie"
           }
          ],
          "scatter": [
           {
            "fillpattern": {
             "fillmode": "overlay",
             "size": 10,
             "solidity": 0.2
            },
            "type": "scatter"
           }
          ],
          "scatter3d": [
           {
            "line": {
             "colorbar": {
              "outlinewidth": 0,
              "ticks": ""
             }
            },
            "marker": {
             "colorbar": {
              "outlinewidth": 0,
              "ticks": ""
             }
            },
            "type": "scatter3d"
           }
          ],
          "scattercarpet": [
           {
            "marker": {
             "colorbar": {
              "outlinewidth": 0,
              "ticks": ""
             }
            },
            "type": "scattercarpet"
           }
          ],
          "scattergeo": [
           {
            "marker": {
             "colorbar": {
              "outlinewidth": 0,
              "ticks": ""
             }
            },
            "type": "scattergeo"
           }
          ],
          "scattergl": [
           {
            "marker": {
             "colorbar": {
              "outlinewidth": 0,
              "ticks": ""
             }
            },
            "type": "scattergl"
           }
          ],
          "scattermapbox": [
           {
            "marker": {
             "colorbar": {
              "outlinewidth": 0,
              "ticks": ""
             }
            },
            "type": "scattermapbox"
           }
          ],
          "scatterpolar": [
           {
            "marker": {
             "colorbar": {
              "outlinewidth": 0,
              "ticks": ""
             }
            },
            "type": "scatterpolar"
           }
          ],
          "scatterpolargl": [
           {
            "marker": {
             "colorbar": {
              "outlinewidth": 0,
              "ticks": ""
             }
            },
            "type": "scatterpolargl"
           }
          ],
          "scatterternary": [
           {
            "marker": {
             "colorbar": {
              "outlinewidth": 0,
              "ticks": ""
             }
            },
            "type": "scatterternary"
           }
          ],
          "surface": [
           {
            "colorbar": {
             "outlinewidth": 0,
             "ticks": ""
            },
            "colorscale": [
             [
              0,
              "#0d0887"
             ],
             [
              0.1111111111111111,
              "#46039f"
             ],
             [
              0.2222222222222222,
              "#7201a8"
             ],
             [
              0.3333333333333333,
              "#9c179e"
             ],
             [
              0.4444444444444444,
              "#bd3786"
             ],
             [
              0.5555555555555556,
              "#d8576b"
             ],
             [
              0.6666666666666666,
              "#ed7953"
             ],
             [
              0.7777777777777778,
              "#fb9f3a"
             ],
             [
              0.8888888888888888,
              "#fdca26"
             ],
             [
              1,
              "#f0f921"
             ]
            ],
            "type": "surface"
           }
          ],
          "table": [
           {
            "cells": {
             "fill": {
              "color": "#EBF0F8"
             },
             "line": {
              "color": "white"
             }
            },
            "header": {
             "fill": {
              "color": "#C8D4E3"
             },
             "line": {
              "color": "white"
             }
            },
            "type": "table"
           }
          ]
         },
         "layout": {
          "annotationdefaults": {
           "arrowcolor": "#2a3f5f",
           "arrowhead": 0,
           "arrowwidth": 1
          },
          "autotypenumbers": "strict",
          "coloraxis": {
           "colorbar": {
            "outlinewidth": 0,
            "ticks": ""
           }
          },
          "colorscale": {
           "diverging": [
            [
             0,
             "#8e0152"
            ],
            [
             0.1,
             "#c51b7d"
            ],
            [
             0.2,
             "#de77ae"
            ],
            [
             0.3,
             "#f1b6da"
            ],
            [
             0.4,
             "#fde0ef"
            ],
            [
             0.5,
             "#f7f7f7"
            ],
            [
             0.6,
             "#e6f5d0"
            ],
            [
             0.7,
             "#b8e186"
            ],
            [
             0.8,
             "#7fbc41"
            ],
            [
             0.9,
             "#4d9221"
            ],
            [
             1,
             "#276419"
            ]
           ],
           "sequential": [
            [
             0,
             "#0d0887"
            ],
            [
             0.1111111111111111,
             "#46039f"
            ],
            [
             0.2222222222222222,
             "#7201a8"
            ],
            [
             0.3333333333333333,
             "#9c179e"
            ],
            [
             0.4444444444444444,
             "#bd3786"
            ],
            [
             0.5555555555555556,
             "#d8576b"
            ],
            [
             0.6666666666666666,
             "#ed7953"
            ],
            [
             0.7777777777777778,
             "#fb9f3a"
            ],
            [
             0.8888888888888888,
             "#fdca26"
            ],
            [
             1,
             "#f0f921"
            ]
           ],
           "sequentialminus": [
            [
             0,
             "#0d0887"
            ],
            [
             0.1111111111111111,
             "#46039f"
            ],
            [
             0.2222222222222222,
             "#7201a8"
            ],
            [
             0.3333333333333333,
             "#9c179e"
            ],
            [
             0.4444444444444444,
             "#bd3786"
            ],
            [
             0.5555555555555556,
             "#d8576b"
            ],
            [
             0.6666666666666666,
             "#ed7953"
            ],
            [
             0.7777777777777778,
             "#fb9f3a"
            ],
            [
             0.8888888888888888,
             "#fdca26"
            ],
            [
             1,
             "#f0f921"
            ]
           ]
          },
          "colorway": [
           "#636efa",
           "#EF553B",
           "#00cc96",
           "#ab63fa",
           "#FFA15A",
           "#19d3f3",
           "#FF6692",
           "#B6E880",
           "#FF97FF",
           "#FECB52"
          ],
          "font": {
           "color": "#2a3f5f"
          },
          "geo": {
           "bgcolor": "white",
           "lakecolor": "white",
           "landcolor": "#E5ECF6",
           "showlakes": true,
           "showland": true,
           "subunitcolor": "white"
          },
          "hoverlabel": {
           "align": "left"
          },
          "hovermode": "closest",
          "mapbox": {
           "style": "light"
          },
          "paper_bgcolor": "white",
          "plot_bgcolor": "#E5ECF6",
          "polar": {
           "angularaxis": {
            "gridcolor": "white",
            "linecolor": "white",
            "ticks": ""
           },
           "bgcolor": "#E5ECF6",
           "radialaxis": {
            "gridcolor": "white",
            "linecolor": "white",
            "ticks": ""
           }
          },
          "scene": {
           "xaxis": {
            "backgroundcolor": "#E5ECF6",
            "gridcolor": "white",
            "gridwidth": 2,
            "linecolor": "white",
            "showbackground": true,
            "ticks": "",
            "zerolinecolor": "white"
           },
           "yaxis": {
            "backgroundcolor": "#E5ECF6",
            "gridcolor": "white",
            "gridwidth": 2,
            "linecolor": "white",
            "showbackground": true,
            "ticks": "",
            "zerolinecolor": "white"
           },
           "zaxis": {
            "backgroundcolor": "#E5ECF6",
            "gridcolor": "white",
            "gridwidth": 2,
            "linecolor": "white",
            "showbackground": true,
            "ticks": "",
            "zerolinecolor": "white"
           }
          },
          "shapedefaults": {
           "line": {
            "color": "#2a3f5f"
           }
          },
          "ternary": {
           "aaxis": {
            "gridcolor": "white",
            "linecolor": "white",
            "ticks": ""
           },
           "baxis": {
            "gridcolor": "white",
            "linecolor": "white",
            "ticks": ""
           },
           "bgcolor": "#E5ECF6",
           "caxis": {
            "gridcolor": "white",
            "linecolor": "white",
            "ticks": ""
           }
          },
          "title": {
           "x": 0.05
          },
          "xaxis": {
           "automargin": true,
           "gridcolor": "white",
           "linecolor": "white",
           "ticks": "",
           "title": {
            "standoff": 15
           },
           "zerolinecolor": "white",
           "zerolinewidth": 2
          },
          "yaxis": {
           "automargin": true,
           "gridcolor": "white",
           "linecolor": "white",
           "ticks": "",
           "title": {
            "standoff": 15
           },
           "zerolinecolor": "white",
           "zerolinewidth": 2
          }
         }
        },
        "title": {
         "text": "Box Plot of date"
        },
        "xaxis": {
         "anchor": "y",
         "domain": [
          0,
          1
         ]
        },
        "yaxis": {
         "anchor": "x",
         "domain": [
          0,
          1
         ],
         "title": {
          "text": "Feature Values"
         }
        }
       }
      },
      "text/html": [
       "<div>                            <div id=\"0539788d-9681-4a6d-87ac-a83d24ce5325\" class=\"plotly-graph-div\" style=\"height:525px; width:100%;\"></div>            <script type=\"text/javascript\">                require([\"plotly\"], function(Plotly) {                    window.PLOTLYENV=window.PLOTLYENV || {};                                    if (document.getElementById(\"0539788d-9681-4a6d-87ac-a83d24ce5325\")) {                    Plotly.newPlot(                        \"0539788d-9681-4a6d-87ac-a83d24ce5325\",                        [{\"alignmentgroup\":\"True\",\"hovertemplate\":\"date=%{y}<extra></extra>\",\"legendgroup\":\"\",\"marker\":{\"color\":\"#636efa\"},\"name\":\"\",\"notched\":false,\"offsetgroup\":\"\",\"orientation\":\"v\",\"showlegend\":false,\"x0\":\" \",\"xaxis\":\"x\",\"y\":[\"2021-11-19T00:00:00\",\"2021-04-09T00:00:00\",\"2021-08-19T00:00:00\",\"2021-01-18T00:00:00\",\"2021-03-25T00:00:00\",\"2021-04-17T00:00:00\",\"2021-05-04T00:00:00\",\"2021-02-27T00:00:00\",\"2021-08-03T00:00:00\",\"2021-08-14T00:00:00\",\"2021-04-07T00:00:00\",\"2021-04-24T00:00:00\",\"2021-05-07T00:00:00\",\"2021-02-17T00:00:00\",\"2021-03-15T00:00:00\",\"2021-02-02T00:00:00\",\"2021-08-13T00:00:00\",\"2021-04-22T00:00:00\",\"2021-12-06T00:00:00\",\"2021-12-01T00:00:00\",\"2021-09-11T00:00:00\",\"2021-04-07T00:00:00\",\"2021-07-28T00:00:00\",\"2021-03-10T00:00:00\",\"2021-11-02T00:00:00\",\"2021-11-08T00:00:00\",\"2021-01-03T00:00:00\",\"2021-12-07T00:00:00\",\"2021-02-09T00:00:00\",\"2021-11-19T00:00:00\",\"2021-03-26T00:00:00\",\"2021-02-17T00:00:00\",\"2021-06-26T00:00:00\",\"2021-05-16T00:00:00\",\"2021-12-28T00:00:00\",\"2021-04-10T00:00:00\",\"2021-12-15T00:00:00\",\"2021-06-30T00:00:00\",\"2021-12-25T00:00:00\",\"2021-12-20T00:00:00\",\"2021-08-02T00:00:00\",\"2021-04-29T00:00:00\",\"2021-12-17T00:00:00\",\"2021-10-18T00:00:00\",\"2021-03-18T00:00:00\",\"2021-06-18T00:00:00\",\"2021-04-17T00:00:00\",\"2021-11-22T00:00:00\",\"2021-03-06T00:00:00\",\"2021-11-28T00:00:00\",\"2021-11-11T00:00:00\",\"2021-10-06T00:00:00\",\"2021-07-25T00:00:00\",\"2021-05-27T00:00:00\",\"2021-09-29T00:00:00\",\"2021-09-11T00:00:00\",\"2021-06-08T00:00:00\",\"2021-06-30T00:00:00\",\"2021-03-12T00:00:00\",\"2021-06-04T00:00:00\",\"2021-07-28T00:00:00\",\"2021-09-28T00:00:00\",\"2021-09-13T00:00:00\",\"2021-09-02T00:00:00\",\"2021-12-26T00:00:00\",\"2021-05-10T00:00:00\",\"2021-02-13T00:00:00\",\"2021-07-06T00:00:00\",\"2021-12-24T00:00:00\",\"2021-07-03T00:00:00\",\"2021-01-26T00:00:00\",\"2021-11-09T00:00:00\",\"2021-11-02T00:00:00\",\"2021-09-26T00:00:00\",\"2021-01-19T00:00:00\",\"2021-01-02T00:00:00\",\"2021-02-21T00:00:00\",\"2021-08-22T00:00:00\",\"2021-11-01T00:00:00\",\"2021-02-26T00:00:00\",\"2021-12-09T00:00:00\",\"2021-01-04T00:00:00\",\"2021-03-09T00:00:00\",\"2021-05-20T00:00:00\",\"2021-05-30T00:00:00\",\"2021-04-14T00:00:00\",\"2021-12-21T00:00:00\",\"2021-01-04T00:00:00\",\"2021-09-17T00:00:00\",\"2021-09-01T00:00:00\",\"2021-08-11T00:00:00\",\"2021-09-20T00:00:00\",\"2021-09-23T00:00:00\",\"2021-03-29T00:00:00\",\"2021-01-15T00:00:00\",\"2021-07-18T00:00:00\",\"2021-05-21T00:00:00\",\"2021-01-28T00:00:00\",\"2021-10-22T00:00:00\",\"2021-11-27T00:00:00\",\"2021-12-22T00:00:00\",\"2021-04-27T00:00:00\",\"2021-04-10T00:00:00\",\"2021-07-13T00:00:00\",\"2021-10-31T00:00:00\",\"2021-01-17T00:00:00\",\"2021-05-14T00:00:00\",\"2021-12-27T00:00:00\",\"2021-04-20T00:00:00\",\"2021-03-28T00:00:00\",\"2021-02-16T00:00:00\",\"2021-09-29T00:00:00\",\"2021-11-12T00:00:00\",\"2021-10-24T00:00:00\",\"2021-10-29T00:00:00\",\"2021-09-14T00:00:00\",\"2021-11-21T00:00:00\",\"2021-12-16T00:00:00\",\"2021-03-02T00:00:00\",\"2021-11-18T00:00:00\",\"2021-09-12T00:00:00\",\"2021-11-20T00:00:00\",\"2021-10-28T00:00:00\",\"2021-11-04T00:00:00\",\"2021-05-16T00:00:00\",\"2021-03-30T00:00:00\",\"2021-05-22T00:00:00\",\"2021-12-31T00:00:00\",\"2021-11-16T00:00:00\",\"2021-12-07T00:00:00\",\"2021-04-30T00:00:00\",\"2021-09-08T00:00:00\",\"2021-02-28T00:00:00\",\"2021-03-19T00:00:00\",\"2021-01-09T00:00:00\",\"2021-07-26T00:00:00\",\"2021-03-07T00:00:00\",\"2021-08-11T00:00:00\",\"2021-07-18T00:00:00\",\"2021-02-10T00:00:00\",\"2021-03-18T00:00:00\",\"2021-06-03T00:00:00\",\"2021-05-04T00:00:00\",\"2021-05-16T00:00:00\",\"2021-09-27T00:00:00\",\"2021-09-09T00:00:00\",\"2021-09-15T00:00:00\",\"2021-09-05T00:00:00\",\"2021-06-19T00:00:00\",\"2021-07-26T00:00:00\",\"2021-03-05T00:00:00\",\"2021-01-04T00:00:00\",\"2021-01-18T00:00:00\",\"2021-03-30T00:00:00\",\"2021-08-27T00:00:00\",\"2021-08-04T00:00:00\",\"2021-07-17T00:00:00\",\"2021-04-08T00:00:00\",\"2021-02-20T00:00:00\",\"2021-12-24T00:00:00\",\"2021-05-11T00:00:00\",\"2021-05-27T00:00:00\",\"2021-10-30T00:00:00\",\"2021-02-15T00:00:00\",\"2021-01-19T00:00:00\",\"2021-06-24T00:00:00\",\"2021-03-15T00:00:00\",\"2021-03-04T00:00:00\",\"2021-07-15T00:00:00\",\"2021-05-20T00:00:00\",\"2021-04-03T00:00:00\",\"2021-02-15T00:00:00\",\"2021-05-03T00:00:00\",\"2021-07-07T00:00:00\",\"2021-10-09T00:00:00\",\"2021-10-11T00:00:00\",\"2021-04-21T00:00:00\",\"2021-09-17T00:00:00\",\"2021-04-10T00:00:00\",\"2021-07-26T00:00:00\",\"2021-12-08T00:00:00\",\"2021-11-09T00:00:00\",\"2021-12-10T00:00:00\",\"2021-04-11T00:00:00\",\"2021-11-22T00:00:00\",\"2021-04-23T00:00:00\",\"2021-11-09T00:00:00\",\"2021-03-02T00:00:00\",\"2021-05-18T00:00:00\",\"2021-07-14T00:00:00\",\"2021-06-11T00:00:00\",\"2021-03-11T00:00:00\",\"2021-05-05T00:00:00\",\"2021-07-27T00:00:00\",\"2021-09-09T00:00:00\",\"2021-01-29T00:00:00\",\"2021-11-19T00:00:00\",\"2021-01-11T00:00:00\",\"2021-08-17T00:00:00\",\"2021-09-17T00:00:00\",\"2021-09-17T00:00:00\",\"2021-10-07T00:00:00\",\"2021-08-08T00:00:00\",\"2021-07-03T00:00:00\",\"2021-10-18T00:00:00\",\"2021-10-21T00:00:00\",\"2021-11-02T00:00:00\",\"2021-12-10T00:00:00\",\"2021-12-08T00:00:00\",\"2021-06-03T00:00:00\",\"2021-07-06T00:00:00\",\"2021-07-14T00:00:00\",\"2021-10-29T00:00:00\",\"2021-01-11T00:00:00\",\"2021-05-17T00:00:00\",\"2021-09-03T00:00:00\",\"2021-10-09T00:00:00\",\"2021-12-22T00:00:00\",\"2021-03-09T00:00:00\",\"2021-04-26T00:00:00\",\"2021-11-18T00:00:00\",\"2021-01-08T00:00:00\",\"2021-12-22T00:00:00\",\"2021-08-14T00:00:00\",\"2021-06-17T00:00:00\",\"2021-08-09T00:00:00\",\"2021-05-18T00:00:00\",\"2021-06-18T00:00:00\",\"2021-11-21T00:00:00\",\"2021-08-04T00:00:00\",\"2021-08-21T00:00:00\",\"2021-03-31T00:00:00\",\"2021-11-03T00:00:00\",\"2021-02-14T00:00:00\",\"2021-04-03T00:00:00\",\"2021-12-06T00:00:00\",\"2021-12-04T00:00:00\",\"2021-04-19T00:00:00\",\"2021-03-03T00:00:00\",\"2021-12-27T00:00:00\",\"2021-09-05T00:00:00\",\"2021-09-05T00:00:00\",\"2021-01-15T00:00:00\",\"2021-01-24T00:00:00\",\"2021-11-15T00:00:00\",\"2021-04-28T00:00:00\",\"2021-03-22T00:00:00\",\"2021-08-29T00:00:00\",\"2021-08-27T00:00:00\",\"2021-06-02T00:00:00\",\"2021-05-07T00:00:00\",\"2021-05-24T00:00:00\",\"2021-05-08T00:00:00\",\"2021-03-26T00:00:00\",\"2021-08-24T00:00:00\",\"2021-08-28T00:00:00\",\"2021-08-07T00:00:00\",\"2021-01-05T00:00:00\",\"2021-05-30T00:00:00\",\"2021-02-02T00:00:00\",\"2021-12-21T00:00:00\",\"2021-04-17T00:00:00\",\"2021-04-14T00:00:00\",\"2021-12-13T00:00:00\",\"2021-12-26T00:00:00\",\"2021-02-28T00:00:00\",\"2021-09-15T00:00:00\",\"2021-06-23T00:00:00\",\"2021-10-06T00:00:00\",\"2021-02-23T00:00:00\",\"2021-11-27T00:00:00\",\"2021-10-19T00:00:00\",\"2021-03-25T00:00:00\",\"2021-12-17T00:00:00\",\"2021-03-13T00:00:00\",\"2021-02-09T00:00:00\",\"2021-12-10T00:00:00\",\"2021-12-06T00:00:00\",\"2021-12-01T00:00:00\",\"2021-01-30T00:00:00\",\"2021-01-20T00:00:00\",\"2021-10-21T00:00:00\",\"2021-01-02T00:00:00\",\"2021-05-14T00:00:00\",\"2021-12-28T00:00:00\",\"2021-03-23T00:00:00\",\"2021-06-13T00:00:00\",\"2021-03-19T00:00:00\",\"2021-01-26T00:00:00\",\"2021-04-08T00:00:00\",\"2021-04-28T00:00:00\",\"2021-03-23T00:00:00\",\"2021-05-25T00:00:00\",\"2021-10-14T00:00:00\",\"2021-06-08T00:00:00\",\"2021-01-13T00:00:00\",\"2021-04-01T00:00:00\",\"2021-04-03T00:00:00\",\"2021-02-08T00:00:00\",\"2021-12-21T00:00:00\",\"2021-01-08T00:00:00\",\"2021-04-17T00:00:00\",\"2021-06-15T00:00:00\",\"2021-01-15T00:00:00\",\"2021-04-24T00:00:00\",\"2021-05-09T00:00:00\",\"2021-05-11T00:00:00\",\"2021-02-07T00:00:00\",\"2021-03-04T00:00:00\",\"2021-01-15T00:00:00\",\"2021-03-03T00:00:00\",\"2021-12-28T00:00:00\",\"2021-03-23T00:00:00\",\"2021-02-07T00:00:00\",\"2021-08-11T00:00:00\",\"2021-01-07T00:00:00\",\"2021-12-23T00:00:00\",\"2021-03-13T00:00:00\",\"2021-11-30T00:00:00\",\"2021-08-30T00:00:00\",\"2021-12-01T00:00:00\",\"2021-08-13T00:00:00\",\"2021-02-21T00:00:00\",\"2021-12-20T00:00:00\",\"2021-09-17T00:00:00\",\"2021-05-09T00:00:00\",\"2021-04-15T00:00:00\",\"2021-05-07T00:00:00\",\"2021-05-07T00:00:00\",\"2021-11-30T00:00:00\",\"2021-04-05T00:00:00\",\"2021-06-15T00:00:00\",\"2021-04-24T00:00:00\",\"2021-02-22T00:00:00\",\"2021-12-06T00:00:00\",\"2021-09-16T00:00:00\",\"2021-08-13T00:00:00\",\"2021-01-15T00:00:00\",\"2021-01-03T00:00:00\",\"2021-12-14T00:00:00\",\"2021-08-27T00:00:00\",\"2021-06-10T00:00:00\",\"2021-10-16T00:00:00\",\"2021-09-17T00:00:00\",\"2021-08-12T00:00:00\",\"2021-08-22T00:00:00\",\"2021-08-08T00:00:00\",\"2021-09-05T00:00:00\",\"2021-12-02T00:00:00\",\"2021-04-17T00:00:00\",\"2021-08-08T00:00:00\",\"2021-12-01T00:00:00\",\"2021-04-22T00:00:00\",\"2021-01-22T00:00:00\",\"2021-06-08T00:00:00\",\"2021-07-07T00:00:00\",\"2021-12-07T00:00:00\",\"2021-10-15T00:00:00\",\"2021-03-12T00:00:00\",\"2021-08-13T00:00:00\",\"2021-03-19T00:00:00\",\"2021-07-09T00:00:00\",\"2021-09-06T00:00:00\",\"2021-08-05T00:00:00\",\"2021-08-12T00:00:00\",\"2021-01-28T00:00:00\",\"2021-11-18T00:00:00\",\"2021-01-17T00:00:00\",\"2021-05-16T00:00:00\",\"2021-10-21T00:00:00\",\"2021-09-13T00:00:00\",\"2021-07-11T00:00:00\",\"2021-08-17T00:00:00\",\"2021-03-31T00:00:00\",\"2021-10-14T00:00:00\",\"2021-07-31T00:00:00\",\"2021-11-22T00:00:00\",\"2021-04-24T00:00:00\",\"2021-07-04T00:00:00\",\"2021-09-14T00:00:00\",\"2021-03-31T00:00:00\",\"2021-10-12T00:00:00\",\"2021-03-07T00:00:00\",\"2021-10-05T00:00:00\",\"2021-01-29T00:00:00\",\"2021-01-09T00:00:00\",\"2021-10-24T00:00:00\",\"2021-01-21T00:00:00\",\"2021-09-06T00:00:00\",\"2021-04-06T00:00:00\",\"2021-04-21T00:00:00\",\"2021-08-24T00:00:00\",\"2021-02-09T00:00:00\",\"2021-10-09T00:00:00\",\"2021-06-25T00:00:00\",\"2021-05-06T00:00:00\",\"2021-07-24T00:00:00\",\"2021-08-12T00:00:00\",\"2021-02-02T00:00:00\",\"2021-12-19T00:00:00\",\"2021-10-25T00:00:00\",\"2021-08-22T00:00:00\",\"2021-03-18T00:00:00\",\"2021-10-26T00:00:00\",\"2021-01-04T00:00:00\",\"2021-12-24T00:00:00\",\"2021-07-11T00:00:00\",\"2021-07-17T00:00:00\",\"2021-08-07T00:00:00\",\"2021-08-20T00:00:00\",\"2021-06-07T00:00:00\",\"2021-07-21T00:00:00\",\"2021-06-29T00:00:00\",\"2021-10-06T00:00:00\",\"2021-10-30T00:00:00\",\"2021-09-01T00:00:00\",\"2021-02-19T00:00:00\",\"2021-01-09T00:00:00\",\"2021-08-22T00:00:00\",\"2021-12-14T00:00:00\",\"2021-08-23T00:00:00\",\"2021-04-25T00:00:00\",\"2021-03-13T00:00:00\",\"2021-04-16T00:00:00\",\"2021-03-13T00:00:00\",\"2021-03-23T00:00:00\",\"2021-05-29T00:00:00\",\"2021-05-21T00:00:00\",\"2021-10-10T00:00:00\",\"2021-08-27T00:00:00\",\"2021-03-03T00:00:00\",\"2021-10-23T00:00:00\",\"2021-11-05T00:00:00\",\"2021-07-27T00:00:00\",\"2021-10-23T00:00:00\",\"2021-05-07T00:00:00\",\"2021-09-22T00:00:00\",\"2021-07-28T00:00:00\",\"2021-09-16T00:00:00\",\"2021-11-08T00:00:00\",\"2021-06-30T00:00:00\",\"2021-09-17T00:00:00\",\"2021-10-23T00:00:00\",\"2021-06-29T00:00:00\",\"2021-11-08T00:00:00\",\"2021-11-17T00:00:00\",\"2021-07-25T00:00:00\",\"2021-07-19T00:00:00\",\"2021-11-23T00:00:00\",\"2021-01-30T00:00:00\",\"2021-01-25T00:00:00\",\"2021-02-08T00:00:00\",\"2021-07-27T00:00:00\",\"2021-11-27T00:00:00\",\"2021-06-02T00:00:00\",\"2021-02-02T00:00:00\",\"2021-11-06T00:00:00\",\"2021-04-26T00:00:00\",\"2021-04-22T00:00:00\",\"2021-06-29T00:00:00\",\"2021-07-21T00:00:00\",\"2021-04-24T00:00:00\",\"2021-03-14T00:00:00\",\"2021-01-01T00:00:00\",\"2021-08-14T00:00:00\",\"2021-01-31T00:00:00\",\"2021-10-04T00:00:00\",\"2021-01-24T00:00:00\",\"2021-01-19T00:00:00\",\"2021-03-02T00:00:00\",\"2021-04-22T00:00:00\",\"2021-05-04T00:00:00\",\"2021-01-20T00:00:00\",\"2021-04-27T00:00:00\",\"2021-06-03T00:00:00\",\"2021-05-07T00:00:00\",\"2021-01-07T00:00:00\",\"2021-11-08T00:00:00\",\"2021-03-13T00:00:00\",\"2021-04-04T00:00:00\",\"2021-01-11T00:00:00\",\"2021-09-06T00:00:00\",\"2021-03-13T00:00:00\",\"2021-06-24T00:00:00\",\"2021-07-11T00:00:00\",\"2021-02-12T00:00:00\",\"2021-08-23T00:00:00\",\"2021-01-16T00:00:00\",\"2021-04-29T00:00:00\",\"2021-09-17T00:00:00\",\"2021-12-07T00:00:00\",\"2021-02-19T00:00:00\",\"2021-02-03T00:00:00\",\"2021-09-11T00:00:00\",\"2021-08-20T00:00:00\",\"2021-10-18T00:00:00\",\"2021-03-05T00:00:00\",\"2021-09-26T00:00:00\",\"2021-12-29T00:00:00\",\"2021-01-27T00:00:00\",\"2021-10-25T00:00:00\",\"2021-09-11T00:00:00\",\"2021-05-24T00:00:00\",\"2021-08-23T00:00:00\",\"2021-06-30T00:00:00\",\"2021-02-15T00:00:00\",\"2021-10-20T00:00:00\",\"2021-12-26T00:00:00\",\"2021-08-20T00:00:00\",\"2021-07-21T00:00:00\",\"2021-05-23T00:00:00\",\"2021-10-17T00:00:00\",\"2021-08-02T00:00:00\",\"2021-08-02T00:00:00\",\"2021-01-09T00:00:00\",\"2021-06-03T00:00:00\",\"2021-11-29T00:00:00\",\"2021-09-03T00:00:00\",\"2021-09-14T00:00:00\",\"2021-10-06T00:00:00\",\"2021-10-16T00:00:00\",\"2021-04-05T00:00:00\",\"2021-10-04T00:00:00\",\"2021-08-03T00:00:00\",\"2021-07-27T00:00:00\",\"2021-03-02T00:00:00\",\"2021-10-10T00:00:00\",\"2021-08-17T00:00:00\",\"2021-04-12T00:00:00\",\"2021-06-29T00:00:00\",\"2021-05-22T00:00:00\",\"2021-12-23T00:00:00\",\"2021-09-20T00:00:00\",\"2021-11-28T00:00:00\",\"2021-06-05T00:00:00\",\"2021-08-31T00:00:00\",\"2021-03-26T00:00:00\",\"2021-07-10T00:00:00\",\"2021-10-12T00:00:00\",\"2021-03-08T00:00:00\",\"2021-08-01T00:00:00\",\"2021-12-27T00:00:00\",\"2021-04-04T00:00:00\",\"2021-02-17T00:00:00\",\"2021-12-25T00:00:00\",\"2021-10-24T00:00:00\",\"2021-05-03T00:00:00\",\"2021-05-17T00:00:00\",\"2021-06-25T00:00:00\",\"2021-08-03T00:00:00\",\"2021-07-01T00:00:00\",\"2021-01-23T00:00:00\",\"2021-07-12T00:00:00\",\"2021-05-29T00:00:00\",\"2021-12-31T00:00:00\",\"2021-06-03T00:00:00\",\"2021-02-02T00:00:00\",\"2021-07-07T00:00:00\",\"2021-03-22T00:00:00\",\"2021-03-11T00:00:00\",\"2021-01-07T00:00:00\",\"2021-05-08T00:00:00\",\"2021-01-07T00:00:00\",\"2021-05-01T00:00:00\",\"2021-08-17T00:00:00\",\"2021-06-10T00:00:00\",\"2021-04-24T00:00:00\",\"2021-05-18T00:00:00\",\"2021-07-28T00:00:00\",\"2021-12-26T00:00:00\",\"2021-10-11T00:00:00\",\"2021-06-24T00:00:00\",\"2021-10-29T00:00:00\",\"2021-01-22T00:00:00\",\"2021-01-21T00:00:00\",\"2021-09-11T00:00:00\",\"2021-07-03T00:00:00\",\"2021-10-15T00:00:00\",\"2021-06-09T00:00:00\",\"2021-06-13T00:00:00\",\"2021-11-22T00:00:00\",\"2021-11-06T00:00:00\",\"2021-10-04T00:00:00\",\"2021-02-04T00:00:00\",\"2021-07-25T00:00:00\",\"2021-01-23T00:00:00\",\"2021-09-11T00:00:00\",\"2021-06-19T00:00:00\",\"2021-09-11T00:00:00\",\"2021-01-24T00:00:00\",\"2021-12-16T00:00:00\",\"2021-11-26T00:00:00\",\"2021-11-21T00:00:00\",\"2021-05-05T00:00:00\",\"2021-09-08T00:00:00\",\"2021-06-07T00:00:00\",\"2021-07-18T00:00:00\",\"2021-07-19T00:00:00\",\"2021-11-04T00:00:00\",\"2021-08-06T00:00:00\",\"2021-12-04T00:00:00\",\"2021-12-22T00:00:00\",\"2021-02-10T00:00:00\",\"2021-07-01T00:00:00\",\"2021-11-12T00:00:00\",\"2021-11-29T00:00:00\",\"2021-12-17T00:00:00\",\"2021-05-07T00:00:00\",\"2021-08-02T00:00:00\",\"2021-07-11T00:00:00\",\"2021-02-08T00:00:00\",\"2021-08-27T00:00:00\",\"2021-05-02T00:00:00\",\"2021-08-27T00:00:00\",\"2021-09-14T00:00:00\",\"2021-08-22T00:00:00\",\"2021-01-20T00:00:00\",\"2021-04-21T00:00:00\",\"2021-06-02T00:00:00\",\"2021-05-14T00:00:00\",\"2021-04-26T00:00:00\",\"2021-04-04T00:00:00\",\"2021-04-30T00:00:00\",\"2021-08-20T00:00:00\",\"2021-09-16T00:00:00\",\"2021-06-13T00:00:00\",\"2021-11-22T00:00:00\",\"2021-06-15T00:00:00\",\"2021-03-06T00:00:00\",\"2021-03-24T00:00:00\",\"2021-10-21T00:00:00\",\"2021-10-11T00:00:00\",\"2021-02-16T00:00:00\",\"2021-09-12T00:00:00\",\"2021-01-10T00:00:00\",\"2021-12-10T00:00:00\",\"2021-05-13T00:00:00\",\"2021-12-08T00:00:00\",\"2021-02-03T00:00:00\",\"2021-05-31T00:00:00\",\"2021-08-21T00:00:00\",\"2021-12-07T00:00:00\",\"2021-09-16T00:00:00\",\"2021-09-21T00:00:00\",\"2021-06-23T00:00:00\",\"2021-08-30T00:00:00\",\"2021-06-16T00:00:00\",\"2021-11-03T00:00:00\",\"2021-08-19T00:00:00\",\"2021-10-05T00:00:00\",\"2021-10-28T00:00:00\",\"2021-07-22T00:00:00\",\"2021-05-31T00:00:00\",\"2021-12-02T00:00:00\",\"2021-09-01T00:00:00\",\"2021-05-04T00:00:00\",\"2021-06-28T00:00:00\",\"2021-01-28T00:00:00\",\"2021-12-21T00:00:00\",\"2021-12-28T00:00:00\",\"2021-10-12T00:00:00\",\"2021-09-05T00:00:00\",\"2021-12-24T00:00:00\",\"2021-07-17T00:00:00\",\"2021-08-29T00:00:00\",\"2021-11-30T00:00:00\",\"2021-08-09T00:00:00\",\"2021-04-20T00:00:00\",\"2021-01-04T00:00:00\",\"2021-05-10T00:00:00\",\"2021-03-05T00:00:00\",\"2021-10-12T00:00:00\",\"2021-12-11T00:00:00\",\"2021-04-05T00:00:00\",\"2021-08-26T00:00:00\",\"2021-01-15T00:00:00\",\"2021-06-15T00:00:00\",\"2021-12-19T00:00:00\",\"2021-08-30T00:00:00\",\"2021-06-26T00:00:00\",\"2021-07-19T00:00:00\",\"2021-02-09T00:00:00\",\"2021-04-12T00:00:00\",\"2021-12-30T00:00:00\",\"2021-10-17T00:00:00\",\"2021-05-14T00:00:00\",\"2021-12-25T00:00:00\",\"2021-08-29T00:00:00\",\"2021-12-09T00:00:00\",\"2021-04-24T00:00:00\",\"2021-05-29T00:00:00\",\"2021-12-21T00:00:00\",\"2021-08-27T00:00:00\",\"2021-01-02T00:00:00\",\"2021-12-19T00:00:00\",\"2021-10-09T00:00:00\",\"2021-10-27T00:00:00\",\"2021-01-18T00:00:00\",\"2021-12-20T00:00:00\",\"2021-01-30T00:00:00\",\"2021-04-18T00:00:00\",\"2021-01-23T00:00:00\",\"2021-02-17T00:00:00\",\"2021-07-31T00:00:00\",\"2021-05-07T00:00:00\",\"2021-01-23T00:00:00\",\"2021-02-09T00:00:00\",\"2021-03-05T00:00:00\",\"2021-03-13T00:00:00\",\"2021-03-19T00:00:00\",\"2021-01-02T00:00:00\",\"2021-01-04T00:00:00\",\"2021-08-04T00:00:00\",\"2021-08-31T00:00:00\",\"2021-12-22T00:00:00\",\"2021-09-22T00:00:00\",\"2021-01-16T00:00:00\",\"2021-12-18T00:00:00\",\"2021-06-09T00:00:00\",\"2021-01-27T00:00:00\",\"2021-01-15T00:00:00\",\"2021-11-20T00:00:00\",\"2021-08-16T00:00:00\",\"2021-10-08T00:00:00\",\"2021-01-15T00:00:00\",\"2021-09-09T00:00:00\",\"2021-01-12T00:00:00\",\"2021-03-12T00:00:00\",\"2021-08-16T00:00:00\",\"2021-03-11T00:00:00\",\"2021-04-22T00:00:00\",\"2021-06-18T00:00:00\",\"2021-03-01T00:00:00\",\"2021-10-14T00:00:00\",\"2021-03-01T00:00:00\",\"2021-03-16T00:00:00\",\"2021-09-27T00:00:00\",\"2021-12-24T00:00:00\",\"2021-12-04T00:00:00\",\"2021-09-27T00:00:00\",\"2021-07-19T00:00:00\",\"2021-08-25T00:00:00\",\"2021-01-25T00:00:00\",\"2021-12-31T00:00:00\",\"2021-04-18T00:00:00\",\"2021-06-05T00:00:00\",\"2021-03-29T00:00:00\",\"2021-01-18T00:00:00\",\"2021-02-26T00:00:00\",\"2021-12-20T00:00:00\",\"2021-06-19T00:00:00\",\"2021-11-19T00:00:00\",\"2021-05-20T00:00:00\",\"2021-11-21T00:00:00\",\"2021-03-24T00:00:00\",\"2021-03-17T00:00:00\",\"2021-12-13T00:00:00\",\"2021-09-30T00:00:00\",\"2021-06-20T00:00:00\",\"2021-04-02T00:00:00\",\"2021-02-09T00:00:00\",\"2021-10-05T00:00:00\",\"2021-07-11T00:00:00\",\"2021-12-27T00:00:00\",\"2021-05-14T00:00:00\",\"2021-01-17T00:00:00\",\"2021-11-28T00:00:00\",\"2021-07-17T00:00:00\",\"2021-03-21T00:00:00\",\"2021-07-15T00:00:00\",\"2021-02-02T00:00:00\",\"2021-09-06T00:00:00\",\"2021-01-01T00:00:00\",\"2021-03-20T00:00:00\",\"2021-05-08T00:00:00\",\"2021-05-25T00:00:00\",\"2021-05-27T00:00:00\",\"2021-02-23T00:00:00\",\"2021-12-05T00:00:00\",\"2021-03-25T00:00:00\",\"2021-09-14T00:00:00\",\"2021-08-03T00:00:00\",\"2021-05-24T00:00:00\",\"2021-06-01T00:00:00\",\"2021-07-31T00:00:00\",\"2021-07-11T00:00:00\",\"2021-07-05T00:00:00\",\"2021-06-01T00:00:00\",\"2021-04-11T00:00:00\",\"2021-06-18T00:00:00\",\"2021-06-10T00:00:00\",\"2021-08-12T00:00:00\",\"2021-07-03T00:00:00\",\"2021-12-17T00:00:00\",\"2021-09-28T00:00:00\",\"2021-11-17T00:00:00\",\"2021-06-12T00:00:00\",\"2021-02-06T00:00:00\",\"2021-08-28T00:00:00\",\"2021-01-30T00:00:00\",\"2021-08-06T00:00:00\",\"2021-01-11T00:00:00\",\"2021-10-15T00:00:00\",\"2021-09-15T00:00:00\",\"2021-05-04T00:00:00\",\"2021-06-23T00:00:00\",\"2021-01-22T00:00:00\",\"2021-11-25T00:00:00\",\"2021-04-28T00:00:00\",\"2021-02-24T00:00:00\",\"2021-10-13T00:00:00\",\"2021-06-30T00:00:00\",\"2021-12-11T00:00:00\",\"2021-10-04T00:00:00\",\"2021-12-04T00:00:00\",\"2021-10-03T00:00:00\",\"2021-08-20T00:00:00\",\"2021-06-16T00:00:00\",\"2021-10-18T00:00:00\",\"2021-01-29T00:00:00\",\"2021-02-25T00:00:00\",\"2021-06-25T00:00:00\",\"2021-03-08T00:00:00\",\"2021-10-15T00:00:00\",\"2021-11-10T00:00:00\",\"2021-11-30T00:00:00\",\"2021-08-06T00:00:00\",\"2021-11-21T00:00:00\",\"2021-01-28T00:00:00\",\"2021-11-24T00:00:00\",\"2021-04-19T00:00:00\",\"2021-08-28T00:00:00\",\"2021-08-16T00:00:00\",\"2021-11-12T00:00:00\",\"2021-09-26T00:00:00\",\"2021-10-01T00:00:00\",\"2021-02-19T00:00:00\",\"2021-10-26T00:00:00\",\"2021-08-13T00:00:00\",\"2021-12-07T00:00:00\",\"2021-10-29T00:00:00\",\"2021-01-24T00:00:00\",\"2021-01-05T00:00:00\",\"2021-10-26T00:00:00\",\"2021-11-05T00:00:00\",\"2021-04-13T00:00:00\",\"2021-08-16T00:00:00\",\"2021-06-03T00:00:00\",\"2021-09-04T00:00:00\",\"2021-09-26T00:00:00\",\"2021-08-20T00:00:00\",\"2021-10-04T00:00:00\",\"2021-12-12T00:00:00\",\"2021-12-20T00:00:00\",\"2021-02-09T00:00:00\",\"2021-07-25T00:00:00\",\"2021-10-26T00:00:00\",\"2021-02-28T00:00:00\",\"2021-02-18T00:00:00\",\"2021-06-24T00:00:00\",\"2021-08-30T00:00:00\",\"2021-05-27T00:00:00\",\"2021-10-19T00:00:00\",\"2021-12-16T00:00:00\",\"2021-12-30T00:00:00\",\"2021-02-02T00:00:00\",\"2021-04-18T00:00:00\",\"2021-12-09T00:00:00\",\"2021-11-14T00:00:00\",\"2021-08-08T00:00:00\",\"2021-08-08T00:00:00\",\"2021-10-02T00:00:00\",\"2021-04-11T00:00:00\",\"2021-01-31T00:00:00\",\"2021-02-19T00:00:00\",\"2021-06-19T00:00:00\",\"2021-12-25T00:00:00\",\"2021-01-17T00:00:00\",\"2021-08-08T00:00:00\",\"2021-07-15T00:00:00\",\"2021-09-19T00:00:00\",\"2021-11-12T00:00:00\",\"2021-10-02T00:00:00\",\"2021-07-05T00:00:00\",\"2021-08-03T00:00:00\",\"2021-02-09T00:00:00\",\"2021-10-28T00:00:00\",\"2021-02-11T00:00:00\",\"2021-11-22T00:00:00\",\"2021-06-01T00:00:00\",\"2021-05-30T00:00:00\",\"2021-02-22T00:00:00\",\"2021-08-01T00:00:00\",\"2021-11-30T00:00:00\",\"2021-06-01T00:00:00\",\"2021-05-25T00:00:00\",\"2021-05-03T00:00:00\",\"2021-04-25T00:00:00\",\"2021-07-28T00:00:00\",\"2021-02-25T00:00:00\",\"2021-10-11T00:00:00\",\"2021-07-13T00:00:00\",\"2021-02-03T00:00:00\",\"2021-03-06T00:00:00\",\"2021-04-21T00:00:00\",\"2021-05-11T00:00:00\",\"2021-11-08T00:00:00\",\"2021-01-22T00:00:00\",\"2021-04-10T00:00:00\",\"2021-08-19T00:00:00\",\"2021-04-28T00:00:00\",\"2021-09-25T00:00:00\",\"2021-10-20T00:00:00\",\"2021-08-28T00:00:00\",\"2021-02-10T00:00:00\",\"2021-02-27T00:00:00\",\"2021-03-04T00:00:00\",\"2021-11-23T00:00:00\",\"2021-04-01T00:00:00\",\"2021-12-11T00:00:00\",\"2021-01-17T00:00:00\",\"2021-10-09T00:00:00\",\"2021-06-26T00:00:00\",\"2021-04-03T00:00:00\",\"2021-11-12T00:00:00\",\"2021-01-27T00:00:00\",\"2021-03-22T00:00:00\",\"2021-02-07T00:00:00\",\"2021-12-02T00:00:00\",\"2021-10-15T00:00:00\",\"2021-09-14T00:00:00\",\"2021-01-09T00:00:00\",\"2021-11-02T00:00:00\",\"2021-08-24T00:00:00\",\"2021-08-20T00:00:00\",\"2021-08-31T00:00:00\",\"2021-12-31T00:00:00\",\"2021-05-14T00:00:00\",\"2021-06-14T00:00:00\",\"2021-05-06T00:00:00\",\"2021-10-22T00:00:00\",\"2021-05-12T00:00:00\",\"2021-07-21T00:00:00\",\"2021-04-23T00:00:00\",\"2021-12-21T00:00:00\",\"2021-01-08T00:00:00\",\"2021-01-23T00:00:00\",\"2021-04-23T00:00:00\",\"2021-09-01T00:00:00\",\"2021-11-23T00:00:00\",\"2021-07-10T00:00:00\",\"2021-03-07T00:00:00\",\"2021-10-21T00:00:00\",\"2021-05-28T00:00:00\",\"2021-06-07T00:00:00\",\"2021-06-25T00:00:00\",\"2021-08-05T00:00:00\",\"2021-01-10T00:00:00\",\"2021-07-07T00:00:00\",\"2021-03-22T00:00:00\",\"2021-12-29T00:00:00\",\"2021-11-10T00:00:00\",\"2021-03-29T00:00:00\",\"2021-04-20T00:00:00\",\"2021-09-25T00:00:00\",\"2021-09-02T00:00:00\",\"2021-12-29T00:00:00\",\"2021-05-25T00:00:00\",\"2021-10-12T00:00:00\",\"2021-02-26T00:00:00\",\"2021-10-19T00:00:00\",\"2021-07-15T00:00:00\",\"2021-01-07T00:00:00\",\"2021-05-27T00:00:00\",\"2021-01-28T00:00:00\",\"2021-04-15T00:00:00\",\"2021-08-02T00:00:00\",\"2021-01-05T00:00:00\",\"2021-04-19T00:00:00\",\"2021-06-26T00:00:00\",\"2021-09-09T00:00:00\",\"2021-10-27T00:00:00\",\"2021-05-20T00:00:00\",\"2021-01-18T00:00:00\",\"2021-04-27T00:00:00\",\"2021-10-28T00:00:00\",\"2021-02-20T00:00:00\",\"2021-01-05T00:00:00\",\"2021-07-13T00:00:00\",\"2021-10-28T00:00:00\",\"2021-02-28T00:00:00\",\"2021-07-20T00:00:00\",\"2021-12-04T00:00:00\",\"2021-07-03T00:00:00\",\"2021-10-18T00:00:00\",\"2021-06-02T00:00:00\",\"2021-09-29T00:00:00\",\"2021-11-10T00:00:00\",\"2021-10-24T00:00:00\"],\"y0\":\" \",\"yaxis\":\"y\",\"type\":\"box\"}],                        {\"template\":{\"data\":{\"histogram2dcontour\":[{\"type\":\"histogram2dcontour\",\"colorbar\":{\"outlinewidth\":0,\"ticks\":\"\"},\"colorscale\":[[0.0,\"#0d0887\"],[0.1111111111111111,\"#46039f\"],[0.2222222222222222,\"#7201a8\"],[0.3333333333333333,\"#9c179e\"],[0.4444444444444444,\"#bd3786\"],[0.5555555555555556,\"#d8576b\"],[0.6666666666666666,\"#ed7953\"],[0.7777777777777778,\"#fb9f3a\"],[0.8888888888888888,\"#fdca26\"],[1.0,\"#f0f921\"]]}],\"choropleth\":[{\"type\":\"choropleth\",\"colorbar\":{\"outlinewidth\":0,\"ticks\":\"\"}}],\"histogram2d\":[{\"type\":\"histogram2d\",\"colorbar\":{\"outlinewidth\":0,\"ticks\":\"\"},\"colorscale\":[[0.0,\"#0d0887\"],[0.1111111111111111,\"#46039f\"],[0.2222222222222222,\"#7201a8\"],[0.3333333333333333,\"#9c179e\"],[0.4444444444444444,\"#bd3786\"],[0.5555555555555556,\"#d8576b\"],[0.6666666666666666,\"#ed7953\"],[0.7777777777777778,\"#fb9f3a\"],[0.8888888888888888,\"#fdca26\"],[1.0,\"#f0f921\"]]}],\"heatmap\":[{\"type\":\"heatmap\",\"colorbar\":{\"outlinewidth\":0,\"ticks\":\"\"},\"colorscale\":[[0.0,\"#0d0887\"],[0.1111111111111111,\"#46039f\"],[0.2222222222222222,\"#7201a8\"],[0.3333333333333333,\"#9c179e\"],[0.4444444444444444,\"#bd3786\"],[0.5555555555555556,\"#d8576b\"],[0.6666666666666666,\"#ed7953\"],[0.7777777777777778,\"#fb9f3a\"],[0.8888888888888888,\"#fdca26\"],[1.0,\"#f0f921\"]]}],\"heatmapgl\":[{\"type\":\"heatmapgl\",\"colorbar\":{\"outlinewidth\":0,\"ticks\":\"\"},\"colorscale\":[[0.0,\"#0d0887\"],[0.1111111111111111,\"#46039f\"],[0.2222222222222222,\"#7201a8\"],[0.3333333333333333,\"#9c179e\"],[0.4444444444444444,\"#bd3786\"],[0.5555555555555556,\"#d8576b\"],[0.6666666666666666,\"#ed7953\"],[0.7777777777777778,\"#fb9f3a\"],[0.8888888888888888,\"#fdca26\"],[1.0,\"#f0f921\"]]}],\"contourcarpet\":[{\"type\":\"contourcarpet\",\"colorbar\":{\"outlinewidth\":0,\"ticks\":\"\"}}],\"contour\":[{\"type\":\"contour\",\"colorbar\":{\"outlinewidth\":0,\"ticks\":\"\"},\"colorscale\":[[0.0,\"#0d0887\"],[0.1111111111111111,\"#46039f\"],[0.2222222222222222,\"#7201a8\"],[0.3333333333333333,\"#9c179e\"],[0.4444444444444444,\"#bd3786\"],[0.5555555555555556,\"#d8576b\"],[0.6666666666666666,\"#ed7953\"],[0.7777777777777778,\"#fb9f3a\"],[0.8888888888888888,\"#fdca26\"],[1.0,\"#f0f921\"]]}],\"surface\":[{\"type\":\"surface\",\"colorbar\":{\"outlinewidth\":0,\"ticks\":\"\"},\"colorscale\":[[0.0,\"#0d0887\"],[0.1111111111111111,\"#46039f\"],[0.2222222222222222,\"#7201a8\"],[0.3333333333333333,\"#9c179e\"],[0.4444444444444444,\"#bd3786\"],[0.5555555555555556,\"#d8576b\"],[0.6666666666666666,\"#ed7953\"],[0.7777777777777778,\"#fb9f3a\"],[0.8888888888888888,\"#fdca26\"],[1.0,\"#f0f921\"]]}],\"mesh3d\":[{\"type\":\"mesh3d\",\"colorbar\":{\"outlinewidth\":0,\"ticks\":\"\"}}],\"scatter\":[{\"fillpattern\":{\"fillmode\":\"overlay\",\"size\":10,\"solidity\":0.2},\"type\":\"scatter\"}],\"parcoords\":[{\"type\":\"parcoords\",\"line\":{\"colorbar\":{\"outlinewidth\":0,\"ticks\":\"\"}}}],\"scatterpolargl\":[{\"type\":\"scatterpolargl\",\"marker\":{\"colorbar\":{\"outlinewidth\":0,\"ticks\":\"\"}}}],\"bar\":[{\"error_x\":{\"color\":\"#2a3f5f\"},\"error_y\":{\"color\":\"#2a3f5f\"},\"marker\":{\"line\":{\"color\":\"#E5ECF6\",\"width\":0.5},\"pattern\":{\"fillmode\":\"overlay\",\"size\":10,\"solidity\":0.2}},\"type\":\"bar\"}],\"scattergeo\":[{\"type\":\"scattergeo\",\"marker\":{\"colorbar\":{\"outlinewidth\":0,\"ticks\":\"\"}}}],\"scatterpolar\":[{\"type\":\"scatterpolar\",\"marker\":{\"colorbar\":{\"outlinewidth\":0,\"ticks\":\"\"}}}],\"histogram\":[{\"marker\":{\"pattern\":{\"fillmode\":\"overlay\",\"size\":10,\"solidity\":0.2}},\"type\":\"histogram\"}],\"scattergl\":[{\"type\":\"scattergl\",\"marker\":{\"colorbar\":{\"outlinewidth\":0,\"ticks\":\"\"}}}],\"scatter3d\":[{\"type\":\"scatter3d\",\"line\":{\"colorbar\":{\"outlinewidth\":0,\"ticks\":\"\"}},\"marker\":{\"colorbar\":{\"outlinewidth\":0,\"ticks\":\"\"}}}],\"scattermapbox\":[{\"type\":\"scattermapbox\",\"marker\":{\"colorbar\":{\"outlinewidth\":0,\"ticks\":\"\"}}}],\"scatterternary\":[{\"type\":\"scatterternary\",\"marker\":{\"colorbar\":{\"outlinewidth\":0,\"ticks\":\"\"}}}],\"scattercarpet\":[{\"type\":\"scattercarpet\",\"marker\":{\"colorbar\":{\"outlinewidth\":0,\"ticks\":\"\"}}}],\"carpet\":[{\"aaxis\":{\"endlinecolor\":\"#2a3f5f\",\"gridcolor\":\"white\",\"linecolor\":\"white\",\"minorgridcolor\":\"white\",\"startlinecolor\":\"#2a3f5f\"},\"baxis\":{\"endlinecolor\":\"#2a3f5f\",\"gridcolor\":\"white\",\"linecolor\":\"white\",\"minorgridcolor\":\"white\",\"startlinecolor\":\"#2a3f5f\"},\"type\":\"carpet\"}],\"table\":[{\"cells\":{\"fill\":{\"color\":\"#EBF0F8\"},\"line\":{\"color\":\"white\"}},\"header\":{\"fill\":{\"color\":\"#C8D4E3\"},\"line\":{\"color\":\"white\"}},\"type\":\"table\"}],\"barpolar\":[{\"marker\":{\"line\":{\"color\":\"#E5ECF6\",\"width\":0.5},\"pattern\":{\"fillmode\":\"overlay\",\"size\":10,\"solidity\":0.2}},\"type\":\"barpolar\"}],\"pie\":[{\"automargin\":true,\"type\":\"pie\"}]},\"layout\":{\"autotypenumbers\":\"strict\",\"colorway\":[\"#636efa\",\"#EF553B\",\"#00cc96\",\"#ab63fa\",\"#FFA15A\",\"#19d3f3\",\"#FF6692\",\"#B6E880\",\"#FF97FF\",\"#FECB52\"],\"font\":{\"color\":\"#2a3f5f\"},\"hovermode\":\"closest\",\"hoverlabel\":{\"align\":\"left\"},\"paper_bgcolor\":\"white\",\"plot_bgcolor\":\"#E5ECF6\",\"polar\":{\"bgcolor\":\"#E5ECF6\",\"angularaxis\":{\"gridcolor\":\"white\",\"linecolor\":\"white\",\"ticks\":\"\"},\"radialaxis\":{\"gridcolor\":\"white\",\"linecolor\":\"white\",\"ticks\":\"\"}},\"ternary\":{\"bgcolor\":\"#E5ECF6\",\"aaxis\":{\"gridcolor\":\"white\",\"linecolor\":\"white\",\"ticks\":\"\"},\"baxis\":{\"gridcolor\":\"white\",\"linecolor\":\"white\",\"ticks\":\"\"},\"caxis\":{\"gridcolor\":\"white\",\"linecolor\":\"white\",\"ticks\":\"\"}},\"coloraxis\":{\"colorbar\":{\"outlinewidth\":0,\"ticks\":\"\"}},\"colorscale\":{\"sequential\":[[0.0,\"#0d0887\"],[0.1111111111111111,\"#46039f\"],[0.2222222222222222,\"#7201a8\"],[0.3333333333333333,\"#9c179e\"],[0.4444444444444444,\"#bd3786\"],[0.5555555555555556,\"#d8576b\"],[0.6666666666666666,\"#ed7953\"],[0.7777777777777778,\"#fb9f3a\"],[0.8888888888888888,\"#fdca26\"],[1.0,\"#f0f921\"]],\"sequentialminus\":[[0.0,\"#0d0887\"],[0.1111111111111111,\"#46039f\"],[0.2222222222222222,\"#7201a8\"],[0.3333333333333333,\"#9c179e\"],[0.4444444444444444,\"#bd3786\"],[0.5555555555555556,\"#d8576b\"],[0.6666666666666666,\"#ed7953\"],[0.7777777777777778,\"#fb9f3a\"],[0.8888888888888888,\"#fdca26\"],[1.0,\"#f0f921\"]],\"diverging\":[[0,\"#8e0152\"],[0.1,\"#c51b7d\"],[0.2,\"#de77ae\"],[0.3,\"#f1b6da\"],[0.4,\"#fde0ef\"],[0.5,\"#f7f7f7\"],[0.6,\"#e6f5d0\"],[0.7,\"#b8e186\"],[0.8,\"#7fbc41\"],[0.9,\"#4d9221\"],[1,\"#276419\"]]},\"xaxis\":{\"gridcolor\":\"white\",\"linecolor\":\"white\",\"ticks\":\"\",\"title\":{\"standoff\":15},\"zerolinecolor\":\"white\",\"automargin\":true,\"zerolinewidth\":2},\"yaxis\":{\"gridcolor\":\"white\",\"linecolor\":\"white\",\"ticks\":\"\",\"title\":{\"standoff\":15},\"zerolinecolor\":\"white\",\"automargin\":true,\"zerolinewidth\":2},\"scene\":{\"xaxis\":{\"backgroundcolor\":\"#E5ECF6\",\"gridcolor\":\"white\",\"linecolor\":\"white\",\"showbackground\":true,\"ticks\":\"\",\"zerolinecolor\":\"white\",\"gridwidth\":2},\"yaxis\":{\"backgroundcolor\":\"#E5ECF6\",\"gridcolor\":\"white\",\"linecolor\":\"white\",\"showbackground\":true,\"ticks\":\"\",\"zerolinecolor\":\"white\",\"gridwidth\":2},\"zaxis\":{\"backgroundcolor\":\"#E5ECF6\",\"gridcolor\":\"white\",\"linecolor\":\"white\",\"showbackground\":true,\"ticks\":\"\",\"zerolinecolor\":\"white\",\"gridwidth\":2}},\"shapedefaults\":{\"line\":{\"color\":\"#2a3f5f\"}},\"annotationdefaults\":{\"arrowcolor\":\"#2a3f5f\",\"arrowhead\":0,\"arrowwidth\":1},\"geo\":{\"bgcolor\":\"white\",\"landcolor\":\"#E5ECF6\",\"subunitcolor\":\"white\",\"showland\":true,\"showlakes\":true,\"lakecolor\":\"white\"},\"title\":{\"x\":0.05},\"mapbox\":{\"style\":\"light\"}}},\"xaxis\":{\"anchor\":\"y\",\"domain\":[0.0,1.0]},\"yaxis\":{\"anchor\":\"x\",\"domain\":[0.0,1.0],\"title\":{\"text\":\"Feature Values\"}},\"legend\":{\"tracegroupgap\":0},\"margin\":{\"t\":60},\"boxmode\":\"group\",\"title\":{\"text\":\"Box Plot of date\"}},                        {\"responsive\": true}                    ).then(function(){\n",
       "                            \n",
       "var gd = document.getElementById('0539788d-9681-4a6d-87ac-a83d24ce5325');\n",
       "var x = new MutationObserver(function (mutations, observer) {{\n",
       "        var display = window.getComputedStyle(gd).display;\n",
       "        if (!display || display === 'none') {{\n",
       "            console.log([gd, 'removed!']);\n",
       "            Plotly.purge(gd);\n",
       "            observer.disconnect();\n",
       "        }}\n",
       "}});\n",
       "\n",
       "// Listen for the removal of the full notebook cells\n",
       "var notebookContainer = gd.closest('#notebook-container');\n",
       "if (notebookContainer) {{\n",
       "    x.observe(notebookContainer, {childList: true});\n",
       "}}\n",
       "\n",
       "// Listen for the clearing of the current output cell\n",
       "var outputEl = gd.closest('.output');\n",
       "if (outputEl) {{\n",
       "    x.observe(outputEl, {childList: true});\n",
       "}}\n",
       "\n",
       "                        })                };                });            </script>        </div>"
      ]
     },
     "metadata": {},
     "output_type": "display_data"
    },
    {
     "data": {
      "application/vnd.plotly.v1+json": {
       "config": {
        "plotlyServerURL": "https://plot.ly"
       },
       "data": [
        {
         "alignmentgroup": "True",
         "hovertemplate": "state=%{y}<extra></extra>",
         "legendgroup": "",
         "marker": {
          "color": "#636efa"
         },
         "name": "",
         "notched": false,
         "offsetgroup": "",
         "orientation": "v",
         "showlegend": false,
         "type": "box",
         "x0": " ",
         "xaxis": "x",
         "y": [
          "New York",
          "New York",
          "New York",
          "Pennsylvania",
          "New York",
          "Pennsylvania",
          "New York",
          "New Jersey",
          "Massachusetts",
          "New Jersey",
          "New York",
          "New York",
          "New York",
          "New York",
          "New York",
          "New York",
          "Massachusetts",
          "New York",
          "New York",
          "New York",
          "New York",
          "New York",
          "New York",
          "Massachusetts",
          "Pennsylvania",
          "Massachusetts",
          "Massachusetts",
          "New York",
          "Massachusetts",
          "New York",
          "Pennsylvania",
          "New York",
          "Pennsylvania",
          "New York",
          "Massachusetts",
          "Massachusetts",
          "New York",
          "New York",
          "New York",
          "Pennsylvania",
          "Massachusetts",
          "New York",
          "Pennsylvania",
          "New York",
          "Pennsylvania",
          "Pennsylvania",
          "New York",
          "Massachusetts",
          "New York",
          "New York",
          "New York",
          "Pennsylvania",
          "Massachusetts",
          "Massachusetts",
          "New York",
          "New York",
          "Pennsylvania",
          "New York",
          "Pennsylvania",
          "New York",
          "Massachusetts",
          "Pennsylvania",
          "New York",
          "Massachusetts",
          "New York",
          "Pennsylvania",
          "Massachusetts",
          "Pennsylvania",
          "Massachusetts",
          "New York",
          "New York",
          "Massachusetts",
          "Massachusetts",
          "New York",
          "Pennsylvania",
          "Pennsylvania",
          "Massachusetts",
          "Massachusetts",
          "New York",
          "Pennsylvania",
          "New Jersey",
          "New York",
          "Massachusetts",
          "New Jersey",
          "Pennsylvania",
          "New York",
          "Pennsylvania",
          "Massachusetts",
          "New York",
          "New York",
          "Pennsylvania",
          "Massachusetts",
          "Massachusetts",
          "New York",
          "New York",
          "Massachusetts",
          "Massachusetts",
          "Vermont",
          "Massachusetts",
          "Pennsylvania",
          "Massachusetts",
          "Massachusetts",
          "Massachusetts",
          "Massachusetts",
          "Massachusetts",
          "Massachusetts",
          "New York",
          "Massachusetts",
          "Massachusetts",
          "New York",
          "Massachusetts",
          "Pennsylvania",
          "New York",
          "New Jersey",
          "New York",
          "New York",
          "Pennsylvania",
          "Massachusetts",
          "New York",
          "Pennsylvania",
          "Massachusetts",
          "Pennsylvania",
          "New York",
          "Massachusetts",
          "Massachusetts",
          "New York",
          "Massachusetts",
          "New York",
          "New York",
          "New York",
          "Massachusetts",
          "New Jersey",
          "Pennsylvania",
          "New Jersey",
          "New Jersey",
          "Pennsylvania",
          "Pennsylvania",
          "New York",
          "Massachusetts",
          "Massachusetts",
          "New York",
          "Massachusetts",
          "New York",
          "New York",
          "New York",
          "Massachusetts",
          "Pennsylvania",
          "New York",
          "Massachusetts",
          "New York",
          "Massachusetts",
          "New York",
          "Pennsylvania",
          "Pennsylvania",
          "New York",
          "Massachusetts",
          "New York",
          "New York",
          "New York",
          "Pennsylvania",
          "New York",
          "Massachusetts",
          "New York",
          "New York",
          "New York",
          "New Jersey",
          "Massachusetts",
          "New York",
          "New York",
          "New Jersey",
          "Massachusetts",
          "Massachusetts",
          "Massachusetts",
          "Massachusetts",
          "Massachusetts",
          "New York",
          "Massachusetts",
          "New York",
          "Pennsylvania",
          "New York",
          "New Jersey",
          "New York",
          "Pennsylvania",
          "New York",
          "New York",
          "Pennsylvania",
          "Massachusetts",
          "New York",
          "New York",
          "Massachusetts",
          "New York",
          "New York",
          "Massachusetts",
          "Massachusetts",
          "New York",
          "New York",
          "New York",
          "Pennsylvania",
          "New York",
          "New York",
          "Pennsylvania",
          "Pennsylvania",
          "Maine",
          "Massachusetts",
          "New York",
          "Massachusetts",
          "New York",
          "New York",
          "Pennsylvania",
          "New York",
          "New York",
          "Massachusetts",
          "Massachusetts",
          "New York",
          "Massachusetts",
          "Pennsylvania",
          "Massachusetts",
          "New York",
          "Massachusetts",
          "New York",
          "Massachusetts",
          "Massachusetts",
          "New York",
          "Pennsylvania",
          "New Jersey",
          "Pennsylvania",
          "New york",
          "Massachusetts",
          "Pennsylvania",
          "New York",
          "New York",
          "Massachusetts",
          "New York",
          "Massachusetts",
          "New York",
          "New York",
          "New York",
          "Pennsylvania",
          "New York",
          "New York",
          "Massachusetts",
          "Pennsylvania",
          "Massachusetts",
          "New York",
          "New York",
          "Pennsylvania",
          "New York",
          "New York",
          "Pennsylvania",
          "New York",
          "Massachusetts",
          "Massachusetts",
          "New York",
          "New Jersey",
          "New York",
          "New York",
          "Pennsylvania",
          "New York",
          "Pennsylvania",
          "New York",
          "New York",
          "Massachusetts",
          "Massachusetts",
          "New Jersey",
          "New York",
          "New York",
          "New York",
          "Massachusetts",
          "New York",
          "New York",
          "New York",
          "Pennsylvania",
          "Massachusetts",
          "Massachusetts",
          "New York",
          "New York",
          "Pennsylvania",
          "New York",
          "Vermont",
          "Massachusetts",
          "Pennsylvania",
          "New York",
          "Massachusetts",
          "New York",
          "New York",
          "Massachusetts",
          "New York",
          "Massachusetts",
          "Massachusetts",
          "Massachusetts",
          "Massachusetts",
          "Massachusetts",
          "Massachusetts",
          "Pennsylvania",
          "New York",
          "Pennsylvania",
          "Pennsylvania",
          "New Jersey",
          "Pennsylvania",
          "New York",
          "Pennsylvania",
          "New York",
          "New York",
          "New York",
          "New York",
          "Pennsylvania",
          "New York",
          "New York",
          "New York",
          "Pennsylvania",
          "Pennsylvania",
          "New York",
          "New York",
          "New York",
          "New York",
          "New Jersey",
          "New York",
          "New York",
          "New York",
          "Massachusetts",
          "New York",
          "Pennsylvania",
          "New York",
          "New York",
          "Massachusetts",
          "New York",
          "Pennsylvania",
          "New Jersey",
          "New York",
          "Massachusetts",
          "Massachusetts",
          "Pennsylvania",
          "Pennsylvania",
          "New York",
          "Pennsylvania",
          "Massachusetts",
          "Massachusetts",
          "Pennsylvania",
          "New York",
          "Pennsylvania",
          "Pennsylvania",
          "New Jersey",
          "Pennsylvania",
          "Pennsylvania",
          "Pennsylvania",
          "Massachusetts",
          "New York",
          "New York",
          "Pennsylvania",
          "New York",
          "New York",
          "Pennsylvania",
          "Massachusetts",
          "New York",
          "New York",
          "New York",
          "Massachusetts",
          "New York",
          "New York",
          "Massachusetts",
          "New Jersey",
          "New York",
          "New York",
          "Massachusetts",
          "Pennsylvania",
          "New York",
          "Massachusetts",
          "New York",
          "Massachusetts",
          "New York",
          "New York",
          "New York",
          "New York",
          "Pennsylvania",
          "New Jersey",
          "Pennsylvania",
          "New York",
          "Pennsylvania",
          "Massachusetts",
          "New York",
          "Massachusetts",
          "Massachusetts",
          "Pennsylvania",
          "Pennsylvania",
          "New York",
          "New York",
          "New York",
          "New York",
          "New York",
          "Pennsylvania",
          "Massachusetts",
          "New York",
          "Massachusetts",
          "Pennsylvania",
          "Massachusetts",
          "Massachusetts",
          "New York",
          "New York",
          "New York",
          "New York",
          "New York",
          "New York",
          "Pennsylvania",
          "New York",
          "Massachusetts",
          "Massachusetts",
          "Massachusetts",
          "Massachusetts",
          "Massachusetts",
          "New York",
          "New York",
          "Pennsylvania",
          "New York",
          "New York",
          "New York",
          "New York",
          "Pennsylvania",
          "Pennsylvania",
          "New York",
          "New York",
          "Massachusetts",
          "New York",
          "Massachusetts",
          "Massachusetts",
          "New York",
          "New York",
          "New York",
          "Pennsylvania",
          "Massachusetts",
          "Massachusetts",
          "Massachusetts",
          "Pennsylvania",
          "New York",
          "New York",
          "Massachusetts",
          "New York",
          "Massachusetts",
          "Pennsylvania",
          "New York",
          "New York",
          "Pennsylvania",
          "Pennsylvania",
          "New Jersey",
          "Massachusetts",
          "New York",
          "Pennsylvania",
          "New York",
          "Pennsylvania",
          "Pennsylvania",
          "Massachusetts",
          "Pennsylvania",
          "New York",
          "New Jersey",
          "New York",
          "Pennsylvania",
          "Massachusetts",
          "Pennsylvania",
          "Massachusetts",
          "Massachusetts",
          "Pennsylvania",
          "Massachusetts",
          "Massachusetts",
          "New York",
          "New York",
          "New York",
          "New York",
          "Vermont",
          "Pennsylvania",
          "Massachusetts",
          "New York",
          "Pennsylvania",
          "Massachusetts",
          "Pennsylvania",
          "New York",
          "New York",
          "Pennsylvania",
          "New York",
          "Pennsylvania",
          "Pennsylvania",
          "New York",
          "New York",
          "Pennsylvania",
          "Pennsylvania",
          "Pennsylvania",
          "New Jersey",
          "Pennsylvania",
          "New York",
          "Massachusetts",
          "New York",
          "New Jersey",
          "Pennsylvania",
          "Massachusetts",
          "Pennsylvania",
          "New York",
          "New York",
          "Pennsylvania",
          "New York",
          "New Jersey",
          "Rhode Island",
          "New Jersey",
          "Pennsylvania",
          "Massachusetts",
          "New York",
          "New York",
          "New York",
          "New York",
          "Pennsylvania",
          "New York",
          "New York",
          "Massachusetts",
          "Massachusetts",
          "Pennsylvania",
          "New Jersey",
          "Pennsylvania",
          "Massachusetts",
          "New York",
          "Pennsylvania",
          "New York",
          "Pennsylvania",
          "Pennsylvania",
          "New York",
          "New York",
          "Pennsylvania",
          "New York",
          "New York",
          "Pennsylvania",
          "Pennsylvania",
          "Massachusetts",
          "New York",
          "Massachusetts",
          "New York",
          "Pennsylvania",
          "Rhode Island",
          "New York",
          "Pennsylvania",
          "Pennsylvania",
          "New York",
          "New York",
          "New York",
          "New York",
          "Pennsylvania",
          "New York",
          "Massachusetts",
          "Pennsylvania",
          "Pennsylvania",
          "Pennsylvania",
          "New York",
          "New York",
          "New York",
          "New York",
          "New York",
          "Massachusetts",
          "Pennsylvania",
          "New York",
          "New Jersey",
          "Massachusetts",
          "Massachusetts",
          "Massachusetts",
          "Massachusetts",
          "Pennsylvania",
          "New York",
          "Pennsylvania",
          "Pennsylvania",
          "New York",
          "Pennsylvania",
          "Pennsylvania",
          "Massachusetts",
          "New York",
          "Massachusetts",
          "Massachusetts",
          "New York",
          "Pennsylvania",
          "New York",
          "New York",
          "Massachusetts",
          "New York",
          "Pennsylvania",
          "New York",
          "New York",
          "New York",
          "Pennsylvania",
          "Pennsylvania",
          "Massachusetts",
          "New Jersey",
          "Massachusetts",
          "Pennsylvania",
          "New York",
          "New York",
          "New York",
          "New York",
          "New York",
          "Massachusetts",
          "New York",
          "New York",
          "Massachusetts",
          "Pennsylvania",
          "Massachusetts",
          "Pennsylvania",
          "Pennsylvania",
          "New York",
          "New York",
          "New York",
          "New York",
          "Massachusetts",
          "Pennsylvania",
          "New York",
          "Pennsylvania",
          "Massachusetts",
          "Pennsylvania",
          "Massachusetts",
          "Pennsylvania",
          "Pennsylvania",
          "Pennsylvania",
          "New York",
          "Pennsylvania",
          "New York",
          "New York",
          "Massachusetts",
          "Pennsylvania",
          "Massachusetts",
          "New York",
          "Pennsylvania",
          "New York",
          "Pennsylvania",
          "New York",
          "Massachusetts",
          "Pennsylvania",
          "Pennsylvania",
          "Pennsylvania",
          "New York",
          "Pennsylvania",
          "New Jersey",
          "New York",
          "New York",
          "Massachusetts",
          "Pennsylvania",
          "Pennsylvania",
          "New York",
          "Pennsylvania",
          "Pennsylvania",
          "Massachusetts",
          "Pennsylvania",
          "Massachusetts",
          "New York",
          "Massachusetts",
          "Pennsylvania",
          "New York",
          "Massachusetts",
          "Pennsylvania",
          "New Jersey",
          "New York",
          "New York",
          "Pennsylvania",
          "Pennsylvania",
          "New York",
          "Massachusetts",
          "Pennsylvania",
          "New Jersey",
          "Pennsylvania",
          "Massachusetts",
          "New York",
          "Pennsylvania",
          "New York",
          "New York",
          "New York",
          "New York",
          "Massachusetts",
          "New York",
          "New York",
          "New York",
          "Pennsylvania",
          "Massachusetts",
          "Pennsylvania",
          "New York",
          "New York",
          "Pennsylvania",
          "New York",
          "New York",
          "Maine",
          "New York",
          "New Jersey",
          "New jersey",
          "Pennsylvania",
          "Massachusetts",
          "Massachusetts",
          "Massachusetts",
          "New Jersey",
          "Massachusetts",
          "Massachusetts",
          "New York",
          "Massachusetts",
          "New York",
          "Pennsylvania",
          "New York",
          "Massachusetts",
          "Pennsylvania",
          "Pennsylvania",
          "New Jersey",
          "New York",
          "New York",
          "New York",
          "New York",
          "Pennsylvania",
          "Pennsylvania",
          "Pennsylvania",
          "Massachusetts",
          "New York",
          "Pennsylvania",
          "New York",
          "New York",
          "New York",
          "Massachusetts",
          "Pennsylvania",
          "New York",
          "Pennsylvania",
          "New York",
          "Massachusetts",
          "Pennsylvania",
          "New York",
          "Massachusetts",
          "New York",
          "New York",
          "New York",
          "New York",
          "Pennsylvania",
          "New York",
          "New Jersey",
          "Pennsylvania",
          "Massachusetts",
          "Pennsylvania",
          "Pennsylvania",
          "New York",
          "Massachusetts",
          "New York",
          "Massachusetts",
          "Massachusetts",
          "Massachusetts",
          "Massachusetts",
          "Massachusetts",
          "Massachusetts",
          "Massachusetts",
          "New York",
          "Massachusetts",
          "Massachusetts",
          "Pennsylvania",
          "Massachusetts",
          "New York",
          "Massachusetts",
          "Pennsylvania",
          "New York",
          "New York",
          "New York",
          "Pennsylvania",
          "New York",
          "Pennsylvania",
          "New York",
          "Pennsylvania",
          "Pennsylvania",
          "Massachusetts",
          "New York",
          "New York",
          "Pennsylvania",
          "New York",
          "New york",
          "Pennsylvania",
          "New York",
          "Pennsylvania",
          "Pennsylvania",
          "Massachusetts",
          "Pennsylvania",
          "Pennsylvania",
          "New Jersey",
          "New York",
          "New York",
          "New York",
          "New Jersey",
          "Pennsylvania",
          "Massachusetts",
          "New Jersey",
          "New York",
          "New York",
          "Pennsylvania",
          "Pennsylvania",
          "Pennsylvania",
          "Massachusetts",
          "Pennsylvania",
          "Pennsylvania",
          "New Jersey",
          "Massachusetts",
          "Pennsylvania",
          "Pennsylvania",
          "New York",
          "Massachusetts",
          "Pennsylvania",
          "Pennsylvania",
          "New York",
          "New York",
          "Massachusetts",
          "Massachusetts",
          "Vermont",
          "Massachusetts",
          "New Jersey",
          "Pennsylvania",
          "New Jersey",
          "New Jersey",
          "Massachusetts",
          "Pennsylvania",
          "Massachusetts",
          "New York",
          "Massachusetts",
          "New York",
          "Massachusetts",
          "Massachusetts",
          "Pennsylvania",
          "Pennsylvania",
          "Pennsylvania",
          "Pennsylvania",
          "New Jersey",
          "New York",
          "Pennsylvania",
          "Massachusetts",
          "Massachusetts",
          "New York",
          "Massachusetts",
          "New York",
          "New York",
          "New York",
          "Massachusetts",
          "New York",
          "Massachusetts",
          "New Jersey",
          "New York",
          "New York",
          "New Jersey",
          "Pennsylvania",
          "Pennsylvania",
          "Massachusetts",
          "New York",
          "New York",
          "New York",
          "New York",
          "New York",
          "Pennsylvania",
          "Massachusetts",
          "Massachusetts",
          "New York",
          "Massachusetts",
          "New York",
          "New York",
          "New Jersey",
          "Massachusetts",
          "New York",
          "New York",
          "Massachusetts",
          "New Jersey",
          "New York",
          "Massachusetts",
          "New York",
          "New York",
          "Massachusetts",
          "New York",
          "New York",
          "New York",
          "New York",
          "Pennsylvania",
          "New York",
          "Pennsylvania",
          "Massachusetts",
          "New York",
          "Massachusetts",
          "Pennsylvania",
          "Massachusetts",
          "Massachusetts",
          "New York",
          "Massachusetts",
          "Pennsylvania",
          "New Jersey",
          "New York",
          "New York",
          "New Jersey",
          "New York",
          "New York",
          "New York",
          "New York",
          "New York",
          "Massachusetts",
          "New York",
          "New York",
          "New York",
          "Pennsylvania",
          "Pennsylvania",
          "New Jersey",
          "Pennsylvania",
          "New York",
          "New York",
          "Pennsylvania",
          "New York",
          "New York",
          "New York",
          "Massachusetts",
          "Massachusetts",
          "New York",
          "Pennsylvania",
          "New Jersey",
          "Pennsylvania",
          "Massachusetts",
          "New York",
          "Massachusetts",
          "New Jersey",
          "Pennsylvania",
          "Pennsylvania",
          "New York",
          "New York",
          "Pennsylvania",
          "New York",
          "New York",
          "New York",
          "New York",
          "Massachusetts",
          "New York",
          "Pennsylvania",
          "New York",
          "New York",
          "Maine",
          "Pennsylvania",
          "Massachusetts",
          "New York",
          "Massachusetts",
          "New York",
          "New Jersey",
          "New York",
          "Pennsylvania",
          "Massachusetts",
          "New York",
          "Massachusetts",
          "New York",
          "Massachusetts",
          "Pennsylvania",
          "Massachusetts",
          "Rhode Island",
          "Massachusetts",
          "Pennsylvania",
          "Pennsylvania",
          "New York",
          "New York",
          "Massachusetts",
          "Pennsylvania",
          "New York",
          "Massachusetts",
          "New York",
          "New York",
          "Massachusetts",
          "New York",
          "New York",
          "Massachusetts",
          "New York",
          "New York",
          "Massachusetts",
          "Pennsylvania",
          "Pennsylvania",
          "Pennsylvania",
          "Vermont",
          "New York",
          "New York",
          "New York",
          "New Jersey",
          "Massachusetts",
          "Massachusetts",
          "New York",
          "New York",
          "Pennsylvania",
          "New York",
          "New York",
          "Massachusetts",
          "New York",
          "New York",
          "New York",
          "New York",
          "Massachusetts",
          "Pennsylvania",
          "New York",
          "New York",
          "Pennsylvania",
          "New York",
          "New York",
          "Massachusetts",
          "New York",
          "Pennsylvania",
          "New York",
          "New York",
          "Pennsylvania",
          "New York",
          "Massachusetts",
          "New York",
          "Rhode Island",
          "New York",
          "New York",
          "New York",
          "Pennsylvania"
         ],
         "y0": " ",
         "yaxis": "y"
        }
       ],
       "layout": {
        "boxmode": "group",
        "legend": {
         "tracegroupgap": 0
        },
        "margin": {
         "t": 60
        },
        "template": {
         "data": {
          "bar": [
           {
            "error_x": {
             "color": "#2a3f5f"
            },
            "error_y": {
             "color": "#2a3f5f"
            },
            "marker": {
             "line": {
              "color": "#E5ECF6",
              "width": 0.5
             },
             "pattern": {
              "fillmode": "overlay",
              "size": 10,
              "solidity": 0.2
             }
            },
            "type": "bar"
           }
          ],
          "barpolar": [
           {
            "marker": {
             "line": {
              "color": "#E5ECF6",
              "width": 0.5
             },
             "pattern": {
              "fillmode": "overlay",
              "size": 10,
              "solidity": 0.2
             }
            },
            "type": "barpolar"
           }
          ],
          "carpet": [
           {
            "aaxis": {
             "endlinecolor": "#2a3f5f",
             "gridcolor": "white",
             "linecolor": "white",
             "minorgridcolor": "white",
             "startlinecolor": "#2a3f5f"
            },
            "baxis": {
             "endlinecolor": "#2a3f5f",
             "gridcolor": "white",
             "linecolor": "white",
             "minorgridcolor": "white",
             "startlinecolor": "#2a3f5f"
            },
            "type": "carpet"
           }
          ],
          "choropleth": [
           {
            "colorbar": {
             "outlinewidth": 0,
             "ticks": ""
            },
            "type": "choropleth"
           }
          ],
          "contour": [
           {
            "colorbar": {
             "outlinewidth": 0,
             "ticks": ""
            },
            "colorscale": [
             [
              0,
              "#0d0887"
             ],
             [
              0.1111111111111111,
              "#46039f"
             ],
             [
              0.2222222222222222,
              "#7201a8"
             ],
             [
              0.3333333333333333,
              "#9c179e"
             ],
             [
              0.4444444444444444,
              "#bd3786"
             ],
             [
              0.5555555555555556,
              "#d8576b"
             ],
             [
              0.6666666666666666,
              "#ed7953"
             ],
             [
              0.7777777777777778,
              "#fb9f3a"
             ],
             [
              0.8888888888888888,
              "#fdca26"
             ],
             [
              1,
              "#f0f921"
             ]
            ],
            "type": "contour"
           }
          ],
          "contourcarpet": [
           {
            "colorbar": {
             "outlinewidth": 0,
             "ticks": ""
            },
            "type": "contourcarpet"
           }
          ],
          "heatmap": [
           {
            "colorbar": {
             "outlinewidth": 0,
             "ticks": ""
            },
            "colorscale": [
             [
              0,
              "#0d0887"
             ],
             [
              0.1111111111111111,
              "#46039f"
             ],
             [
              0.2222222222222222,
              "#7201a8"
             ],
             [
              0.3333333333333333,
              "#9c179e"
             ],
             [
              0.4444444444444444,
              "#bd3786"
             ],
             [
              0.5555555555555556,
              "#d8576b"
             ],
             [
              0.6666666666666666,
              "#ed7953"
             ],
             [
              0.7777777777777778,
              "#fb9f3a"
             ],
             [
              0.8888888888888888,
              "#fdca26"
             ],
             [
              1,
              "#f0f921"
             ]
            ],
            "type": "heatmap"
           }
          ],
          "heatmapgl": [
           {
            "colorbar": {
             "outlinewidth": 0,
             "ticks": ""
            },
            "colorscale": [
             [
              0,
              "#0d0887"
             ],
             [
              0.1111111111111111,
              "#46039f"
             ],
             [
              0.2222222222222222,
              "#7201a8"
             ],
             [
              0.3333333333333333,
              "#9c179e"
             ],
             [
              0.4444444444444444,
              "#bd3786"
             ],
             [
              0.5555555555555556,
              "#d8576b"
             ],
             [
              0.6666666666666666,
              "#ed7953"
             ],
             [
              0.7777777777777778,
              "#fb9f3a"
             ],
             [
              0.8888888888888888,
              "#fdca26"
             ],
             [
              1,
              "#f0f921"
             ]
            ],
            "type": "heatmapgl"
           }
          ],
          "histogram": [
           {
            "marker": {
             "pattern": {
              "fillmode": "overlay",
              "size": 10,
              "solidity": 0.2
             }
            },
            "type": "histogram"
           }
          ],
          "histogram2d": [
           {
            "colorbar": {
             "outlinewidth": 0,
             "ticks": ""
            },
            "colorscale": [
             [
              0,
              "#0d0887"
             ],
             [
              0.1111111111111111,
              "#46039f"
             ],
             [
              0.2222222222222222,
              "#7201a8"
             ],
             [
              0.3333333333333333,
              "#9c179e"
             ],
             [
              0.4444444444444444,
              "#bd3786"
             ],
             [
              0.5555555555555556,
              "#d8576b"
             ],
             [
              0.6666666666666666,
              "#ed7953"
             ],
             [
              0.7777777777777778,
              "#fb9f3a"
             ],
             [
              0.8888888888888888,
              "#fdca26"
             ],
             [
              1,
              "#f0f921"
             ]
            ],
            "type": "histogram2d"
           }
          ],
          "histogram2dcontour": [
           {
            "colorbar": {
             "outlinewidth": 0,
             "ticks": ""
            },
            "colorscale": [
             [
              0,
              "#0d0887"
             ],
             [
              0.1111111111111111,
              "#46039f"
             ],
             [
              0.2222222222222222,
              "#7201a8"
             ],
             [
              0.3333333333333333,
              "#9c179e"
             ],
             [
              0.4444444444444444,
              "#bd3786"
             ],
             [
              0.5555555555555556,
              "#d8576b"
             ],
             [
              0.6666666666666666,
              "#ed7953"
             ],
             [
              0.7777777777777778,
              "#fb9f3a"
             ],
             [
              0.8888888888888888,
              "#fdca26"
             ],
             [
              1,
              "#f0f921"
             ]
            ],
            "type": "histogram2dcontour"
           }
          ],
          "mesh3d": [
           {
            "colorbar": {
             "outlinewidth": 0,
             "ticks": ""
            },
            "type": "mesh3d"
           }
          ],
          "parcoords": [
           {
            "line": {
             "colorbar": {
              "outlinewidth": 0,
              "ticks": ""
             }
            },
            "type": "parcoords"
           }
          ],
          "pie": [
           {
            "automargin": true,
            "type": "pie"
           }
          ],
          "scatter": [
           {
            "fillpattern": {
             "fillmode": "overlay",
             "size": 10,
             "solidity": 0.2
            },
            "type": "scatter"
           }
          ],
          "scatter3d": [
           {
            "line": {
             "colorbar": {
              "outlinewidth": 0,
              "ticks": ""
             }
            },
            "marker": {
             "colorbar": {
              "outlinewidth": 0,
              "ticks": ""
             }
            },
            "type": "scatter3d"
           }
          ],
          "scattercarpet": [
           {
            "marker": {
             "colorbar": {
              "outlinewidth": 0,
              "ticks": ""
             }
            },
            "type": "scattercarpet"
           }
          ],
          "scattergeo": [
           {
            "marker": {
             "colorbar": {
              "outlinewidth": 0,
              "ticks": ""
             }
            },
            "type": "scattergeo"
           }
          ],
          "scattergl": [
           {
            "marker": {
             "colorbar": {
              "outlinewidth": 0,
              "ticks": ""
             }
            },
            "type": "scattergl"
           }
          ],
          "scattermapbox": [
           {
            "marker": {
             "colorbar": {
              "outlinewidth": 0,
              "ticks": ""
             }
            },
            "type": "scattermapbox"
           }
          ],
          "scatterpolar": [
           {
            "marker": {
             "colorbar": {
              "outlinewidth": 0,
              "ticks": ""
             }
            },
            "type": "scatterpolar"
           }
          ],
          "scatterpolargl": [
           {
            "marker": {
             "colorbar": {
              "outlinewidth": 0,
              "ticks": ""
             }
            },
            "type": "scatterpolargl"
           }
          ],
          "scatterternary": [
           {
            "marker": {
             "colorbar": {
              "outlinewidth": 0,
              "ticks": ""
             }
            },
            "type": "scatterternary"
           }
          ],
          "surface": [
           {
            "colorbar": {
             "outlinewidth": 0,
             "ticks": ""
            },
            "colorscale": [
             [
              0,
              "#0d0887"
             ],
             [
              0.1111111111111111,
              "#46039f"
             ],
             [
              0.2222222222222222,
              "#7201a8"
             ],
             [
              0.3333333333333333,
              "#9c179e"
             ],
             [
              0.4444444444444444,
              "#bd3786"
             ],
             [
              0.5555555555555556,
              "#d8576b"
             ],
             [
              0.6666666666666666,
              "#ed7953"
             ],
             [
              0.7777777777777778,
              "#fb9f3a"
             ],
             [
              0.8888888888888888,
              "#fdca26"
             ],
             [
              1,
              "#f0f921"
             ]
            ],
            "type": "surface"
           }
          ],
          "table": [
           {
            "cells": {
             "fill": {
              "color": "#EBF0F8"
             },
             "line": {
              "color": "white"
             }
            },
            "header": {
             "fill": {
              "color": "#C8D4E3"
             },
             "line": {
              "color": "white"
             }
            },
            "type": "table"
           }
          ]
         },
         "layout": {
          "annotationdefaults": {
           "arrowcolor": "#2a3f5f",
           "arrowhead": 0,
           "arrowwidth": 1
          },
          "autotypenumbers": "strict",
          "coloraxis": {
           "colorbar": {
            "outlinewidth": 0,
            "ticks": ""
           }
          },
          "colorscale": {
           "diverging": [
            [
             0,
             "#8e0152"
            ],
            [
             0.1,
             "#c51b7d"
            ],
            [
             0.2,
             "#de77ae"
            ],
            [
             0.3,
             "#f1b6da"
            ],
            [
             0.4,
             "#fde0ef"
            ],
            [
             0.5,
             "#f7f7f7"
            ],
            [
             0.6,
             "#e6f5d0"
            ],
            [
             0.7,
             "#b8e186"
            ],
            [
             0.8,
             "#7fbc41"
            ],
            [
             0.9,
             "#4d9221"
            ],
            [
             1,
             "#276419"
            ]
           ],
           "sequential": [
            [
             0,
             "#0d0887"
            ],
            [
             0.1111111111111111,
             "#46039f"
            ],
            [
             0.2222222222222222,
             "#7201a8"
            ],
            [
             0.3333333333333333,
             "#9c179e"
            ],
            [
             0.4444444444444444,
             "#bd3786"
            ],
            [
             0.5555555555555556,
             "#d8576b"
            ],
            [
             0.6666666666666666,
             "#ed7953"
            ],
            [
             0.7777777777777778,
             "#fb9f3a"
            ],
            [
             0.8888888888888888,
             "#fdca26"
            ],
            [
             1,
             "#f0f921"
            ]
           ],
           "sequentialminus": [
            [
             0,
             "#0d0887"
            ],
            [
             0.1111111111111111,
             "#46039f"
            ],
            [
             0.2222222222222222,
             "#7201a8"
            ],
            [
             0.3333333333333333,
             "#9c179e"
            ],
            [
             0.4444444444444444,
             "#bd3786"
            ],
            [
             0.5555555555555556,
             "#d8576b"
            ],
            [
             0.6666666666666666,
             "#ed7953"
            ],
            [
             0.7777777777777778,
             "#fb9f3a"
            ],
            [
             0.8888888888888888,
             "#fdca26"
            ],
            [
             1,
             "#f0f921"
            ]
           ]
          },
          "colorway": [
           "#636efa",
           "#EF553B",
           "#00cc96",
           "#ab63fa",
           "#FFA15A",
           "#19d3f3",
           "#FF6692",
           "#B6E880",
           "#FF97FF",
           "#FECB52"
          ],
          "font": {
           "color": "#2a3f5f"
          },
          "geo": {
           "bgcolor": "white",
           "lakecolor": "white",
           "landcolor": "#E5ECF6",
           "showlakes": true,
           "showland": true,
           "subunitcolor": "white"
          },
          "hoverlabel": {
           "align": "left"
          },
          "hovermode": "closest",
          "mapbox": {
           "style": "light"
          },
          "paper_bgcolor": "white",
          "plot_bgcolor": "#E5ECF6",
          "polar": {
           "angularaxis": {
            "gridcolor": "white",
            "linecolor": "white",
            "ticks": ""
           },
           "bgcolor": "#E5ECF6",
           "radialaxis": {
            "gridcolor": "white",
            "linecolor": "white",
            "ticks": ""
           }
          },
          "scene": {
           "xaxis": {
            "backgroundcolor": "#E5ECF6",
            "gridcolor": "white",
            "gridwidth": 2,
            "linecolor": "white",
            "showbackground": true,
            "ticks": "",
            "zerolinecolor": "white"
           },
           "yaxis": {
            "backgroundcolor": "#E5ECF6",
            "gridcolor": "white",
            "gridwidth": 2,
            "linecolor": "white",
            "showbackground": true,
            "ticks": "",
            "zerolinecolor": "white"
           },
           "zaxis": {
            "backgroundcolor": "#E5ECF6",
            "gridcolor": "white",
            "gridwidth": 2,
            "linecolor": "white",
            "showbackground": true,
            "ticks": "",
            "zerolinecolor": "white"
           }
          },
          "shapedefaults": {
           "line": {
            "color": "#2a3f5f"
           }
          },
          "ternary": {
           "aaxis": {
            "gridcolor": "white",
            "linecolor": "white",
            "ticks": ""
           },
           "baxis": {
            "gridcolor": "white",
            "linecolor": "white",
            "ticks": ""
           },
           "bgcolor": "#E5ECF6",
           "caxis": {
            "gridcolor": "white",
            "linecolor": "white",
            "ticks": ""
           }
          },
          "title": {
           "x": 0.05
          },
          "xaxis": {
           "automargin": true,
           "gridcolor": "white",
           "linecolor": "white",
           "ticks": "",
           "title": {
            "standoff": 15
           },
           "zerolinecolor": "white",
           "zerolinewidth": 2
          },
          "yaxis": {
           "automargin": true,
           "gridcolor": "white",
           "linecolor": "white",
           "ticks": "",
           "title": {
            "standoff": 15
           },
           "zerolinecolor": "white",
           "zerolinewidth": 2
          }
         }
        },
        "title": {
         "text": "Box Plot of state"
        },
        "xaxis": {
         "anchor": "y",
         "domain": [
          0,
          1
         ]
        },
        "yaxis": {
         "anchor": "x",
         "domain": [
          0,
          1
         ],
         "title": {
          "text": "Feature Values"
         }
        }
       }
      },
      "text/html": [
       "<div>                            <div id=\"b6407f06-03a0-41f2-80ca-0d5f93b76032\" class=\"plotly-graph-div\" style=\"height:525px; width:100%;\"></div>            <script type=\"text/javascript\">                require([\"plotly\"], function(Plotly) {                    window.PLOTLYENV=window.PLOTLYENV || {};                                    if (document.getElementById(\"b6407f06-03a0-41f2-80ca-0d5f93b76032\")) {                    Plotly.newPlot(                        \"b6407f06-03a0-41f2-80ca-0d5f93b76032\",                        [{\"alignmentgroup\":\"True\",\"hovertemplate\":\"state=%{y}<extra></extra>\",\"legendgroup\":\"\",\"marker\":{\"color\":\"#636efa\"},\"name\":\"\",\"notched\":false,\"offsetgroup\":\"\",\"orientation\":\"v\",\"showlegend\":false,\"x0\":\" \",\"xaxis\":\"x\",\"y\":[\"New York\",\"New York\",\"New York\",\"Pennsylvania\",\"New York\",\"Pennsylvania\",\"New York\",\"New Jersey\",\"Massachusetts\",\"New Jersey\",\"New York\",\"New York\",\"New York\",\"New York\",\"New York\",\"New York\",\"Massachusetts\",\"New York\",\"New York\",\"New York\",\"New York\",\"New York\",\"New York\",\"Massachusetts\",\"Pennsylvania\",\"Massachusetts\",\"Massachusetts\",\"New York\",\"Massachusetts\",\"New York\",\"Pennsylvania\",\"New York\",\"Pennsylvania\",\"New York\",\"Massachusetts\",\"Massachusetts\",\"New York\",\"New York\",\"New York\",\"Pennsylvania\",\"Massachusetts\",\"New York\",\"Pennsylvania\",\"New York\",\"Pennsylvania\",\"Pennsylvania\",\"New York\",\"Massachusetts\",\"New York\",\"New York\",\"New York\",\"Pennsylvania\",\"Massachusetts\",\"Massachusetts\",\"New York\",\"New York\",\"Pennsylvania\",\"New York\",\"Pennsylvania\",\"New York\",\"Massachusetts\",\"Pennsylvania\",\"New York\",\"Massachusetts\",\"New York\",\"Pennsylvania\",\"Massachusetts\",\"Pennsylvania\",\"Massachusetts\",\"New York\",\"New York\",\"Massachusetts\",\"Massachusetts\",\"New York\",\"Pennsylvania\",\"Pennsylvania\",\"Massachusetts\",\"Massachusetts\",\"New York\",\"Pennsylvania\",\"New Jersey\",\"New York\",\"Massachusetts\",\"New Jersey\",\"Pennsylvania\",\"New York\",\"Pennsylvania\",\"Massachusetts\",\"New York\",\"New York\",\"Pennsylvania\",\"Massachusetts\",\"Massachusetts\",\"New York\",\"New York\",\"Massachusetts\",\"Massachusetts\",\"Vermont\",\"Massachusetts\",\"Pennsylvania\",\"Massachusetts\",\"Massachusetts\",\"Massachusetts\",\"Massachusetts\",\"Massachusetts\",\"Massachusetts\",\"New York\",\"Massachusetts\",\"Massachusetts\",\"New York\",\"Massachusetts\",\"Pennsylvania\",\"New York\",\"New Jersey\",\"New York\",\"New York\",\"Pennsylvania\",\"Massachusetts\",\"New York\",\"Pennsylvania\",\"Massachusetts\",\"Pennsylvania\",\"New York\",\"Massachusetts\",\"Massachusetts\",\"New York\",\"Massachusetts\",\"New York\",\"New York\",\"New York\",\"Massachusetts\",\"New Jersey\",\"Pennsylvania\",\"New Jersey\",\"New Jersey\",\"Pennsylvania\",\"Pennsylvania\",\"New York\",\"Massachusetts\",\"Massachusetts\",\"New York\",\"Massachusetts\",\"New York\",\"New York\",\"New York\",\"Massachusetts\",\"Pennsylvania\",\"New York\",\"Massachusetts\",\"New York\",\"Massachusetts\",\"New York\",\"Pennsylvania\",\"Pennsylvania\",\"New York\",\"Massachusetts\",\"New York\",\"New York\",\"New York\",\"Pennsylvania\",\"New York\",\"Massachusetts\",\"New York\",\"New York\",\"New York\",\"New Jersey\",\"Massachusetts\",\"New York\",\"New York\",\"New Jersey\",\"Massachusetts\",\"Massachusetts\",\"Massachusetts\",\"Massachusetts\",\"Massachusetts\",\"New York\",\"Massachusetts\",\"New York\",\"Pennsylvania\",\"New York\",\"New Jersey\",\"New York\",\"Pennsylvania\",\"New York\",\"New York\",\"Pennsylvania\",\"Massachusetts\",\"New York\",\"New York\",\"Massachusetts\",\"New York\",\"New York\",\"Massachusetts\",\"Massachusetts\",\"New York\",\"New York\",\"New York\",\"Pennsylvania\",\"New York\",\"New York\",\"Pennsylvania\",\"Pennsylvania\",\"Maine\",\"Massachusetts\",\"New York\",\"Massachusetts\",\"New York\",\"New York\",\"Pennsylvania\",\"New York\",\"New York\",\"Massachusetts\",\"Massachusetts\",\"New York\",\"Massachusetts\",\"Pennsylvania\",\"Massachusetts\",\"New York\",\"Massachusetts\",\"New York\",\"Massachusetts\",\"Massachusetts\",\"New York\",\"Pennsylvania\",\"New Jersey\",\"Pennsylvania\",\"New york\",\"Massachusetts\",\"Pennsylvania\",\"New York\",\"New York\",\"Massachusetts\",\"New York\",\"Massachusetts\",\"New York\",\"New York\",\"New York\",\"Pennsylvania\",\"New York\",\"New York\",\"Massachusetts\",\"Pennsylvania\",\"Massachusetts\",\"New York\",\"New York\",\"Pennsylvania\",\"New York\",\"New York\",\"Pennsylvania\",\"New York\",\"Massachusetts\",\"Massachusetts\",\"New York\",\"New Jersey\",\"New York\",\"New York\",\"Pennsylvania\",\"New York\",\"Pennsylvania\",\"New York\",\"New York\",\"Massachusetts\",\"Massachusetts\",\"New Jersey\",\"New York\",\"New York\",\"New York\",\"Massachusetts\",\"New York\",\"New York\",\"New York\",\"Pennsylvania\",\"Massachusetts\",\"Massachusetts\",\"New York\",\"New York\",\"Pennsylvania\",\"New York\",\"Vermont\",\"Massachusetts\",\"Pennsylvania\",\"New York\",\"Massachusetts\",\"New York\",\"New York\",\"Massachusetts\",\"New York\",\"Massachusetts\",\"Massachusetts\",\"Massachusetts\",\"Massachusetts\",\"Massachusetts\",\"Massachusetts\",\"Pennsylvania\",\"New York\",\"Pennsylvania\",\"Pennsylvania\",\"New Jersey\",\"Pennsylvania\",\"New York\",\"Pennsylvania\",\"New York\",\"New York\",\"New York\",\"New York\",\"Pennsylvania\",\"New York\",\"New York\",\"New York\",\"Pennsylvania\",\"Pennsylvania\",\"New York\",\"New York\",\"New York\",\"New York\",\"New Jersey\",\"New York\",\"New York\",\"New York\",\"Massachusetts\",\"New York\",\"Pennsylvania\",\"New York\",\"New York\",\"Massachusetts\",\"New York\",\"Pennsylvania\",\"New Jersey\",\"New York\",\"Massachusetts\",\"Massachusetts\",\"Pennsylvania\",\"Pennsylvania\",\"New York\",\"Pennsylvania\",\"Massachusetts\",\"Massachusetts\",\"Pennsylvania\",\"New York\",\"Pennsylvania\",\"Pennsylvania\",\"New Jersey\",\"Pennsylvania\",\"Pennsylvania\",\"Pennsylvania\",\"Massachusetts\",\"New York\",\"New York\",\"Pennsylvania\",\"New York\",\"New York\",\"Pennsylvania\",\"Massachusetts\",\"New York\",\"New York\",\"New York\",\"Massachusetts\",\"New York\",\"New York\",\"Massachusetts\",\"New Jersey\",\"New York\",\"New York\",\"Massachusetts\",\"Pennsylvania\",\"New York\",\"Massachusetts\",\"New York\",\"Massachusetts\",\"New York\",\"New York\",\"New York\",\"New York\",\"Pennsylvania\",\"New Jersey\",\"Pennsylvania\",\"New York\",\"Pennsylvania\",\"Massachusetts\",\"New York\",\"Massachusetts\",\"Massachusetts\",\"Pennsylvania\",\"Pennsylvania\",\"New York\",\"New York\",\"New York\",\"New York\",\"New York\",\"Pennsylvania\",\"Massachusetts\",\"New York\",\"Massachusetts\",\"Pennsylvania\",\"Massachusetts\",\"Massachusetts\",\"New York\",\"New York\",\"New York\",\"New York\",\"New York\",\"New York\",\"Pennsylvania\",\"New York\",\"Massachusetts\",\"Massachusetts\",\"Massachusetts\",\"Massachusetts\",\"Massachusetts\",\"New York\",\"New York\",\"Pennsylvania\",\"New York\",\"New York\",\"New York\",\"New York\",\"Pennsylvania\",\"Pennsylvania\",\"New York\",\"New York\",\"Massachusetts\",\"New York\",\"Massachusetts\",\"Massachusetts\",\"New York\",\"New York\",\"New York\",\"Pennsylvania\",\"Massachusetts\",\"Massachusetts\",\"Massachusetts\",\"Pennsylvania\",\"New York\",\"New York\",\"Massachusetts\",\"New York\",\"Massachusetts\",\"Pennsylvania\",\"New York\",\"New York\",\"Pennsylvania\",\"Pennsylvania\",\"New Jersey\",\"Massachusetts\",\"New York\",\"Pennsylvania\",\"New York\",\"Pennsylvania\",\"Pennsylvania\",\"Massachusetts\",\"Pennsylvania\",\"New York\",\"New Jersey\",\"New York\",\"Pennsylvania\",\"Massachusetts\",\"Pennsylvania\",\"Massachusetts\",\"Massachusetts\",\"Pennsylvania\",\"Massachusetts\",\"Massachusetts\",\"New York\",\"New York\",\"New York\",\"New York\",\"Vermont\",\"Pennsylvania\",\"Massachusetts\",\"New York\",\"Pennsylvania\",\"Massachusetts\",\"Pennsylvania\",\"New York\",\"New York\",\"Pennsylvania\",\"New York\",\"Pennsylvania\",\"Pennsylvania\",\"New York\",\"New York\",\"Pennsylvania\",\"Pennsylvania\",\"Pennsylvania\",\"New Jersey\",\"Pennsylvania\",\"New York\",\"Massachusetts\",\"New York\",\"New Jersey\",\"Pennsylvania\",\"Massachusetts\",\"Pennsylvania\",\"New York\",\"New York\",\"Pennsylvania\",\"New York\",\"New Jersey\",\"Rhode Island\",\"New Jersey\",\"Pennsylvania\",\"Massachusetts\",\"New York\",\"New York\",\"New York\",\"New York\",\"Pennsylvania\",\"New York\",\"New York\",\"Massachusetts\",\"Massachusetts\",\"Pennsylvania\",\"New Jersey\",\"Pennsylvania\",\"Massachusetts\",\"New York\",\"Pennsylvania\",\"New York\",\"Pennsylvania\",\"Pennsylvania\",\"New York\",\"New York\",\"Pennsylvania\",\"New York\",\"New York\",\"Pennsylvania\",\"Pennsylvania\",\"Massachusetts\",\"New York\",\"Massachusetts\",\"New York\",\"Pennsylvania\",\"Rhode Island\",\"New York\",\"Pennsylvania\",\"Pennsylvania\",\"New York\",\"New York\",\"New York\",\"New York\",\"Pennsylvania\",\"New York\",\"Massachusetts\",\"Pennsylvania\",\"Pennsylvania\",\"Pennsylvania\",\"New York\",\"New York\",\"New York\",\"New York\",\"New York\",\"Massachusetts\",\"Pennsylvania\",\"New York\",\"New Jersey\",\"Massachusetts\",\"Massachusetts\",\"Massachusetts\",\"Massachusetts\",\"Pennsylvania\",\"New York\",\"Pennsylvania\",\"Pennsylvania\",\"New York\",\"Pennsylvania\",\"Pennsylvania\",\"Massachusetts\",\"New York\",\"Massachusetts\",\"Massachusetts\",\"New York\",\"Pennsylvania\",\"New York\",\"New York\",\"Massachusetts\",\"New York\",\"Pennsylvania\",\"New York\",\"New York\",\"New York\",\"Pennsylvania\",\"Pennsylvania\",\"Massachusetts\",\"New Jersey\",\"Massachusetts\",\"Pennsylvania\",\"New York\",\"New York\",\"New York\",\"New York\",\"New York\",\"Massachusetts\",\"New York\",\"New York\",\"Massachusetts\",\"Pennsylvania\",\"Massachusetts\",\"Pennsylvania\",\"Pennsylvania\",\"New York\",\"New York\",\"New York\",\"New York\",\"Massachusetts\",\"Pennsylvania\",\"New York\",\"Pennsylvania\",\"Massachusetts\",\"Pennsylvania\",\"Massachusetts\",\"Pennsylvania\",\"Pennsylvania\",\"Pennsylvania\",\"New York\",\"Pennsylvania\",\"New York\",\"New York\",\"Massachusetts\",\"Pennsylvania\",\"Massachusetts\",\"New York\",\"Pennsylvania\",\"New York\",\"Pennsylvania\",\"New York\",\"Massachusetts\",\"Pennsylvania\",\"Pennsylvania\",\"Pennsylvania\",\"New York\",\"Pennsylvania\",\"New Jersey\",\"New York\",\"New York\",\"Massachusetts\",\"Pennsylvania\",\"Pennsylvania\",\"New York\",\"Pennsylvania\",\"Pennsylvania\",\"Massachusetts\",\"Pennsylvania\",\"Massachusetts\",\"New York\",\"Massachusetts\",\"Pennsylvania\",\"New York\",\"Massachusetts\",\"Pennsylvania\",\"New Jersey\",\"New York\",\"New York\",\"Pennsylvania\",\"Pennsylvania\",\"New York\",\"Massachusetts\",\"Pennsylvania\",\"New Jersey\",\"Pennsylvania\",\"Massachusetts\",\"New York\",\"Pennsylvania\",\"New York\",\"New York\",\"New York\",\"New York\",\"Massachusetts\",\"New York\",\"New York\",\"New York\",\"Pennsylvania\",\"Massachusetts\",\"Pennsylvania\",\"New York\",\"New York\",\"Pennsylvania\",\"New York\",\"New York\",\"Maine\",\"New York\",\"New Jersey\",\"New jersey\",\"Pennsylvania\",\"Massachusetts\",\"Massachusetts\",\"Massachusetts\",\"New Jersey\",\"Massachusetts\",\"Massachusetts\",\"New York\",\"Massachusetts\",\"New York\",\"Pennsylvania\",\"New York\",\"Massachusetts\",\"Pennsylvania\",\"Pennsylvania\",\"New Jersey\",\"New York\",\"New York\",\"New York\",\"New York\",\"Pennsylvania\",\"Pennsylvania\",\"Pennsylvania\",\"Massachusetts\",\"New York\",\"Pennsylvania\",\"New York\",\"New York\",\"New York\",\"Massachusetts\",\"Pennsylvania\",\"New York\",\"Pennsylvania\",\"New York\",\"Massachusetts\",\"Pennsylvania\",\"New York\",\"Massachusetts\",\"New York\",\"New York\",\"New York\",\"New York\",\"Pennsylvania\",\"New York\",\"New Jersey\",\"Pennsylvania\",\"Massachusetts\",\"Pennsylvania\",\"Pennsylvania\",\"New York\",\"Massachusetts\",\"New York\",\"Massachusetts\",\"Massachusetts\",\"Massachusetts\",\"Massachusetts\",\"Massachusetts\",\"Massachusetts\",\"Massachusetts\",\"New York\",\"Massachusetts\",\"Massachusetts\",\"Pennsylvania\",\"Massachusetts\",\"New York\",\"Massachusetts\",\"Pennsylvania\",\"New York\",\"New York\",\"New York\",\"Pennsylvania\",\"New York\",\"Pennsylvania\",\"New York\",\"Pennsylvania\",\"Pennsylvania\",\"Massachusetts\",\"New York\",\"New York\",\"Pennsylvania\",\"New York\",\"New york\",\"Pennsylvania\",\"New York\",\"Pennsylvania\",\"Pennsylvania\",\"Massachusetts\",\"Pennsylvania\",\"Pennsylvania\",\"New Jersey\",\"New York\",\"New York\",\"New York\",\"New Jersey\",\"Pennsylvania\",\"Massachusetts\",\"New Jersey\",\"New York\",\"New York\",\"Pennsylvania\",\"Pennsylvania\",\"Pennsylvania\",\"Massachusetts\",\"Pennsylvania\",\"Pennsylvania\",\"New Jersey\",\"Massachusetts\",\"Pennsylvania\",\"Pennsylvania\",\"New York\",\"Massachusetts\",\"Pennsylvania\",\"Pennsylvania\",\"New York\",\"New York\",\"Massachusetts\",\"Massachusetts\",\"Vermont\",\"Massachusetts\",\"New Jersey\",\"Pennsylvania\",\"New Jersey\",\"New Jersey\",\"Massachusetts\",\"Pennsylvania\",\"Massachusetts\",\"New York\",\"Massachusetts\",\"New York\",\"Massachusetts\",\"Massachusetts\",\"Pennsylvania\",\"Pennsylvania\",\"Pennsylvania\",\"Pennsylvania\",\"New Jersey\",\"New York\",\"Pennsylvania\",\"Massachusetts\",\"Massachusetts\",\"New York\",\"Massachusetts\",\"New York\",\"New York\",\"New York\",\"Massachusetts\",\"New York\",\"Massachusetts\",\"New Jersey\",\"New York\",\"New York\",\"New Jersey\",\"Pennsylvania\",\"Pennsylvania\",\"Massachusetts\",\"New York\",\"New York\",\"New York\",\"New York\",\"New York\",\"Pennsylvania\",\"Massachusetts\",\"Massachusetts\",\"New York\",\"Massachusetts\",\"New York\",\"New York\",\"New Jersey\",\"Massachusetts\",\"New York\",\"New York\",\"Massachusetts\",\"New Jersey\",\"New York\",\"Massachusetts\",\"New York\",\"New York\",\"Massachusetts\",\"New York\",\"New York\",\"New York\",\"New York\",\"Pennsylvania\",\"New York\",\"Pennsylvania\",\"Massachusetts\",\"New York\",\"Massachusetts\",\"Pennsylvania\",\"Massachusetts\",\"Massachusetts\",\"New York\",\"Massachusetts\",\"Pennsylvania\",\"New Jersey\",\"New York\",\"New York\",\"New Jersey\",\"New York\",\"New York\",\"New York\",\"New York\",\"New York\",\"Massachusetts\",\"New York\",\"New York\",\"New York\",\"Pennsylvania\",\"Pennsylvania\",\"New Jersey\",\"Pennsylvania\",\"New York\",\"New York\",\"Pennsylvania\",\"New York\",\"New York\",\"New York\",\"Massachusetts\",\"Massachusetts\",\"New York\",\"Pennsylvania\",\"New Jersey\",\"Pennsylvania\",\"Massachusetts\",\"New York\",\"Massachusetts\",\"New Jersey\",\"Pennsylvania\",\"Pennsylvania\",\"New York\",\"New York\",\"Pennsylvania\",\"New York\",\"New York\",\"New York\",\"New York\",\"Massachusetts\",\"New York\",\"Pennsylvania\",\"New York\",\"New York\",\"Maine\",\"Pennsylvania\",\"Massachusetts\",\"New York\",\"Massachusetts\",\"New York\",\"New Jersey\",\"New York\",\"Pennsylvania\",\"Massachusetts\",\"New York\",\"Massachusetts\",\"New York\",\"Massachusetts\",\"Pennsylvania\",\"Massachusetts\",\"Rhode Island\",\"Massachusetts\",\"Pennsylvania\",\"Pennsylvania\",\"New York\",\"New York\",\"Massachusetts\",\"Pennsylvania\",\"New York\",\"Massachusetts\",\"New York\",\"New York\",\"Massachusetts\",\"New York\",\"New York\",\"Massachusetts\",\"New York\",\"New York\",\"Massachusetts\",\"Pennsylvania\",\"Pennsylvania\",\"Pennsylvania\",\"Vermont\",\"New York\",\"New York\",\"New York\",\"New Jersey\",\"Massachusetts\",\"Massachusetts\",\"New York\",\"New York\",\"Pennsylvania\",\"New York\",\"New York\",\"Massachusetts\",\"New York\",\"New York\",\"New York\",\"New York\",\"Massachusetts\",\"Pennsylvania\",\"New York\",\"New York\",\"Pennsylvania\",\"New York\",\"New York\",\"Massachusetts\",\"New York\",\"Pennsylvania\",\"New York\",\"New York\",\"Pennsylvania\",\"New York\",\"Massachusetts\",\"New York\",\"Rhode Island\",\"New York\",\"New York\",\"New York\",\"Pennsylvania\"],\"y0\":\" \",\"yaxis\":\"y\",\"type\":\"box\"}],                        {\"template\":{\"data\":{\"histogram2dcontour\":[{\"type\":\"histogram2dcontour\",\"colorbar\":{\"outlinewidth\":0,\"ticks\":\"\"},\"colorscale\":[[0.0,\"#0d0887\"],[0.1111111111111111,\"#46039f\"],[0.2222222222222222,\"#7201a8\"],[0.3333333333333333,\"#9c179e\"],[0.4444444444444444,\"#bd3786\"],[0.5555555555555556,\"#d8576b\"],[0.6666666666666666,\"#ed7953\"],[0.7777777777777778,\"#fb9f3a\"],[0.8888888888888888,\"#fdca26\"],[1.0,\"#f0f921\"]]}],\"choropleth\":[{\"type\":\"choropleth\",\"colorbar\":{\"outlinewidth\":0,\"ticks\":\"\"}}],\"histogram2d\":[{\"type\":\"histogram2d\",\"colorbar\":{\"outlinewidth\":0,\"ticks\":\"\"},\"colorscale\":[[0.0,\"#0d0887\"],[0.1111111111111111,\"#46039f\"],[0.2222222222222222,\"#7201a8\"],[0.3333333333333333,\"#9c179e\"],[0.4444444444444444,\"#bd3786\"],[0.5555555555555556,\"#d8576b\"],[0.6666666666666666,\"#ed7953\"],[0.7777777777777778,\"#fb9f3a\"],[0.8888888888888888,\"#fdca26\"],[1.0,\"#f0f921\"]]}],\"heatmap\":[{\"type\":\"heatmap\",\"colorbar\":{\"outlinewidth\":0,\"ticks\":\"\"},\"colorscale\":[[0.0,\"#0d0887\"],[0.1111111111111111,\"#46039f\"],[0.2222222222222222,\"#7201a8\"],[0.3333333333333333,\"#9c179e\"],[0.4444444444444444,\"#bd3786\"],[0.5555555555555556,\"#d8576b\"],[0.6666666666666666,\"#ed7953\"],[0.7777777777777778,\"#fb9f3a\"],[0.8888888888888888,\"#fdca26\"],[1.0,\"#f0f921\"]]}],\"heatmapgl\":[{\"type\":\"heatmapgl\",\"colorbar\":{\"outlinewidth\":0,\"ticks\":\"\"},\"colorscale\":[[0.0,\"#0d0887\"],[0.1111111111111111,\"#46039f\"],[0.2222222222222222,\"#7201a8\"],[0.3333333333333333,\"#9c179e\"],[0.4444444444444444,\"#bd3786\"],[0.5555555555555556,\"#d8576b\"],[0.6666666666666666,\"#ed7953\"],[0.7777777777777778,\"#fb9f3a\"],[0.8888888888888888,\"#fdca26\"],[1.0,\"#f0f921\"]]}],\"contourcarpet\":[{\"type\":\"contourcarpet\",\"colorbar\":{\"outlinewidth\":0,\"ticks\":\"\"}}],\"contour\":[{\"type\":\"contour\",\"colorbar\":{\"outlinewidth\":0,\"ticks\":\"\"},\"colorscale\":[[0.0,\"#0d0887\"],[0.1111111111111111,\"#46039f\"],[0.2222222222222222,\"#7201a8\"],[0.3333333333333333,\"#9c179e\"],[0.4444444444444444,\"#bd3786\"],[0.5555555555555556,\"#d8576b\"],[0.6666666666666666,\"#ed7953\"],[0.7777777777777778,\"#fb9f3a\"],[0.8888888888888888,\"#fdca26\"],[1.0,\"#f0f921\"]]}],\"surface\":[{\"type\":\"surface\",\"colorbar\":{\"outlinewidth\":0,\"ticks\":\"\"},\"colorscale\":[[0.0,\"#0d0887\"],[0.1111111111111111,\"#46039f\"],[0.2222222222222222,\"#7201a8\"],[0.3333333333333333,\"#9c179e\"],[0.4444444444444444,\"#bd3786\"],[0.5555555555555556,\"#d8576b\"],[0.6666666666666666,\"#ed7953\"],[0.7777777777777778,\"#fb9f3a\"],[0.8888888888888888,\"#fdca26\"],[1.0,\"#f0f921\"]]}],\"mesh3d\":[{\"type\":\"mesh3d\",\"colorbar\":{\"outlinewidth\":0,\"ticks\":\"\"}}],\"scatter\":[{\"fillpattern\":{\"fillmode\":\"overlay\",\"size\":10,\"solidity\":0.2},\"type\":\"scatter\"}],\"parcoords\":[{\"type\":\"parcoords\",\"line\":{\"colorbar\":{\"outlinewidth\":0,\"ticks\":\"\"}}}],\"scatterpolargl\":[{\"type\":\"scatterpolargl\",\"marker\":{\"colorbar\":{\"outlinewidth\":0,\"ticks\":\"\"}}}],\"bar\":[{\"error_x\":{\"color\":\"#2a3f5f\"},\"error_y\":{\"color\":\"#2a3f5f\"},\"marker\":{\"line\":{\"color\":\"#E5ECF6\",\"width\":0.5},\"pattern\":{\"fillmode\":\"overlay\",\"size\":10,\"solidity\":0.2}},\"type\":\"bar\"}],\"scattergeo\":[{\"type\":\"scattergeo\",\"marker\":{\"colorbar\":{\"outlinewidth\":0,\"ticks\":\"\"}}}],\"scatterpolar\":[{\"type\":\"scatterpolar\",\"marker\":{\"colorbar\":{\"outlinewidth\":0,\"ticks\":\"\"}}}],\"histogram\":[{\"marker\":{\"pattern\":{\"fillmode\":\"overlay\",\"size\":10,\"solidity\":0.2}},\"type\":\"histogram\"}],\"scattergl\":[{\"type\":\"scattergl\",\"marker\":{\"colorbar\":{\"outlinewidth\":0,\"ticks\":\"\"}}}],\"scatter3d\":[{\"type\":\"scatter3d\",\"line\":{\"colorbar\":{\"outlinewidth\":0,\"ticks\":\"\"}},\"marker\":{\"colorbar\":{\"outlinewidth\":0,\"ticks\":\"\"}}}],\"scattermapbox\":[{\"type\":\"scattermapbox\",\"marker\":{\"colorbar\":{\"outlinewidth\":0,\"ticks\":\"\"}}}],\"scatterternary\":[{\"type\":\"scatterternary\",\"marker\":{\"colorbar\":{\"outlinewidth\":0,\"ticks\":\"\"}}}],\"scattercarpet\":[{\"type\":\"scattercarpet\",\"marker\":{\"colorbar\":{\"outlinewidth\":0,\"ticks\":\"\"}}}],\"carpet\":[{\"aaxis\":{\"endlinecolor\":\"#2a3f5f\",\"gridcolor\":\"white\",\"linecolor\":\"white\",\"minorgridcolor\":\"white\",\"startlinecolor\":\"#2a3f5f\"},\"baxis\":{\"endlinecolor\":\"#2a3f5f\",\"gridcolor\":\"white\",\"linecolor\":\"white\",\"minorgridcolor\":\"white\",\"startlinecolor\":\"#2a3f5f\"},\"type\":\"carpet\"}],\"table\":[{\"cells\":{\"fill\":{\"color\":\"#EBF0F8\"},\"line\":{\"color\":\"white\"}},\"header\":{\"fill\":{\"color\":\"#C8D4E3\"},\"line\":{\"color\":\"white\"}},\"type\":\"table\"}],\"barpolar\":[{\"marker\":{\"line\":{\"color\":\"#E5ECF6\",\"width\":0.5},\"pattern\":{\"fillmode\":\"overlay\",\"size\":10,\"solidity\":0.2}},\"type\":\"barpolar\"}],\"pie\":[{\"automargin\":true,\"type\":\"pie\"}]},\"layout\":{\"autotypenumbers\":\"strict\",\"colorway\":[\"#636efa\",\"#EF553B\",\"#00cc96\",\"#ab63fa\",\"#FFA15A\",\"#19d3f3\",\"#FF6692\",\"#B6E880\",\"#FF97FF\",\"#FECB52\"],\"font\":{\"color\":\"#2a3f5f\"},\"hovermode\":\"closest\",\"hoverlabel\":{\"align\":\"left\"},\"paper_bgcolor\":\"white\",\"plot_bgcolor\":\"#E5ECF6\",\"polar\":{\"bgcolor\":\"#E5ECF6\",\"angularaxis\":{\"gridcolor\":\"white\",\"linecolor\":\"white\",\"ticks\":\"\"},\"radialaxis\":{\"gridcolor\":\"white\",\"linecolor\":\"white\",\"ticks\":\"\"}},\"ternary\":{\"bgcolor\":\"#E5ECF6\",\"aaxis\":{\"gridcolor\":\"white\",\"linecolor\":\"white\",\"ticks\":\"\"},\"baxis\":{\"gridcolor\":\"white\",\"linecolor\":\"white\",\"ticks\":\"\"},\"caxis\":{\"gridcolor\":\"white\",\"linecolor\":\"white\",\"ticks\":\"\"}},\"coloraxis\":{\"colorbar\":{\"outlinewidth\":0,\"ticks\":\"\"}},\"colorscale\":{\"sequential\":[[0.0,\"#0d0887\"],[0.1111111111111111,\"#46039f\"],[0.2222222222222222,\"#7201a8\"],[0.3333333333333333,\"#9c179e\"],[0.4444444444444444,\"#bd3786\"],[0.5555555555555556,\"#d8576b\"],[0.6666666666666666,\"#ed7953\"],[0.7777777777777778,\"#fb9f3a\"],[0.8888888888888888,\"#fdca26\"],[1.0,\"#f0f921\"]],\"sequentialminus\":[[0.0,\"#0d0887\"],[0.1111111111111111,\"#46039f\"],[0.2222222222222222,\"#7201a8\"],[0.3333333333333333,\"#9c179e\"],[0.4444444444444444,\"#bd3786\"],[0.5555555555555556,\"#d8576b\"],[0.6666666666666666,\"#ed7953\"],[0.7777777777777778,\"#fb9f3a\"],[0.8888888888888888,\"#fdca26\"],[1.0,\"#f0f921\"]],\"diverging\":[[0,\"#8e0152\"],[0.1,\"#c51b7d\"],[0.2,\"#de77ae\"],[0.3,\"#f1b6da\"],[0.4,\"#fde0ef\"],[0.5,\"#f7f7f7\"],[0.6,\"#e6f5d0\"],[0.7,\"#b8e186\"],[0.8,\"#7fbc41\"],[0.9,\"#4d9221\"],[1,\"#276419\"]]},\"xaxis\":{\"gridcolor\":\"white\",\"linecolor\":\"white\",\"ticks\":\"\",\"title\":{\"standoff\":15},\"zerolinecolor\":\"white\",\"automargin\":true,\"zerolinewidth\":2},\"yaxis\":{\"gridcolor\":\"white\",\"linecolor\":\"white\",\"ticks\":\"\",\"title\":{\"standoff\":15},\"zerolinecolor\":\"white\",\"automargin\":true,\"zerolinewidth\":2},\"scene\":{\"xaxis\":{\"backgroundcolor\":\"#E5ECF6\",\"gridcolor\":\"white\",\"linecolor\":\"white\",\"showbackground\":true,\"ticks\":\"\",\"zerolinecolor\":\"white\",\"gridwidth\":2},\"yaxis\":{\"backgroundcolor\":\"#E5ECF6\",\"gridcolor\":\"white\",\"linecolor\":\"white\",\"showbackground\":true,\"ticks\":\"\",\"zerolinecolor\":\"white\",\"gridwidth\":2},\"zaxis\":{\"backgroundcolor\":\"#E5ECF6\",\"gridcolor\":\"white\",\"linecolor\":\"white\",\"showbackground\":true,\"ticks\":\"\",\"zerolinecolor\":\"white\",\"gridwidth\":2}},\"shapedefaults\":{\"line\":{\"color\":\"#2a3f5f\"}},\"annotationdefaults\":{\"arrowcolor\":\"#2a3f5f\",\"arrowhead\":0,\"arrowwidth\":1},\"geo\":{\"bgcolor\":\"white\",\"landcolor\":\"#E5ECF6\",\"subunitcolor\":\"white\",\"showland\":true,\"showlakes\":true,\"lakecolor\":\"white\"},\"title\":{\"x\":0.05},\"mapbox\":{\"style\":\"light\"}}},\"xaxis\":{\"anchor\":\"y\",\"domain\":[0.0,1.0]},\"yaxis\":{\"anchor\":\"x\",\"domain\":[0.0,1.0],\"title\":{\"text\":\"Feature Values\"}},\"legend\":{\"tracegroupgap\":0},\"margin\":{\"t\":60},\"boxmode\":\"group\",\"title\":{\"text\":\"Box Plot of state\"}},                        {\"responsive\": true}                    ).then(function(){\n",
       "                            \n",
       "var gd = document.getElementById('b6407f06-03a0-41f2-80ca-0d5f93b76032');\n",
       "var x = new MutationObserver(function (mutations, observer) {{\n",
       "        var display = window.getComputedStyle(gd).display;\n",
       "        if (!display || display === 'none') {{\n",
       "            console.log([gd, 'removed!']);\n",
       "            Plotly.purge(gd);\n",
       "            observer.disconnect();\n",
       "        }}\n",
       "}});\n",
       "\n",
       "// Listen for the removal of the full notebook cells\n",
       "var notebookContainer = gd.closest('#notebook-container');\n",
       "if (notebookContainer) {{\n",
       "    x.observe(notebookContainer, {childList: true});\n",
       "}}\n",
       "\n",
       "// Listen for the clearing of the current output cell\n",
       "var outputEl = gd.closest('.output');\n",
       "if (outputEl) {{\n",
       "    x.observe(outputEl, {childList: true});\n",
       "}}\n",
       "\n",
       "                        })                };                });            </script>        </div>"
      ]
     },
     "metadata": {},
     "output_type": "display_data"
    },
    {
     "data": {
      "application/vnd.plotly.v1+json": {
       "config": {
        "plotlyServerURL": "https://plot.ly"
       },
       "data": [
        {
         "alignmentgroup": "True",
         "hovertemplate": "local_population=%{y}<extra></extra>",
         "legendgroup": "",
         "marker": {
          "color": "#636efa"
         },
         "name": "",
         "notched": false,
         "offsetgroup": "",
         "orientation": "v",
         "showlegend": false,
         "type": "box",
         "x0": " ",
         "xaxis": "x",
         "y": [
          7438,
          59715,
          29231,
          4884,
          12350,
          114856,
          1946,
          14344,
          78115,
          9258,
          11171,
          20036,
          97869,
          11627,
          14129,
          14266,
          199971,
          196180,
          60117,
          32409,
          46045,
          97805,
          8640,
          71384,
          6286,
          11641,
          54563,
          5278,
          19148,
          9304,
          17058,
          1341,
          3746,
          10939,
          55685,
          18516,
          22089,
          43837,
          9140,
          29250,
          9844,
          3914,
          14900,
          39097,
          30902,
          21767,
          240955,
          33287,
          58614,
          206518,
          6039,
          7795,
          125959,
          9916,
          22690,
          64172,
          53675,
          127374,
          98287,
          64177,
          10171,
          48770,
          30160,
          5847,
          90880,
          49377,
          23052,
          17447,
          6646,
          26890,
          35187,
          9594,
          70418,
          7353,
          2636,
          62301,
          14715,
          19418,
          9533,
          4421,
          77284,
          11060,
          115954,
          49380,
          16079,
          7436,
          10589,
          6552,
          177569,
          25963,
          69578,
          6202,
          26398,
          71529,
          15756,
          61766,
          7446,
          5634,
          32190,
          15075,
          41859,
          3048,
          44903,
          296056,
          21491,
          22791,
          26359,
          3422,
          33730,
          4423,
          14362,
          76334,
          10560,
          36361,
          60642,
          29107,
          5592,
          15796,
          156281,
          2907,
          16718,
          12681,
          24853,
          46547,
          110050,
          16811,
          49630,
          36306,
          35396,
          12532,
          8125,
          7332,
          10338,
          30384,
          47143,
          30439,
          12721,
          134050,
          100596,
          15460,
          9668,
          25090,
          78221,
          30723,
          38428,
          17817,
          34762,
          103212,
          17332,
          25420,
          28391,
          29253,
          5367,
          3372,
          7945,
          26054,
          38325,
          12956,
          87313,
          19088,
          22479,
          18143,
          25186,
          44555,
          42858,
          8969,
          101080,
          7369,
          23843,
          16741,
          7716,
          20432,
          10501,
          23692,
          32961,
          95983,
          29953,
          11953,
          14889,
          25336,
          24184,
          94806,
          88908,
          15384,
          12725,
          1708,
          12722,
          8283,
          15447,
          32584,
          26297,
          21376,
          26892,
          19417,
          26823,
          870,
          16826,
          19715,
          15658,
          17713,
          44503,
          12111,
          198929,
          43840,
          21888,
          17914,
          20201,
          8819,
          20026,
          29106,
          39322,
          39328,
          16733,
          5345,
          11281,
          110436,
          53963,
          31876,
          10288,
          22107,
          6275,
          12684,
          17237,
          15342,
          57331,
          5331,
          9270,
          5571,
          6391,
          24936,
          4445,
          46811,
          17209,
          23595,
          30412,
          14269,
          61851,
          18136,
          39898,
          18050,
          29463,
          29134,
          28282,
          8314,
          34060,
          16011,
          41377,
          2559,
          5089,
          31680,
          141907,
          50770,
          11132,
          4056,
          46290,
          20321,
          39763,
          24718,
          22689,
          424482,
          21892,
          18784,
          19507,
          12289,
          59286,
          15464,
          41604,
          29278,
          74532,
          33529,
          6546,
          5846,
          90072,
          11984,
          5881,
          11275,
          78013,
          5323,
          9260,
          11307,
          6303,
          6739,
          4827,
          13888,
          15446,
          11131,
          4215,
          77137,
          5831,
          29087,
          7519,
          42973,
          57287,
          9158,
          3217,
          44169,
          143746,
          33379,
          25862,
          49999,
          47337,
          9614,
          11394,
          40584,
          19072,
          82175,
          10891,
          46658,
          31028,
          19410,
          71390,
          43481,
          8063,
          41782,
          87116,
          19333,
          17177,
          11275,
          21729,
          43748,
          9724,
          5731,
          15127,
          5543,
          37169,
          14376,
          3807,
          15543,
          18167,
          34515,
          19046,
          142732,
          13112,
          20694,
          19872,
          16604,
          25398,
          37844,
          84128,
          4586,
          13222,
          14076,
          56266,
          15419,
          3310,
          24046,
          21297,
          26364,
          7784,
          122889,
          15933,
          18246,
          8955,
          8682,
          6485,
          14864,
          8454,
          172210,
          3333,
          7127,
          14744,
          43195,
          14563,
          43302,
          8211,
          23372,
          126000,
          8369,
          33509,
          27090,
          2318,
          12222,
          68265,
          25212,
          6553,
          43949,
          13642,
          31573,
          32110,
          7196,
          48525,
          8042,
          5968,
          9110,
          15583,
          24573,
          10172,
          46389,
          28324,
          10995,
          53583,
          70338,
          19957,
          17766,
          3738,
          14654,
          16457,
          28152,
          18612,
          28114,
          102139,
          12966,
          13481,
          5948,
          21837,
          58502,
          3824,
          11318,
          22833,
          51539,
          32302,
          30499,
          17601,
          35663,
          60737,
          3988,
          45640,
          19955,
          12965,
          1914,
          5539,
          120338,
          11064,
          7445,
          13955,
          10455,
          24943,
          100406,
          12251,
          25701,
          6994,
          100727,
          26610,
          7466,
          54410,
          73130,
          25886,
          4275,
          131291,
          30035,
          71001,
          12697,
          14785,
          24599,
          67064,
          25412,
          6268,
          28624,
          112368,
          23525,
          25069,
          6232,
          5415,
          11641,
          15891,
          24442,
          26003,
          109306,
          23358,
          63858,
          21177,
          93798,
          3393,
          12104,
          58867,
          18553,
          55912,
          32373,
          56720,
          40663,
          43202,
          97974,
          59070,
          59504,
          22481,
          12310,
          11389,
          46674,
          1923,
          5960,
          8406,
          17195,
          1585,
          77553,
          40142,
          160265,
          63717,
          61721,
          209123,
          12445,
          4898,
          17460,
          9653,
          17037,
          7706,
          38866,
          36790,
          21441,
          30079,
          19110,
          46725,
          23615,
          16891,
          55803,
          77716,
          83906,
          8182,
          12907,
          4018,
          17352,
          33394,
          19287,
          151881,
          14679,
          7417,
          38890,
          25589,
          38164,
          29845,
          28107,
          2638,
          10656,
          12206,
          15553,
          14067,
          33284,
          40170,
          7104,
          43774,
          39568,
          35093,
          5335,
          34221,
          23923,
          57577,
          131184,
          107804,
          24653,
          21985,
          41438,
          7223,
          5163,
          13732,
          74650,
          15817,
          98971,
          1355,
          4504,
          19464,
          53541,
          20545,
          20017,
          19502,
          3779,
          70127,
          11128,
          65482,
          20527,
          64097,
          31047,
          19798,
          27619,
          5049,
          22160,
          122521,
          81487,
          8225,
          36523,
          28225,
          49871,
          24201,
          17440,
          83336,
          27348,
          77301,
          58360,
          15923,
          18639,
          151726,
          26675,
          10315,
          6634,
          58345,
          25856,
          9976,
          43243,
          25842,
          4186,
          39683,
          83549,
          284888,
          22809,
          27796,
          109820,
          26075,
          29008,
          11724,
          5462,
          54868,
          6164,
          68917,
          10015,
          28717,
          15180,
          71296,
          29758,
          156232,
          7453,
          33318,
          23094,
          29142,
          108654,
          39550,
          6992,
          37553,
          14536,
          13720,
          62684,
          12060,
          15067,
          22752,
          56737,
          39403,
          17424,
          16778,
          6904,
          10303,
          11449,
          18972,
          160615,
          11210,
          16386,
          2829,
          40158,
          4548,
          8896,
          62463,
          2684,
          24244,
          49066,
          101260,
          8777,
          11801,
          133845,
          21481,
          10548,
          10748,
          8329,
          14190,
          65396,
          53518,
          6807,
          27298,
          14733,
          48168,
          18838,
          31937,
          18796,
          2472,
          23086,
          6175,
          46496,
          11161,
          12028,
          21831,
          39253,
          18588,
          113798,
          114556,
          122451,
          17425,
          5004,
          74614,
          14525,
          22883,
          41288,
          4427,
          112322,
          52837,
          31328,
          53686,
          38444,
          24756,
          16191,
          10518,
          29355,
          31609,
          65069,
          26921,
          9384,
          4554,
          19389,
          21430,
          19968,
          4767,
          64503,
          64385,
          9669,
          49315,
          57116,
          22890,
          8531,
          110568,
          32239,
          17136,
          47708,
          111548,
          13398,
          43977,
          153762,
          7212,
          12718,
          12114,
          18801,
          17855,
          29756,
          9698,
          11817,
          29771,
          25717,
          52790,
          33168,
          47660,
          7024,
          15012,
          139858,
          32600,
          46509,
          28933,
          33703,
          17485,
          783541,
          14822,
          21198,
          1949,
          66587,
          12680,
          20727,
          12990,
          19174,
          16577,
          21099,
          20894,
          18879,
          18622,
          81513,
          53179,
          53500,
          10589,
          77406,
          68299,
          12665,
          101099,
          11123,
          3491,
          66272,
          19545,
          58508,
          10361,
          6237,
          75499,
          5392,
          4624,
          3211,
          1347,
          7792,
          2516,
          21256,
          2353,
          7374,
          226854,
          31105,
          23221,
          4356,
          17230,
          23112,
          4424,
          24989,
          72492,
          15549,
          18084,
          2858,
          5436,
          63430,
          11367,
          8693,
          11019,
          20796,
          6916,
          24997,
          5653,
          47763,
          7654,
          82476,
          21807,
          9456,
          54801,
          5572,
          12746,
          22025,
          19513,
          2955,
          8772,
          26062,
          5885,
          78153,
          36141,
          13171,
          17671,
          141714,
          56162,
          32216,
          5348,
          112377,
          63095,
          18989,
          12712,
          18253,
          6621,
          13756,
          47248,
          3613,
          16090,
          24680,
          24430,
          6775,
          6754,
          65458,
          6473,
          60394,
          13597,
          64848,
          14457,
          6860,
          51873,
          21647,
          93768,
          53755,
          17511,
          14049,
          22547,
          26641,
          9120,
          51120,
          14804,
          14429,
          12827,
          27751,
          11025,
          25209,
          350320,
          20877,
          14271,
          4156,
          23161,
          7265,
          15130,
          25632,
          3901,
          25783,
          29867,
          6020,
          14879,
          3531,
          106457,
          30655,
          18406,
          18705,
          68285,
          20047,
          30663,
          100572,
          15581,
          7386,
          9658,
          91919,
          24135,
          13329,
          58317,
          59752,
          13689,
          8334,
          4580,
          3663,
          16899,
          9016,
          141277,
          23354,
          3158,
          91010,
          25893,
          44577,
          43566,
          29630,
          37173,
          27966,
          7285,
          31784,
          61323,
          17853,
          38227,
          33510,
          135354,
          17107,
          16449,
          19596,
          19883,
          2270,
          11584,
          29729,
          21845,
          9904,
          11330,
          15435,
          9882,
          13187,
          12844,
          53926,
          60864,
          56027,
          33749,
          10847,
          57517,
          16087,
          22540,
          83970,
          23956,
          5363,
          35847,
          8267,
          60593,
          18314,
          2354,
          15398,
          17535,
          35792,
          43067,
          15871,
          60650,
          928,
          10786,
          7242,
          6284,
          57510,
          50472,
          10140,
          71543,
          24379,
          14448,
          11016,
          10115,
          35340,
          42199,
          27959,
          2835,
          29625,
          38770,
          11280,
          23000,
          3416,
          6438,
          15927,
          16159,
          31310,
          6722,
          15659,
          13497,
          37347,
          91221,
          123121,
          4590,
          20994,
          7241,
          20646,
          33621,
          23897,
          20973,
          97056,
          45297,
          16770,
          22566,
          52622,
          40530,
          14399,
          3732,
          6737,
          25488,
          3690,
          18913,
          13995,
          59829,
          5896,
          3191,
          14478,
          41555,
          64210,
          8872,
          35252,
          7249
         ],
         "y0": " ",
         "yaxis": "y"
        }
       ],
       "layout": {
        "boxmode": "group",
        "legend": {
         "tracegroupgap": 0
        },
        "margin": {
         "t": 60
        },
        "template": {
         "data": {
          "bar": [
           {
            "error_x": {
             "color": "#2a3f5f"
            },
            "error_y": {
             "color": "#2a3f5f"
            },
            "marker": {
             "line": {
              "color": "#E5ECF6",
              "width": 0.5
             },
             "pattern": {
              "fillmode": "overlay",
              "size": 10,
              "solidity": 0.2
             }
            },
            "type": "bar"
           }
          ],
          "barpolar": [
           {
            "marker": {
             "line": {
              "color": "#E5ECF6",
              "width": 0.5
             },
             "pattern": {
              "fillmode": "overlay",
              "size": 10,
              "solidity": 0.2
             }
            },
            "type": "barpolar"
           }
          ],
          "carpet": [
           {
            "aaxis": {
             "endlinecolor": "#2a3f5f",
             "gridcolor": "white",
             "linecolor": "white",
             "minorgridcolor": "white",
             "startlinecolor": "#2a3f5f"
            },
            "baxis": {
             "endlinecolor": "#2a3f5f",
             "gridcolor": "white",
             "linecolor": "white",
             "minorgridcolor": "white",
             "startlinecolor": "#2a3f5f"
            },
            "type": "carpet"
           }
          ],
          "choropleth": [
           {
            "colorbar": {
             "outlinewidth": 0,
             "ticks": ""
            },
            "type": "choropleth"
           }
          ],
          "contour": [
           {
            "colorbar": {
             "outlinewidth": 0,
             "ticks": ""
            },
            "colorscale": [
             [
              0,
              "#0d0887"
             ],
             [
              0.1111111111111111,
              "#46039f"
             ],
             [
              0.2222222222222222,
              "#7201a8"
             ],
             [
              0.3333333333333333,
              "#9c179e"
             ],
             [
              0.4444444444444444,
              "#bd3786"
             ],
             [
              0.5555555555555556,
              "#d8576b"
             ],
             [
              0.6666666666666666,
              "#ed7953"
             ],
             [
              0.7777777777777778,
              "#fb9f3a"
             ],
             [
              0.8888888888888888,
              "#fdca26"
             ],
             [
              1,
              "#f0f921"
             ]
            ],
            "type": "contour"
           }
          ],
          "contourcarpet": [
           {
            "colorbar": {
             "outlinewidth": 0,
             "ticks": ""
            },
            "type": "contourcarpet"
           }
          ],
          "heatmap": [
           {
            "colorbar": {
             "outlinewidth": 0,
             "ticks": ""
            },
            "colorscale": [
             [
              0,
              "#0d0887"
             ],
             [
              0.1111111111111111,
              "#46039f"
             ],
             [
              0.2222222222222222,
              "#7201a8"
             ],
             [
              0.3333333333333333,
              "#9c179e"
             ],
             [
              0.4444444444444444,
              "#bd3786"
             ],
             [
              0.5555555555555556,
              "#d8576b"
             ],
             [
              0.6666666666666666,
              "#ed7953"
             ],
             [
              0.7777777777777778,
              "#fb9f3a"
             ],
             [
              0.8888888888888888,
              "#fdca26"
             ],
             [
              1,
              "#f0f921"
             ]
            ],
            "type": "heatmap"
           }
          ],
          "heatmapgl": [
           {
            "colorbar": {
             "outlinewidth": 0,
             "ticks": ""
            },
            "colorscale": [
             [
              0,
              "#0d0887"
             ],
             [
              0.1111111111111111,
              "#46039f"
             ],
             [
              0.2222222222222222,
              "#7201a8"
             ],
             [
              0.3333333333333333,
              "#9c179e"
             ],
             [
              0.4444444444444444,
              "#bd3786"
             ],
             [
              0.5555555555555556,
              "#d8576b"
             ],
             [
              0.6666666666666666,
              "#ed7953"
             ],
             [
              0.7777777777777778,
              "#fb9f3a"
             ],
             [
              0.8888888888888888,
              "#fdca26"
             ],
             [
              1,
              "#f0f921"
             ]
            ],
            "type": "heatmapgl"
           }
          ],
          "histogram": [
           {
            "marker": {
             "pattern": {
              "fillmode": "overlay",
              "size": 10,
              "solidity": 0.2
             }
            },
            "type": "histogram"
           }
          ],
          "histogram2d": [
           {
            "colorbar": {
             "outlinewidth": 0,
             "ticks": ""
            },
            "colorscale": [
             [
              0,
              "#0d0887"
             ],
             [
              0.1111111111111111,
              "#46039f"
             ],
             [
              0.2222222222222222,
              "#7201a8"
             ],
             [
              0.3333333333333333,
              "#9c179e"
             ],
             [
              0.4444444444444444,
              "#bd3786"
             ],
             [
              0.5555555555555556,
              "#d8576b"
             ],
             [
              0.6666666666666666,
              "#ed7953"
             ],
             [
              0.7777777777777778,
              "#fb9f3a"
             ],
             [
              0.8888888888888888,
              "#fdca26"
             ],
             [
              1,
              "#f0f921"
             ]
            ],
            "type": "histogram2d"
           }
          ],
          "histogram2dcontour": [
           {
            "colorbar": {
             "outlinewidth": 0,
             "ticks": ""
            },
            "colorscale": [
             [
              0,
              "#0d0887"
             ],
             [
              0.1111111111111111,
              "#46039f"
             ],
             [
              0.2222222222222222,
              "#7201a8"
             ],
             [
              0.3333333333333333,
              "#9c179e"
             ],
             [
              0.4444444444444444,
              "#bd3786"
             ],
             [
              0.5555555555555556,
              "#d8576b"
             ],
             [
              0.6666666666666666,
              "#ed7953"
             ],
             [
              0.7777777777777778,
              "#fb9f3a"
             ],
             [
              0.8888888888888888,
              "#fdca26"
             ],
             [
              1,
              "#f0f921"
             ]
            ],
            "type": "histogram2dcontour"
           }
          ],
          "mesh3d": [
           {
            "colorbar": {
             "outlinewidth": 0,
             "ticks": ""
            },
            "type": "mesh3d"
           }
          ],
          "parcoords": [
           {
            "line": {
             "colorbar": {
              "outlinewidth": 0,
              "ticks": ""
             }
            },
            "type": "parcoords"
           }
          ],
          "pie": [
           {
            "automargin": true,
            "type": "pie"
           }
          ],
          "scatter": [
           {
            "fillpattern": {
             "fillmode": "overlay",
             "size": 10,
             "solidity": 0.2
            },
            "type": "scatter"
           }
          ],
          "scatter3d": [
           {
            "line": {
             "colorbar": {
              "outlinewidth": 0,
              "ticks": ""
             }
            },
            "marker": {
             "colorbar": {
              "outlinewidth": 0,
              "ticks": ""
             }
            },
            "type": "scatter3d"
           }
          ],
          "scattercarpet": [
           {
            "marker": {
             "colorbar": {
              "outlinewidth": 0,
              "ticks": ""
             }
            },
            "type": "scattercarpet"
           }
          ],
          "scattergeo": [
           {
            "marker": {
             "colorbar": {
              "outlinewidth": 0,
              "ticks": ""
             }
            },
            "type": "scattergeo"
           }
          ],
          "scattergl": [
           {
            "marker": {
             "colorbar": {
              "outlinewidth": 0,
              "ticks": ""
             }
            },
            "type": "scattergl"
           }
          ],
          "scattermapbox": [
           {
            "marker": {
             "colorbar": {
              "outlinewidth": 0,
              "ticks": ""
             }
            },
            "type": "scattermapbox"
           }
          ],
          "scatterpolar": [
           {
            "marker": {
             "colorbar": {
              "outlinewidth": 0,
              "ticks": ""
             }
            },
            "type": "scatterpolar"
           }
          ],
          "scatterpolargl": [
           {
            "marker": {
             "colorbar": {
              "outlinewidth": 0,
              "ticks": ""
             }
            },
            "type": "scatterpolargl"
           }
          ],
          "scatterternary": [
           {
            "marker": {
             "colorbar": {
              "outlinewidth": 0,
              "ticks": ""
             }
            },
            "type": "scatterternary"
           }
          ],
          "surface": [
           {
            "colorbar": {
             "outlinewidth": 0,
             "ticks": ""
            },
            "colorscale": [
             [
              0,
              "#0d0887"
             ],
             [
              0.1111111111111111,
              "#46039f"
             ],
             [
              0.2222222222222222,
              "#7201a8"
             ],
             [
              0.3333333333333333,
              "#9c179e"
             ],
             [
              0.4444444444444444,
              "#bd3786"
             ],
             [
              0.5555555555555556,
              "#d8576b"
             ],
             [
              0.6666666666666666,
              "#ed7953"
             ],
             [
              0.7777777777777778,
              "#fb9f3a"
             ],
             [
              0.8888888888888888,
              "#fdca26"
             ],
             [
              1,
              "#f0f921"
             ]
            ],
            "type": "surface"
           }
          ],
          "table": [
           {
            "cells": {
             "fill": {
              "color": "#EBF0F8"
             },
             "line": {
              "color": "white"
             }
            },
            "header": {
             "fill": {
              "color": "#C8D4E3"
             },
             "line": {
              "color": "white"
             }
            },
            "type": "table"
           }
          ]
         },
         "layout": {
          "annotationdefaults": {
           "arrowcolor": "#2a3f5f",
           "arrowhead": 0,
           "arrowwidth": 1
          },
          "autotypenumbers": "strict",
          "coloraxis": {
           "colorbar": {
            "outlinewidth": 0,
            "ticks": ""
           }
          },
          "colorscale": {
           "diverging": [
            [
             0,
             "#8e0152"
            ],
            [
             0.1,
             "#c51b7d"
            ],
            [
             0.2,
             "#de77ae"
            ],
            [
             0.3,
             "#f1b6da"
            ],
            [
             0.4,
             "#fde0ef"
            ],
            [
             0.5,
             "#f7f7f7"
            ],
            [
             0.6,
             "#e6f5d0"
            ],
            [
             0.7,
             "#b8e186"
            ],
            [
             0.8,
             "#7fbc41"
            ],
            [
             0.9,
             "#4d9221"
            ],
            [
             1,
             "#276419"
            ]
           ],
           "sequential": [
            [
             0,
             "#0d0887"
            ],
            [
             0.1111111111111111,
             "#46039f"
            ],
            [
             0.2222222222222222,
             "#7201a8"
            ],
            [
             0.3333333333333333,
             "#9c179e"
            ],
            [
             0.4444444444444444,
             "#bd3786"
            ],
            [
             0.5555555555555556,
             "#d8576b"
            ],
            [
             0.6666666666666666,
             "#ed7953"
            ],
            [
             0.7777777777777778,
             "#fb9f3a"
            ],
            [
             0.8888888888888888,
             "#fdca26"
            ],
            [
             1,
             "#f0f921"
            ]
           ],
           "sequentialminus": [
            [
             0,
             "#0d0887"
            ],
            [
             0.1111111111111111,
             "#46039f"
            ],
            [
             0.2222222222222222,
             "#7201a8"
            ],
            [
             0.3333333333333333,
             "#9c179e"
            ],
            [
             0.4444444444444444,
             "#bd3786"
            ],
            [
             0.5555555555555556,
             "#d8576b"
            ],
            [
             0.6666666666666666,
             "#ed7953"
            ],
            [
             0.7777777777777778,
             "#fb9f3a"
            ],
            [
             0.8888888888888888,
             "#fdca26"
            ],
            [
             1,
             "#f0f921"
            ]
           ]
          },
          "colorway": [
           "#636efa",
           "#EF553B",
           "#00cc96",
           "#ab63fa",
           "#FFA15A",
           "#19d3f3",
           "#FF6692",
           "#B6E880",
           "#FF97FF",
           "#FECB52"
          ],
          "font": {
           "color": "#2a3f5f"
          },
          "geo": {
           "bgcolor": "white",
           "lakecolor": "white",
           "landcolor": "#E5ECF6",
           "showlakes": true,
           "showland": true,
           "subunitcolor": "white"
          },
          "hoverlabel": {
           "align": "left"
          },
          "hovermode": "closest",
          "mapbox": {
           "style": "light"
          },
          "paper_bgcolor": "white",
          "plot_bgcolor": "#E5ECF6",
          "polar": {
           "angularaxis": {
            "gridcolor": "white",
            "linecolor": "white",
            "ticks": ""
           },
           "bgcolor": "#E5ECF6",
           "radialaxis": {
            "gridcolor": "white",
            "linecolor": "white",
            "ticks": ""
           }
          },
          "scene": {
           "xaxis": {
            "backgroundcolor": "#E5ECF6",
            "gridcolor": "white",
            "gridwidth": 2,
            "linecolor": "white",
            "showbackground": true,
            "ticks": "",
            "zerolinecolor": "white"
           },
           "yaxis": {
            "backgroundcolor": "#E5ECF6",
            "gridcolor": "white",
            "gridwidth": 2,
            "linecolor": "white",
            "showbackground": true,
            "ticks": "",
            "zerolinecolor": "white"
           },
           "zaxis": {
            "backgroundcolor": "#E5ECF6",
            "gridcolor": "white",
            "gridwidth": 2,
            "linecolor": "white",
            "showbackground": true,
            "ticks": "",
            "zerolinecolor": "white"
           }
          },
          "shapedefaults": {
           "line": {
            "color": "#2a3f5f"
           }
          },
          "ternary": {
           "aaxis": {
            "gridcolor": "white",
            "linecolor": "white",
            "ticks": ""
           },
           "baxis": {
            "gridcolor": "white",
            "linecolor": "white",
            "ticks": ""
           },
           "bgcolor": "#E5ECF6",
           "caxis": {
            "gridcolor": "white",
            "linecolor": "white",
            "ticks": ""
           }
          },
          "title": {
           "x": 0.05
          },
          "xaxis": {
           "automargin": true,
           "gridcolor": "white",
           "linecolor": "white",
           "ticks": "",
           "title": {
            "standoff": 15
           },
           "zerolinecolor": "white",
           "zerolinewidth": 2
          },
          "yaxis": {
           "automargin": true,
           "gridcolor": "white",
           "linecolor": "white",
           "ticks": "",
           "title": {
            "standoff": 15
           },
           "zerolinecolor": "white",
           "zerolinewidth": 2
          }
         }
        },
        "title": {
         "text": "Box Plot of local_population"
        },
        "xaxis": {
         "anchor": "y",
         "domain": [
          0,
          1
         ]
        },
        "yaxis": {
         "anchor": "x",
         "domain": [
          0,
          1
         ],
         "title": {
          "text": "Feature Values"
         }
        }
       }
      },
      "text/html": [
       "<div>                            <div id=\"551de566-4106-46eb-b5c1-082f6e749299\" class=\"plotly-graph-div\" style=\"height:525px; width:100%;\"></div>            <script type=\"text/javascript\">                require([\"plotly\"], function(Plotly) {                    window.PLOTLYENV=window.PLOTLYENV || {};                                    if (document.getElementById(\"551de566-4106-46eb-b5c1-082f6e749299\")) {                    Plotly.newPlot(                        \"551de566-4106-46eb-b5c1-082f6e749299\",                        [{\"alignmentgroup\":\"True\",\"hovertemplate\":\"local_population=%{y}<extra></extra>\",\"legendgroup\":\"\",\"marker\":{\"color\":\"#636efa\"},\"name\":\"\",\"notched\":false,\"offsetgroup\":\"\",\"orientation\":\"v\",\"showlegend\":false,\"x0\":\" \",\"xaxis\":\"x\",\"y\":[7438,59715,29231,4884,12350,114856,1946,14344,78115,9258,11171,20036,97869,11627,14129,14266,199971,196180,60117,32409,46045,97805,8640,71384,6286,11641,54563,5278,19148,9304,17058,1341,3746,10939,55685,18516,22089,43837,9140,29250,9844,3914,14900,39097,30902,21767,240955,33287,58614,206518,6039,7795,125959,9916,22690,64172,53675,127374,98287,64177,10171,48770,30160,5847,90880,49377,23052,17447,6646,26890,35187,9594,70418,7353,2636,62301,14715,19418,9533,4421,77284,11060,115954,49380,16079,7436,10589,6552,177569,25963,69578,6202,26398,71529,15756,61766,7446,5634,32190,15075,41859,3048,44903,296056,21491,22791,26359,3422,33730,4423,14362,76334,10560,36361,60642,29107,5592,15796,156281,2907,16718,12681,24853,46547,110050,16811,49630,36306,35396,12532,8125,7332,10338,30384,47143,30439,12721,134050,100596,15460,9668,25090,78221,30723,38428,17817,34762,103212,17332,25420,28391,29253,5367,3372,7945,26054,38325,12956,87313,19088,22479,18143,25186,44555,42858,8969,101080,7369,23843,16741,7716,20432,10501,23692,32961,95983,29953,11953,14889,25336,24184,94806,88908,15384,12725,1708,12722,8283,15447,32584,26297,21376,26892,19417,26823,870,16826,19715,15658,17713,44503,12111,198929,43840,21888,17914,20201,8819,20026,29106,39322,39328,16733,5345,11281,110436,53963,31876,10288,22107,6275,12684,17237,15342,57331,5331,9270,5571,6391,24936,4445,46811,17209,23595,30412,14269,61851,18136,39898,18050,29463,29134,28282,8314,34060,16011,41377,2559,5089,31680,141907,50770,11132,4056,46290,20321,39763,24718,22689,424482,21892,18784,19507,12289,59286,15464,41604,29278,74532,33529,6546,5846,90072,11984,5881,11275,78013,5323,9260,11307,6303,6739,4827,13888,15446,11131,4215,77137,5831,29087,7519,42973,57287,9158,3217,44169,143746,33379,25862,49999,47337,9614,11394,40584,19072,82175,10891,46658,31028,19410,71390,43481,8063,41782,87116,19333,17177,11275,21729,43748,9724,5731,15127,5543,37169,14376,3807,15543,18167,34515,19046,142732,13112,20694,19872,16604,25398,37844,84128,4586,13222,14076,56266,15419,3310,24046,21297,26364,7784,122889,15933,18246,8955,8682,6485,14864,8454,172210,3333,7127,14744,43195,14563,43302,8211,23372,126000,8369,33509,27090,2318,12222,68265,25212,6553,43949,13642,31573,32110,7196,48525,8042,5968,9110,15583,24573,10172,46389,28324,10995,53583,70338,19957,17766,3738,14654,16457,28152,18612,28114,102139,12966,13481,5948,21837,58502,3824,11318,22833,51539,32302,30499,17601,35663,60737,3988,45640,19955,12965,1914,5539,120338,11064,7445,13955,10455,24943,100406,12251,25701,6994,100727,26610,7466,54410,73130,25886,4275,131291,30035,71001,12697,14785,24599,67064,25412,6268,28624,112368,23525,25069,6232,5415,11641,15891,24442,26003,109306,23358,63858,21177,93798,3393,12104,58867,18553,55912,32373,56720,40663,43202,97974,59070,59504,22481,12310,11389,46674,1923,5960,8406,17195,1585,77553,40142,160265,63717,61721,209123,12445,4898,17460,9653,17037,7706,38866,36790,21441,30079,19110,46725,23615,16891,55803,77716,83906,8182,12907,4018,17352,33394,19287,151881,14679,7417,38890,25589,38164,29845,28107,2638,10656,12206,15553,14067,33284,40170,7104,43774,39568,35093,5335,34221,23923,57577,131184,107804,24653,21985,41438,7223,5163,13732,74650,15817,98971,1355,4504,19464,53541,20545,20017,19502,3779,70127,11128,65482,20527,64097,31047,19798,27619,5049,22160,122521,81487,8225,36523,28225,49871,24201,17440,83336,27348,77301,58360,15923,18639,151726,26675,10315,6634,58345,25856,9976,43243,25842,4186,39683,83549,284888,22809,27796,109820,26075,29008,11724,5462,54868,6164,68917,10015,28717,15180,71296,29758,156232,7453,33318,23094,29142,108654,39550,6992,37553,14536,13720,62684,12060,15067,22752,56737,39403,17424,16778,6904,10303,11449,18972,160615,11210,16386,2829,40158,4548,8896,62463,2684,24244,49066,101260,8777,11801,133845,21481,10548,10748,8329,14190,65396,53518,6807,27298,14733,48168,18838,31937,18796,2472,23086,6175,46496,11161,12028,21831,39253,18588,113798,114556,122451,17425,5004,74614,14525,22883,41288,4427,112322,52837,31328,53686,38444,24756,16191,10518,29355,31609,65069,26921,9384,4554,19389,21430,19968,4767,64503,64385,9669,49315,57116,22890,8531,110568,32239,17136,47708,111548,13398,43977,153762,7212,12718,12114,18801,17855,29756,9698,11817,29771,25717,52790,33168,47660,7024,15012,139858,32600,46509,28933,33703,17485,783541,14822,21198,1949,66587,12680,20727,12990,19174,16577,21099,20894,18879,18622,81513,53179,53500,10589,77406,68299,12665,101099,11123,3491,66272,19545,58508,10361,6237,75499,5392,4624,3211,1347,7792,2516,21256,2353,7374,226854,31105,23221,4356,17230,23112,4424,24989,72492,15549,18084,2858,5436,63430,11367,8693,11019,20796,6916,24997,5653,47763,7654,82476,21807,9456,54801,5572,12746,22025,19513,2955,8772,26062,5885,78153,36141,13171,17671,141714,56162,32216,5348,112377,63095,18989,12712,18253,6621,13756,47248,3613,16090,24680,24430,6775,6754,65458,6473,60394,13597,64848,14457,6860,51873,21647,93768,53755,17511,14049,22547,26641,9120,51120,14804,14429,12827,27751,11025,25209,350320,20877,14271,4156,23161,7265,15130,25632,3901,25783,29867,6020,14879,3531,106457,30655,18406,18705,68285,20047,30663,100572,15581,7386,9658,91919,24135,13329,58317,59752,13689,8334,4580,3663,16899,9016,141277,23354,3158,91010,25893,44577,43566,29630,37173,27966,7285,31784,61323,17853,38227,33510,135354,17107,16449,19596,19883,2270,11584,29729,21845,9904,11330,15435,9882,13187,12844,53926,60864,56027,33749,10847,57517,16087,22540,83970,23956,5363,35847,8267,60593,18314,2354,15398,17535,35792,43067,15871,60650,928,10786,7242,6284,57510,50472,10140,71543,24379,14448,11016,10115,35340,42199,27959,2835,29625,38770,11280,23000,3416,6438,15927,16159,31310,6722,15659,13497,37347,91221,123121,4590,20994,7241,20646,33621,23897,20973,97056,45297,16770,22566,52622,40530,14399,3732,6737,25488,3690,18913,13995,59829,5896,3191,14478,41555,64210,8872,35252,7249],\"y0\":\" \",\"yaxis\":\"y\",\"type\":\"box\"}],                        {\"template\":{\"data\":{\"histogram2dcontour\":[{\"type\":\"histogram2dcontour\",\"colorbar\":{\"outlinewidth\":0,\"ticks\":\"\"},\"colorscale\":[[0.0,\"#0d0887\"],[0.1111111111111111,\"#46039f\"],[0.2222222222222222,\"#7201a8\"],[0.3333333333333333,\"#9c179e\"],[0.4444444444444444,\"#bd3786\"],[0.5555555555555556,\"#d8576b\"],[0.6666666666666666,\"#ed7953\"],[0.7777777777777778,\"#fb9f3a\"],[0.8888888888888888,\"#fdca26\"],[1.0,\"#f0f921\"]]}],\"choropleth\":[{\"type\":\"choropleth\",\"colorbar\":{\"outlinewidth\":0,\"ticks\":\"\"}}],\"histogram2d\":[{\"type\":\"histogram2d\",\"colorbar\":{\"outlinewidth\":0,\"ticks\":\"\"},\"colorscale\":[[0.0,\"#0d0887\"],[0.1111111111111111,\"#46039f\"],[0.2222222222222222,\"#7201a8\"],[0.3333333333333333,\"#9c179e\"],[0.4444444444444444,\"#bd3786\"],[0.5555555555555556,\"#d8576b\"],[0.6666666666666666,\"#ed7953\"],[0.7777777777777778,\"#fb9f3a\"],[0.8888888888888888,\"#fdca26\"],[1.0,\"#f0f921\"]]}],\"heatmap\":[{\"type\":\"heatmap\",\"colorbar\":{\"outlinewidth\":0,\"ticks\":\"\"},\"colorscale\":[[0.0,\"#0d0887\"],[0.1111111111111111,\"#46039f\"],[0.2222222222222222,\"#7201a8\"],[0.3333333333333333,\"#9c179e\"],[0.4444444444444444,\"#bd3786\"],[0.5555555555555556,\"#d8576b\"],[0.6666666666666666,\"#ed7953\"],[0.7777777777777778,\"#fb9f3a\"],[0.8888888888888888,\"#fdca26\"],[1.0,\"#f0f921\"]]}],\"heatmapgl\":[{\"type\":\"heatmapgl\",\"colorbar\":{\"outlinewidth\":0,\"ticks\":\"\"},\"colorscale\":[[0.0,\"#0d0887\"],[0.1111111111111111,\"#46039f\"],[0.2222222222222222,\"#7201a8\"],[0.3333333333333333,\"#9c179e\"],[0.4444444444444444,\"#bd3786\"],[0.5555555555555556,\"#d8576b\"],[0.6666666666666666,\"#ed7953\"],[0.7777777777777778,\"#fb9f3a\"],[0.8888888888888888,\"#fdca26\"],[1.0,\"#f0f921\"]]}],\"contourcarpet\":[{\"type\":\"contourcarpet\",\"colorbar\":{\"outlinewidth\":0,\"ticks\":\"\"}}],\"contour\":[{\"type\":\"contour\",\"colorbar\":{\"outlinewidth\":0,\"ticks\":\"\"},\"colorscale\":[[0.0,\"#0d0887\"],[0.1111111111111111,\"#46039f\"],[0.2222222222222222,\"#7201a8\"],[0.3333333333333333,\"#9c179e\"],[0.4444444444444444,\"#bd3786\"],[0.5555555555555556,\"#d8576b\"],[0.6666666666666666,\"#ed7953\"],[0.7777777777777778,\"#fb9f3a\"],[0.8888888888888888,\"#fdca26\"],[1.0,\"#f0f921\"]]}],\"surface\":[{\"type\":\"surface\",\"colorbar\":{\"outlinewidth\":0,\"ticks\":\"\"},\"colorscale\":[[0.0,\"#0d0887\"],[0.1111111111111111,\"#46039f\"],[0.2222222222222222,\"#7201a8\"],[0.3333333333333333,\"#9c179e\"],[0.4444444444444444,\"#bd3786\"],[0.5555555555555556,\"#d8576b\"],[0.6666666666666666,\"#ed7953\"],[0.7777777777777778,\"#fb9f3a\"],[0.8888888888888888,\"#fdca26\"],[1.0,\"#f0f921\"]]}],\"mesh3d\":[{\"type\":\"mesh3d\",\"colorbar\":{\"outlinewidth\":0,\"ticks\":\"\"}}],\"scatter\":[{\"fillpattern\":{\"fillmode\":\"overlay\",\"size\":10,\"solidity\":0.2},\"type\":\"scatter\"}],\"parcoords\":[{\"type\":\"parcoords\",\"line\":{\"colorbar\":{\"outlinewidth\":0,\"ticks\":\"\"}}}],\"scatterpolargl\":[{\"type\":\"scatterpolargl\",\"marker\":{\"colorbar\":{\"outlinewidth\":0,\"ticks\":\"\"}}}],\"bar\":[{\"error_x\":{\"color\":\"#2a3f5f\"},\"error_y\":{\"color\":\"#2a3f5f\"},\"marker\":{\"line\":{\"color\":\"#E5ECF6\",\"width\":0.5},\"pattern\":{\"fillmode\":\"overlay\",\"size\":10,\"solidity\":0.2}},\"type\":\"bar\"}],\"scattergeo\":[{\"type\":\"scattergeo\",\"marker\":{\"colorbar\":{\"outlinewidth\":0,\"ticks\":\"\"}}}],\"scatterpolar\":[{\"type\":\"scatterpolar\",\"marker\":{\"colorbar\":{\"outlinewidth\":0,\"ticks\":\"\"}}}],\"histogram\":[{\"marker\":{\"pattern\":{\"fillmode\":\"overlay\",\"size\":10,\"solidity\":0.2}},\"type\":\"histogram\"}],\"scattergl\":[{\"type\":\"scattergl\",\"marker\":{\"colorbar\":{\"outlinewidth\":0,\"ticks\":\"\"}}}],\"scatter3d\":[{\"type\":\"scatter3d\",\"line\":{\"colorbar\":{\"outlinewidth\":0,\"ticks\":\"\"}},\"marker\":{\"colorbar\":{\"outlinewidth\":0,\"ticks\":\"\"}}}],\"scattermapbox\":[{\"type\":\"scattermapbox\",\"marker\":{\"colorbar\":{\"outlinewidth\":0,\"ticks\":\"\"}}}],\"scatterternary\":[{\"type\":\"scatterternary\",\"marker\":{\"colorbar\":{\"outlinewidth\":0,\"ticks\":\"\"}}}],\"scattercarpet\":[{\"type\":\"scattercarpet\",\"marker\":{\"colorbar\":{\"outlinewidth\":0,\"ticks\":\"\"}}}],\"carpet\":[{\"aaxis\":{\"endlinecolor\":\"#2a3f5f\",\"gridcolor\":\"white\",\"linecolor\":\"white\",\"minorgridcolor\":\"white\",\"startlinecolor\":\"#2a3f5f\"},\"baxis\":{\"endlinecolor\":\"#2a3f5f\",\"gridcolor\":\"white\",\"linecolor\":\"white\",\"minorgridcolor\":\"white\",\"startlinecolor\":\"#2a3f5f\"},\"type\":\"carpet\"}],\"table\":[{\"cells\":{\"fill\":{\"color\":\"#EBF0F8\"},\"line\":{\"color\":\"white\"}},\"header\":{\"fill\":{\"color\":\"#C8D4E3\"},\"line\":{\"color\":\"white\"}},\"type\":\"table\"}],\"barpolar\":[{\"marker\":{\"line\":{\"color\":\"#E5ECF6\",\"width\":0.5},\"pattern\":{\"fillmode\":\"overlay\",\"size\":10,\"solidity\":0.2}},\"type\":\"barpolar\"}],\"pie\":[{\"automargin\":true,\"type\":\"pie\"}]},\"layout\":{\"autotypenumbers\":\"strict\",\"colorway\":[\"#636efa\",\"#EF553B\",\"#00cc96\",\"#ab63fa\",\"#FFA15A\",\"#19d3f3\",\"#FF6692\",\"#B6E880\",\"#FF97FF\",\"#FECB52\"],\"font\":{\"color\":\"#2a3f5f\"},\"hovermode\":\"closest\",\"hoverlabel\":{\"align\":\"left\"},\"paper_bgcolor\":\"white\",\"plot_bgcolor\":\"#E5ECF6\",\"polar\":{\"bgcolor\":\"#E5ECF6\",\"angularaxis\":{\"gridcolor\":\"white\",\"linecolor\":\"white\",\"ticks\":\"\"},\"radialaxis\":{\"gridcolor\":\"white\",\"linecolor\":\"white\",\"ticks\":\"\"}},\"ternary\":{\"bgcolor\":\"#E5ECF6\",\"aaxis\":{\"gridcolor\":\"white\",\"linecolor\":\"white\",\"ticks\":\"\"},\"baxis\":{\"gridcolor\":\"white\",\"linecolor\":\"white\",\"ticks\":\"\"},\"caxis\":{\"gridcolor\":\"white\",\"linecolor\":\"white\",\"ticks\":\"\"}},\"coloraxis\":{\"colorbar\":{\"outlinewidth\":0,\"ticks\":\"\"}},\"colorscale\":{\"sequential\":[[0.0,\"#0d0887\"],[0.1111111111111111,\"#46039f\"],[0.2222222222222222,\"#7201a8\"],[0.3333333333333333,\"#9c179e\"],[0.4444444444444444,\"#bd3786\"],[0.5555555555555556,\"#d8576b\"],[0.6666666666666666,\"#ed7953\"],[0.7777777777777778,\"#fb9f3a\"],[0.8888888888888888,\"#fdca26\"],[1.0,\"#f0f921\"]],\"sequentialminus\":[[0.0,\"#0d0887\"],[0.1111111111111111,\"#46039f\"],[0.2222222222222222,\"#7201a8\"],[0.3333333333333333,\"#9c179e\"],[0.4444444444444444,\"#bd3786\"],[0.5555555555555556,\"#d8576b\"],[0.6666666666666666,\"#ed7953\"],[0.7777777777777778,\"#fb9f3a\"],[0.8888888888888888,\"#fdca26\"],[1.0,\"#f0f921\"]],\"diverging\":[[0,\"#8e0152\"],[0.1,\"#c51b7d\"],[0.2,\"#de77ae\"],[0.3,\"#f1b6da\"],[0.4,\"#fde0ef\"],[0.5,\"#f7f7f7\"],[0.6,\"#e6f5d0\"],[0.7,\"#b8e186\"],[0.8,\"#7fbc41\"],[0.9,\"#4d9221\"],[1,\"#276419\"]]},\"xaxis\":{\"gridcolor\":\"white\",\"linecolor\":\"white\",\"ticks\":\"\",\"title\":{\"standoff\":15},\"zerolinecolor\":\"white\",\"automargin\":true,\"zerolinewidth\":2},\"yaxis\":{\"gridcolor\":\"white\",\"linecolor\":\"white\",\"ticks\":\"\",\"title\":{\"standoff\":15},\"zerolinecolor\":\"white\",\"automargin\":true,\"zerolinewidth\":2},\"scene\":{\"xaxis\":{\"backgroundcolor\":\"#E5ECF6\",\"gridcolor\":\"white\",\"linecolor\":\"white\",\"showbackground\":true,\"ticks\":\"\",\"zerolinecolor\":\"white\",\"gridwidth\":2},\"yaxis\":{\"backgroundcolor\":\"#E5ECF6\",\"gridcolor\":\"white\",\"linecolor\":\"white\",\"showbackground\":true,\"ticks\":\"\",\"zerolinecolor\":\"white\",\"gridwidth\":2},\"zaxis\":{\"backgroundcolor\":\"#E5ECF6\",\"gridcolor\":\"white\",\"linecolor\":\"white\",\"showbackground\":true,\"ticks\":\"\",\"zerolinecolor\":\"white\",\"gridwidth\":2}},\"shapedefaults\":{\"line\":{\"color\":\"#2a3f5f\"}},\"annotationdefaults\":{\"arrowcolor\":\"#2a3f5f\",\"arrowhead\":0,\"arrowwidth\":1},\"geo\":{\"bgcolor\":\"white\",\"landcolor\":\"#E5ECF6\",\"subunitcolor\":\"white\",\"showland\":true,\"showlakes\":true,\"lakecolor\":\"white\"},\"title\":{\"x\":0.05},\"mapbox\":{\"style\":\"light\"}}},\"xaxis\":{\"anchor\":\"y\",\"domain\":[0.0,1.0]},\"yaxis\":{\"anchor\":\"x\",\"domain\":[0.0,1.0],\"title\":{\"text\":\"Feature Values\"}},\"legend\":{\"tracegroupgap\":0},\"margin\":{\"t\":60},\"boxmode\":\"group\",\"title\":{\"text\":\"Box Plot of local_population\"}},                        {\"responsive\": true}                    ).then(function(){\n",
       "                            \n",
       "var gd = document.getElementById('551de566-4106-46eb-b5c1-082f6e749299');\n",
       "var x = new MutationObserver(function (mutations, observer) {{\n",
       "        var display = window.getComputedStyle(gd).display;\n",
       "        if (!display || display === 'none') {{\n",
       "            console.log([gd, 'removed!']);\n",
       "            Plotly.purge(gd);\n",
       "            observer.disconnect();\n",
       "        }}\n",
       "}});\n",
       "\n",
       "// Listen for the removal of the full notebook cells\n",
       "var notebookContainer = gd.closest('#notebook-container');\n",
       "if (notebookContainer) {{\n",
       "    x.observe(notebookContainer, {childList: true});\n",
       "}}\n",
       "\n",
       "// Listen for the clearing of the current output cell\n",
       "var outputEl = gd.closest('.output');\n",
       "if (outputEl) {{\n",
       "    x.observe(outputEl, {childList: true});\n",
       "}}\n",
       "\n",
       "                        })                };                });            </script>        </div>"
      ]
     },
     "metadata": {},
     "output_type": "display_data"
    },
    {
     "data": {
      "application/vnd.plotly.v1+json": {
       "config": {
        "plotlyServerURL": "https://plot.ly"
       },
       "data": [
        {
         "alignmentgroup": "True",
         "hovertemplate": "local_stores=%{y}<extra></extra>",
         "legendgroup": "",
         "marker": {
          "color": "#636efa"
         },
         "name": "",
         "notched": false,
         "offsetgroup": "",
         "orientation": "v",
         "showlegend": false,
         "type": "box",
         "x0": " ",
         "xaxis": "x",
         "y": [
          2,
          1,
          2,
          2,
          1,
          2,
          1,
          1,
          1,
          3,
          1,
          1,
          2,
          2,
          1,
          2,
          2,
          2,
          2,
          1,
          3,
          2,
          1,
          1,
          1,
          2,
          1,
          2,
          1,
          3,
          1,
          1,
          3,
          3,
          1,
          1,
          1,
          1,
          1,
          3,
          1,
          2,
          1,
          1,
          1,
          2,
          5,
          1,
          1,
          3,
          2,
          2,
          2,
          1,
          1,
          2,
          1,
          2,
          2,
          3,
          2,
          1,
          5,
          1,
          2,
          2,
          2,
          3,
          3,
          2,
          1,
          1,
          1,
          2,
          1,
          3,
          3,
          1,
          1,
          2,
          1,
          1,
          3,
          2,
          2,
          1,
          1,
          1,
          2,
          1,
          2,
          3,
          1,
          2,
          2,
          3,
          2,
          1,
          1,
          1,
          1,
          2,
          1,
          3,
          2,
          2,
          1,
          1,
          1,
          1,
          2,
          1,
          1,
          1,
          1,
          2,
          1,
          1,
          4,
          2,
          1,
          1,
          2,
          1,
          2,
          2,
          1,
          1,
          3,
          1,
          1,
          1,
          2,
          1,
          1,
          1,
          2,
          2,
          5,
          1,
          1,
          2,
          2,
          1,
          3,
          1,
          2,
          2,
          2,
          1,
          1,
          1,
          1,
          3,
          2,
          1,
          2,
          1,
          1,
          1,
          1,
          1,
          1,
          1,
          2,
          2,
          2,
          2,
          1,
          1,
          1,
          2,
          1,
          1,
          2,
          2,
          2,
          1,
          1,
          2,
          2,
          1,
          1,
          3,
          1,
          2,
          1,
          3,
          2,
          2,
          1,
          1,
          2,
          1,
          1,
          2,
          2,
          3,
          1,
          1,
          1,
          1,
          2,
          1,
          2,
          2,
          1,
          1,
          3,
          2,
          1,
          1,
          2,
          2,
          1,
          2,
          1,
          2,
          1,
          2,
          1,
          2,
          1,
          3,
          1,
          2,
          1,
          2,
          2,
          2,
          1,
          1,
          2,
          2,
          2,
          2,
          1,
          4,
          2,
          1,
          1,
          1,
          1,
          1,
          2,
          1,
          1,
          1,
          1,
          1,
          3,
          2,
          2,
          1,
          1,
          2,
          2,
          3,
          1,
          5,
          2,
          2,
          1,
          1,
          3,
          1,
          1,
          2,
          1,
          1,
          1,
          2,
          1,
          2,
          1,
          1,
          2,
          3,
          3,
          1,
          1,
          2,
          2,
          3,
          2,
          2,
          1,
          1,
          2,
          1,
          2,
          3,
          2,
          1,
          1,
          1,
          3,
          1,
          1,
          1,
          1,
          1,
          1,
          1,
          2,
          1,
          1,
          3,
          1,
          1,
          2,
          1,
          1,
          2,
          1,
          1,
          2,
          1,
          2,
          2,
          1,
          2,
          2,
          2,
          3,
          2,
          1,
          2,
          1,
          1,
          1,
          2,
          2,
          1,
          1,
          1,
          2,
          1,
          2,
          1,
          5,
          1,
          2,
          1,
          2,
          3,
          1,
          2,
          2,
          3,
          2,
          2,
          2,
          2,
          1,
          3,
          2,
          2,
          1,
          2,
          2,
          2,
          3,
          2,
          1,
          3,
          2,
          1,
          1,
          1,
          2,
          1,
          1,
          2,
          2,
          1,
          2,
          3,
          1,
          2,
          1,
          1,
          2,
          1,
          2,
          1,
          3,
          2,
          2,
          1,
          1,
          1,
          1,
          1,
          2,
          2,
          2,
          3,
          1,
          2,
          4,
          4,
          3,
          1,
          2,
          2,
          1,
          1,
          2,
          2,
          1,
          1,
          2,
          1,
          1,
          1,
          1,
          1,
          1,
          1,
          1,
          2,
          1,
          1,
          1,
          3,
          1,
          3,
          3,
          1,
          1,
          2,
          1,
          2,
          1,
          2,
          1,
          1,
          2,
          1,
          2,
          3,
          1,
          2,
          2,
          1,
          1,
          1,
          3,
          2,
          1,
          1,
          1,
          1,
          1,
          2,
          2,
          3,
          4,
          1,
          1,
          3,
          1,
          1,
          1,
          1,
          1,
          2,
          1,
          2,
          1,
          2,
          1,
          2,
          1,
          1,
          1,
          1,
          1,
          1,
          1,
          2,
          2,
          1,
          1,
          3,
          2,
          1,
          4,
          1,
          1,
          2,
          2,
          1,
          2,
          2,
          2,
          2,
          2,
          1,
          1,
          1,
          2,
          2,
          1,
          1,
          1,
          3,
          1,
          1,
          1,
          2,
          3,
          2,
          1,
          1,
          2,
          1,
          1,
          1,
          1,
          1,
          1,
          2,
          1,
          2,
          1,
          3,
          1,
          2,
          1,
          1,
          2,
          1,
          1,
          2,
          3,
          2,
          1,
          2,
          1,
          2,
          1,
          1,
          2,
          2,
          1,
          2,
          1,
          1,
          1,
          1,
          2,
          3,
          1,
          1,
          2,
          2,
          1,
          1,
          1,
          1,
          1,
          2,
          3,
          3,
          1,
          1,
          3,
          1,
          1,
          3,
          1,
          1,
          2,
          1,
          2,
          1,
          2,
          2,
          1,
          1,
          1,
          2,
          1,
          1,
          1,
          1,
          2,
          1,
          3,
          1,
          4,
          2,
          1,
          2,
          1,
          1,
          1,
          1,
          1,
          1,
          1,
          1,
          1,
          1,
          4,
          1,
          1,
          3,
          1,
          2,
          1,
          2,
          1,
          1,
          1,
          1,
          3,
          1,
          1,
          2,
          1,
          2,
          1,
          1,
          1,
          1,
          1,
          3,
          1,
          2,
          1,
          2,
          1,
          1,
          1,
          1,
          1,
          1,
          2,
          2,
          2,
          2,
          1,
          1,
          3,
          2,
          2,
          1,
          2,
          1,
          3,
          1,
          1,
          1,
          3,
          2,
          1,
          1,
          2,
          1,
          3,
          1,
          2,
          3,
          1,
          2,
          4,
          3,
          1,
          1,
          2,
          1,
          1,
          2,
          1,
          3,
          1,
          1,
          1,
          2,
          2,
          1,
          1,
          1,
          2,
          3,
          2,
          2,
          1,
          1,
          1,
          1,
          1,
          1,
          2,
          1,
          1,
          1,
          2,
          1,
          2,
          1,
          1,
          2,
          3,
          2,
          1,
          3,
          2,
          1,
          2,
          2,
          1,
          2,
          1,
          2,
          1,
          1,
          1,
          2,
          2,
          1,
          1,
          2,
          2,
          2,
          2,
          1,
          2,
          8,
          1,
          1,
          1,
          3,
          1,
          1,
          1,
          2,
          1,
          1,
          2,
          1,
          2,
          2,
          2,
          2,
          2,
          1,
          1,
          1,
          2,
          2,
          1,
          2,
          1,
          2,
          2,
          1,
          2,
          1,
          2,
          1,
          2,
          1,
          1,
          2,
          2,
          2,
          3,
          2,
          1,
          2,
          1,
          1,
          2,
          2,
          2,
          2,
          1,
          2,
          1,
          1,
          1,
          3,
          1,
          2,
          2,
          3,
          1,
          3,
          1,
          2,
          1,
          1,
          1,
          1,
          2,
          3,
          1,
          1,
          2,
          1,
          2,
          4,
          1,
          2,
          1,
          2,
          1,
          1,
          2,
          2,
          2,
          2,
          1,
          1,
          2,
          2,
          1,
          2,
          1,
          1,
          2,
          2,
          2,
          1,
          1,
          2,
          1,
          2,
          1,
          2,
          1,
          1,
          1,
          1,
          2,
          1,
          1,
          2,
          2,
          2,
          1,
          1,
          1,
          1,
          2,
          1,
          4,
          1,
          2,
          1,
          1,
          1,
          1,
          1,
          1,
          1,
          2,
          1,
          1,
          3,
          2,
          2,
          2,
          2,
          2,
          2,
          1,
          3,
          2,
          2,
          2,
          1,
          2,
          1,
          2,
          1,
          2,
          3,
          1,
          2,
          1,
          1,
          4,
          1,
          1,
          1,
          2,
          3,
          1,
          1,
          2,
          1,
          2,
          1,
          3,
          3,
          1,
          1,
          3,
          2,
          1,
          1,
          2,
          1,
          1,
          2,
          2,
          1,
          3,
          1,
          2,
          1,
          1,
          1,
          2,
          1,
          1,
          1,
          1,
          1,
          2,
          2,
          1,
          3,
          2,
          1,
          1,
          1,
          2,
          1,
          1,
          2,
          1,
          2,
          1,
          1,
          1,
          1,
          2,
          1,
          1,
          1,
          2,
          2,
          1,
          2,
          4,
          2,
          1,
          2,
          1,
          3,
          2,
          1,
          2,
          1,
          3,
          4,
          2,
          1,
          1,
          1,
          1,
          2,
          2,
          2,
          3,
          2,
          2,
          1,
          2,
          2,
          2,
          2,
          1,
          2,
          2,
          2,
          2,
          1,
          1,
          1,
          2,
          1,
          1,
          1,
          1,
          1,
          1,
          2,
          2,
          1,
          1,
          1,
          1
         ],
         "y0": " ",
         "yaxis": "y"
        }
       ],
       "layout": {
        "boxmode": "group",
        "legend": {
         "tracegroupgap": 0
        },
        "margin": {
         "t": 60
        },
        "template": {
         "data": {
          "bar": [
           {
            "error_x": {
             "color": "#2a3f5f"
            },
            "error_y": {
             "color": "#2a3f5f"
            },
            "marker": {
             "line": {
              "color": "#E5ECF6",
              "width": 0.5
             },
             "pattern": {
              "fillmode": "overlay",
              "size": 10,
              "solidity": 0.2
             }
            },
            "type": "bar"
           }
          ],
          "barpolar": [
           {
            "marker": {
             "line": {
              "color": "#E5ECF6",
              "width": 0.5
             },
             "pattern": {
              "fillmode": "overlay",
              "size": 10,
              "solidity": 0.2
             }
            },
            "type": "barpolar"
           }
          ],
          "carpet": [
           {
            "aaxis": {
             "endlinecolor": "#2a3f5f",
             "gridcolor": "white",
             "linecolor": "white",
             "minorgridcolor": "white",
             "startlinecolor": "#2a3f5f"
            },
            "baxis": {
             "endlinecolor": "#2a3f5f",
             "gridcolor": "white",
             "linecolor": "white",
             "minorgridcolor": "white",
             "startlinecolor": "#2a3f5f"
            },
            "type": "carpet"
           }
          ],
          "choropleth": [
           {
            "colorbar": {
             "outlinewidth": 0,
             "ticks": ""
            },
            "type": "choropleth"
           }
          ],
          "contour": [
           {
            "colorbar": {
             "outlinewidth": 0,
             "ticks": ""
            },
            "colorscale": [
             [
              0,
              "#0d0887"
             ],
             [
              0.1111111111111111,
              "#46039f"
             ],
             [
              0.2222222222222222,
              "#7201a8"
             ],
             [
              0.3333333333333333,
              "#9c179e"
             ],
             [
              0.4444444444444444,
              "#bd3786"
             ],
             [
              0.5555555555555556,
              "#d8576b"
             ],
             [
              0.6666666666666666,
              "#ed7953"
             ],
             [
              0.7777777777777778,
              "#fb9f3a"
             ],
             [
              0.8888888888888888,
              "#fdca26"
             ],
             [
              1,
              "#f0f921"
             ]
            ],
            "type": "contour"
           }
          ],
          "contourcarpet": [
           {
            "colorbar": {
             "outlinewidth": 0,
             "ticks": ""
            },
            "type": "contourcarpet"
           }
          ],
          "heatmap": [
           {
            "colorbar": {
             "outlinewidth": 0,
             "ticks": ""
            },
            "colorscale": [
             [
              0,
              "#0d0887"
             ],
             [
              0.1111111111111111,
              "#46039f"
             ],
             [
              0.2222222222222222,
              "#7201a8"
             ],
             [
              0.3333333333333333,
              "#9c179e"
             ],
             [
              0.4444444444444444,
              "#bd3786"
             ],
             [
              0.5555555555555556,
              "#d8576b"
             ],
             [
              0.6666666666666666,
              "#ed7953"
             ],
             [
              0.7777777777777778,
              "#fb9f3a"
             ],
             [
              0.8888888888888888,
              "#fdca26"
             ],
             [
              1,
              "#f0f921"
             ]
            ],
            "type": "heatmap"
           }
          ],
          "heatmapgl": [
           {
            "colorbar": {
             "outlinewidth": 0,
             "ticks": ""
            },
            "colorscale": [
             [
              0,
              "#0d0887"
             ],
             [
              0.1111111111111111,
              "#46039f"
             ],
             [
              0.2222222222222222,
              "#7201a8"
             ],
             [
              0.3333333333333333,
              "#9c179e"
             ],
             [
              0.4444444444444444,
              "#bd3786"
             ],
             [
              0.5555555555555556,
              "#d8576b"
             ],
             [
              0.6666666666666666,
              "#ed7953"
             ],
             [
              0.7777777777777778,
              "#fb9f3a"
             ],
             [
              0.8888888888888888,
              "#fdca26"
             ],
             [
              1,
              "#f0f921"
             ]
            ],
            "type": "heatmapgl"
           }
          ],
          "histogram": [
           {
            "marker": {
             "pattern": {
              "fillmode": "overlay",
              "size": 10,
              "solidity": 0.2
             }
            },
            "type": "histogram"
           }
          ],
          "histogram2d": [
           {
            "colorbar": {
             "outlinewidth": 0,
             "ticks": ""
            },
            "colorscale": [
             [
              0,
              "#0d0887"
             ],
             [
              0.1111111111111111,
              "#46039f"
             ],
             [
              0.2222222222222222,
              "#7201a8"
             ],
             [
              0.3333333333333333,
              "#9c179e"
             ],
             [
              0.4444444444444444,
              "#bd3786"
             ],
             [
              0.5555555555555556,
              "#d8576b"
             ],
             [
              0.6666666666666666,
              "#ed7953"
             ],
             [
              0.7777777777777778,
              "#fb9f3a"
             ],
             [
              0.8888888888888888,
              "#fdca26"
             ],
             [
              1,
              "#f0f921"
             ]
            ],
            "type": "histogram2d"
           }
          ],
          "histogram2dcontour": [
           {
            "colorbar": {
             "outlinewidth": 0,
             "ticks": ""
            },
            "colorscale": [
             [
              0,
              "#0d0887"
             ],
             [
              0.1111111111111111,
              "#46039f"
             ],
             [
              0.2222222222222222,
              "#7201a8"
             ],
             [
              0.3333333333333333,
              "#9c179e"
             ],
             [
              0.4444444444444444,
              "#bd3786"
             ],
             [
              0.5555555555555556,
              "#d8576b"
             ],
             [
              0.6666666666666666,
              "#ed7953"
             ],
             [
              0.7777777777777778,
              "#fb9f3a"
             ],
             [
              0.8888888888888888,
              "#fdca26"
             ],
             [
              1,
              "#f0f921"
             ]
            ],
            "type": "histogram2dcontour"
           }
          ],
          "mesh3d": [
           {
            "colorbar": {
             "outlinewidth": 0,
             "ticks": ""
            },
            "type": "mesh3d"
           }
          ],
          "parcoords": [
           {
            "line": {
             "colorbar": {
              "outlinewidth": 0,
              "ticks": ""
             }
            },
            "type": "parcoords"
           }
          ],
          "pie": [
           {
            "automargin": true,
            "type": "pie"
           }
          ],
          "scatter": [
           {
            "fillpattern": {
             "fillmode": "overlay",
             "size": 10,
             "solidity": 0.2
            },
            "type": "scatter"
           }
          ],
          "scatter3d": [
           {
            "line": {
             "colorbar": {
              "outlinewidth": 0,
              "ticks": ""
             }
            },
            "marker": {
             "colorbar": {
              "outlinewidth": 0,
              "ticks": ""
             }
            },
            "type": "scatter3d"
           }
          ],
          "scattercarpet": [
           {
            "marker": {
             "colorbar": {
              "outlinewidth": 0,
              "ticks": ""
             }
            },
            "type": "scattercarpet"
           }
          ],
          "scattergeo": [
           {
            "marker": {
             "colorbar": {
              "outlinewidth": 0,
              "ticks": ""
             }
            },
            "type": "scattergeo"
           }
          ],
          "scattergl": [
           {
            "marker": {
             "colorbar": {
              "outlinewidth": 0,
              "ticks": ""
             }
            },
            "type": "scattergl"
           }
          ],
          "scattermapbox": [
           {
            "marker": {
             "colorbar": {
              "outlinewidth": 0,
              "ticks": ""
             }
            },
            "type": "scattermapbox"
           }
          ],
          "scatterpolar": [
           {
            "marker": {
             "colorbar": {
              "outlinewidth": 0,
              "ticks": ""
             }
            },
            "type": "scatterpolar"
           }
          ],
          "scatterpolargl": [
           {
            "marker": {
             "colorbar": {
              "outlinewidth": 0,
              "ticks": ""
             }
            },
            "type": "scatterpolargl"
           }
          ],
          "scatterternary": [
           {
            "marker": {
             "colorbar": {
              "outlinewidth": 0,
              "ticks": ""
             }
            },
            "type": "scatterternary"
           }
          ],
          "surface": [
           {
            "colorbar": {
             "outlinewidth": 0,
             "ticks": ""
            },
            "colorscale": [
             [
              0,
              "#0d0887"
             ],
             [
              0.1111111111111111,
              "#46039f"
             ],
             [
              0.2222222222222222,
              "#7201a8"
             ],
             [
              0.3333333333333333,
              "#9c179e"
             ],
             [
              0.4444444444444444,
              "#bd3786"
             ],
             [
              0.5555555555555556,
              "#d8576b"
             ],
             [
              0.6666666666666666,
              "#ed7953"
             ],
             [
              0.7777777777777778,
              "#fb9f3a"
             ],
             [
              0.8888888888888888,
              "#fdca26"
             ],
             [
              1,
              "#f0f921"
             ]
            ],
            "type": "surface"
           }
          ],
          "table": [
           {
            "cells": {
             "fill": {
              "color": "#EBF0F8"
             },
             "line": {
              "color": "white"
             }
            },
            "header": {
             "fill": {
              "color": "#C8D4E3"
             },
             "line": {
              "color": "white"
             }
            },
            "type": "table"
           }
          ]
         },
         "layout": {
          "annotationdefaults": {
           "arrowcolor": "#2a3f5f",
           "arrowhead": 0,
           "arrowwidth": 1
          },
          "autotypenumbers": "strict",
          "coloraxis": {
           "colorbar": {
            "outlinewidth": 0,
            "ticks": ""
           }
          },
          "colorscale": {
           "diverging": [
            [
             0,
             "#8e0152"
            ],
            [
             0.1,
             "#c51b7d"
            ],
            [
             0.2,
             "#de77ae"
            ],
            [
             0.3,
             "#f1b6da"
            ],
            [
             0.4,
             "#fde0ef"
            ],
            [
             0.5,
             "#f7f7f7"
            ],
            [
             0.6,
             "#e6f5d0"
            ],
            [
             0.7,
             "#b8e186"
            ],
            [
             0.8,
             "#7fbc41"
            ],
            [
             0.9,
             "#4d9221"
            ],
            [
             1,
             "#276419"
            ]
           ],
           "sequential": [
            [
             0,
             "#0d0887"
            ],
            [
             0.1111111111111111,
             "#46039f"
            ],
            [
             0.2222222222222222,
             "#7201a8"
            ],
            [
             0.3333333333333333,
             "#9c179e"
            ],
            [
             0.4444444444444444,
             "#bd3786"
            ],
            [
             0.5555555555555556,
             "#d8576b"
            ],
            [
             0.6666666666666666,
             "#ed7953"
            ],
            [
             0.7777777777777778,
             "#fb9f3a"
            ],
            [
             0.8888888888888888,
             "#fdca26"
            ],
            [
             1,
             "#f0f921"
            ]
           ],
           "sequentialminus": [
            [
             0,
             "#0d0887"
            ],
            [
             0.1111111111111111,
             "#46039f"
            ],
            [
             0.2222222222222222,
             "#7201a8"
            ],
            [
             0.3333333333333333,
             "#9c179e"
            ],
            [
             0.4444444444444444,
             "#bd3786"
            ],
            [
             0.5555555555555556,
             "#d8576b"
            ],
            [
             0.6666666666666666,
             "#ed7953"
            ],
            [
             0.7777777777777778,
             "#fb9f3a"
            ],
            [
             0.8888888888888888,
             "#fdca26"
            ],
            [
             1,
             "#f0f921"
            ]
           ]
          },
          "colorway": [
           "#636efa",
           "#EF553B",
           "#00cc96",
           "#ab63fa",
           "#FFA15A",
           "#19d3f3",
           "#FF6692",
           "#B6E880",
           "#FF97FF",
           "#FECB52"
          ],
          "font": {
           "color": "#2a3f5f"
          },
          "geo": {
           "bgcolor": "white",
           "lakecolor": "white",
           "landcolor": "#E5ECF6",
           "showlakes": true,
           "showland": true,
           "subunitcolor": "white"
          },
          "hoverlabel": {
           "align": "left"
          },
          "hovermode": "closest",
          "mapbox": {
           "style": "light"
          },
          "paper_bgcolor": "white",
          "plot_bgcolor": "#E5ECF6",
          "polar": {
           "angularaxis": {
            "gridcolor": "white",
            "linecolor": "white",
            "ticks": ""
           },
           "bgcolor": "#E5ECF6",
           "radialaxis": {
            "gridcolor": "white",
            "linecolor": "white",
            "ticks": ""
           }
          },
          "scene": {
           "xaxis": {
            "backgroundcolor": "#E5ECF6",
            "gridcolor": "white",
            "gridwidth": 2,
            "linecolor": "white",
            "showbackground": true,
            "ticks": "",
            "zerolinecolor": "white"
           },
           "yaxis": {
            "backgroundcolor": "#E5ECF6",
            "gridcolor": "white",
            "gridwidth": 2,
            "linecolor": "white",
            "showbackground": true,
            "ticks": "",
            "zerolinecolor": "white"
           },
           "zaxis": {
            "backgroundcolor": "#E5ECF6",
            "gridcolor": "white",
            "gridwidth": 2,
            "linecolor": "white",
            "showbackground": true,
            "ticks": "",
            "zerolinecolor": "white"
           }
          },
          "shapedefaults": {
           "line": {
            "color": "#2a3f5f"
           }
          },
          "ternary": {
           "aaxis": {
            "gridcolor": "white",
            "linecolor": "white",
            "ticks": ""
           },
           "baxis": {
            "gridcolor": "white",
            "linecolor": "white",
            "ticks": ""
           },
           "bgcolor": "#E5ECF6",
           "caxis": {
            "gridcolor": "white",
            "linecolor": "white",
            "ticks": ""
           }
          },
          "title": {
           "x": 0.05
          },
          "xaxis": {
           "automargin": true,
           "gridcolor": "white",
           "linecolor": "white",
           "ticks": "",
           "title": {
            "standoff": 15
           },
           "zerolinecolor": "white",
           "zerolinewidth": 2
          },
          "yaxis": {
           "automargin": true,
           "gridcolor": "white",
           "linecolor": "white",
           "ticks": "",
           "title": {
            "standoff": 15
           },
           "zerolinecolor": "white",
           "zerolinewidth": 2
          }
         }
        },
        "title": {
         "text": "Box Plot of local_stores"
        },
        "xaxis": {
         "anchor": "y",
         "domain": [
          0,
          1
         ]
        },
        "yaxis": {
         "anchor": "x",
         "domain": [
          0,
          1
         ],
         "title": {
          "text": "Feature Values"
         }
        }
       }
      },
      "text/html": [
       "<div>                            <div id=\"5fb22206-6eba-499d-8e0a-4b3e6dca2a33\" class=\"plotly-graph-div\" style=\"height:525px; width:100%;\"></div>            <script type=\"text/javascript\">                require([\"plotly\"], function(Plotly) {                    window.PLOTLYENV=window.PLOTLYENV || {};                                    if (document.getElementById(\"5fb22206-6eba-499d-8e0a-4b3e6dca2a33\")) {                    Plotly.newPlot(                        \"5fb22206-6eba-499d-8e0a-4b3e6dca2a33\",                        [{\"alignmentgroup\":\"True\",\"hovertemplate\":\"local_stores=%{y}<extra></extra>\",\"legendgroup\":\"\",\"marker\":{\"color\":\"#636efa\"},\"name\":\"\",\"notched\":false,\"offsetgroup\":\"\",\"orientation\":\"v\",\"showlegend\":false,\"x0\":\" \",\"xaxis\":\"x\",\"y\":[2,1,2,2,1,2,1,1,1,3,1,1,2,2,1,2,2,2,2,1,3,2,1,1,1,2,1,2,1,3,1,1,3,3,1,1,1,1,1,3,1,2,1,1,1,2,5,1,1,3,2,2,2,1,1,2,1,2,2,3,2,1,5,1,2,2,2,3,3,2,1,1,1,2,1,3,3,1,1,2,1,1,3,2,2,1,1,1,2,1,2,3,1,2,2,3,2,1,1,1,1,2,1,3,2,2,1,1,1,1,2,1,1,1,1,2,1,1,4,2,1,1,2,1,2,2,1,1,3,1,1,1,2,1,1,1,2,2,5,1,1,2,2,1,3,1,2,2,2,1,1,1,1,3,2,1,2,1,1,1,1,1,1,1,2,2,2,2,1,1,1,2,1,1,2,2,2,1,1,2,2,1,1,3,1,2,1,3,2,2,1,1,2,1,1,2,2,3,1,1,1,1,2,1,2,2,1,1,3,2,1,1,2,2,1,2,1,2,1,2,1,2,1,3,1,2,1,2,2,2,1,1,2,2,2,2,1,4,2,1,1,1,1,1,2,1,1,1,1,1,3,2,2,1,1,2,2,3,1,5,2,2,1,1,3,1,1,2,1,1,1,2,1,2,1,1,2,3,3,1,1,2,2,3,2,2,1,1,2,1,2,3,2,1,1,1,3,1,1,1,1,1,1,1,2,1,1,3,1,1,2,1,1,2,1,1,2,1,2,2,1,2,2,2,3,2,1,2,1,1,1,2,2,1,1,1,2,1,2,1,5,1,2,1,2,3,1,2,2,3,2,2,2,2,1,3,2,2,1,2,2,2,3,2,1,3,2,1,1,1,2,1,1,2,2,1,2,3,1,2,1,1,2,1,2,1,3,2,2,1,1,1,1,1,2,2,2,3,1,2,4,4,3,1,2,2,1,1,2,2,1,1,2,1,1,1,1,1,1,1,1,2,1,1,1,3,1,3,3,1,1,2,1,2,1,2,1,1,2,1,2,3,1,2,2,1,1,1,3,2,1,1,1,1,1,2,2,3,4,1,1,3,1,1,1,1,1,2,1,2,1,2,1,2,1,1,1,1,1,1,1,2,2,1,1,3,2,1,4,1,1,2,2,1,2,2,2,2,2,1,1,1,2,2,1,1,1,3,1,1,1,2,3,2,1,1,2,1,1,1,1,1,1,2,1,2,1,3,1,2,1,1,2,1,1,2,3,2,1,2,1,2,1,1,2,2,1,2,1,1,1,1,2,3,1,1,2,2,1,1,1,1,1,2,3,3,1,1,3,1,1,3,1,1,2,1,2,1,2,2,1,1,1,2,1,1,1,1,2,1,3,1,4,2,1,2,1,1,1,1,1,1,1,1,1,1,4,1,1,3,1,2,1,2,1,1,1,1,3,1,1,2,1,2,1,1,1,1,1,3,1,2,1,2,1,1,1,1,1,1,2,2,2,2,1,1,3,2,2,1,2,1,3,1,1,1,3,2,1,1,2,1,3,1,2,3,1,2,4,3,1,1,2,1,1,2,1,3,1,1,1,2,2,1,1,1,2,3,2,2,1,1,1,1,1,1,2,1,1,1,2,1,2,1,1,2,3,2,1,3,2,1,2,2,1,2,1,2,1,1,1,2,2,1,1,2,2,2,2,1,2,8,1,1,1,3,1,1,1,2,1,1,2,1,2,2,2,2,2,1,1,1,2,2,1,2,1,2,2,1,2,1,2,1,2,1,1,2,2,2,3,2,1,2,1,1,2,2,2,2,1,2,1,1,1,3,1,2,2,3,1,3,1,2,1,1,1,1,2,3,1,1,2,1,2,4,1,2,1,2,1,1,2,2,2,2,1,1,2,2,1,2,1,1,2,2,2,1,1,2,1,2,1,2,1,1,1,1,2,1,1,2,2,2,1,1,1,1,2,1,4,1,2,1,1,1,1,1,1,1,2,1,1,3,2,2,2,2,2,2,1,3,2,2,2,1,2,1,2,1,2,3,1,2,1,1,4,1,1,1,2,3,1,1,2,1,2,1,3,3,1,1,3,2,1,1,2,1,1,2,2,1,3,1,2,1,1,1,2,1,1,1,1,1,2,2,1,3,2,1,1,1,2,1,1,2,1,2,1,1,1,1,2,1,1,1,2,2,1,2,4,2,1,2,1,3,2,1,2,1,3,4,2,1,1,1,1,2,2,2,3,2,2,1,2,2,2,2,1,2,2,2,2,1,1,1,2,1,1,1,1,1,1,2,2,1,1,1,1],\"y0\":\" \",\"yaxis\":\"y\",\"type\":\"box\"}],                        {\"template\":{\"data\":{\"histogram2dcontour\":[{\"type\":\"histogram2dcontour\",\"colorbar\":{\"outlinewidth\":0,\"ticks\":\"\"},\"colorscale\":[[0.0,\"#0d0887\"],[0.1111111111111111,\"#46039f\"],[0.2222222222222222,\"#7201a8\"],[0.3333333333333333,\"#9c179e\"],[0.4444444444444444,\"#bd3786\"],[0.5555555555555556,\"#d8576b\"],[0.6666666666666666,\"#ed7953\"],[0.7777777777777778,\"#fb9f3a\"],[0.8888888888888888,\"#fdca26\"],[1.0,\"#f0f921\"]]}],\"choropleth\":[{\"type\":\"choropleth\",\"colorbar\":{\"outlinewidth\":0,\"ticks\":\"\"}}],\"histogram2d\":[{\"type\":\"histogram2d\",\"colorbar\":{\"outlinewidth\":0,\"ticks\":\"\"},\"colorscale\":[[0.0,\"#0d0887\"],[0.1111111111111111,\"#46039f\"],[0.2222222222222222,\"#7201a8\"],[0.3333333333333333,\"#9c179e\"],[0.4444444444444444,\"#bd3786\"],[0.5555555555555556,\"#d8576b\"],[0.6666666666666666,\"#ed7953\"],[0.7777777777777778,\"#fb9f3a\"],[0.8888888888888888,\"#fdca26\"],[1.0,\"#f0f921\"]]}],\"heatmap\":[{\"type\":\"heatmap\",\"colorbar\":{\"outlinewidth\":0,\"ticks\":\"\"},\"colorscale\":[[0.0,\"#0d0887\"],[0.1111111111111111,\"#46039f\"],[0.2222222222222222,\"#7201a8\"],[0.3333333333333333,\"#9c179e\"],[0.4444444444444444,\"#bd3786\"],[0.5555555555555556,\"#d8576b\"],[0.6666666666666666,\"#ed7953\"],[0.7777777777777778,\"#fb9f3a\"],[0.8888888888888888,\"#fdca26\"],[1.0,\"#f0f921\"]]}],\"heatmapgl\":[{\"type\":\"heatmapgl\",\"colorbar\":{\"outlinewidth\":0,\"ticks\":\"\"},\"colorscale\":[[0.0,\"#0d0887\"],[0.1111111111111111,\"#46039f\"],[0.2222222222222222,\"#7201a8\"],[0.3333333333333333,\"#9c179e\"],[0.4444444444444444,\"#bd3786\"],[0.5555555555555556,\"#d8576b\"],[0.6666666666666666,\"#ed7953\"],[0.7777777777777778,\"#fb9f3a\"],[0.8888888888888888,\"#fdca26\"],[1.0,\"#f0f921\"]]}],\"contourcarpet\":[{\"type\":\"contourcarpet\",\"colorbar\":{\"outlinewidth\":0,\"ticks\":\"\"}}],\"contour\":[{\"type\":\"contour\",\"colorbar\":{\"outlinewidth\":0,\"ticks\":\"\"},\"colorscale\":[[0.0,\"#0d0887\"],[0.1111111111111111,\"#46039f\"],[0.2222222222222222,\"#7201a8\"],[0.3333333333333333,\"#9c179e\"],[0.4444444444444444,\"#bd3786\"],[0.5555555555555556,\"#d8576b\"],[0.6666666666666666,\"#ed7953\"],[0.7777777777777778,\"#fb9f3a\"],[0.8888888888888888,\"#fdca26\"],[1.0,\"#f0f921\"]]}],\"surface\":[{\"type\":\"surface\",\"colorbar\":{\"outlinewidth\":0,\"ticks\":\"\"},\"colorscale\":[[0.0,\"#0d0887\"],[0.1111111111111111,\"#46039f\"],[0.2222222222222222,\"#7201a8\"],[0.3333333333333333,\"#9c179e\"],[0.4444444444444444,\"#bd3786\"],[0.5555555555555556,\"#d8576b\"],[0.6666666666666666,\"#ed7953\"],[0.7777777777777778,\"#fb9f3a\"],[0.8888888888888888,\"#fdca26\"],[1.0,\"#f0f921\"]]}],\"mesh3d\":[{\"type\":\"mesh3d\",\"colorbar\":{\"outlinewidth\":0,\"ticks\":\"\"}}],\"scatter\":[{\"fillpattern\":{\"fillmode\":\"overlay\",\"size\":10,\"solidity\":0.2},\"type\":\"scatter\"}],\"parcoords\":[{\"type\":\"parcoords\",\"line\":{\"colorbar\":{\"outlinewidth\":0,\"ticks\":\"\"}}}],\"scatterpolargl\":[{\"type\":\"scatterpolargl\",\"marker\":{\"colorbar\":{\"outlinewidth\":0,\"ticks\":\"\"}}}],\"bar\":[{\"error_x\":{\"color\":\"#2a3f5f\"},\"error_y\":{\"color\":\"#2a3f5f\"},\"marker\":{\"line\":{\"color\":\"#E5ECF6\",\"width\":0.5},\"pattern\":{\"fillmode\":\"overlay\",\"size\":10,\"solidity\":0.2}},\"type\":\"bar\"}],\"scattergeo\":[{\"type\":\"scattergeo\",\"marker\":{\"colorbar\":{\"outlinewidth\":0,\"ticks\":\"\"}}}],\"scatterpolar\":[{\"type\":\"scatterpolar\",\"marker\":{\"colorbar\":{\"outlinewidth\":0,\"ticks\":\"\"}}}],\"histogram\":[{\"marker\":{\"pattern\":{\"fillmode\":\"overlay\",\"size\":10,\"solidity\":0.2}},\"type\":\"histogram\"}],\"scattergl\":[{\"type\":\"scattergl\",\"marker\":{\"colorbar\":{\"outlinewidth\":0,\"ticks\":\"\"}}}],\"scatter3d\":[{\"type\":\"scatter3d\",\"line\":{\"colorbar\":{\"outlinewidth\":0,\"ticks\":\"\"}},\"marker\":{\"colorbar\":{\"outlinewidth\":0,\"ticks\":\"\"}}}],\"scattermapbox\":[{\"type\":\"scattermapbox\",\"marker\":{\"colorbar\":{\"outlinewidth\":0,\"ticks\":\"\"}}}],\"scatterternary\":[{\"type\":\"scatterternary\",\"marker\":{\"colorbar\":{\"outlinewidth\":0,\"ticks\":\"\"}}}],\"scattercarpet\":[{\"type\":\"scattercarpet\",\"marker\":{\"colorbar\":{\"outlinewidth\":0,\"ticks\":\"\"}}}],\"carpet\":[{\"aaxis\":{\"endlinecolor\":\"#2a3f5f\",\"gridcolor\":\"white\",\"linecolor\":\"white\",\"minorgridcolor\":\"white\",\"startlinecolor\":\"#2a3f5f\"},\"baxis\":{\"endlinecolor\":\"#2a3f5f\",\"gridcolor\":\"white\",\"linecolor\":\"white\",\"minorgridcolor\":\"white\",\"startlinecolor\":\"#2a3f5f\"},\"type\":\"carpet\"}],\"table\":[{\"cells\":{\"fill\":{\"color\":\"#EBF0F8\"},\"line\":{\"color\":\"white\"}},\"header\":{\"fill\":{\"color\":\"#C8D4E3\"},\"line\":{\"color\":\"white\"}},\"type\":\"table\"}],\"barpolar\":[{\"marker\":{\"line\":{\"color\":\"#E5ECF6\",\"width\":0.5},\"pattern\":{\"fillmode\":\"overlay\",\"size\":10,\"solidity\":0.2}},\"type\":\"barpolar\"}],\"pie\":[{\"automargin\":true,\"type\":\"pie\"}]},\"layout\":{\"autotypenumbers\":\"strict\",\"colorway\":[\"#636efa\",\"#EF553B\",\"#00cc96\",\"#ab63fa\",\"#FFA15A\",\"#19d3f3\",\"#FF6692\",\"#B6E880\",\"#FF97FF\",\"#FECB52\"],\"font\":{\"color\":\"#2a3f5f\"},\"hovermode\":\"closest\",\"hoverlabel\":{\"align\":\"left\"},\"paper_bgcolor\":\"white\",\"plot_bgcolor\":\"#E5ECF6\",\"polar\":{\"bgcolor\":\"#E5ECF6\",\"angularaxis\":{\"gridcolor\":\"white\",\"linecolor\":\"white\",\"ticks\":\"\"},\"radialaxis\":{\"gridcolor\":\"white\",\"linecolor\":\"white\",\"ticks\":\"\"}},\"ternary\":{\"bgcolor\":\"#E5ECF6\",\"aaxis\":{\"gridcolor\":\"white\",\"linecolor\":\"white\",\"ticks\":\"\"},\"baxis\":{\"gridcolor\":\"white\",\"linecolor\":\"white\",\"ticks\":\"\"},\"caxis\":{\"gridcolor\":\"white\",\"linecolor\":\"white\",\"ticks\":\"\"}},\"coloraxis\":{\"colorbar\":{\"outlinewidth\":0,\"ticks\":\"\"}},\"colorscale\":{\"sequential\":[[0.0,\"#0d0887\"],[0.1111111111111111,\"#46039f\"],[0.2222222222222222,\"#7201a8\"],[0.3333333333333333,\"#9c179e\"],[0.4444444444444444,\"#bd3786\"],[0.5555555555555556,\"#d8576b\"],[0.6666666666666666,\"#ed7953\"],[0.7777777777777778,\"#fb9f3a\"],[0.8888888888888888,\"#fdca26\"],[1.0,\"#f0f921\"]],\"sequentialminus\":[[0.0,\"#0d0887\"],[0.1111111111111111,\"#46039f\"],[0.2222222222222222,\"#7201a8\"],[0.3333333333333333,\"#9c179e\"],[0.4444444444444444,\"#bd3786\"],[0.5555555555555556,\"#d8576b\"],[0.6666666666666666,\"#ed7953\"],[0.7777777777777778,\"#fb9f3a\"],[0.8888888888888888,\"#fdca26\"],[1.0,\"#f0f921\"]],\"diverging\":[[0,\"#8e0152\"],[0.1,\"#c51b7d\"],[0.2,\"#de77ae\"],[0.3,\"#f1b6da\"],[0.4,\"#fde0ef\"],[0.5,\"#f7f7f7\"],[0.6,\"#e6f5d0\"],[0.7,\"#b8e186\"],[0.8,\"#7fbc41\"],[0.9,\"#4d9221\"],[1,\"#276419\"]]},\"xaxis\":{\"gridcolor\":\"white\",\"linecolor\":\"white\",\"ticks\":\"\",\"title\":{\"standoff\":15},\"zerolinecolor\":\"white\",\"automargin\":true,\"zerolinewidth\":2},\"yaxis\":{\"gridcolor\":\"white\",\"linecolor\":\"white\",\"ticks\":\"\",\"title\":{\"standoff\":15},\"zerolinecolor\":\"white\",\"automargin\":true,\"zerolinewidth\":2},\"scene\":{\"xaxis\":{\"backgroundcolor\":\"#E5ECF6\",\"gridcolor\":\"white\",\"linecolor\":\"white\",\"showbackground\":true,\"ticks\":\"\",\"zerolinecolor\":\"white\",\"gridwidth\":2},\"yaxis\":{\"backgroundcolor\":\"#E5ECF6\",\"gridcolor\":\"white\",\"linecolor\":\"white\",\"showbackground\":true,\"ticks\":\"\",\"zerolinecolor\":\"white\",\"gridwidth\":2},\"zaxis\":{\"backgroundcolor\":\"#E5ECF6\",\"gridcolor\":\"white\",\"linecolor\":\"white\",\"showbackground\":true,\"ticks\":\"\",\"zerolinecolor\":\"white\",\"gridwidth\":2}},\"shapedefaults\":{\"line\":{\"color\":\"#2a3f5f\"}},\"annotationdefaults\":{\"arrowcolor\":\"#2a3f5f\",\"arrowhead\":0,\"arrowwidth\":1},\"geo\":{\"bgcolor\":\"white\",\"landcolor\":\"#E5ECF6\",\"subunitcolor\":\"white\",\"showland\":true,\"showlakes\":true,\"lakecolor\":\"white\"},\"title\":{\"x\":0.05},\"mapbox\":{\"style\":\"light\"}}},\"xaxis\":{\"anchor\":\"y\",\"domain\":[0.0,1.0]},\"yaxis\":{\"anchor\":\"x\",\"domain\":[0.0,1.0],\"title\":{\"text\":\"Feature Values\"}},\"legend\":{\"tracegroupgap\":0},\"margin\":{\"t\":60},\"boxmode\":\"group\",\"title\":{\"text\":\"Box Plot of local_stores\"}},                        {\"responsive\": true}                    ).then(function(){\n",
       "                            \n",
       "var gd = document.getElementById('5fb22206-6eba-499d-8e0a-4b3e6dca2a33');\n",
       "var x = new MutationObserver(function (mutations, observer) {{\n",
       "        var display = window.getComputedStyle(gd).display;\n",
       "        if (!display || display === 'none') {{\n",
       "            console.log([gd, 'removed!']);\n",
       "            Plotly.purge(gd);\n",
       "            observer.disconnect();\n",
       "        }}\n",
       "}});\n",
       "\n",
       "// Listen for the removal of the full notebook cells\n",
       "var notebookContainer = gd.closest('#notebook-container');\n",
       "if (notebookContainer) {{\n",
       "    x.observe(notebookContainer, {childList: true});\n",
       "}}\n",
       "\n",
       "// Listen for the clearing of the current output cell\n",
       "var outputEl = gd.closest('.output');\n",
       "if (outputEl) {{\n",
       "    x.observe(outputEl, {childList: true});\n",
       "}}\n",
       "\n",
       "                        })                };                });            </script>        </div>"
      ]
     },
     "metadata": {},
     "output_type": "display_data"
    },
    {
     "data": {
      "application/vnd.plotly.v1+json": {
       "config": {
        "plotlyServerURL": "https://plot.ly"
       },
       "data": [
        {
         "alignmentgroup": "True",
         "hovertemplate": "units_sold=%{y}<extra></extra>",
         "legendgroup": "",
         "marker": {
          "color": "#636efa"
         },
         "name": "",
         "notched": false,
         "offsetgroup": "",
         "orientation": "v",
         "showlegend": false,
         "type": "box",
         "x0": " ",
         "xaxis": "x",
         "y": [
          1,
          14,
          9,
          0,
          2,
          17,
          2,
          2,
          16,
          0,
          2,
          17,
          19,
          2,
          2,
          0,
          20,
          30,
          6,
          7,
          14,
          19,
          4,
          6,
          0,
          1,
          8,
          2,
          3,
          0,
          1,
          0,
          1,
          4,
          4,
          5,
          4,
          21,
          3,
          0,
          2,
          0,
          0,
          9,
          4,
          2,
          42,
          4,
          20,
          31,
          2,
          1,
          46,
          0,
          4,
          22,
          10,
          47,
          4,
          12,
          2,
          6,
          2,
          2,
          19,
          4,
          2,
          2,
          0,
          18,
          2,
          0,
          7,
          3,
          0,
          4,
          1,
          8,
          2,
          0,
          1,
          1,
          2,
          2,
          3,
          1,
          0,
          1,
          36,
          18,
          8,
          0,
          1,
          9,
          1,
          19,
          2,
          0,
          3,
          3,
          6,
          0,
          18,
          32,
          2,
          1,
          16,
          0,
          4,
          1,
          1,
          8,
          3,
          6,
          14,
          5,
          0,
          0,
          8,
          0,
          6,
          0,
          0,
          5,
          21,
          4,
          28,
          2,
          1,
          2,
          2,
          0,
          1,
          0,
          4,
          6,
          0,
          31,
          12,
          1,
          1,
          2,
          18,
          29,
          3,
          2,
          1,
          58,
          0,
          20,
          2,
          5,
          1,
          0,
          3,
          8,
          21,
          3,
          40,
          1,
          11,
          5,
          8,
          7,
          0,
          0,
          7,
          2,
          14,
          1,
          3,
          0,
          1,
          4,
          5,
          13,
          1,
          2,
          2,
          10,
          1,
          15,
          6,
          3,
          3,
          0,
          2,
          0,
          2,
          4,
          11,
          6,
          0,
          7,
          9,
          0,
          1,
          1,
          8,
          6,
          5,
          1,
          190,
          19,
          3,
          0,
          4,
          2,
          0,
          13,
          24,
          13,
          2,
          0,
          3,
          6,
          13,
          3,
          0,
          4,
          0,
          0,
          2,
          1,
          11,
          0,
          4,
          0,
          2,
          8,
          3,
          9,
          1,
          3,
          18,
          1,
          24,
          2,
          3,
          2,
          7,
          6,
          3,
          5,
          4,
          1,
          5,
          1,
          1,
          13,
          16,
          3,
          2,
          1,
          18,
          9,
          4,
          0,
          13,
          11,
          2,
          1,
          2,
          1,
          4,
          9,
          15,
          2,
          20,
          4,
          2,
          0,
          5,
          0,
          3,
          2,
          1,
          0,
          0,
          2,
          0,
          1,
          0,
          2,
          1,
          2,
          2,
          10,
          0,
          4,
          1,
          0,
          7,
          0,
          1,
          3,
          2,
          6,
          3,
          2,
          4,
          7,
          6,
          2,
          6,
          30,
          2,
          8,
          5,
          2,
          1,
          6,
          5,
          7,
          52,
          0,
          0,
          8,
          2,
          1,
          0,
          0,
          1,
          0,
          1,
          6,
          0,
          0,
          2,
          0,
          3,
          17,
          2,
          7,
          1,
          4,
          5,
          0,
          19,
          0,
          0,
          1,
          10,
          1,
          0,
          4,
          28,
          5,
          0,
          27,
          9,
          0,
          0,
          1,
          5,
          7,
          0,
          15,
          0,
          1,
          0,
          6,
          2,
          5,
          0,
          3,
          3,
          4,
          14,
          3,
          1,
          11,
          42,
          0,
          0,
          25,
          1,
          1,
          21,
          1,
          10,
          3,
          0,
          0,
          0,
          7,
          1,
          5,
          6,
          1,
          11,
          39,
          1,
          6,
          2,
          1,
          10,
          6,
          4,
          1,
          5,
          5,
          0,
          3,
          0,
          1,
          5,
          3,
          4,
          10,
          17,
          8,
          6,
          8,
          21,
          2,
          0,
          3,
          10,
          0,
          1,
          63,
          3,
          1,
          9,
          1,
          32,
          7,
          1,
          2,
          0,
          10,
          5,
          3,
          17,
          14,
          5,
          3,
          24,
          7,
          5,
          1,
          4,
          2,
          1,
          1,
          10,
          5,
          1,
          2,
          1,
          2,
          1,
          4,
          7,
          0,
          3,
          10,
          1,
          7,
          2,
          12,
          1,
          0,
          75,
          7,
          8,
          1,
          1,
          5,
          5,
          6,
          6,
          11,
          10,
          5,
          1,
          4,
          2,
          4,
          1,
          0,
          0,
          12,
          14,
          3,
          14,
          9,
          22,
          0,
          0,
          2,
          0,
          17,
          1,
          1,
          7,
          1,
          0,
          0,
          3,
          11,
          6,
          9,
          49,
          13,
          0,
          1,
          1,
          3,
          22,
          5,
          7,
          3,
          1,
          16,
          0,
          11,
          6,
          2,
          2,
          1,
          1,
          6,
          5,
          1,
          9,
          0,
          16,
          11,
          43,
          0,
          0,
          11,
          18,
          9,
          7,
          12,
          2,
          5,
          6,
          0,
          3,
          5,
          1,
          11,
          0,
          2,
          8,
          22,
          12,
          2,
          2,
          3,
          2,
          1,
          2,
          4,
          7,
          1,
          4,
          14,
          1,
          13,
          5,
          4,
          1,
          22,
          0,
          7,
          6,
          0,
          15,
          5,
          5,
          47,
          3,
          6,
          38,
          24,
          0,
          0,
          7,
          0,
          8,
          5,
          17,
          9,
          17,
          30,
          17,
          2,
          4,
          19,
          3,
          3,
          7,
          0,
          4,
          3,
          20,
          0,
          3,
          3,
          4,
          3,
          4,
          2,
          5,
          5,
          0,
          6,
          14,
          3,
          2,
          15,
          2,
          8,
          1,
          3,
          11,
          9,
          13,
          0,
          5,
          5,
          0,
          2,
          6,
          14,
          0,
          0,
          0,
          23,
          0,
          0,
          8,
          0,
          0,
          4,
          38,
          0,
          1,
          23,
          6,
          0,
          1,
          0,
          1,
          1,
          5,
          1,
          1,
          1,
          23,
          0,
          1,
          0,
          0,
          0,
          0,
          12,
          0,
          13,
          8,
          0,
          6,
          26,
          4,
          11,
          0,
          1,
          5,
          8,
          10,
          2,
          2,
          7,
          33,
          41,
          8,
          1,
          1,
          2,
          3,
          5,
          0,
          17,
          0,
          3,
          4,
          2,
          2,
          8,
          1,
          16,
          0,
          0,
          7,
          18,
          5,
          1,
          3,
          15,
          1,
          2,
          4,
          0,
          18,
          9,
          1,
          1,
          0,
          6,
          0,
          6,
          5,
          1,
          10,
          1,
          8,
          6,
          10,
          1,
          0,
          16,
          1,
          0,
          3,
          5,
          1,
          59,
          1,
          1,
          0,
          1,
          3,
          2,
          1,
          0,
          3,
          7,
          2,
          1,
          5,
          22,
          6,
          2,
          0,
          8,
          105,
          0,
          14,
          5,
          1,
          6,
          3,
          4,
          5,
          4,
          5,
          0,
          3,
          0,
          0,
          2,
          0,
          5,
          0,
          2,
          5,
          1,
          5,
          0,
          12,
          2,
          3,
          1,
          3,
          0,
          5,
          0,
          2,
          11,
          4,
          1,
          1,
          1,
          1,
          1,
          2,
          4,
          4,
          0,
          4,
          1,
          80,
          1,
          2,
          0,
          6,
          0,
          1,
          1,
          1,
          8,
          0,
          0,
          8,
          7,
          14,
          9,
          0,
          6,
          3,
          4,
          1,
          0,
          2,
          0,
          4,
          0,
          2,
          2,
          2,
          0,
          3,
          16,
          2,
          3,
          0,
          34,
          6,
          1,
          13,
          4,
          5,
          9,
          2,
          2,
          4,
          6,
          0,
          1,
          2,
          7,
          2,
          19,
          6,
          6,
          24,
          10,
          1,
          0,
          0,
          8,
          1,
          11,
          1,
          2,
          2,
          5,
          4,
          0,
          5,
          4,
          4,
          1,
          10,
          6,
          13,
          11,
          0,
          0,
          0,
          47,
          0,
          9,
          42,
          8,
          7,
          0,
          1,
          2,
          1,
          0,
          11,
          3,
          0,
          11,
          8,
          0,
          18,
          8,
          9,
          5,
          2,
          25,
          13,
          0,
          5,
          17,
          4,
          3,
          4,
          8,
          1,
          1,
          3,
          1,
          5,
          5,
          2,
          7,
          2,
          8,
          2,
          8,
          7,
          17,
          9,
          2,
          88,
          15,
          0,
          3,
          6,
          0,
          1,
          0,
          22,
          3,
          1,
          4,
          2,
          9,
          5,
          0,
          24,
          0,
          3,
          1,
          1,
          20,
          7,
          0,
          1,
          1,
          6,
          0,
          3,
          7,
          6,
          7,
          0,
          6,
          7,
          1,
          0,
          1,
          0,
          0,
          2,
          7,
          6,
          0,
          1,
          2,
          8,
          13,
          0,
          8,
          0,
          5,
          3,
          3,
          6,
          9,
          7,
          4,
          2,
          9,
          2,
          0,
          0,
          2,
          3,
          0,
          9,
          3,
          16,
          5,
          0,
          10,
          0,
          30,
          4,
          4,
          1
         ],
         "y0": " ",
         "yaxis": "y"
        }
       ],
       "layout": {
        "boxmode": "group",
        "legend": {
         "tracegroupgap": 0
        },
        "margin": {
         "t": 60
        },
        "template": {
         "data": {
          "bar": [
           {
            "error_x": {
             "color": "#2a3f5f"
            },
            "error_y": {
             "color": "#2a3f5f"
            },
            "marker": {
             "line": {
              "color": "#E5ECF6",
              "width": 0.5
             },
             "pattern": {
              "fillmode": "overlay",
              "size": 10,
              "solidity": 0.2
             }
            },
            "type": "bar"
           }
          ],
          "barpolar": [
           {
            "marker": {
             "line": {
              "color": "#E5ECF6",
              "width": 0.5
             },
             "pattern": {
              "fillmode": "overlay",
              "size": 10,
              "solidity": 0.2
             }
            },
            "type": "barpolar"
           }
          ],
          "carpet": [
           {
            "aaxis": {
             "endlinecolor": "#2a3f5f",
             "gridcolor": "white",
             "linecolor": "white",
             "minorgridcolor": "white",
             "startlinecolor": "#2a3f5f"
            },
            "baxis": {
             "endlinecolor": "#2a3f5f",
             "gridcolor": "white",
             "linecolor": "white",
             "minorgridcolor": "white",
             "startlinecolor": "#2a3f5f"
            },
            "type": "carpet"
           }
          ],
          "choropleth": [
           {
            "colorbar": {
             "outlinewidth": 0,
             "ticks": ""
            },
            "type": "choropleth"
           }
          ],
          "contour": [
           {
            "colorbar": {
             "outlinewidth": 0,
             "ticks": ""
            },
            "colorscale": [
             [
              0,
              "#0d0887"
             ],
             [
              0.1111111111111111,
              "#46039f"
             ],
             [
              0.2222222222222222,
              "#7201a8"
             ],
             [
              0.3333333333333333,
              "#9c179e"
             ],
             [
              0.4444444444444444,
              "#bd3786"
             ],
             [
              0.5555555555555556,
              "#d8576b"
             ],
             [
              0.6666666666666666,
              "#ed7953"
             ],
             [
              0.7777777777777778,
              "#fb9f3a"
             ],
             [
              0.8888888888888888,
              "#fdca26"
             ],
             [
              1,
              "#f0f921"
             ]
            ],
            "type": "contour"
           }
          ],
          "contourcarpet": [
           {
            "colorbar": {
             "outlinewidth": 0,
             "ticks": ""
            },
            "type": "contourcarpet"
           }
          ],
          "heatmap": [
           {
            "colorbar": {
             "outlinewidth": 0,
             "ticks": ""
            },
            "colorscale": [
             [
              0,
              "#0d0887"
             ],
             [
              0.1111111111111111,
              "#46039f"
             ],
             [
              0.2222222222222222,
              "#7201a8"
             ],
             [
              0.3333333333333333,
              "#9c179e"
             ],
             [
              0.4444444444444444,
              "#bd3786"
             ],
             [
              0.5555555555555556,
              "#d8576b"
             ],
             [
              0.6666666666666666,
              "#ed7953"
             ],
             [
              0.7777777777777778,
              "#fb9f3a"
             ],
             [
              0.8888888888888888,
              "#fdca26"
             ],
             [
              1,
              "#f0f921"
             ]
            ],
            "type": "heatmap"
           }
          ],
          "heatmapgl": [
           {
            "colorbar": {
             "outlinewidth": 0,
             "ticks": ""
            },
            "colorscale": [
             [
              0,
              "#0d0887"
             ],
             [
              0.1111111111111111,
              "#46039f"
             ],
             [
              0.2222222222222222,
              "#7201a8"
             ],
             [
              0.3333333333333333,
              "#9c179e"
             ],
             [
              0.4444444444444444,
              "#bd3786"
             ],
             [
              0.5555555555555556,
              "#d8576b"
             ],
             [
              0.6666666666666666,
              "#ed7953"
             ],
             [
              0.7777777777777778,
              "#fb9f3a"
             ],
             [
              0.8888888888888888,
              "#fdca26"
             ],
             [
              1,
              "#f0f921"
             ]
            ],
            "type": "heatmapgl"
           }
          ],
          "histogram": [
           {
            "marker": {
             "pattern": {
              "fillmode": "overlay",
              "size": 10,
              "solidity": 0.2
             }
            },
            "type": "histogram"
           }
          ],
          "histogram2d": [
           {
            "colorbar": {
             "outlinewidth": 0,
             "ticks": ""
            },
            "colorscale": [
             [
              0,
              "#0d0887"
             ],
             [
              0.1111111111111111,
              "#46039f"
             ],
             [
              0.2222222222222222,
              "#7201a8"
             ],
             [
              0.3333333333333333,
              "#9c179e"
             ],
             [
              0.4444444444444444,
              "#bd3786"
             ],
             [
              0.5555555555555556,
              "#d8576b"
             ],
             [
              0.6666666666666666,
              "#ed7953"
             ],
             [
              0.7777777777777778,
              "#fb9f3a"
             ],
             [
              0.8888888888888888,
              "#fdca26"
             ],
             [
              1,
              "#f0f921"
             ]
            ],
            "type": "histogram2d"
           }
          ],
          "histogram2dcontour": [
           {
            "colorbar": {
             "outlinewidth": 0,
             "ticks": ""
            },
            "colorscale": [
             [
              0,
              "#0d0887"
             ],
             [
              0.1111111111111111,
              "#46039f"
             ],
             [
              0.2222222222222222,
              "#7201a8"
             ],
             [
              0.3333333333333333,
              "#9c179e"
             ],
             [
              0.4444444444444444,
              "#bd3786"
             ],
             [
              0.5555555555555556,
              "#d8576b"
             ],
             [
              0.6666666666666666,
              "#ed7953"
             ],
             [
              0.7777777777777778,
              "#fb9f3a"
             ],
             [
              0.8888888888888888,
              "#fdca26"
             ],
             [
              1,
              "#f0f921"
             ]
            ],
            "type": "histogram2dcontour"
           }
          ],
          "mesh3d": [
           {
            "colorbar": {
             "outlinewidth": 0,
             "ticks": ""
            },
            "type": "mesh3d"
           }
          ],
          "parcoords": [
           {
            "line": {
             "colorbar": {
              "outlinewidth": 0,
              "ticks": ""
             }
            },
            "type": "parcoords"
           }
          ],
          "pie": [
           {
            "automargin": true,
            "type": "pie"
           }
          ],
          "scatter": [
           {
            "fillpattern": {
             "fillmode": "overlay",
             "size": 10,
             "solidity": 0.2
            },
            "type": "scatter"
           }
          ],
          "scatter3d": [
           {
            "line": {
             "colorbar": {
              "outlinewidth": 0,
              "ticks": ""
             }
            },
            "marker": {
             "colorbar": {
              "outlinewidth": 0,
              "ticks": ""
             }
            },
            "type": "scatter3d"
           }
          ],
          "scattercarpet": [
           {
            "marker": {
             "colorbar": {
              "outlinewidth": 0,
              "ticks": ""
             }
            },
            "type": "scattercarpet"
           }
          ],
          "scattergeo": [
           {
            "marker": {
             "colorbar": {
              "outlinewidth": 0,
              "ticks": ""
             }
            },
            "type": "scattergeo"
           }
          ],
          "scattergl": [
           {
            "marker": {
             "colorbar": {
              "outlinewidth": 0,
              "ticks": ""
             }
            },
            "type": "scattergl"
           }
          ],
          "scattermapbox": [
           {
            "marker": {
             "colorbar": {
              "outlinewidth": 0,
              "ticks": ""
             }
            },
            "type": "scattermapbox"
           }
          ],
          "scatterpolar": [
           {
            "marker": {
             "colorbar": {
              "outlinewidth": 0,
              "ticks": ""
             }
            },
            "type": "scatterpolar"
           }
          ],
          "scatterpolargl": [
           {
            "marker": {
             "colorbar": {
              "outlinewidth": 0,
              "ticks": ""
             }
            },
            "type": "scatterpolargl"
           }
          ],
          "scatterternary": [
           {
            "marker": {
             "colorbar": {
              "outlinewidth": 0,
              "ticks": ""
             }
            },
            "type": "scatterternary"
           }
          ],
          "surface": [
           {
            "colorbar": {
             "outlinewidth": 0,
             "ticks": ""
            },
            "colorscale": [
             [
              0,
              "#0d0887"
             ],
             [
              0.1111111111111111,
              "#46039f"
             ],
             [
              0.2222222222222222,
              "#7201a8"
             ],
             [
              0.3333333333333333,
              "#9c179e"
             ],
             [
              0.4444444444444444,
              "#bd3786"
             ],
             [
              0.5555555555555556,
              "#d8576b"
             ],
             [
              0.6666666666666666,
              "#ed7953"
             ],
             [
              0.7777777777777778,
              "#fb9f3a"
             ],
             [
              0.8888888888888888,
              "#fdca26"
             ],
             [
              1,
              "#f0f921"
             ]
            ],
            "type": "surface"
           }
          ],
          "table": [
           {
            "cells": {
             "fill": {
              "color": "#EBF0F8"
             },
             "line": {
              "color": "white"
             }
            },
            "header": {
             "fill": {
              "color": "#C8D4E3"
             },
             "line": {
              "color": "white"
             }
            },
            "type": "table"
           }
          ]
         },
         "layout": {
          "annotationdefaults": {
           "arrowcolor": "#2a3f5f",
           "arrowhead": 0,
           "arrowwidth": 1
          },
          "autotypenumbers": "strict",
          "coloraxis": {
           "colorbar": {
            "outlinewidth": 0,
            "ticks": ""
           }
          },
          "colorscale": {
           "diverging": [
            [
             0,
             "#8e0152"
            ],
            [
             0.1,
             "#c51b7d"
            ],
            [
             0.2,
             "#de77ae"
            ],
            [
             0.3,
             "#f1b6da"
            ],
            [
             0.4,
             "#fde0ef"
            ],
            [
             0.5,
             "#f7f7f7"
            ],
            [
             0.6,
             "#e6f5d0"
            ],
            [
             0.7,
             "#b8e186"
            ],
            [
             0.8,
             "#7fbc41"
            ],
            [
             0.9,
             "#4d9221"
            ],
            [
             1,
             "#276419"
            ]
           ],
           "sequential": [
            [
             0,
             "#0d0887"
            ],
            [
             0.1111111111111111,
             "#46039f"
            ],
            [
             0.2222222222222222,
             "#7201a8"
            ],
            [
             0.3333333333333333,
             "#9c179e"
            ],
            [
             0.4444444444444444,
             "#bd3786"
            ],
            [
             0.5555555555555556,
             "#d8576b"
            ],
            [
             0.6666666666666666,
             "#ed7953"
            ],
            [
             0.7777777777777778,
             "#fb9f3a"
            ],
            [
             0.8888888888888888,
             "#fdca26"
            ],
            [
             1,
             "#f0f921"
            ]
           ],
           "sequentialminus": [
            [
             0,
             "#0d0887"
            ],
            [
             0.1111111111111111,
             "#46039f"
            ],
            [
             0.2222222222222222,
             "#7201a8"
            ],
            [
             0.3333333333333333,
             "#9c179e"
            ],
            [
             0.4444444444444444,
             "#bd3786"
            ],
            [
             0.5555555555555556,
             "#d8576b"
            ],
            [
             0.6666666666666666,
             "#ed7953"
            ],
            [
             0.7777777777777778,
             "#fb9f3a"
            ],
            [
             0.8888888888888888,
             "#fdca26"
            ],
            [
             1,
             "#f0f921"
            ]
           ]
          },
          "colorway": [
           "#636efa",
           "#EF553B",
           "#00cc96",
           "#ab63fa",
           "#FFA15A",
           "#19d3f3",
           "#FF6692",
           "#B6E880",
           "#FF97FF",
           "#FECB52"
          ],
          "font": {
           "color": "#2a3f5f"
          },
          "geo": {
           "bgcolor": "white",
           "lakecolor": "white",
           "landcolor": "#E5ECF6",
           "showlakes": true,
           "showland": true,
           "subunitcolor": "white"
          },
          "hoverlabel": {
           "align": "left"
          },
          "hovermode": "closest",
          "mapbox": {
           "style": "light"
          },
          "paper_bgcolor": "white",
          "plot_bgcolor": "#E5ECF6",
          "polar": {
           "angularaxis": {
            "gridcolor": "white",
            "linecolor": "white",
            "ticks": ""
           },
           "bgcolor": "#E5ECF6",
           "radialaxis": {
            "gridcolor": "white",
            "linecolor": "white",
            "ticks": ""
           }
          },
          "scene": {
           "xaxis": {
            "backgroundcolor": "#E5ECF6",
            "gridcolor": "white",
            "gridwidth": 2,
            "linecolor": "white",
            "showbackground": true,
            "ticks": "",
            "zerolinecolor": "white"
           },
           "yaxis": {
            "backgroundcolor": "#E5ECF6",
            "gridcolor": "white",
            "gridwidth": 2,
            "linecolor": "white",
            "showbackground": true,
            "ticks": "",
            "zerolinecolor": "white"
           },
           "zaxis": {
            "backgroundcolor": "#E5ECF6",
            "gridcolor": "white",
            "gridwidth": 2,
            "linecolor": "white",
            "showbackground": true,
            "ticks": "",
            "zerolinecolor": "white"
           }
          },
          "shapedefaults": {
           "line": {
            "color": "#2a3f5f"
           }
          },
          "ternary": {
           "aaxis": {
            "gridcolor": "white",
            "linecolor": "white",
            "ticks": ""
           },
           "baxis": {
            "gridcolor": "white",
            "linecolor": "white",
            "ticks": ""
           },
           "bgcolor": "#E5ECF6",
           "caxis": {
            "gridcolor": "white",
            "linecolor": "white",
            "ticks": ""
           }
          },
          "title": {
           "x": 0.05
          },
          "xaxis": {
           "automargin": true,
           "gridcolor": "white",
           "linecolor": "white",
           "ticks": "",
           "title": {
            "standoff": 15
           },
           "zerolinecolor": "white",
           "zerolinewidth": 2
          },
          "yaxis": {
           "automargin": true,
           "gridcolor": "white",
           "linecolor": "white",
           "ticks": "",
           "title": {
            "standoff": 15
           },
           "zerolinecolor": "white",
           "zerolinewidth": 2
          }
         }
        },
        "title": {
         "text": "Box Plot of units_sold"
        },
        "xaxis": {
         "anchor": "y",
         "domain": [
          0,
          1
         ]
        },
        "yaxis": {
         "anchor": "x",
         "domain": [
          0,
          1
         ],
         "title": {
          "text": "Feature Values"
         }
        }
       }
      },
      "text/html": [
       "<div>                            <div id=\"cddde879-2662-4c5e-bd2e-dfbd499d711b\" class=\"plotly-graph-div\" style=\"height:525px; width:100%;\"></div>            <script type=\"text/javascript\">                require([\"plotly\"], function(Plotly) {                    window.PLOTLYENV=window.PLOTLYENV || {};                                    if (document.getElementById(\"cddde879-2662-4c5e-bd2e-dfbd499d711b\")) {                    Plotly.newPlot(                        \"cddde879-2662-4c5e-bd2e-dfbd499d711b\",                        [{\"alignmentgroup\":\"True\",\"hovertemplate\":\"units_sold=%{y}<extra></extra>\",\"legendgroup\":\"\",\"marker\":{\"color\":\"#636efa\"},\"name\":\"\",\"notched\":false,\"offsetgroup\":\"\",\"orientation\":\"v\",\"showlegend\":false,\"x0\":\" \",\"xaxis\":\"x\",\"y\":[1.0,14.0,9.0,0.0,2.0,17.0,2.0,2.0,16.0,0.0,2.0,17.0,19.0,2.0,2.0,0.0,20.0,30.0,6.0,7.0,14.0,19.0,4.0,6.0,0.0,1.0,8.0,2.0,3.0,0.0,1.0,0.0,1.0,4.0,4.0,5.0,4.0,21.0,3.0,0.0,2.0,0.0,0.0,9.0,4.0,2.0,42.0,4.0,20.0,31.0,2.0,1.0,46.0,0.0,4.0,22.0,10.0,47.0,4.0,12.0,2.0,6.0,2.0,2.0,19.0,4.0,2.0,2.0,0.0,18.0,2.0,0.0,7.0,3.0,0.0,4.0,1.0,8.0,2.0,0.0,1.0,1.0,2.0,2.0,3.0,1.0,0.0,1.0,36.0,18.0,8.0,0.0,1.0,9.0,1.0,19.0,2.0,0.0,3.0,3.0,6.0,0.0,18.0,32.0,2.0,1.0,16.0,0.0,4.0,1.0,1.0,8.0,3.0,6.0,14.0,5.0,0.0,0.0,8.0,0.0,6.0,0.0,0.0,5.0,21.0,4.0,28.0,2.0,1.0,2.0,2.0,0.0,1.0,0.0,4.0,6.0,0.0,31.0,12.0,1.0,1.0,2.0,18.0,29.0,3.0,2.0,1.0,58.0,0.0,20.0,2.0,5.0,1.0,0.0,3.0,8.0,21.0,3.0,40.0,1.0,11.0,5.0,8.0,7.0,0.0,0.0,7.0,2.0,14.0,1.0,3.0,0.0,1.0,4.0,5.0,13.0,1.0,2.0,2.0,10.0,1.0,15.0,6.0,3.0,3.0,0.0,2.0,0.0,2.0,4.0,11.0,6.0,0.0,7.0,9.0,0.0,1.0,1.0,8.0,6.0,5.0,1.0,190.0,19.0,3.0,0.0,4.0,2.0,0.0,13.0,24.0,13.0,2.0,0.0,3.0,6.0,13.0,3.0,0.0,4.0,0.0,0.0,2.0,1.0,11.0,0.0,4.0,0.0,2.0,8.0,3.0,9.0,1.0,3.0,18.0,1.0,24.0,2.0,3.0,2.0,7.0,6.0,3.0,5.0,4.0,1.0,5.0,1.0,1.0,13.0,16.0,3.0,2.0,1.0,18.0,9.0,4.0,0.0,13.0,11.0,2.0,1.0,2.0,1.0,4.0,9.0,15.0,2.0,20.0,4.0,2.0,0.0,5.0,0.0,3.0,2.0,1.0,0.0,0.0,2.0,0.0,1.0,0.0,2.0,1.0,2.0,2.0,10.0,0.0,4.0,1.0,0.0,7.0,0.0,1.0,3.0,2.0,6.0,3.0,2.0,4.0,7.0,6.0,2.0,6.0,30.0,2.0,8.0,5.0,2.0,1.0,6.0,5.0,7.0,52.0,0.0,0.0,8.0,2.0,1.0,0.0,0.0,1.0,0.0,1.0,6.0,0.0,0.0,2.0,0.0,3.0,17.0,2.0,7.0,1.0,4.0,5.0,0.0,19.0,0.0,0.0,1.0,10.0,1.0,0.0,4.0,28.0,5.0,0.0,27.0,9.0,0.0,0.0,1.0,5.0,7.0,0.0,15.0,0.0,1.0,0.0,6.0,2.0,5.0,0.0,3.0,3.0,4.0,14.0,3.0,1.0,11.0,42.0,0.0,0.0,25.0,1.0,1.0,21.0,1.0,10.0,3.0,0.0,0.0,0.0,7.0,1.0,5.0,6.0,1.0,11.0,39.0,1.0,6.0,2.0,1.0,10.0,6.0,4.0,1.0,5.0,5.0,0.0,3.0,0.0,1.0,5.0,3.0,4.0,10.0,17.0,8.0,6.0,8.0,21.0,2.0,0.0,3.0,10.0,0.0,1.0,63.0,3.0,1.0,9.0,1.0,32.0,7.0,1.0,2.0,0.0,10.0,5.0,3.0,17.0,14.0,5.0,3.0,24.0,7.0,5.0,1.0,4.0,2.0,1.0,1.0,10.0,5.0,1.0,2.0,1.0,2.0,1.0,4.0,7.0,0.0,3.0,10.0,1.0,7.0,2.0,12.0,1.0,0.0,75.0,7.0,8.0,1.0,1.0,5.0,5.0,6.0,6.0,11.0,10.0,5.0,1.0,4.0,2.0,4.0,1.0,0.0,0.0,12.0,14.0,3.0,14.0,9.0,22.0,0.0,0.0,2.0,0.0,17.0,1.0,1.0,7.0,1.0,0.0,0.0,3.0,11.0,6.0,9.0,49.0,13.0,0.0,1.0,1.0,3.0,22.0,5.0,7.0,3.0,1.0,16.0,0.0,11.0,6.0,2.0,2.0,1.0,1.0,6.0,5.0,1.0,9.0,0.0,16.0,11.0,43.0,0.0,0.0,11.0,18.0,9.0,7.0,12.0,2.0,5.0,6.0,0.0,3.0,5.0,1.0,11.0,0.0,2.0,8.0,22.0,12.0,2.0,2.0,3.0,2.0,1.0,2.0,4.0,7.0,1.0,4.0,14.0,1.0,13.0,5.0,4.0,1.0,22.0,0.0,7.0,6.0,0.0,15.0,5.0,5.0,47.0,3.0,6.0,38.0,24.0,0.0,0.0,7.0,0.0,8.0,5.0,17.0,9.0,17.0,30.0,17.0,2.0,4.0,19.0,3.0,3.0,7.0,0.0,4.0,3.0,20.0,0.0,3.0,3.0,4.0,3.0,4.0,2.0,5.0,5.0,0.0,6.0,14.0,3.0,2.0,15.0,2.0,8.0,1.0,3.0,11.0,9.0,13.0,0.0,5.0,5.0,0.0,2.0,6.0,14.0,0.0,0.0,0.0,23.0,0.0,0.0,8.0,0.0,0.0,4.0,38.0,0.0,1.0,23.0,6.0,0.0,1.0,0.0,1.0,1.0,5.0,1.0,1.0,1.0,23.0,0.0,1.0,0.0,0.0,0.0,0.0,12.0,0.0,13.0,8.0,0.0,6.0,26.0,4.0,11.0,0.0,1.0,5.0,8.0,10.0,2.0,2.0,7.0,33.0,41.0,8.0,1.0,1.0,2.0,3.0,5.0,0.0,17.0,0.0,3.0,4.0,2.0,2.0,8.0,1.0,16.0,0.0,0.0,7.0,18.0,5.0,1.0,3.0,15.0,1.0,2.0,4.0,0.0,18.0,9.0,1.0,1.0,0.0,6.0,0.0,6.0,5.0,1.0,10.0,1.0,8.0,6.0,10.0,1.0,0.0,16.0,1.0,0.0,3.0,5.0,1.0,59.0,1.0,1.0,0.0,1.0,3.0,2.0,1.0,0.0,3.0,7.0,2.0,1.0,5.0,22.0,6.0,2.0,0.0,8.0,105.0,0.0,14.0,5.0,1.0,6.0,3.0,4.0,5.0,4.0,5.0,0.0,3.0,0.0,0.0,2.0,0.0,5.0,0.0,2.0,5.0,1.0,5.0,0.0,12.0,2.0,3.0,1.0,3.0,0.0,5.0,0.0,2.0,11.0,4.0,1.0,1.0,1.0,1.0,1.0,2.0,4.0,4.0,0.0,4.0,1.0,80.0,1.0,2.0,0.0,6.0,0.0,1.0,1.0,1.0,8.0,0.0,0.0,8.0,7.0,14.0,9.0,0.0,6.0,3.0,4.0,1.0,0.0,2.0,0.0,4.0,0.0,2.0,2.0,2.0,0.0,3.0,16.0,2.0,3.0,0.0,34.0,6.0,1.0,13.0,4.0,5.0,9.0,2.0,2.0,4.0,6.0,0.0,1.0,2.0,7.0,2.0,19.0,6.0,6.0,24.0,10.0,1.0,0.0,0.0,8.0,1.0,11.0,1.0,2.0,2.0,5.0,4.0,0.0,5.0,4.0,4.0,1.0,10.0,6.0,13.0,11.0,0.0,0.0,0.0,47.0,0.0,9.0,42.0,8.0,7.0,0.0,1.0,2.0,1.0,0.0,11.0,3.0,0.0,11.0,8.0,0.0,18.0,8.0,9.0,5.0,2.0,25.0,13.0,0.0,5.0,17.0,4.0,3.0,4.0,8.0,1.0,1.0,3.0,1.0,5.0,5.0,2.0,7.0,2.0,8.0,2.0,8.0,7.0,17.0,9.0,2.0,88.0,15.0,0.0,3.0,6.0,0.0,1.0,0.0,22.0,3.0,1.0,4.0,2.0,9.0,5.0,0.0,24.0,0.0,3.0,1.0,1.0,20.0,7.0,0.0,1.0,1.0,6.0,0.0,3.0,7.0,6.0,7.0,0.0,6.0,7.0,1.0,0.0,1.0,0.0,0.0,2.0,7.0,6.0,0.0,1.0,2.0,8.0,13.0,0.0,8.0,0.0,5.0,3.0,3.0,6.0,9.0,7.0,4.0,2.0,9.0,2.0,0.0,0.0,2.0,3.0,0.0,9.0,3.0,16.0,5.0,0.0,10.0,0.0,30.0,4.0,4.0,1.0],\"y0\":\" \",\"yaxis\":\"y\",\"type\":\"box\"}],                        {\"template\":{\"data\":{\"histogram2dcontour\":[{\"type\":\"histogram2dcontour\",\"colorbar\":{\"outlinewidth\":0,\"ticks\":\"\"},\"colorscale\":[[0.0,\"#0d0887\"],[0.1111111111111111,\"#46039f\"],[0.2222222222222222,\"#7201a8\"],[0.3333333333333333,\"#9c179e\"],[0.4444444444444444,\"#bd3786\"],[0.5555555555555556,\"#d8576b\"],[0.6666666666666666,\"#ed7953\"],[0.7777777777777778,\"#fb9f3a\"],[0.8888888888888888,\"#fdca26\"],[1.0,\"#f0f921\"]]}],\"choropleth\":[{\"type\":\"choropleth\",\"colorbar\":{\"outlinewidth\":0,\"ticks\":\"\"}}],\"histogram2d\":[{\"type\":\"histogram2d\",\"colorbar\":{\"outlinewidth\":0,\"ticks\":\"\"},\"colorscale\":[[0.0,\"#0d0887\"],[0.1111111111111111,\"#46039f\"],[0.2222222222222222,\"#7201a8\"],[0.3333333333333333,\"#9c179e\"],[0.4444444444444444,\"#bd3786\"],[0.5555555555555556,\"#d8576b\"],[0.6666666666666666,\"#ed7953\"],[0.7777777777777778,\"#fb9f3a\"],[0.8888888888888888,\"#fdca26\"],[1.0,\"#f0f921\"]]}],\"heatmap\":[{\"type\":\"heatmap\",\"colorbar\":{\"outlinewidth\":0,\"ticks\":\"\"},\"colorscale\":[[0.0,\"#0d0887\"],[0.1111111111111111,\"#46039f\"],[0.2222222222222222,\"#7201a8\"],[0.3333333333333333,\"#9c179e\"],[0.4444444444444444,\"#bd3786\"],[0.5555555555555556,\"#d8576b\"],[0.6666666666666666,\"#ed7953\"],[0.7777777777777778,\"#fb9f3a\"],[0.8888888888888888,\"#fdca26\"],[1.0,\"#f0f921\"]]}],\"heatmapgl\":[{\"type\":\"heatmapgl\",\"colorbar\":{\"outlinewidth\":0,\"ticks\":\"\"},\"colorscale\":[[0.0,\"#0d0887\"],[0.1111111111111111,\"#46039f\"],[0.2222222222222222,\"#7201a8\"],[0.3333333333333333,\"#9c179e\"],[0.4444444444444444,\"#bd3786\"],[0.5555555555555556,\"#d8576b\"],[0.6666666666666666,\"#ed7953\"],[0.7777777777777778,\"#fb9f3a\"],[0.8888888888888888,\"#fdca26\"],[1.0,\"#f0f921\"]]}],\"contourcarpet\":[{\"type\":\"contourcarpet\",\"colorbar\":{\"outlinewidth\":0,\"ticks\":\"\"}}],\"contour\":[{\"type\":\"contour\",\"colorbar\":{\"outlinewidth\":0,\"ticks\":\"\"},\"colorscale\":[[0.0,\"#0d0887\"],[0.1111111111111111,\"#46039f\"],[0.2222222222222222,\"#7201a8\"],[0.3333333333333333,\"#9c179e\"],[0.4444444444444444,\"#bd3786\"],[0.5555555555555556,\"#d8576b\"],[0.6666666666666666,\"#ed7953\"],[0.7777777777777778,\"#fb9f3a\"],[0.8888888888888888,\"#fdca26\"],[1.0,\"#f0f921\"]]}],\"surface\":[{\"type\":\"surface\",\"colorbar\":{\"outlinewidth\":0,\"ticks\":\"\"},\"colorscale\":[[0.0,\"#0d0887\"],[0.1111111111111111,\"#46039f\"],[0.2222222222222222,\"#7201a8\"],[0.3333333333333333,\"#9c179e\"],[0.4444444444444444,\"#bd3786\"],[0.5555555555555556,\"#d8576b\"],[0.6666666666666666,\"#ed7953\"],[0.7777777777777778,\"#fb9f3a\"],[0.8888888888888888,\"#fdca26\"],[1.0,\"#f0f921\"]]}],\"mesh3d\":[{\"type\":\"mesh3d\",\"colorbar\":{\"outlinewidth\":0,\"ticks\":\"\"}}],\"scatter\":[{\"fillpattern\":{\"fillmode\":\"overlay\",\"size\":10,\"solidity\":0.2},\"type\":\"scatter\"}],\"parcoords\":[{\"type\":\"parcoords\",\"line\":{\"colorbar\":{\"outlinewidth\":0,\"ticks\":\"\"}}}],\"scatterpolargl\":[{\"type\":\"scatterpolargl\",\"marker\":{\"colorbar\":{\"outlinewidth\":0,\"ticks\":\"\"}}}],\"bar\":[{\"error_x\":{\"color\":\"#2a3f5f\"},\"error_y\":{\"color\":\"#2a3f5f\"},\"marker\":{\"line\":{\"color\":\"#E5ECF6\",\"width\":0.5},\"pattern\":{\"fillmode\":\"overlay\",\"size\":10,\"solidity\":0.2}},\"type\":\"bar\"}],\"scattergeo\":[{\"type\":\"scattergeo\",\"marker\":{\"colorbar\":{\"outlinewidth\":0,\"ticks\":\"\"}}}],\"scatterpolar\":[{\"type\":\"scatterpolar\",\"marker\":{\"colorbar\":{\"outlinewidth\":0,\"ticks\":\"\"}}}],\"histogram\":[{\"marker\":{\"pattern\":{\"fillmode\":\"overlay\",\"size\":10,\"solidity\":0.2}},\"type\":\"histogram\"}],\"scattergl\":[{\"type\":\"scattergl\",\"marker\":{\"colorbar\":{\"outlinewidth\":0,\"ticks\":\"\"}}}],\"scatter3d\":[{\"type\":\"scatter3d\",\"line\":{\"colorbar\":{\"outlinewidth\":0,\"ticks\":\"\"}},\"marker\":{\"colorbar\":{\"outlinewidth\":0,\"ticks\":\"\"}}}],\"scattermapbox\":[{\"type\":\"scattermapbox\",\"marker\":{\"colorbar\":{\"outlinewidth\":0,\"ticks\":\"\"}}}],\"scatterternary\":[{\"type\":\"scatterternary\",\"marker\":{\"colorbar\":{\"outlinewidth\":0,\"ticks\":\"\"}}}],\"scattercarpet\":[{\"type\":\"scattercarpet\",\"marker\":{\"colorbar\":{\"outlinewidth\":0,\"ticks\":\"\"}}}],\"carpet\":[{\"aaxis\":{\"endlinecolor\":\"#2a3f5f\",\"gridcolor\":\"white\",\"linecolor\":\"white\",\"minorgridcolor\":\"white\",\"startlinecolor\":\"#2a3f5f\"},\"baxis\":{\"endlinecolor\":\"#2a3f5f\",\"gridcolor\":\"white\",\"linecolor\":\"white\",\"minorgridcolor\":\"white\",\"startlinecolor\":\"#2a3f5f\"},\"type\":\"carpet\"}],\"table\":[{\"cells\":{\"fill\":{\"color\":\"#EBF0F8\"},\"line\":{\"color\":\"white\"}},\"header\":{\"fill\":{\"color\":\"#C8D4E3\"},\"line\":{\"color\":\"white\"}},\"type\":\"table\"}],\"barpolar\":[{\"marker\":{\"line\":{\"color\":\"#E5ECF6\",\"width\":0.5},\"pattern\":{\"fillmode\":\"overlay\",\"size\":10,\"solidity\":0.2}},\"type\":\"barpolar\"}],\"pie\":[{\"automargin\":true,\"type\":\"pie\"}]},\"layout\":{\"autotypenumbers\":\"strict\",\"colorway\":[\"#636efa\",\"#EF553B\",\"#00cc96\",\"#ab63fa\",\"#FFA15A\",\"#19d3f3\",\"#FF6692\",\"#B6E880\",\"#FF97FF\",\"#FECB52\"],\"font\":{\"color\":\"#2a3f5f\"},\"hovermode\":\"closest\",\"hoverlabel\":{\"align\":\"left\"},\"paper_bgcolor\":\"white\",\"plot_bgcolor\":\"#E5ECF6\",\"polar\":{\"bgcolor\":\"#E5ECF6\",\"angularaxis\":{\"gridcolor\":\"white\",\"linecolor\":\"white\",\"ticks\":\"\"},\"radialaxis\":{\"gridcolor\":\"white\",\"linecolor\":\"white\",\"ticks\":\"\"}},\"ternary\":{\"bgcolor\":\"#E5ECF6\",\"aaxis\":{\"gridcolor\":\"white\",\"linecolor\":\"white\",\"ticks\":\"\"},\"baxis\":{\"gridcolor\":\"white\",\"linecolor\":\"white\",\"ticks\":\"\"},\"caxis\":{\"gridcolor\":\"white\",\"linecolor\":\"white\",\"ticks\":\"\"}},\"coloraxis\":{\"colorbar\":{\"outlinewidth\":0,\"ticks\":\"\"}},\"colorscale\":{\"sequential\":[[0.0,\"#0d0887\"],[0.1111111111111111,\"#46039f\"],[0.2222222222222222,\"#7201a8\"],[0.3333333333333333,\"#9c179e\"],[0.4444444444444444,\"#bd3786\"],[0.5555555555555556,\"#d8576b\"],[0.6666666666666666,\"#ed7953\"],[0.7777777777777778,\"#fb9f3a\"],[0.8888888888888888,\"#fdca26\"],[1.0,\"#f0f921\"]],\"sequentialminus\":[[0.0,\"#0d0887\"],[0.1111111111111111,\"#46039f\"],[0.2222222222222222,\"#7201a8\"],[0.3333333333333333,\"#9c179e\"],[0.4444444444444444,\"#bd3786\"],[0.5555555555555556,\"#d8576b\"],[0.6666666666666666,\"#ed7953\"],[0.7777777777777778,\"#fb9f3a\"],[0.8888888888888888,\"#fdca26\"],[1.0,\"#f0f921\"]],\"diverging\":[[0,\"#8e0152\"],[0.1,\"#c51b7d\"],[0.2,\"#de77ae\"],[0.3,\"#f1b6da\"],[0.4,\"#fde0ef\"],[0.5,\"#f7f7f7\"],[0.6,\"#e6f5d0\"],[0.7,\"#b8e186\"],[0.8,\"#7fbc41\"],[0.9,\"#4d9221\"],[1,\"#276419\"]]},\"xaxis\":{\"gridcolor\":\"white\",\"linecolor\":\"white\",\"ticks\":\"\",\"title\":{\"standoff\":15},\"zerolinecolor\":\"white\",\"automargin\":true,\"zerolinewidth\":2},\"yaxis\":{\"gridcolor\":\"white\",\"linecolor\":\"white\",\"ticks\":\"\",\"title\":{\"standoff\":15},\"zerolinecolor\":\"white\",\"automargin\":true,\"zerolinewidth\":2},\"scene\":{\"xaxis\":{\"backgroundcolor\":\"#E5ECF6\",\"gridcolor\":\"white\",\"linecolor\":\"white\",\"showbackground\":true,\"ticks\":\"\",\"zerolinecolor\":\"white\",\"gridwidth\":2},\"yaxis\":{\"backgroundcolor\":\"#E5ECF6\",\"gridcolor\":\"white\",\"linecolor\":\"white\",\"showbackground\":true,\"ticks\":\"\",\"zerolinecolor\":\"white\",\"gridwidth\":2},\"zaxis\":{\"backgroundcolor\":\"#E5ECF6\",\"gridcolor\":\"white\",\"linecolor\":\"white\",\"showbackground\":true,\"ticks\":\"\",\"zerolinecolor\":\"white\",\"gridwidth\":2}},\"shapedefaults\":{\"line\":{\"color\":\"#2a3f5f\"}},\"annotationdefaults\":{\"arrowcolor\":\"#2a3f5f\",\"arrowhead\":0,\"arrowwidth\":1},\"geo\":{\"bgcolor\":\"white\",\"landcolor\":\"#E5ECF6\",\"subunitcolor\":\"white\",\"showland\":true,\"showlakes\":true,\"lakecolor\":\"white\"},\"title\":{\"x\":0.05},\"mapbox\":{\"style\":\"light\"}}},\"xaxis\":{\"anchor\":\"y\",\"domain\":[0.0,1.0]},\"yaxis\":{\"anchor\":\"x\",\"domain\":[0.0,1.0],\"title\":{\"text\":\"Feature Values\"}},\"legend\":{\"tracegroupgap\":0},\"margin\":{\"t\":60},\"boxmode\":\"group\",\"title\":{\"text\":\"Box Plot of units_sold\"}},                        {\"responsive\": true}                    ).then(function(){\n",
       "                            \n",
       "var gd = document.getElementById('cddde879-2662-4c5e-bd2e-dfbd499d711b');\n",
       "var x = new MutationObserver(function (mutations, observer) {{\n",
       "        var display = window.getComputedStyle(gd).display;\n",
       "        if (!display || display === 'none') {{\n",
       "            console.log([gd, 'removed!']);\n",
       "            Plotly.purge(gd);\n",
       "            observer.disconnect();\n",
       "        }}\n",
       "}});\n",
       "\n",
       "// Listen for the removal of the full notebook cells\n",
       "var notebookContainer = gd.closest('#notebook-container');\n",
       "if (notebookContainer) {{\n",
       "    x.observe(notebookContainer, {childList: true});\n",
       "}}\n",
       "\n",
       "// Listen for the clearing of the current output cell\n",
       "var outputEl = gd.closest('.output');\n",
       "if (outputEl) {{\n",
       "    x.observe(outputEl, {childList: true});\n",
       "}}\n",
       "\n",
       "                        })                };                });            </script>        </div>"
      ]
     },
     "metadata": {},
     "output_type": "display_data"
    }
   ],
   "source": [
    "for column in df.columns:\n",
    "    fig = px.box(df, y=column)\n",
    "    fig.update_layout(\n",
    "        title=f\"Box Plot of {column}\",\n",
    "        yaxis_title=\"Feature Values\"\n",
    "    )\n",
    "    fig.show()"
   ]
  },
  {
   "cell_type": "code",
   "execution_count": 96,
   "id": "b7a9ea3f",
   "metadata": {},
   "outputs": [
    {
     "data": {
      "text/html": [
       "<div>\n",
       "<style scoped>\n",
       "    .dataframe tbody tr th:only-of-type {\n",
       "        vertical-align: middle;\n",
       "    }\n",
       "\n",
       "    .dataframe tbody tr th {\n",
       "        vertical-align: top;\n",
       "    }\n",
       "\n",
       "    .dataframe thead th {\n",
       "        text-align: right;\n",
       "    }\n",
       "</style>\n",
       "<table border=\"1\" class=\"dataframe\">\n",
       "  <thead>\n",
       "    <tr style=\"text-align: right;\">\n",
       "      <th></th>\n",
       "      <th>store_id</th>\n",
       "      <th>date</th>\n",
       "      <th>state</th>\n",
       "      <th>local_population</th>\n",
       "      <th>local_stores</th>\n",
       "      <th>units_sold</th>\n",
       "    </tr>\n",
       "  </thead>\n",
       "  <tbody>\n",
       "    <tr>\n",
       "      <th>732</th>\n",
       "      <td>355</td>\n",
       "      <td>2021-06-18</td>\n",
       "      <td>New York</td>\n",
       "      <td>783541</td>\n",
       "      <td>8</td>\n",
       "      <td>59.0</td>\n",
       "    </tr>\n",
       "  </tbody>\n",
       "</table>\n",
       "</div>"
      ],
      "text/plain": [
       "     store_id       date     state  local_population  local_stores  units_sold\n",
       "732       355 2021-06-18  New York            783541             8        59.0"
      ]
     },
     "execution_count": 96,
     "metadata": {},
     "output_type": "execute_result"
    }
   ],
   "source": [
    "df[df['local_population'] == 783541.000000]"
   ]
  },
  {
   "cell_type": "code",
   "execution_count": 97,
   "id": "f891743c",
   "metadata": {},
   "outputs": [
    {
     "data": {
      "image/png": "[encoded data removed]",
      "text/plain": [
       "<Figure size 800x800 with 16 Axes>"
      ]
     },
     "metadata": {},
     "output_type": "display_data"
    }
   ],
   "source": [
    "scatter_matrix(df, alpha=0.8, figsize=(8, 8), diagonal='hist')\n",
    "plt.show()"
   ]
  },
  {
   "cell_type": "code",
   "execution_count": 98,
   "id": "34a4453f",
   "metadata": {},
   "outputs": [
    {
     "name": "stderr",
     "output_type": "stream",
     "text": [
      "C:\\Users\\hayth\\AppData\\Local\\Temp\\ipykernel_5940\\3594435605.py:2: FutureWarning:\n",
      "\n",
      "The default value of numeric_only in DataFrame.corr is deprecated. In a future version, it will default to False. Select only valid columns or specify the value of numeric_only to silence this warning.\n",
      "\n"
     ]
    },
    {
     "data": {
      "image/png": "[encoded data removed]",
      "text/plain": [
       "<Figure size 1000x800 with 2 Axes>"
      ]
     },
     "metadata": {},
     "output_type": "display_data"
    }
   ],
   "source": [
    "plt.figure(figsize=(10, 8))\n",
    "sns.heatmap(df.corr(), annot = True)\n",
    "plt.show()"
   ]
  },
  {
   "cell_type": "code",
   "execution_count": 99,
   "id": "d30ad814",
   "metadata": {},
   "outputs": [],
   "source": [
    "df = pd.get_dummies(df, columns= ['state'], drop_first = True)"
   ]
  },
  {
   "cell_type": "code",
   "execution_count": 100,
   "id": "e763d056",
   "metadata": {},
   "outputs": [
    {
     "data": {
      "text/html": [
       "<div>\n",
       "<style scoped>\n",
       "    .dataframe tbody tr th:only-of-type {\n",
       "        vertical-align: middle;\n",
       "    }\n",
       "\n",
       "    .dataframe tbody tr th {\n",
       "        vertical-align: top;\n",
       "    }\n",
       "\n",
       "    .dataframe thead th {\n",
       "        text-align: right;\n",
       "    }\n",
       "</style>\n",
       "<table border=\"1\" class=\"dataframe\">\n",
       "  <thead>\n",
       "    <tr style=\"text-align: right;\">\n",
       "      <th></th>\n",
       "      <th>store_id</th>\n",
       "      <th>date</th>\n",
       "      <th>local_population</th>\n",
       "      <th>local_stores</th>\n",
       "      <th>units_sold</th>\n",
       "      <th>state_Massachusetts</th>\n",
       "      <th>state_New Jersey</th>\n",
       "      <th>state_New York</th>\n",
       "      <th>state_New jersey</th>\n",
       "      <th>state_New york</th>\n",
       "      <th>state_Pennsylvania</th>\n",
       "      <th>state_Rhode Island</th>\n",
       "      <th>state_Vermont</th>\n",
       "    </tr>\n",
       "  </thead>\n",
       "  <tbody>\n",
       "    <tr>\n",
       "      <th>0</th>\n",
       "      <td>131</td>\n",
       "      <td>2021-11-19</td>\n",
       "      <td>7438</td>\n",
       "      <td>2</td>\n",
       "      <td>1.0</td>\n",
       "      <td>0</td>\n",
       "      <td>0</td>\n",
       "      <td>1</td>\n",
       "      <td>0</td>\n",
       "      <td>0</td>\n",
       "      <td>0</td>\n",
       "      <td>0</td>\n",
       "      <td>0</td>\n",
       "    </tr>\n",
       "    <tr>\n",
       "      <th>1</th>\n",
       "      <td>203</td>\n",
       "      <td>2021-04-09</td>\n",
       "      <td>59715</td>\n",
       "      <td>1</td>\n",
       "      <td>14.0</td>\n",
       "      <td>0</td>\n",
       "      <td>0</td>\n",
       "      <td>1</td>\n",
       "      <td>0</td>\n",
       "      <td>0</td>\n",
       "      <td>0</td>\n",
       "      <td>0</td>\n",
       "      <td>0</td>\n",
       "    </tr>\n",
       "    <tr>\n",
       "      <th>2</th>\n",
       "      <td>50</td>\n",
       "      <td>2021-08-19</td>\n",
       "      <td>29231</td>\n",
       "      <td>2</td>\n",
       "      <td>9.0</td>\n",
       "      <td>0</td>\n",
       "      <td>0</td>\n",
       "      <td>1</td>\n",
       "      <td>0</td>\n",
       "      <td>0</td>\n",
       "      <td>0</td>\n",
       "      <td>0</td>\n",
       "      <td>0</td>\n",
       "    </tr>\n",
       "    <tr>\n",
       "      <th>3</th>\n",
       "      <td>585</td>\n",
       "      <td>2021-01-18</td>\n",
       "      <td>4884</td>\n",
       "      <td>2</td>\n",
       "      <td>0.0</td>\n",
       "      <td>0</td>\n",
       "      <td>0</td>\n",
       "      <td>0</td>\n",
       "      <td>0</td>\n",
       "      <td>0</td>\n",
       "      <td>1</td>\n",
       "      <td>0</td>\n",
       "      <td>0</td>\n",
       "    </tr>\n",
       "    <tr>\n",
       "      <th>4</th>\n",
       "      <td>138</td>\n",
       "      <td>2021-03-25</td>\n",
       "      <td>12350</td>\n",
       "      <td>1</td>\n",
       "      <td>2.0</td>\n",
       "      <td>0</td>\n",
       "      <td>0</td>\n",
       "      <td>1</td>\n",
       "      <td>0</td>\n",
       "      <td>0</td>\n",
       "      <td>0</td>\n",
       "      <td>0</td>\n",
       "      <td>0</td>\n",
       "    </tr>\n",
       "  </tbody>\n",
       "</table>\n",
       "</div>"
      ],
      "text/plain": [
       "   store_id       date  local_population  local_stores  units_sold  \\\n",
       "0       131 2021-11-19              7438             2         1.0   \n",
       "1       203 2021-04-09             59715             1        14.0   \n",
       "2        50 2021-08-19             29231             2         9.0   \n",
       "3       585 2021-01-18              4884             2         0.0   \n",
       "4       138 2021-03-25             12350             1         2.0   \n",
       "\n",
       "   state_Massachusetts  state_New Jersey  state_New York  state_New jersey  \\\n",
       "0                    0                 0               1                 0   \n",
       "1                    0                 0               1                 0   \n",
       "2                    0                 0               1                 0   \n",
       "3                    0                 0               0                 0   \n",
       "4                    0                 0               1                 0   \n",
       "\n",
       "   state_New york  state_Pennsylvania  state_Rhode Island  state_Vermont  \n",
       "0               0                   0                   0              0  \n",
       "1               0                   0                   0              0  \n",
       "2               0                   0                   0              0  \n",
       "3               0                   1                   0              0  \n",
       "4               0                   0                   0              0  "
      ]
     },
     "execution_count": 100,
     "metadata": {},
     "output_type": "execute_result"
    }
   ],
   "source": [
    "df.head()"
   ]
  },
  {
   "cell_type": "code",
   "execution_count": 101,
   "id": "bf904822",
   "metadata": {},
   "outputs": [
    {
     "data": {
      "text/plain": [
       "Index(['store_id', 'date', 'local_population', 'local_stores', 'units_sold',\n",
       "       'state_Massachusetts', 'state_New Jersey', 'state_New York',\n",
       "       'state_New jersey', 'state_New york', 'state_Pennsylvania',\n",
       "       'state_Rhode Island', 'state_Vermont'],\n",
       "      dtype='object')"
      ]
     },
     "execution_count": 101,
     "metadata": {},
     "output_type": "execute_result"
    }
   ],
   "source": [
    "df.columns"
   ]
  },
  {
   "cell_type": "code",
   "execution_count": 102,
   "id": "11af296d",
   "metadata": {},
   "outputs": [
    {
     "name": "stderr",
     "output_type": "stream",
     "text": [
      "C:\\Users\\hayth\\AppData\\Local\\Temp\\ipykernel_5940\\3028576344.py:1: FutureWarning:\n",
      "\n",
      "The default value of numeric_only in DataFrame.corr is deprecated. In a future version, it will default to False. Select only valid columns or specify the value of numeric_only to silence this warning.\n",
      "\n"
     ]
    },
    {
     "data": {
      "text/plain": [
       "<AxesSubplot: >"
      ]
     },
     "execution_count": 102,
     "metadata": {},
     "output_type": "execute_result"
    },
    {
     "data": {
      "image/png": "[encoded data removed]",
      "text/plain": [
       "<Figure size 640x480 with 2 Axes>"
      ]
     },
     "metadata": {},
     "output_type": "display_data"
    }
   ],
   "source": [
    "sns.heatmap(df.corr(), annot = True)"
   ]
  },
  {
   "cell_type": "code",
   "execution_count": 103,
   "id": "033dc232",
   "metadata": {},
   "outputs": [
    {
     "data": {
      "text/plain": [
       "<AxesSubplot: xlabel='units_sold', ylabel='Density'>"
      ]
     },
     "execution_count": 103,
     "metadata": {},
     "output_type": "execute_result"
    },
    {
     "data": {
      "image/png": "[encoded data removed]",
      "text/plain": [
       "<Figure size 640x480 with 1 Axes>"
      ]
     },
     "metadata": {},
     "output_type": "display_data"
    }
   ],
   "source": [
    "sns.kdeplot(df['units_sold'])"
   ]
  },
  {
   "cell_type": "code",
   "execution_count": 104,
   "id": "da014a80",
   "metadata": {},
   "outputs": [],
   "source": [
    "x = df[['local_population', 'local_stores',\n",
    "       'state_Massachusetts', 'state_New Jersey',\n",
    "       'state_New York', 'state_New jersey', 'state_New york',\n",
    "       'state_Pennsylvania', 'state_Rhode Island', 'state_Vermont']]\n",
    "y = df['units_sold']"
   ]
  },
  {
   "cell_type": "code",
   "execution_count": 105,
   "id": "d5bdad6c",
   "metadata": {},
   "outputs": [],
   "source": [
    "x_train, x_test , y_train , y_test = train_test_split(x, y, test_size = 0.2, random_state = 42)"
   ]
  },
  {
   "cell_type": "code",
   "execution_count": 106,
   "id": "410083ad",
   "metadata": {},
   "outputs": [],
   "source": [
    "rf_regressor = RandomForestRegressor(random_state=42)\n",
    "rf_regressor.fit(x_train, y_train)\n",
    "y_pred = rf_regressor.predict(x_test)"
   ]
  },
  {
   "cell_type": "code",
   "execution_count": 107,
   "id": "88ba4713",
   "metadata": {},
   "outputs": [
    {
     "name": "stdout",
     "output_type": "stream",
     "text": [
      "R-squared (R^2): 0.40224130677283176\n",
      "Mean Absolute Error (MAE): 4.026175\n"
     ]
    }
   ],
   "source": [
    "r2 = r2_score(y_test, y_pred)\n",
    "mae = mean_absolute_error(y_test, y_pred)\n",
    "print(f'R-squared (R^2): {r2}')\n",
    "print(f'Mean Absolute Error (MAE): {mae}')"
   ]
  },
  {
   "cell_type": "code",
   "execution_count": 108,
   "id": "2e24cec5",
   "metadata": {},
   "outputs": [],
   "source": [
    "param_grid = {\n",
    "    'n_estimators': [50, 100, 200],  # Number of trees in the forest\n",
    "    'max_depth': [None, 10, 20, 30],  # Maximum depth of the trees\n",
    "    'min_samples_split': [2, 5, 10],  # Minimum number of samples required to split an internal node\n",
    "    'min_samples_leaf': [1, 2, 4],   # Minimum number of samples required to be at a leaf node\n",
    "}"
   ]
  },
  {
   "cell_type": "code",
   "execution_count": 110,
   "id": "101ba11b",
   "metadata": {},
   "outputs": [
    {
     "data": {
      "text/html": [
       "<style>#sk-container-id-8 {color: black;}#sk-container-id-8 pre{padding: 0;}#sk-container-id-8 div.sk-toggleable {background-color: white;}#sk-container-id-8 label.sk-toggleable__label {cursor: pointer;display: block;width: 100%;margin-bottom: 0;padding: 0.3em;box-sizing: border-box;text-align: center;}#sk-container-id-8 label.sk-toggleable__label-arrow:before {content: \"▸\";float: left;margin-right: 0.25em;color: #696969;}#sk-container-id-8 label.sk-toggleable__label-arrow:hover:before {color: black;}#sk-container-id-8 div.sk-estimator:hover label.sk-toggleable__label-arrow:before {color: black;}#sk-container-id-8 div.sk-toggleable__content {max-height: 0;max-width: 0;overflow: hidden;text-align: left;background-color: #f0f8ff;}#sk-container-id-8 div.sk-toggleable__content pre {margin: 0.2em;color: black;border-radius: 0.25em;background-color: #f0f8ff;}#sk-container-id-8 input.sk-toggleable__control:checked~div.sk-toggleable__content {max-height: 200px;max-width: 100%;overflow: auto;}#sk-container-id-8 input.sk-toggleable__control:checked~label.sk-toggleable__label-arrow:before {content: \"▾\";}#sk-container-id-8 div.sk-estimator input.sk-toggleable__control:checked~label.sk-toggleable__label {background-color: #d4ebff;}#sk-container-id-8 div.sk-label input.sk-toggleable__control:checked~label.sk-toggleable__label {background-color: #d4ebff;}#sk-container-id-8 input.sk-hidden--visually {border: 0;clip: rect(1px 1px 1px 1px);clip: rect(1px, 1px, 1px, 1px);height: 1px;margin: -1px;overflow: hidden;padding: 0;position: absolute;width: 1px;}#sk-container-id-8 div.sk-estimator {font-family: monospace;background-color: #f0f8ff;border: 1px dotted black;border-radius: 0.25em;box-sizing: border-box;margin-bottom: 0.5em;}#sk-container-id-8 div.sk-estimator:hover {background-color: #d4ebff;}#sk-container-id-8 div.sk-parallel-item::after {content: \"\";width: 100%;border-bottom: 1px solid gray;flex-grow: 1;}#sk-container-id-8 div.sk-label:hover label.sk-toggleable__label {background-color: #d4ebff;}#sk-container-id-8 div.sk-serial::before {content: \"\";position: absolute;border-left: 1px solid gray;box-sizing: border-box;top: 0;bottom: 0;left: 50%;z-index: 0;}#sk-container-id-8 div.sk-serial {display: flex;flex-direction: column;align-items: center;background-color: white;padding-right: 0.2em;padding-left: 0.2em;position: relative;}#sk-container-id-8 div.sk-item {position: relative;z-index: 1;}#sk-container-id-8 div.sk-parallel {display: flex;align-items: stretch;justify-content: center;background-color: white;position: relative;}#sk-container-id-8 div.sk-item::before, #sk-container-id-8 div.sk-parallel-item::before {content: \"\";position: absolute;border-left: 1px solid gray;box-sizing: border-box;top: 0;bottom: 0;left: 50%;z-index: -1;}#sk-container-id-8 div.sk-parallel-item {display: flex;flex-direction: column;z-index: 1;position: relative;background-color: white;}#sk-container-id-8 div.sk-parallel-item:first-child::after {align-self: flex-end;width: 50%;}#sk-container-id-8 div.sk-parallel-item:last-child::after {align-self: flex-start;width: 50%;}#sk-container-id-8 div.sk-parallel-item:only-child::after {width: 0;}#sk-container-id-8 div.sk-dashed-wrapped {border: 1px dashed gray;margin: 0 0.4em 0.5em 0.4em;box-sizing: border-box;padding-bottom: 0.4em;background-color: white;}#sk-container-id-8 div.sk-label label {font-family: monospace;font-weight: bold;display: inline-block;line-height: 1.2em;}#sk-container-id-8 div.sk-label-container {text-align: center;}#sk-container-id-8 div.sk-container {/* jupyter's `normalize.less` sets `[hidden] { display: none; }` but bootstrap.min.css set `[hidden] { display: none !important; }` so we also need the `!important` here to be able to override the default hidden behavior on the sphinx rendered scikit-learn.org. See: https://github.com/scikit-learn/scikit-learn/issues/21755 */display: inline-block !important;position: relative;}#sk-container-id-8 div.sk-text-repr-fallback {display: none;}</style><div id=\"sk-container-id-8\" class=\"sk-top-container\"><div class=\"sk-text-repr-fallback\"><pre>GridSearchCV(cv=5, estimator=RandomForestRegressor(random_state=42), n_jobs=-1,\n",
       "             param_grid={&#x27;max_depth&#x27;: [None, 10, 20, 30],\n",
       "                         &#x27;min_samples_leaf&#x27;: [1, 2, 4],\n",
       "                         &#x27;min_samples_split&#x27;: [2, 5, 10],\n",
       "                         &#x27;n_estimators&#x27;: [50, 100, 200]},\n",
       "             scoring=&#x27;r2&#x27;)</pre><b>In a Jupyter environment, please rerun this cell to show the HTML representation or trust the notebook. <br />On GitHub, the HTML representation is unable to render, please try loading this page with nbviewer.org.</b></div><div class=\"sk-container\" hidden><div class=\"sk-item sk-dashed-wrapped\"><div class=\"sk-label-container\"><div class=\"sk-label sk-toggleable\"><input class=\"sk-toggleable__control sk-hidden--visually\" id=\"sk-estimator-id-16\" type=\"checkbox\" ><label for=\"sk-estimator-id-16\" class=\"sk-toggleable__label sk-toggleable__label-arrow\">GridSearchCV</label><div class=\"sk-toggleable__content\"><pre>GridSearchCV(cv=5, estimator=RandomForestRegressor(random_state=42), n_jobs=-1,\n",
       "             param_grid={&#x27;max_depth&#x27;: [None, 10, 20, 30],\n",
       "                         &#x27;min_samples_leaf&#x27;: [1, 2, 4],\n",
       "                         &#x27;min_samples_split&#x27;: [2, 5, 10],\n",
       "                         &#x27;n_estimators&#x27;: [50, 100, 200]},\n",
       "             scoring=&#x27;r2&#x27;)</pre></div></div></div><div class=\"sk-parallel\"><div class=\"sk-parallel-item\"><div class=\"sk-item\"><div class=\"sk-label-container\"><div class=\"sk-label sk-toggleable\"><input class=\"sk-toggleable__control sk-hidden--visually\" id=\"sk-estimator-id-17\" type=\"checkbox\" ><label for=\"sk-estimator-id-17\" class=\"sk-toggleable__label sk-toggleable__label-arrow\">estimator: RandomForestRegressor</label><div class=\"sk-toggleable__content\"><pre>RandomForestRegressor(random_state=42)</pre></div></div></div><div class=\"sk-serial\"><div class=\"sk-item\"><div class=\"sk-estimator sk-toggleable\"><input class=\"sk-toggleable__control sk-hidden--visually\" id=\"sk-estimator-id-18\" type=\"checkbox\" ><label for=\"sk-estimator-id-18\" class=\"sk-toggleable__label sk-toggleable__label-arrow\">RandomForestRegressor</label><div class=\"sk-toggleable__content\"><pre>RandomForestRegressor(random_state=42)</pre></div></div></div></div></div></div></div></div></div></div>"
      ],
      "text/plain": [
       "GridSearchCV(cv=5, estimator=RandomForestRegressor(random_state=42), n_jobs=-1,\n",
       "             param_grid={'max_depth': [None, 10, 20, 30],\n",
       "                         'min_samples_leaf': [1, 2, 4],\n",
       "                         'min_samples_split': [2, 5, 10],\n",
       "                         'n_estimators': [50, 100, 200]},\n",
       "             scoring='r2')"
      ]
     },
     "execution_count": 110,
     "metadata": {},
     "output_type": "execute_result"
    }
   ],
   "source": [
    "grid_search = GridSearchCV(estimator= rf_regressor, param_grid=param_grid, cv=5, scoring='r2', n_jobs=-1)\n",
    "grid_search.fit(x, y)"
   ]
  },
  {
   "cell_type": "code",
   "execution_count": 111,
   "id": "e43ec6d0",
   "metadata": {},
   "outputs": [],
   "source": [
    "best_params = grid_search.best_params_\n",
    "best_model = grid_search.best_estimator_"
   ]
  },
  {
   "cell_type": "code",
   "execution_count": 112,
   "id": "64d9db14",
   "metadata": {},
   "outputs": [
    {
     "data": {
      "text/plain": [
       "{'max_depth': 10,\n",
       " 'min_samples_leaf': 4,\n",
       " 'min_samples_split': 10,\n",
       " 'n_estimators': 100}"
      ]
     },
     "execution_count": 112,
     "metadata": {},
     "output_type": "execute_result"
    }
   ],
   "source": [
    "best_params"
   ]
  },
  {
   "cell_type": "code",
   "execution_count": 113,
   "id": "f5f00622",
   "metadata": {},
   "outputs": [
    {
     "data": {
      "text/html": [
       "<style>#sk-container-id-9 {color: black;}#sk-container-id-9 pre{padding: 0;}#sk-container-id-9 div.sk-toggleable {background-color: white;}#sk-container-id-9 label.sk-toggleable__label {cursor: pointer;display: block;width: 100%;margin-bottom: 0;padding: 0.3em;box-sizing: border-box;text-align: center;}#sk-container-id-9 label.sk-toggleable__label-arrow:before {content: \"▸\";float: left;margin-right: 0.25em;color: #696969;}#sk-container-id-9 label.sk-toggleable__label-arrow:hover:before {color: black;}#sk-container-id-9 div.sk-estimator:hover label.sk-toggleable__label-arrow:before {color: black;}#sk-container-id-9 div.sk-toggleable__content {max-height: 0;max-width: 0;overflow: hidden;text-align: left;background-color: #f0f8ff;}#sk-container-id-9 div.sk-toggleable__content pre {margin: 0.2em;color: black;border-radius: 0.25em;background-color: #f0f8ff;}#sk-container-id-9 input.sk-toggleable__control:checked~div.sk-toggleable__content {max-height: 200px;max-width: 100%;overflow: auto;}#sk-container-id-9 input.sk-toggleable__control:checked~label.sk-toggleable__label-arrow:before {content: \"▾\";}#sk-container-id-9 div.sk-estimator input.sk-toggleable__control:checked~label.sk-toggleable__label {background-color: #d4ebff;}#sk-container-id-9 div.sk-label input.sk-toggleable__control:checked~label.sk-toggleable__label {background-color: #d4ebff;}#sk-container-id-9 input.sk-hidden--visually {border: 0;clip: rect(1px 1px 1px 1px);clip: rect(1px, 1px, 1px, 1px);height: 1px;margin: -1px;overflow: hidden;padding: 0;position: absolute;width: 1px;}#sk-container-id-9 div.sk-estimator {font-family: monospace;background-color: #f0f8ff;border: 1px dotted black;border-radius: 0.25em;box-sizing: border-box;margin-bottom: 0.5em;}#sk-container-id-9 div.sk-estimator:hover {background-color: #d4ebff;}#sk-container-id-9 div.sk-parallel-item::after {content: \"\";width: 100%;border-bottom: 1px solid gray;flex-grow: 1;}#sk-container-id-9 div.sk-label:hover label.sk-toggleable__label {background-color: #d4ebff;}#sk-container-id-9 div.sk-serial::before {content: \"\";position: absolute;border-left: 1px solid gray;box-sizing: border-box;top: 0;bottom: 0;left: 50%;z-index: 0;}#sk-container-id-9 div.sk-serial {display: flex;flex-direction: column;align-items: center;background-color: white;padding-right: 0.2em;padding-left: 0.2em;position: relative;}#sk-container-id-9 div.sk-item {position: relative;z-index: 1;}#sk-container-id-9 div.sk-parallel {display: flex;align-items: stretch;justify-content: center;background-color: white;position: relative;}#sk-container-id-9 div.sk-item::before, #sk-container-id-9 div.sk-parallel-item::before {content: \"\";position: absolute;border-left: 1px solid gray;box-sizing: border-box;top: 0;bottom: 0;left: 50%;z-index: -1;}#sk-container-id-9 div.sk-parallel-item {display: flex;flex-direction: column;z-index: 1;position: relative;background-color: white;}#sk-container-id-9 div.sk-parallel-item:first-child::after {align-self: flex-end;width: 50%;}#sk-container-id-9 div.sk-parallel-item:last-child::after {align-self: flex-start;width: 50%;}#sk-container-id-9 div.sk-parallel-item:only-child::after {width: 0;}#sk-container-id-9 div.sk-dashed-wrapped {border: 1px dashed gray;margin: 0 0.4em 0.5em 0.4em;box-sizing: border-box;padding-bottom: 0.4em;background-color: white;}#sk-container-id-9 div.sk-label label {font-family: monospace;font-weight: bold;display: inline-block;line-height: 1.2em;}#sk-container-id-9 div.sk-label-container {text-align: center;}#sk-container-id-9 div.sk-container {/* jupyter's `normalize.less` sets `[hidden] { display: none; }` but bootstrap.min.css set `[hidden] { display: none !important; }` so we also need the `!important` here to be able to override the default hidden behavior on the sphinx rendered scikit-learn.org. See: https://github.com/scikit-learn/scikit-learn/issues/21755 */display: inline-block !important;position: relative;}#sk-container-id-9 div.sk-text-repr-fallback {display: none;}</style><div id=\"sk-container-id-9\" class=\"sk-top-container\"><div class=\"sk-text-repr-fallback\"><pre>RandomForestRegressor(max_depth=10, min_samples_leaf=4, min_samples_split=10,\n",
       "                      random_state=42)</pre><b>In a Jupyter environment, please rerun this cell to show the HTML representation or trust the notebook. <br />On GitHub, the HTML representation is unable to render, please try loading this page with nbviewer.org.</b></div><div class=\"sk-container\" hidden><div class=\"sk-item\"><div class=\"sk-estimator sk-toggleable\"><input class=\"sk-toggleable__control sk-hidden--visually\" id=\"sk-estimator-id-19\" type=\"checkbox\" checked><label for=\"sk-estimator-id-19\" class=\"sk-toggleable__label sk-toggleable__label-arrow\">RandomForestRegressor</label><div class=\"sk-toggleable__content\"><pre>RandomForestRegressor(max_depth=10, min_samples_leaf=4, min_samples_split=10,\n",
       "                      random_state=42)</pre></div></div></div></div></div>"
      ],
      "text/plain": [
       "RandomForestRegressor(max_depth=10, min_samples_leaf=4, min_samples_split=10,\n",
       "                      random_state=42)"
      ]
     },
     "execution_count": 113,
     "metadata": {},
     "output_type": "execute_result"
    }
   ],
   "source": [
    "best_model"
   ]
  },
  {
   "cell_type": "code",
   "execution_count": 114,
   "id": "b9386b6b",
   "metadata": {},
   "outputs": [],
   "source": [
    "rf_regressor = RandomForestRegressor(max_depth=10, min_samples_leaf=4, min_samples_split=10,\n",
    "                      random_state=42)\n",
    "rf_regressor.fit(x_train, y_train)\n",
    "y_pred = rf_regressor.predict(x_test)"
   ]
  },
  {
   "cell_type": "code",
   "execution_count": 115,
   "id": "d03c8d7a",
   "metadata": {},
   "outputs": [
    {
     "name": "stdout",
     "output_type": "stream",
     "text": [
      "R-squared (R^2): 0.467861648380797\n",
      "Mean Absolute Error (MAE): 3.8735318493103272\n"
     ]
    }
   ],
   "source": [
    "r2 = r2_score(y_test, y_pred)\n",
    "mae = mean_absolute_error(y_test, y_pred)\n",
    "print(f'R-squared (R^2): {r2}')\n",
    "print(f'Mean Absolute Error (MAE): {mae}')"
   ]
  },
  {
   "cell_type": "code",
   "execution_count": 116,
   "id": "d80291ce",
   "metadata": {},
   "outputs": [],
   "source": [
    "xgb_regressor = xgb.XGBRegressor(n_estimators=100, random_state=42)\n",
    "xgb_regressor.fit(x_train, y_train)\n",
    "y_pred = xgb_regressor.predict(x_test)"
   ]
  },
  {
   "cell_type": "code",
   "execution_count": 117,
   "id": "eb557c9b",
   "metadata": {},
   "outputs": [
    {
     "name": "stdout",
     "output_type": "stream",
     "text": [
      "Mean Absolute Error (MAE): 4.566478374497965\n",
      "R-squared (R^2): 0.2870902470444662\n"
     ]
    }
   ],
   "source": [
    "mae = mean_absolute_error(y_test, y_pred)\n",
    "r2 = r2_score(y_test, y_pred)\n",
    "print(f'Mean Absolute Error (MAE): {mae}')\n",
    "print(f'R-squared (R^2): {r2}')"
   ]
  },
  {
   "cell_type": "code",
   "execution_count": 118,
   "id": "86eed206",
   "metadata": {},
   "outputs": [],
   "source": [
    "param_grid = {\n",
    "    'n_estimators': [100, 200, 300],\n",
    "    'max_depth': [3, 4, 5],\n",
    "    'learning_rate': [0.01, 0.1, 0.2]\n",
    "}"
   ]
  },
  {
   "cell_type": "code",
   "execution_count": 119,
   "id": "6425b1e2",
   "metadata": {},
   "outputs": [
    {
     "data": {
      "text/html": [
       "<style>#sk-container-id-10 {color: black;}#sk-container-id-10 pre{padding: 0;}#sk-container-id-10 div.sk-toggleable {background-color: white;}#sk-container-id-10 label.sk-toggleable__label {cursor: pointer;display: block;width: 100%;margin-bottom: 0;padding: 0.3em;box-sizing: border-box;text-align: center;}#sk-container-id-10 label.sk-toggleable__label-arrow:before {content: \"▸\";float: left;margin-right: 0.25em;color: #696969;}#sk-container-id-10 label.sk-toggleable__label-arrow:hover:before {color: black;}#sk-container-id-10 div.sk-estimator:hover label.sk-toggleable__label-arrow:before {color: black;}#sk-container-id-10 div.sk-toggleable__content {max-height: 0;max-width: 0;overflow: hidden;text-align: left;background-color: #f0f8ff;}#sk-container-id-10 div.sk-toggleable__content pre {margin: 0.2em;color: black;border-radius: 0.25em;background-color: #f0f8ff;}#sk-container-id-10 input.sk-toggleable__control:checked~div.sk-toggleable__content {max-height: 200px;max-width: 100%;overflow: auto;}#sk-container-id-10 input.sk-toggleable__control:checked~label.sk-toggleable__label-arrow:before {content: \"▾\";}#sk-container-id-10 div.sk-estimator input.sk-toggleable__control:checked~label.sk-toggleable__label {background-color: #d4ebff;}#sk-container-id-10 div.sk-label input.sk-toggleable__control:checked~label.sk-toggleable__label {background-color: #d4ebff;}#sk-container-id-10 input.sk-hidden--visually {border: 0;clip: rect(1px 1px 1px 1px);clip: rect(1px, 1px, 1px, 1px);height: 1px;margin: -1px;overflow: hidden;padding: 0;position: absolute;width: 1px;}#sk-container-id-10 div.sk-estimator {font-family: monospace;background-color: #f0f8ff;border: 1px dotted black;border-radius: 0.25em;box-sizing: border-box;margin-bottom: 0.5em;}#sk-container-id-10 div.sk-estimator:hover {background-color: #d4ebff;}#sk-container-id-10 div.sk-parallel-item::after {content: \"\";width: 100%;border-bottom: 1px solid gray;flex-grow: 1;}#sk-container-id-10 div.sk-label:hover label.sk-toggleable__label {background-color: #d4ebff;}#sk-container-id-10 div.sk-serial::before {content: \"\";position: absolute;border-left: 1px solid gray;box-sizing: border-box;top: 0;bottom: 0;left: 50%;z-index: 0;}#sk-container-id-10 div.sk-serial {display: flex;flex-direction: column;align-items: center;background-color: white;padding-right: 0.2em;padding-left: 0.2em;position: relative;}#sk-container-id-10 div.sk-item {position: relative;z-index: 1;}#sk-container-id-10 div.sk-parallel {display: flex;align-items: stretch;justify-content: center;background-color: white;position: relative;}#sk-container-id-10 div.sk-item::before, #sk-container-id-10 div.sk-parallel-item::before {content: \"\";position: absolute;border-left: 1px solid gray;box-sizing: border-box;top: 0;bottom: 0;left: 50%;z-index: -1;}#sk-container-id-10 div.sk-parallel-item {display: flex;flex-direction: column;z-index: 1;position: relative;background-color: white;}#sk-container-id-10 div.sk-parallel-item:first-child::after {align-self: flex-end;width: 50%;}#sk-container-id-10 div.sk-parallel-item:last-child::after {align-self: flex-start;width: 50%;}#sk-container-id-10 div.sk-parallel-item:only-child::after {width: 0;}#sk-container-id-10 div.sk-dashed-wrapped {border: 1px dashed gray;margin: 0 0.4em 0.5em 0.4em;box-sizing: border-box;padding-bottom: 0.4em;background-color: white;}#sk-container-id-10 div.sk-label label {font-family: monospace;font-weight: bold;display: inline-block;line-height: 1.2em;}#sk-container-id-10 div.sk-label-container {text-align: center;}#sk-container-id-10 div.sk-container {/* jupyter's `normalize.less` sets `[hidden] { display: none; }` but bootstrap.min.css set `[hidden] { display: none !important; }` so we also need the `!important` here to be able to override the default hidden behavior on the sphinx rendered scikit-learn.org. See: https://github.com/scikit-learn/scikit-learn/issues/21755 */display: inline-block !important;position: relative;}#sk-container-id-10 div.sk-text-repr-fallback {display: none;}</style><div id=\"sk-container-id-10\" class=\"sk-top-container\"><div class=\"sk-text-repr-fallback\"><pre>GridSearchCV(cv=5,\n",
       "             estimator=XGBRegressor(base_score=None, booster=None,\n",
       "                                    callbacks=None, colsample_bylevel=None,\n",
       "                                    colsample_bynode=None,\n",
       "                                    colsample_bytree=None, device=None,\n",
       "                                    early_stopping_rounds=None,\n",
       "                                    enable_categorical=False, eval_metric=None,\n",
       "                                    feature_types=None, gamma=None,\n",
       "                                    grow_policy=None, importance_type=None,\n",
       "                                    interaction_constraints=None,\n",
       "                                    learning_rate=None, m...\n",
       "                                    max_cat_threshold=None,\n",
       "                                    max_cat_to_onehot=None, max_delta_step=None,\n",
       "                                    max_depth=None, max_leaves=None,\n",
       "                                    min_child_weight=None, missing=nan,\n",
       "                                    monotone_constraints=None,\n",
       "                                    multi_strategy=None, n_estimators=100,\n",
       "                                    n_jobs=None, num_parallel_tree=None,\n",
       "                                    random_state=42, ...),\n",
       "             n_jobs=-1,\n",
       "             param_grid={&#x27;learning_rate&#x27;: [0.01, 0.1, 0.2],\n",
       "                         &#x27;max_depth&#x27;: [3, 4, 5],\n",
       "                         &#x27;n_estimators&#x27;: [100, 200, 300]},\n",
       "             scoring=&#x27;r2&#x27;)</pre><b>In a Jupyter environment, please rerun this cell to show the HTML representation or trust the notebook. <br />On GitHub, the HTML representation is unable to render, please try loading this page with nbviewer.org.</b></div><div class=\"sk-container\" hidden><div class=\"sk-item sk-dashed-wrapped\"><div class=\"sk-label-container\"><div class=\"sk-label sk-toggleable\"><input class=\"sk-toggleable__control sk-hidden--visually\" id=\"sk-estimator-id-20\" type=\"checkbox\" ><label for=\"sk-estimator-id-20\" class=\"sk-toggleable__label sk-toggleable__label-arrow\">GridSearchCV</label><div class=\"sk-toggleable__content\"><pre>GridSearchCV(cv=5,\n",
       "             estimator=XGBRegressor(base_score=None, booster=None,\n",
       "                                    callbacks=None, colsample_bylevel=None,\n",
       "                                    colsample_bynode=None,\n",
       "                                    colsample_bytree=None, device=None,\n",
       "                                    early_stopping_rounds=None,\n",
       "                                    enable_categorical=False, eval_metric=None,\n",
       "                                    feature_types=None, gamma=None,\n",
       "                                    grow_policy=None, importance_type=None,\n",
       "                                    interaction_constraints=None,\n",
       "                                    learning_rate=None, m...\n",
       "                                    max_cat_threshold=None,\n",
       "                                    max_cat_to_onehot=None, max_delta_step=None,\n",
       "                                    max_depth=None, max_leaves=None,\n",
       "                                    min_child_weight=None, missing=nan,\n",
       "                                    monotone_constraints=None,\n",
       "                                    multi_strategy=None, n_estimators=100,\n",
       "                                    n_jobs=None, num_parallel_tree=None,\n",
       "                                    random_state=42, ...),\n",
       "             n_jobs=-1,\n",
       "             param_grid={&#x27;learning_rate&#x27;: [0.01, 0.1, 0.2],\n",
       "                         &#x27;max_depth&#x27;: [3, 4, 5],\n",
       "                         &#x27;n_estimators&#x27;: [100, 200, 300]},\n",
       "             scoring=&#x27;r2&#x27;)</pre></div></div></div><div class=\"sk-parallel\"><div class=\"sk-parallel-item\"><div class=\"sk-item\"><div class=\"sk-label-container\"><div class=\"sk-label sk-toggleable\"><input class=\"sk-toggleable__control sk-hidden--visually\" id=\"sk-estimator-id-21\" type=\"checkbox\" ><label for=\"sk-estimator-id-21\" class=\"sk-toggleable__label sk-toggleable__label-arrow\">estimator: XGBRegressor</label><div class=\"sk-toggleable__content\"><pre>XGBRegressor(base_score=None, booster=None, callbacks=None,\n",
       "             colsample_bylevel=None, colsample_bynode=None,\n",
       "             colsample_bytree=None, device=None, early_stopping_rounds=None,\n",
       "             enable_categorical=False, eval_metric=None, feature_types=None,\n",
       "             gamma=None, grow_policy=None, importance_type=None,\n",
       "             interaction_constraints=None, learning_rate=None, max_bin=None,\n",
       "             max_cat_threshold=None, max_cat_to_onehot=None,\n",
       "             max_delta_step=None, max_depth=None, max_leaves=None,\n",
       "             min_child_weight=None, missing=nan, monotone_constraints=None,\n",
       "             multi_strategy=None, n_estimators=100, n_jobs=None,\n",
       "             num_parallel_tree=None, random_state=42, ...)</pre></div></div></div><div class=\"sk-serial\"><div class=\"sk-item\"><div class=\"sk-estimator sk-toggleable\"><input class=\"sk-toggleable__control sk-hidden--visually\" id=\"sk-estimator-id-22\" type=\"checkbox\" ><label for=\"sk-estimator-id-22\" class=\"sk-toggleable__label sk-toggleable__label-arrow\">XGBRegressor</label><div class=\"sk-toggleable__content\"><pre>XGBRegressor(base_score=None, booster=None, callbacks=None,\n",
       "             colsample_bylevel=None, colsample_bynode=None,\n",
       "             colsample_bytree=None, device=None, early_stopping_rounds=None,\n",
       "             enable_categorical=False, eval_metric=None, feature_types=None,\n",
       "             gamma=None, grow_policy=None, importance_type=None,\n",
       "             interaction_constraints=None, learning_rate=None, max_bin=None,\n",
       "             max_cat_threshold=None, max_cat_to_onehot=None,\n",
       "             max_delta_step=None, max_depth=None, max_leaves=None,\n",
       "             min_child_weight=None, missing=nan, monotone_constraints=None,\n",
       "             multi_strategy=None, n_estimators=100, n_jobs=None,\n",
       "             num_parallel_tree=None, random_state=42, ...)</pre></div></div></div></div></div></div></div></div></div></div>"
      ],
      "text/plain": [
       "GridSearchCV(cv=5,\n",
       "             estimator=XGBRegressor(base_score=None, booster=None,\n",
       "                                    callbacks=None, colsample_bylevel=None,\n",
       "                                    colsample_bynode=None,\n",
       "                                    colsample_bytree=None, device=None,\n",
       "                                    early_stopping_rounds=None,\n",
       "                                    enable_categorical=False, eval_metric=None,\n",
       "                                    feature_types=None, gamma=None,\n",
       "                                    grow_policy=None, importance_type=None,\n",
       "                                    interaction_constraints=None,\n",
       "                                    learning_rate=None, m...\n",
       "                                    max_cat_threshold=None,\n",
       "                                    max_cat_to_onehot=None, max_delta_step=None,\n",
       "                                    max_depth=None, max_leaves=None,\n",
       "                                    min_child_weight=None, missing=nan,\n",
       "                                    monotone_constraints=None,\n",
       "                                    multi_strategy=None, n_estimators=100,\n",
       "                                    n_jobs=None, num_parallel_tree=None,\n",
       "                                    random_state=42, ...),\n",
       "             n_jobs=-1,\n",
       "             param_grid={'learning_rate': [0.01, 0.1, 0.2],\n",
       "                         'max_depth': [3, 4, 5],\n",
       "                         'n_estimators': [100, 200, 300]},\n",
       "             scoring='r2')"
      ]
     },
     "execution_count": 119,
     "metadata": {},
     "output_type": "execute_result"
    }
   ],
   "source": [
    "grid_search = GridSearchCV(estimator=xgb_regressor, param_grid=param_grid, scoring='r2', cv=5, n_jobs=-1)\n",
    "grid_search.fit(x, y)"
   ]
  },
  {
   "cell_type": "code",
   "execution_count": 120,
   "id": "41b23bf7",
   "metadata": {},
   "outputs": [],
   "source": [
    "best_params = grid_search.best_params_\n",
    "best_estimator = grid_search.best_estimator_"
   ]
  },
  {
   "cell_type": "code",
   "execution_count": 121,
   "id": "8da5f61a",
   "metadata": {},
   "outputs": [
    {
     "data": {
      "text/plain": [
       "{'learning_rate': 0.01, 'max_depth': 3, 'n_estimators': 200}"
      ]
     },
     "execution_count": 121,
     "metadata": {},
     "output_type": "execute_result"
    }
   ],
   "source": [
    "best_params"
   ]
  },
  {
   "cell_type": "code",
   "execution_count": 122,
   "id": "3a856f08",
   "metadata": {},
   "outputs": [
    {
     "data": {
      "text/html": [
       "<style>#sk-container-id-11 {color: black;}#sk-container-id-11 pre{padding: 0;}#sk-container-id-11 div.sk-toggleable {background-color: white;}#sk-container-id-11 label.sk-toggleable__label {cursor: pointer;display: block;width: 100%;margin-bottom: 0;padding: 0.3em;box-sizing: border-box;text-align: center;}#sk-container-id-11 label.sk-toggleable__label-arrow:before {content: \"▸\";float: left;margin-right: 0.25em;color: #696969;}#sk-container-id-11 label.sk-toggleable__label-arrow:hover:before {color: black;}#sk-container-id-11 div.sk-estimator:hover label.sk-toggleable__label-arrow:before {color: black;}#sk-container-id-11 div.sk-toggleable__content {max-height: 0;max-width: 0;overflow: hidden;text-align: left;background-color: #f0f8ff;}#sk-container-id-11 div.sk-toggleable__content pre {margin: 0.2em;color: black;border-radius: 0.25em;background-color: #f0f8ff;}#sk-container-id-11 input.sk-toggleable__control:checked~div.sk-toggleable__content {max-height: 200px;max-width: 100%;overflow: auto;}#sk-container-id-11 input.sk-toggleable__control:checked~label.sk-toggleable__label-arrow:before {content: \"▾\";}#sk-container-id-11 div.sk-estimator input.sk-toggleable__control:checked~label.sk-toggleable__label {background-color: #d4ebff;}#sk-container-id-11 div.sk-label input.sk-toggleable__control:checked~label.sk-toggleable__label {background-color: #d4ebff;}#sk-container-id-11 input.sk-hidden--visually {border: 0;clip: rect(1px 1px 1px 1px);clip: rect(1px, 1px, 1px, 1px);height: 1px;margin: -1px;overflow: hidden;padding: 0;position: absolute;width: 1px;}#sk-container-id-11 div.sk-estimator {font-family: monospace;background-color: #f0f8ff;border: 1px dotted black;border-radius: 0.25em;box-sizing: border-box;margin-bottom: 0.5em;}#sk-container-id-11 div.sk-estimator:hover {background-color: #d4ebff;}#sk-container-id-11 div.sk-parallel-item::after {content: \"\";width: 100%;border-bottom: 1px solid gray;flex-grow: 1;}#sk-container-id-11 div.sk-label:hover label.sk-toggleable__label {background-color: #d4ebff;}#sk-container-id-11 div.sk-serial::before {content: \"\";position: absolute;border-left: 1px solid gray;box-sizing: border-box;top: 0;bottom: 0;left: 50%;z-index: 0;}#sk-container-id-11 div.sk-serial {display: flex;flex-direction: column;align-items: center;background-color: white;padding-right: 0.2em;padding-left: 0.2em;position: relative;}#sk-container-id-11 div.sk-item {position: relative;z-index: 1;}#sk-container-id-11 div.sk-parallel {display: flex;align-items: stretch;justify-content: center;background-color: white;position: relative;}#sk-container-id-11 div.sk-item::before, #sk-container-id-11 div.sk-parallel-item::before {content: \"\";position: absolute;border-left: 1px solid gray;box-sizing: border-box;top: 0;bottom: 0;left: 50%;z-index: -1;}#sk-container-id-11 div.sk-parallel-item {display: flex;flex-direction: column;z-index: 1;position: relative;background-color: white;}#sk-container-id-11 div.sk-parallel-item:first-child::after {align-self: flex-end;width: 50%;}#sk-container-id-11 div.sk-parallel-item:last-child::after {align-self: flex-start;width: 50%;}#sk-container-id-11 div.sk-parallel-item:only-child::after {width: 0;}#sk-container-id-11 div.sk-dashed-wrapped {border: 1px dashed gray;margin: 0 0.4em 0.5em 0.4em;box-sizing: border-box;padding-bottom: 0.4em;background-color: white;}#sk-container-id-11 div.sk-label label {font-family: monospace;font-weight: bold;display: inline-block;line-height: 1.2em;}#sk-container-id-11 div.sk-label-container {text-align: center;}#sk-container-id-11 div.sk-container {/* jupyter's `normalize.less` sets `[hidden] { display: none; }` but bootstrap.min.css set `[hidden] { display: none !important; }` so we also need the `!important` here to be able to override the default hidden behavior on the sphinx rendered scikit-learn.org. See: https://github.com/scikit-learn/scikit-learn/issues/21755 */display: inline-block !important;position: relative;}#sk-container-id-11 div.sk-text-repr-fallback {display: none;}</style><div id=\"sk-container-id-11\" class=\"sk-top-container\"><div class=\"sk-text-repr-fallback\"><pre>XGBRegressor(base_score=None, booster=None, callbacks=None,\n",
       "             colsample_bylevel=None, colsample_bynode=None,\n",
       "             colsample_bytree=None, device=None, early_stopping_rounds=None,\n",
       "             enable_categorical=False, eval_metric=None, feature_types=None,\n",
       "             gamma=None, grow_policy=None, importance_type=None,\n",
       "             interaction_constraints=None, learning_rate=0.01, max_bin=None,\n",
       "             max_cat_threshold=None, max_cat_to_onehot=None,\n",
       "             max_delta_step=None, max_depth=3, max_leaves=None,\n",
       "             min_child_weight=None, missing=nan, monotone_constraints=None,\n",
       "             multi_strategy=None, n_estimators=200, n_jobs=None,\n",
       "             num_parallel_tree=None, random_state=42, ...)</pre><b>In a Jupyter environment, please rerun this cell to show the HTML representation or trust the notebook. <br />On GitHub, the HTML representation is unable to render, please try loading this page with nbviewer.org.</b></div><div class=\"sk-container\" hidden><div class=\"sk-item\"><div class=\"sk-estimator sk-toggleable\"><input class=\"sk-toggleable__control sk-hidden--visually\" id=\"sk-estimator-id-23\" type=\"checkbox\" checked><label for=\"sk-estimator-id-23\" class=\"sk-toggleable__label sk-toggleable__label-arrow\">XGBRegressor</label><div class=\"sk-toggleable__content\"><pre>XGBRegressor(base_score=None, booster=None, callbacks=None,\n",
       "             colsample_bylevel=None, colsample_bynode=None,\n",
       "             colsample_bytree=None, device=None, early_stopping_rounds=None,\n",
       "             enable_categorical=False, eval_metric=None, feature_types=None,\n",
       "             gamma=None, grow_policy=None, importance_type=None,\n",
       "             interaction_constraints=None, learning_rate=0.01, max_bin=None,\n",
       "             max_cat_threshold=None, max_cat_to_onehot=None,\n",
       "             max_delta_step=None, max_depth=3, max_leaves=None,\n",
       "             min_child_weight=None, missing=nan, monotone_constraints=None,\n",
       "             multi_strategy=None, n_estimators=200, n_jobs=None,\n",
       "             num_parallel_tree=None, random_state=42, ...)</pre></div></div></div></div></div>"
      ],
      "text/plain": [
       "XGBRegressor(base_score=None, booster=None, callbacks=None,\n",
       "             colsample_bylevel=None, colsample_bynode=None,\n",
       "             colsample_bytree=None, device=None, early_stopping_rounds=None,\n",
       "             enable_categorical=False, eval_metric=None, feature_types=None,\n",
       "             gamma=None, grow_policy=None, importance_type=None,\n",
       "             interaction_constraints=None, learning_rate=0.01, max_bin=None,\n",
       "             max_cat_threshold=None, max_cat_to_onehot=None,\n",
       "             max_delta_step=None, max_depth=3, max_leaves=None,\n",
       "             min_child_weight=None, missing=nan, monotone_constraints=None,\n",
       "             multi_strategy=None, n_estimators=200, n_jobs=None,\n",
       "             num_parallel_tree=None, random_state=42, ...)"
      ]
     },
     "execution_count": 122,
     "metadata": {},
     "output_type": "execute_result"
    }
   ],
   "source": [
    "best_estimator"
   ]
  },
  {
   "cell_type": "code",
   "execution_count": 123,
   "id": "5d6a8778",
   "metadata": {},
   "outputs": [],
   "source": [
    "xgb_regressor = xgb.XGBRegressor(n_estimators=200, learning_rate = 0.01, max_depth = 3 )\n",
    "xgb_regressor.fit(x_train, y_train)\n",
    "y_pred = xgb_regressor.predict(x_test)"
   ]
  },
  {
   "cell_type": "code",
   "execution_count": 124,
   "id": "2c357fc1",
   "metadata": {},
   "outputs": [
    {
     "name": "stdout",
     "output_type": "stream",
     "text": [
      "Mean Absolute Error (MAE): 4.358613082766533\n",
      "R-squared (R^2): 0.36982086046982277\n"
     ]
    }
   ],
   "source": [
    "mae = mean_absolute_error(y_test, y_pred)\n",
    "r2 = r2_score(y_test, y_pred)\n",
    "print(f'Mean Absolute Error (MAE): {mae}')\n",
    "print(f'R-squared (R^2): {r2}')"
   ]
  },
  {
   "cell_type": "code",
   "execution_count": 125,
   "id": "ec676f19",
   "metadata": {},
   "outputs": [],
   "source": [
    "lasso_regressor = Lasso(alpha=0.1)\n",
    "lasso_regressor.fit(x_train, y_train)\n",
    "y_pred = lasso_regressor.predict(x_test)"
   ]
  },
  {
   "cell_type": "code",
   "execution_count": 126,
   "id": "912ff457",
   "metadata": {},
   "outputs": [
    {
     "name": "stdout",
     "output_type": "stream",
     "text": [
      "Mean Absolute Error (MAE): 4.642175148442422\n",
      "R-squared (R^2): 0.2401325470937703\n"
     ]
    }
   ],
   "source": [
    "mae = mean_absolute_error(y_test, y_pred)\n",
    "r2 = r2_score(y_test, y_pred)\n",
    "print(f'Mean Absolute Error (MAE): {mae}')\n",
    "print(f'R-squared (R^2): {r2}')"
   ]
  },
  {
   "cell_type": "code",
   "execution_count": 127,
   "id": "71d0667e",
   "metadata": {},
   "outputs": [],
   "source": [
    "poly = PolynomialFeatures(degree=2)  # Adjust the degree as needed\n",
    "x_train_poly = poly.fit_transform(x_train)\n",
    "x_test_poly = poly.transform(x_test)"
   ]
  },
  {
   "cell_type": "code",
   "execution_count": 128,
   "id": "c9a7732a",
   "metadata": {},
   "outputs": [
    {
     "data": {
      "text/html": [
       "<style>#sk-container-id-12 {color: black;}#sk-container-id-12 pre{padding: 0;}#sk-container-id-12 div.sk-toggleable {background-color: white;}#sk-container-id-12 label.sk-toggleable__label {cursor: pointer;display: block;width: 100%;margin-bottom: 0;padding: 0.3em;box-sizing: border-box;text-align: center;}#sk-container-id-12 label.sk-toggleable__label-arrow:before {content: \"▸\";float: left;margin-right: 0.25em;color: #696969;}#sk-container-id-12 label.sk-toggleable__label-arrow:hover:before {color: black;}#sk-container-id-12 div.sk-estimator:hover label.sk-toggleable__label-arrow:before {color: black;}#sk-container-id-12 div.sk-toggleable__content {max-height: 0;max-width: 0;overflow: hidden;text-align: left;background-color: #f0f8ff;}#sk-container-id-12 div.sk-toggleable__content pre {margin: 0.2em;color: black;border-radius: 0.25em;background-color: #f0f8ff;}#sk-container-id-12 input.sk-toggleable__control:checked~div.sk-toggleable__content {max-height: 200px;max-width: 100%;overflow: auto;}#sk-container-id-12 input.sk-toggleable__control:checked~label.sk-toggleable__label-arrow:before {content: \"▾\";}#sk-container-id-12 div.sk-estimator input.sk-toggleable__control:checked~label.sk-toggleable__label {background-color: #d4ebff;}#sk-container-id-12 div.sk-label input.sk-toggleable__control:checked~label.sk-toggleable__label {background-color: #d4ebff;}#sk-container-id-12 input.sk-hidden--visually {border: 0;clip: rect(1px 1px 1px 1px);clip: rect(1px, 1px, 1px, 1px);height: 1px;margin: -1px;overflow: hidden;padding: 0;position: absolute;width: 1px;}#sk-container-id-12 div.sk-estimator {font-family: monospace;background-color: #f0f8ff;border: 1px dotted black;border-radius: 0.25em;box-sizing: border-box;margin-bottom: 0.5em;}#sk-container-id-12 div.sk-estimator:hover {background-color: #d4ebff;}#sk-container-id-12 div.sk-parallel-item::after {content: \"\";width: 100%;border-bottom: 1px solid gray;flex-grow: 1;}#sk-container-id-12 div.sk-label:hover label.sk-toggleable__label {background-color: #d4ebff;}#sk-container-id-12 div.sk-serial::before {content: \"\";position: absolute;border-left: 1px solid gray;box-sizing: border-box;top: 0;bottom: 0;left: 50%;z-index: 0;}#sk-container-id-12 div.sk-serial {display: flex;flex-direction: column;align-items: center;background-color: white;padding-right: 0.2em;padding-left: 0.2em;position: relative;}#sk-container-id-12 div.sk-item {position: relative;z-index: 1;}#sk-container-id-12 div.sk-parallel {display: flex;align-items: stretch;justify-content: center;background-color: white;position: relative;}#sk-container-id-12 div.sk-item::before, #sk-container-id-12 div.sk-parallel-item::before {content: \"\";position: absolute;border-left: 1px solid gray;box-sizing: border-box;top: 0;bottom: 0;left: 50%;z-index: -1;}#sk-container-id-12 div.sk-parallel-item {display: flex;flex-direction: column;z-index: 1;position: relative;background-color: white;}#sk-container-id-12 div.sk-parallel-item:first-child::after {align-self: flex-end;width: 50%;}#sk-container-id-12 div.sk-parallel-item:last-child::after {align-self: flex-start;width: 50%;}#sk-container-id-12 div.sk-parallel-item:only-child::after {width: 0;}#sk-container-id-12 div.sk-dashed-wrapped {border: 1px dashed gray;margin: 0 0.4em 0.5em 0.4em;box-sizing: border-box;padding-bottom: 0.4em;background-color: white;}#sk-container-id-12 div.sk-label label {font-family: monospace;font-weight: bold;display: inline-block;line-height: 1.2em;}#sk-container-id-12 div.sk-label-container {text-align: center;}#sk-container-id-12 div.sk-container {/* jupyter's `normalize.less` sets `[hidden] { display: none; }` but bootstrap.min.css set `[hidden] { display: none !important; }` so we also need the `!important` here to be able to override the default hidden behavior on the sphinx rendered scikit-learn.org. See: https://github.com/scikit-learn/scikit-learn/issues/21755 */display: inline-block !important;position: relative;}#sk-container-id-12 div.sk-text-repr-fallback {display: none;}</style><div id=\"sk-container-id-12\" class=\"sk-top-container\"><div class=\"sk-text-repr-fallback\"><pre>LinearRegression()</pre><b>In a Jupyter environment, please rerun this cell to show the HTML representation or trust the notebook. <br />On GitHub, the HTML representation is unable to render, please try loading this page with nbviewer.org.</b></div><div class=\"sk-container\" hidden><div class=\"sk-item\"><div class=\"sk-estimator sk-toggleable\"><input class=\"sk-toggleable__control sk-hidden--visually\" id=\"sk-estimator-id-24\" type=\"checkbox\" checked><label for=\"sk-estimator-id-24\" class=\"sk-toggleable__label sk-toggleable__label-arrow\">LinearRegression</label><div class=\"sk-toggleable__content\"><pre>LinearRegression()</pre></div></div></div></div></div>"
      ],
      "text/plain": [
       "LinearRegression()"
      ]
     },
     "execution_count": 128,
     "metadata": {},
     "output_type": "execute_result"
    }
   ],
   "source": [
    "poly_reg = LinearRegression()\n",
    "poly_reg.fit(x_train_poly, y_train)"
   ]
  },
  {
   "cell_type": "code",
   "execution_count": 129,
   "id": "e973ad52",
   "metadata": {},
   "outputs": [],
   "source": [
    "y_pred = poly_reg.predict(x_test_poly)"
   ]
  },
  {
   "cell_type": "code",
   "execution_count": 130,
   "id": "259ccc9c",
   "metadata": {},
   "outputs": [
    {
     "name": "stdout",
     "output_type": "stream",
     "text": [
      "Mean Absolute Error (MAE): 3.940699715118917\n",
      "R-squared (R^2): 0.3698339095823966\n"
     ]
    }
   ],
   "source": [
    "mae = mean_absolute_error(y_test, y_pred)\n",
    "r2 = r2_score(y_test, y_pred)\n",
    "print(f'Mean Absolute Error (MAE): {mae}')\n",
    "print(f'R-squared (R^2): {r2}')"
   ]
  },
  {
   "cell_type": "markdown",
   "id": "ca6efb23",
   "metadata": {},
   "source": [
    "<h1>########### Handling outliers using winsorize ###########</h1>"
   ]
  },
  {
   "cell_type": "code",
   "execution_count": 131,
   "id": "5d14a73f",
   "metadata": {},
   "outputs": [],
   "source": [
    "def winsorize_column(data, column_name, lower_percentile=1, upper_percentile=99):\n",
    "    '''\n",
    "    Apply Winsorization to a specified column in a DataFrame.\n",
    "\n",
    "    Winsorization involves capping extreme values by replacing them with the values at a specified lower and upper percentile.\n",
    "    This technique helps mitigate the impact of outliers on statistical analyses and modeling, making the data more robust.\n",
    "    '''\n",
    "    lower_bound = np.percentile(data[column_name], lower_percentile)\n",
    "    upper_bound = np.percentile(data[column_name], upper_percentile)\n",
    "\n",
    "    data[column_name] = np.where(data[column_name] < lower_bound, lower_bound, data[column_name])\n",
    "    data[column_name] = np.where(data[column_name] > upper_bound, upper_bound, data[column_name])\n",
    "\n",
    "    return data"
   ]
  },
  {
   "cell_type": "code",
   "execution_count": 135,
   "id": "eaeca204",
   "metadata": {},
   "outputs": [],
   "source": [
    "for column in df.columns:\n",
    "  df1 = winsorize_column(df, column)"
   ]
  },
  {
   "cell_type": "code",
   "execution_count": 136,
   "id": "03c96448",
   "metadata": {},
   "outputs": [
    {
     "data": {
      "text/html": [
       "<div>\n",
       "<style scoped>\n",
       "    .dataframe tbody tr th:only-of-type {\n",
       "        vertical-align: middle;\n",
       "    }\n",
       "\n",
       "    .dataframe tbody tr th {\n",
       "        vertical-align: top;\n",
       "    }\n",
       "\n",
       "    .dataframe thead th {\n",
       "        text-align: right;\n",
       "    }\n",
       "</style>\n",
       "<table border=\"1\" class=\"dataframe\">\n",
       "  <thead>\n",
       "    <tr style=\"text-align: right;\">\n",
       "      <th></th>\n",
       "      <th>store_id</th>\n",
       "      <th>local_population</th>\n",
       "      <th>local_stores</th>\n",
       "      <th>units_sold</th>\n",
       "      <th>state_Massachusetts</th>\n",
       "      <th>state_New Jersey</th>\n",
       "      <th>state_New York</th>\n",
       "      <th>state_New jersey</th>\n",
       "      <th>state_New york</th>\n",
       "      <th>state_Pennsylvania</th>\n",
       "      <th>state_Rhode Island</th>\n",
       "      <th>state_Vermont</th>\n",
       "    </tr>\n",
       "  </thead>\n",
       "  <tbody>\n",
       "    <tr>\n",
       "      <th>count</th>\n",
       "      <td>999.000000</td>\n",
       "      <td>999.000000</td>\n",
       "      <td>999.000000</td>\n",
       "      <td>999.000000</td>\n",
       "      <td>999.000000</td>\n",
       "      <td>999.000000</td>\n",
       "      <td>999.000000</td>\n",
       "      <td>999.0</td>\n",
       "      <td>999.0</td>\n",
       "      <td>999.000000</td>\n",
       "      <td>999.0</td>\n",
       "      <td>999.0</td>\n",
       "    </tr>\n",
       "    <tr>\n",
       "      <th>mean</th>\n",
       "      <td>499.234234</td>\n",
       "      <td>33562.147948</td>\n",
       "      <td>1.599600</td>\n",
       "      <td>6.054454</td>\n",
       "      <td>0.251251</td>\n",
       "      <td>0.055055</td>\n",
       "      <td>0.431431</td>\n",
       "      <td>0.0</td>\n",
       "      <td>0.0</td>\n",
       "      <td>0.247247</td>\n",
       "      <td>0.0</td>\n",
       "      <td>0.0</td>\n",
       "    </tr>\n",
       "    <tr>\n",
       "      <th>std</th>\n",
       "      <td>288.654228</td>\n",
       "      <td>35681.756289</td>\n",
       "      <td>0.738194</td>\n",
       "      <td>8.599987</td>\n",
       "      <td>0.433950</td>\n",
       "      <td>0.228202</td>\n",
       "      <td>0.495524</td>\n",
       "      <td>0.0</td>\n",
       "      <td>0.0</td>\n",
       "      <td>0.431628</td>\n",
       "      <td>0.0</td>\n",
       "      <td>0.0</td>\n",
       "    </tr>\n",
       "    <tr>\n",
       "      <th>min</th>\n",
       "      <td>9.980000</td>\n",
       "      <td>1948.940000</td>\n",
       "      <td>1.000000</td>\n",
       "      <td>0.000000</td>\n",
       "      <td>0.000000</td>\n",
       "      <td>0.000000</td>\n",
       "      <td>0.000000</td>\n",
       "      <td>0.0</td>\n",
       "      <td>0.0</td>\n",
       "      <td>0.000000</td>\n",
       "      <td>0.0</td>\n",
       "      <td>0.0</td>\n",
       "    </tr>\n",
       "    <tr>\n",
       "      <th>25%</th>\n",
       "      <td>249.500000</td>\n",
       "      <td>11093.500000</td>\n",
       "      <td>1.000000</td>\n",
       "      <td>1.000000</td>\n",
       "      <td>0.000000</td>\n",
       "      <td>0.000000</td>\n",
       "      <td>0.000000</td>\n",
       "      <td>0.0</td>\n",
       "      <td>0.0</td>\n",
       "      <td>0.000000</td>\n",
       "      <td>0.0</td>\n",
       "      <td>0.0</td>\n",
       "    </tr>\n",
       "    <tr>\n",
       "      <th>50%</th>\n",
       "      <td>499.000000</td>\n",
       "      <td>21099.000000</td>\n",
       "      <td>1.000000</td>\n",
       "      <td>3.000000</td>\n",
       "      <td>0.000000</td>\n",
       "      <td>0.000000</td>\n",
       "      <td>0.000000</td>\n",
       "      <td>0.0</td>\n",
       "      <td>0.0</td>\n",
       "      <td>0.000000</td>\n",
       "      <td>0.0</td>\n",
       "      <td>0.0</td>\n",
       "    </tr>\n",
       "    <tr>\n",
       "      <th>75%</th>\n",
       "      <td>748.500000</td>\n",
       "      <td>43020.000000</td>\n",
       "      <td>2.000000</td>\n",
       "      <td>7.000000</td>\n",
       "      <td>1.000000</td>\n",
       "      <td>0.000000</td>\n",
       "      <td>1.000000</td>\n",
       "      <td>0.0</td>\n",
       "      <td>0.0</td>\n",
       "      <td>0.000000</td>\n",
       "      <td>0.0</td>\n",
       "      <td>0.0</td>\n",
       "    </tr>\n",
       "    <tr>\n",
       "      <th>max</th>\n",
       "      <td>989.020000</td>\n",
       "      <td>198949.840000</td>\n",
       "      <td>4.000000</td>\n",
       "      <td>47.040000</td>\n",
       "      <td>1.000000</td>\n",
       "      <td>1.000000</td>\n",
       "      <td>1.000000</td>\n",
       "      <td>0.0</td>\n",
       "      <td>0.0</td>\n",
       "      <td>1.000000</td>\n",
       "      <td>0.0</td>\n",
       "      <td>0.0</td>\n",
       "    </tr>\n",
       "  </tbody>\n",
       "</table>\n",
       "</div>"
      ],
      "text/plain": [
       "         store_id  local_population  local_stores  units_sold  \\\n",
       "count  999.000000        999.000000    999.000000  999.000000   \n",
       "mean   499.234234      33562.147948      1.599600    6.054454   \n",
       "std    288.654228      35681.756289      0.738194    8.599987   \n",
       "min      9.980000       1948.940000      1.000000    0.000000   \n",
       "25%    249.500000      11093.500000      1.000000    1.000000   \n",
       "50%    499.000000      21099.000000      1.000000    3.000000   \n",
       "75%    748.500000      43020.000000      2.000000    7.000000   \n",
       "max    989.020000     198949.840000      4.000000   47.040000   \n",
       "\n",
       "       state_Massachusetts  state_New Jersey  state_New York  \\\n",
       "count           999.000000        999.000000      999.000000   \n",
       "mean              0.251251          0.055055        0.431431   \n",
       "std               0.433950          0.228202        0.495524   \n",
       "min               0.000000          0.000000        0.000000   \n",
       "25%               0.000000          0.000000        0.000000   \n",
       "50%               0.000000          0.000000        0.000000   \n",
       "75%               1.000000          0.000000        1.000000   \n",
       "max               1.000000          1.000000        1.000000   \n",
       "\n",
       "       state_New jersey  state_New york  state_Pennsylvania  \\\n",
       "count             999.0           999.0          999.000000   \n",
       "mean                0.0             0.0            0.247247   \n",
       "std                 0.0             0.0            0.431628   \n",
       "min                 0.0             0.0            0.000000   \n",
       "25%                 0.0             0.0            0.000000   \n",
       "50%                 0.0             0.0            0.000000   \n",
       "75%                 0.0             0.0            0.000000   \n",
       "max                 0.0             0.0            1.000000   \n",
       "\n",
       "       state_Rhode Island  state_Vermont  \n",
       "count               999.0          999.0  \n",
       "mean                  0.0            0.0  \n",
       "std                   0.0            0.0  \n",
       "min                   0.0            0.0  \n",
       "25%                   0.0            0.0  \n",
       "50%                   0.0            0.0  \n",
       "75%                   0.0            0.0  \n",
       "max                   0.0            0.0  "
      ]
     },
     "execution_count": 136,
     "metadata": {},
     "output_type": "execute_result"
    }
   ],
   "source": [
    "df1.describe()"
   ]
  },
  {
   "cell_type": "code",
   "execution_count": 139,
   "id": "29ebecbd",
   "metadata": {},
   "outputs": [],
   "source": [
    "x1 = df1[['local_population', 'local_stores',\n",
    "       'state_Massachusetts', 'state_New Jersey',\n",
    "       'state_New York', 'state_New jersey', 'state_New york',\n",
    "       'state_Pennsylvania', 'state_Rhode Island', 'state_Vermont']]\n",
    "y1 = df1['units_sold']"
   ]
  },
  {
   "cell_type": "code",
   "execution_count": 140,
   "id": "341223e0",
   "metadata": {},
   "outputs": [],
   "source": [
    "x1_train, x1_test , y1_train , y1_test = train_test_split(x1, y1, test_size = 0.2, random_state = 42)"
   ]
  },
  {
   "cell_type": "code",
   "execution_count": 141,
   "id": "6353427b",
   "metadata": {},
   "outputs": [],
   "source": [
    "rf_regressor = RandomForestRegressor(max_depth=10, min_samples_leaf=4, min_samples_split=10,\n",
    "                      random_state=42)\n",
    "rf_regressor.fit(x1_train, y1_train)\n",
    "y_pred = rf_regressor.predict(x1_test)"
   ]
  },
  {
   "cell_type": "code",
   "execution_count": 142,
   "id": "3bb8975a",
   "metadata": {},
   "outputs": [
    {
     "name": "stdout",
     "output_type": "stream",
     "text": [
      "R-squared (R^2): 0.5606063640802161\n",
      "Mean Absolute Error (MAE): 3.513519817952722\n"
     ]
    }
   ],
   "source": [
    "r2 = r2_score(y1_test, y_pred)\n",
    "mae = mean_absolute_error(y1_test, y_pred)\n",
    "print(f'R-squared (R^2): {r2}')\n",
    "print(f'Mean Absolute Error (MAE): {mae}')"
   ]
  },
  {
   "cell_type": "markdown",
   "id": "b9b1ae02",
   "metadata": {},
   "source": [
    "<h1>########### handling outliers using normalisation ###########<h1/>"
   ]
  },
  {
   "cell_type": "code",
   "execution_count": 145,
   "id": "cb3812e9",
   "metadata": {},
   "outputs": [],
   "source": [
    "df2 = df.drop(['date', 'store_id'], axis=1)"
   ]
  },
  {
   "cell_type": "code",
   "execution_count": 147,
   "id": "8aad6547",
   "metadata": {},
   "outputs": [],
   "source": [
    "scaler = MinMaxScaler(feature_range=(0,1))\n",
    "normalized_df = scaler.fit_transform(df2)"
   ]
  },
  {
   "cell_type": "code",
   "execution_count": 150,
   "id": "77ec7138",
   "metadata": {},
   "outputs": [],
   "source": [
    "normalized_df = pd.DataFrame(data=normalized_df, columns=df2.columns)"
   ]
  },
  {
   "cell_type": "code",
   "execution_count": 151,
   "id": "aca3b4b7",
   "metadata": {},
   "outputs": [
    {
     "data": {
      "text/plain": [
       "Index(['local_population', 'local_stores', 'units_sold', 'state_Massachusetts',\n",
       "       'state_New Jersey', 'state_New York', 'state_New jersey',\n",
       "       'state_New york', 'state_Pennsylvania', 'state_Rhode Island',\n",
       "       'state_Vermont'],\n",
       "      dtype='object')"
      ]
     },
     "execution_count": 151,
     "metadata": {},
     "output_type": "execute_result"
    }
   ],
   "source": [
    "normalized_df.columns"
   ]
  },
  {
   "cell_type": "code",
   "execution_count": 152,
   "id": "c02a7bb9",
   "metadata": {},
   "outputs": [],
   "source": [
    "x_norm = normalized_df[['local_population', 'local_stores', 'state_Massachusetts',\n",
    "       'state_New Jersey', 'state_New York', 'state_New jersey',\n",
    "       'state_New york', 'state_Pennsylvania', 'state_Rhode Island',\n",
    "       'state_Vermont']]\n",
    "\n",
    "y_norm = normalized_df['units_sold']"
   ]
  },
  {
   "cell_type": "code",
   "execution_count": 153,
   "id": "5f575eb9",
   "metadata": {},
   "outputs": [],
   "source": [
    "x_norm_train, x_norm_test , y_norm_train , y_norm_test = train_test_split(x_norm, y_norm, test_size = 0.2, random_state = 42)"
   ]
  },
  {
   "cell_type": "code",
   "execution_count": 155,
   "id": "237f64c9",
   "metadata": {},
   "outputs": [],
   "source": [
    "rf_regressor = RandomForestRegressor(max_depth=10, min_samples_leaf=4, min_samples_split=10,\n",
    "                      random_state=42)\n",
    "rf_regressor.fit(x_norm_train, y_norm_train)\n",
    "y_pred = rf_regressor.predict(x_norm_test)"
   ]
  },
  {
   "cell_type": "code",
   "execution_count": 157,
   "id": "3302780d",
   "metadata": {},
   "outputs": [
    {
     "name": "stdout",
     "output_type": "stream",
     "text": [
      "R-squared (R^2): 0.5606127007251541\n",
      "Mean Absolute Error (MAE): 0.07469026507850185\n",
      "Mean Squared Error (MSE): 148.48522322042493\n"
     ]
    }
   ],
   "source": [
    "r2 = r2_score(y_norm_test, y_pred)\n",
    "mae = mean_absolute_error(y_norm_test, y_pred)\n",
    "mse = mean_squared_error(y_test, y_pred)\n",
    "print(f'R-squared (R^2): {r2}')\n",
    "print(f'Mean Absolute Error (MAE): {mae}')\n",
    "print(f'Mean Squared Error (MSE): {mse}')"
   ]
  },
  {
   "cell_type": "code",
   "execution_count": null,
   "id": "9fe167ef",
   "metadata": {},
   "outputs": [],
   "source": []
  }
 ],
 "metadata": {
  "kernelspec": {
   "display_name": "Python 3 (ipykernel)",
   "language": "python",
   "name": "python3"
  },
  "language_info": {
   "codemirror_mode": {
    "name": "ipython",
    "version": 3
   },
   "file_extension": ".py",
   "mimetype": "text/x-python",
   "name": "python",
   "nbconvert_exporter": "python",
   "pygments_lexer": "ipython3",
   "version": "3.10.13"
  }
 },
 "nbformat": 4,
 "nbformat_minor": 5
}
